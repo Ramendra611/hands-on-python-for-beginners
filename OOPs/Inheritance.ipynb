{
 "cells": [
  {
   "cell_type": "markdown",
   "id": "58e0fe99-e629-4515-9fa5-a69dc3ee5a92",
   "metadata": {},
   "source": [
    "## basic syntax for inheritance"
   ]
  },
  {
   "cell_type": "code",
   "execution_count": 11,
   "id": "7c1e8410-04a7-4523-a091-9ca9f7bf9333",
   "metadata": {},
   "outputs": [],
   "source": [
    "class Vehicle:\n",
    "    def move(self):\n",
    "        print(\"Vehicle is moving\")\n",
    "\n",
    "    def get_price(self):\n",
    "        print(\"the price of the vehicle is 60k INR\")\n",
    "\n",
    "class Car(Vehicle):  # child class of Vehicle\n",
    "    pass\n"
   ]
  },
  {
   "cell_type": "code",
   "execution_count": 12,
   "id": "3e3c49e0-ae8c-424d-856e-ff40f64c3417",
   "metadata": {},
   "outputs": [
    {
     "name": "stdout",
     "output_type": "stream",
     "text": [
      "Vehicle is moving\n",
      "the price of the vehicle is 60k INR\n"
     ]
    }
   ],
   "source": [
    "vehicle = Vehicle()\n",
    "\n",
    "vehicle.move()\n",
    "vehicle.get_price()"
   ]
  },
  {
   "cell_type": "code",
   "execution_count": 13,
   "id": "87acc465-b5da-4a55-bd60-e832b2c34bfb",
   "metadata": {},
   "outputs": [
    {
     "name": "stdout",
     "output_type": "stream",
     "text": [
      "Vehicle is moving\n",
      "the price of the vehicle is 60k INR\n"
     ]
    }
   ],
   "source": [
    "car = Car()\n",
    "\n",
    "car.move()\n",
    "car.get_price()"
   ]
  },
  {
   "cell_type": "code",
   "execution_count": null,
   "id": "a9a00f28-20eb-469d-9eb8-6621b67c20be",
   "metadata": {},
   "outputs": [],
   "source": []
  },
  {
   "cell_type": "code",
   "execution_count": 24,
   "id": "1ea6859e-7d3d-47df-928b-c4ba0bae35a8",
   "metadata": {},
   "outputs": [
    {
     "name": "stdout",
     "output_type": "stream",
     "text": [
      "Help on Car in module __main__ object:\n",
      "\n",
      "class Car(Vehicle)\n",
      " |  Method resolution order:\n",
      " |      Car\n",
      " |      Vehicle\n",
      " |      builtins.object\n",
      " |\n",
      " |  Methods inherited from Vehicle:\n",
      " |\n",
      " |  get_price(self)\n",
      " |\n",
      " |  move(self)\n",
      " |\n",
      " |  ----------------------------------------------------------------------\n",
      " |  Data descriptors inherited from Vehicle:\n",
      " |\n",
      " |  __dict__\n",
      " |      dictionary for instance variables\n",
      " |\n",
      " |  __weakref__\n",
      " |      list of weak references to the object\n",
      "\n"
     ]
    }
   ],
   "source": [
    "help(car)"
   ]
  },
  {
   "cell_type": "code",
   "execution_count": null,
   "id": "134cd9a6-f04f-496c-a7ac-6a5aff9c2821",
   "metadata": {},
   "outputs": [],
   "source": []
  },
  {
   "cell_type": "code",
   "execution_count": 33,
   "id": "71fc52eb-1cad-43c8-bae4-0bdb139297a6",
   "metadata": {},
   "outputs": [],
   "source": [
    "class Vehicle:\n",
    "    has_engine = True\n",
    "    \n",
    "    def move(self):\n",
    "        print(\"Vehicle is moving\")\n",
    "\n",
    "    def get_price(self):\n",
    "        print(\"the price of the vehicle is 60k INR\")\n",
    "\n",
    "class Car(Vehicle):  # child class of Vehicle\n",
    "    number_wheels = 4\n",
    "    \n",
    "    def drive():\n",
    "        print(\"car is driving!!\")\n",
    "        \n",
    "    def brake():\n",
    "        print(\"car is breaking\")\n"
   ]
  },
  {
   "cell_type": "code",
   "execution_count": 34,
   "id": "0f8d1215-f5c7-4332-876d-7ab32a4fef5f",
   "metadata": {},
   "outputs": [],
   "source": [
    "vehicle = Vehicle()\n",
    "\n",
    "# vehicle.number_wheels"
   ]
  },
  {
   "cell_type": "code",
   "execution_count": 35,
   "id": "4c3a1a40-5707-440f-b465-34e7d383a4b6",
   "metadata": {},
   "outputs": [
    {
     "data": {
      "text/plain": [
       "True"
      ]
     },
     "execution_count": 35,
     "metadata": {},
     "output_type": "execute_result"
    }
   ],
   "source": [
    "car = Car()\n",
    "car.has_engine"
   ]
  },
  {
   "cell_type": "code",
   "execution_count": null,
   "id": "5a083cc6-2c02-4263-8e6f-b4a0554d1509",
   "metadata": {},
   "outputs": [],
   "source": []
  },
  {
   "cell_type": "code",
   "execution_count": 28,
   "id": "7848508e-3009-4d15-a9b6-4c724f03f20e",
   "metadata": {},
   "outputs": [
    {
     "name": "stdout",
     "output_type": "stream",
     "text": [
      "Help on Car in module __main__ object:\n",
      "\n",
      "class Car(Vehicle)\n",
      " |  Method resolution order:\n",
      " |      Car\n",
      " |      Vehicle\n",
      " |      builtins.object\n",
      " |\n",
      " |  Methods defined here:\n",
      " |\n",
      " |  brake()\n",
      " |\n",
      " |  drive()\n",
      " |\n",
      " |  ----------------------------------------------------------------------\n",
      " |  Data and other attributes defined here:\n",
      " |\n",
      " |  number_wheels = 4\n",
      " |\n",
      " |  ----------------------------------------------------------------------\n",
      " |  Methods inherited from Vehicle:\n",
      " |\n",
      " |  get_price(self)\n",
      " |\n",
      " |  move(self)\n",
      " |\n",
      " |  ----------------------------------------------------------------------\n",
      " |  Data descriptors inherited from Vehicle:\n",
      " |\n",
      " |  __dict__\n",
      " |      dictionary for instance variables\n",
      " |\n",
      " |  __weakref__\n",
      " |      list of weak references to the object\n",
      "\n"
     ]
    }
   ],
   "source": [
    "car = Car()\n",
    "help(car)"
   ]
  },
  {
   "cell_type": "code",
   "execution_count": null,
   "id": "9bdc4af9-72fd-4425-8869-a387145f08d0",
   "metadata": {},
   "outputs": [],
   "source": []
  },
  {
   "cell_type": "markdown",
   "id": "3c897902-505e-469e-8059-1023db8f5e84",
   "metadata": {},
   "source": [
    "# method overriding"
   ]
  },
  {
   "cell_type": "code",
   "execution_count": 41,
   "id": "479aa04e-1c9c-42ab-8003-d6e811f4451e",
   "metadata": {},
   "outputs": [],
   "source": [
    "class Vehicle:\n",
    "    has_engine = True\n",
    "    \n",
    "    def move(self):\n",
    "        print(\"Vehicle is moving\")\n",
    "\n",
    "    def get_price(self):\n",
    "        print(\"the price of the vehicle is 60k INR\")\n",
    "\n",
    "class Car(Vehicle):  # child class of Vehicle\n",
    "    number_wheels = 4\n",
    "\n",
    "    # def get_price(self):\n",
    "    #     print(\"the price of the car can be checked at the showroom!!!!\")\n",
    "    \n",
    "    def drive():\n",
    "        print(\"car is driving!!\")\n",
    "        \n",
    "    def brake():\n",
    "        print(\"car is breaking\")\n"
   ]
  },
  {
   "cell_type": "code",
   "execution_count": 42,
   "id": "306c1e4c-33db-4718-a007-28f6bf3329db",
   "metadata": {},
   "outputs": [
    {
     "name": "stdout",
     "output_type": "stream",
     "text": [
      "the price of the vehicle is 60k INR\n"
     ]
    }
   ],
   "source": [
    "vehicle = Vehicle()\n",
    "vehicle.get_price()"
   ]
  },
  {
   "cell_type": "code",
   "execution_count": 43,
   "id": "335215bf-53dc-4905-a667-1985d43221b3",
   "metadata": {},
   "outputs": [
    {
     "name": "stdout",
     "output_type": "stream",
     "text": [
      "the price of the vehicle is 60k INR\n"
     ]
    }
   ],
   "source": [
    "car = Car()\n",
    "car.get_price()"
   ]
  },
  {
   "cell_type": "markdown",
   "id": "6e4cacb7-4e05-475c-893d-2752eefbf2d8",
   "metadata": {},
   "source": [
    " "
   ]
  },
  {
   "cell_type": "code",
   "execution_count": 40,
   "id": "7f6af140-073d-40e3-8470-0cc313aec9b9",
   "metadata": {},
   "outputs": [
    {
     "name": "stdout",
     "output_type": "stream",
     "text": [
      "Help on Car in module __main__ object:\n",
      "\n",
      "class Car(Vehicle)\n",
      " |  Method resolution order:\n",
      " |      Car\n",
      " |      Vehicle\n",
      " |      builtins.object\n",
      " |\n",
      " |  Methods defined here:\n",
      " |\n",
      " |  brake()\n",
      " |\n",
      " |  drive()\n",
      " |\n",
      " |  get_price(self)\n",
      " |\n",
      " |  ----------------------------------------------------------------------\n",
      " |  Data and other attributes defined here:\n",
      " |\n",
      " |  __annotations__ = {}\n",
      " |\n",
      " |  number_wheels = 4\n",
      " |\n",
      " |  ----------------------------------------------------------------------\n",
      " |  Methods inherited from Vehicle:\n",
      " |\n",
      " |  move(self)\n",
      " |\n",
      " |  ----------------------------------------------------------------------\n",
      " |  Data descriptors inherited from Vehicle:\n",
      " |\n",
      " |  __dict__\n",
      " |      dictionary for instance variables\n",
      " |\n",
      " |  __weakref__\n",
      " |      list of weak references to the object\n",
      " |\n",
      " |  ----------------------------------------------------------------------\n",
      " |  Data and other attributes inherited from Vehicle:\n",
      " |\n",
      " |  has_engine = True\n",
      "\n"
     ]
    }
   ],
   "source": [
    "help(car)"
   ]
  },
  {
   "cell_type": "markdown",
   "id": "ba51179a-e7b2-4e62-83e4-19352393f23c",
   "metadata": {},
   "source": [
    "## Practice Question: Method Overriding\n",
    "\n",
    "### Scenario:\n",
    "You are extending the vehicle management system. Now, you have multiple types of cars, and each type may have its own speed limit. You want to reuse and extend the parent class behavior.\n",
    "\n",
    "### Tasks:\n",
    "\n",
    "1. **Parent Class**  \n",
    "   - Create a class `Vehicle` with a method:\n",
    "     ```python\n",
    "     def set_speed(self, speed):\n",
    "         print(f\"Vehicle speed set to {speed} km/h\")\n",
    "     ```\n",
    "\n",
    "2. **Child Class: Car**  \n",
    "   - Create a class `Car` that **inherits** from `Vehicle`.\n",
    "   - Override `set_speed()` to enforce a **general speed limit of 200 km/h**.  \n",
    "   - If the speed exceeds 200, print:\n",
    "     ```\n",
    "     Error: Speed exceeds car safety limit!\n",
    "     ```\n",
    "   - Otherwise, call the parent method using `super()`.\n",
    "\n",
    "3. **Subclass: SportsCar**  \n",
    "   - Create a class `SportsCar` that inherits from `Car`.\n",
    "   - SportsCar has a **higher speed limit of 300 km/h**.\n",
    "   - Override `set_speed()` again.  \n",
    "   - Use `super()` to reuse the Car logic, but adjust for the higher limit.\n",
    "\n",
    "4. **Testing**  \n",
    "   - Create a `Car` object and a `SportsCar` object.  \n",
    "   - Try setting the speed to `180`, `220`, and `280` km/h for both objects.  \n",
    "   - Predict the output before running the code.\n"
   ]
  },
  {
   "cell_type": "code",
   "execution_count": 75,
   "id": "a0e2be06-94bd-488f-b0cc-fd6f3056c513",
   "metadata": {},
   "outputs": [],
   "source": [
    "class Vehicle:\n",
    "    has_engine = True\n",
    "    \n",
    "    def move(self):\n",
    "        print(\"Vehicle is moving\")\n",
    "\n",
    "    def get_price(self):\n",
    "        print(\"the price of the vehicle is 60k INR\")\n",
    "\n",
    "    def set_speed(self, speed):\n",
    "        self.speed = speed # no limitation on the speed\n",
    "        print(f\"the speed is set to : {speed} km/hr\")\n",
    "        \n",
    "\n",
    "class Car(Vehicle):  # child class of Vehicle\n",
    "    number_wheels = 4\n",
    "    speed_limit = 300\n",
    "    \n",
    "    def set_speed(self, speed):\n",
    "        if speed > self.speed_limit:\n",
    "            raise Exception(f\"Overspeed Error!!! Select a speed less than {self.speed_limit}!!\")\n",
    "        self.speed = speed # no limitation on the speed\n",
    "        print(f\"the speed is set to : {speed} km/hr\")\n",
    "\n",
    "        \n",
    "    # def get_price(self):\n",
    "    #     print(\"the price of the car can be checked at the showroom!!!!\")\n",
    "    \n",
    "    def drive():\n",
    "        print(\"car is driving!!\")\n",
    "        \n",
    "    def brake():\n",
    "        print(\"car is breaking\")\n",
    "\n",
    "class SportsCar(Car):\n",
    "    speed_limit = 400\n",
    "\n",
    "    def set_speed(self, speed):\n",
    "        if speed > self.speed_limit:\n",
    "            self.speed = self.speed_limit\n",
    "            print(f\"You are trying to overspeed. Speed is set to the max limit of {self.speed_limit}\")\n",
    "            # return\n",
    "        else:\n",
    "            self.speed = speed # no limitation on the speed\n",
    "            print(f\"the speed is set to : {speed} km/hr\")\n",
    "\n"
   ]
  },
  {
   "cell_type": "code",
   "execution_count": 76,
   "id": "31c5c5a1-6b95-4599-b47f-cc98ce48fbee",
   "metadata": {},
   "outputs": [
    {
     "name": "stdout",
     "output_type": "stream",
     "text": [
      "You are trying to overspeed. Speed is set to the max limit of 400\n"
     ]
    }
   ],
   "source": [
    "sportscar = SportsCar()\n",
    "sportscar.set_speed(410)"
   ]
  },
  {
   "cell_type": "code",
   "execution_count": 77,
   "id": "736388b0-fdbd-4ab2-87be-85ddcd3ee81b",
   "metadata": {},
   "outputs": [
    {
     "data": {
      "text/plain": [
       "400"
      ]
     },
     "execution_count": 77,
     "metadata": {},
     "output_type": "execute_result"
    }
   ],
   "source": [
    "sportscar.speed"
   ]
  },
  {
   "cell_type": "code",
   "execution_count": null,
   "id": "0a99a4e5-2485-4981-983c-82eef69846f9",
   "metadata": {},
   "outputs": [],
   "source": []
  },
  {
   "cell_type": "code",
   "execution_count": 63,
   "id": "03aad64a-fc0b-480d-8cf0-4e8f53da9584",
   "metadata": {},
   "outputs": [
    {
     "name": "stdout",
     "output_type": "stream",
     "text": [
      "Help on SportsCar in module __main__ object:\n",
      "\n",
      "class SportsCar(Car)\n",
      " |  Method resolution order:\n",
      " |      SportsCar\n",
      " |      Car\n",
      " |      Vehicle\n",
      " |      builtins.object\n",
      " |\n",
      " |  Data and other attributes defined here:\n",
      " |\n",
      " |  __annotations__ = {}\n",
      " |\n",
      " |  ----------------------------------------------------------------------\n",
      " |  Methods inherited from Car:\n",
      " |\n",
      " |  brake()\n",
      " |\n",
      " |  drive()\n",
      " |\n",
      " |  set_speed(self, speed)\n",
      " |\n",
      " |  ----------------------------------------------------------------------\n",
      " |  Data and other attributes inherited from Car:\n",
      " |\n",
      " |  number_wheels = 4\n",
      " |\n",
      " |  speed_limit = 300\n",
      " |\n",
      " |  ----------------------------------------------------------------------\n",
      " |  Methods inherited from Vehicle:\n",
      " |\n",
      " |  get_price(self)\n",
      " |\n",
      " |  move(self)\n",
      " |\n",
      " |  ----------------------------------------------------------------------\n",
      " |  Data descriptors inherited from Vehicle:\n",
      " |\n",
      " |  __dict__\n",
      " |      dictionary for instance variables\n",
      " |\n",
      " |  __weakref__\n",
      " |      list of weak references to the object\n",
      " |\n",
      " |  ----------------------------------------------------------------------\n",
      " |  Data and other attributes inherited from Vehicle:\n",
      " |\n",
      " |  has_engine = True\n",
      "\n"
     ]
    }
   ],
   "source": [
    "help(sportscar)"
   ]
  },
  {
   "cell_type": "code",
   "execution_count": null,
   "id": "b8c56193-9f73-4293-8313-eba91d7fccc2",
   "metadata": {},
   "outputs": [],
   "source": []
  },
  {
   "cell_type": "code",
   "execution_count": null,
   "id": "d7e69fa4-d9a0-41d7-9939-038c3d892794",
   "metadata": {},
   "outputs": [],
   "source": []
  },
  {
   "cell_type": "code",
   "execution_count": 53,
   "id": "f5ddb768-900e-4548-b32b-4c3912ea2706",
   "metadata": {},
   "outputs": [
    {
     "name": "stdout",
     "output_type": "stream",
     "text": [
      "the speed is set to : 400 km/hr\n"
     ]
    }
   ],
   "source": [
    "vehicle = Vehicle()\n",
    "vehicle.set_speed(400)"
   ]
  },
  {
   "cell_type": "code",
   "execution_count": 55,
   "id": "6b521d18-ef69-4cbe-bbd7-5df7963c0165",
   "metadata": {},
   "outputs": [
    {
     "name": "stdout",
     "output_type": "stream",
     "text": [
      "the speed is set to : 200 km/hr\n"
     ]
    }
   ],
   "source": [
    "car = Car()\n",
    "car.set_speed(200)"
   ]
  },
  {
   "cell_type": "code",
   "execution_count": 56,
   "id": "793cae7c-e1f0-4734-83fc-c13ea4e3ea4a",
   "metadata": {},
   "outputs": [
    {
     "data": {
      "text/plain": [
       "200"
      ]
     },
     "execution_count": 56,
     "metadata": {},
     "output_type": "execute_result"
    }
   ],
   "source": [
    "car.speed"
   ]
  },
  {
   "cell_type": "code",
   "execution_count": 57,
   "id": "0bfbc304-9a91-49d6-82c9-6cbf98ade03e",
   "metadata": {},
   "outputs": [
    {
     "data": {
      "text/plain": [
       "400"
      ]
     },
     "execution_count": 57,
     "metadata": {},
     "output_type": "execute_result"
    }
   ],
   "source": [
    "vehicle.speed"
   ]
  },
  {
   "cell_type": "code",
   "execution_count": null,
   "id": "c9518d2e-3ef1-469d-b5b9-35eed8743e8e",
   "metadata": {},
   "outputs": [],
   "source": []
  },
  {
   "cell_type": "markdown",
   "id": "2a9169c2-53fb-4666-9689-f3a9ef19060c",
   "metadata": {},
   "source": [
    "# Use super()\n",
    "    - super represents the parent class (class next in heirarchy)\n",
    "    - super gives temporary reference to the parent so that the methods of the parent class can be accessed ( without referring to the name)"
   ]
  },
  {
   "cell_type": "code",
   "execution_count": 122,
   "id": "340d751c-4e42-43b3-9660-aa77ad969255",
   "metadata": {},
   "outputs": [],
   "source": [
    "class Vehicle():\n",
    "\n",
    "    def __init__(self, brand, price):\n",
    "        print(\"init method of vehicle class was called!!\")\n",
    "        self.brand = brand\n",
    "        self.price = price\n",
    "    \n",
    "    has_engine = True\n",
    "    \n",
    "    def move(self):\n",
    "        print(\"Vehicle is moving\")\n",
    "\n",
    "    def get_price(self):\n",
    "        print(\"the price of the vehicle is 60k INR\")\n",
    "\n",
    "    def set_speed(self, speed):\n",
    "        self.speed = speed # no limitation on the speed\n",
    "        print(f\"the speed is set to : {speed} km/hr\")\n",
    "        \n",
    "\n",
    "class Car(Vehicle):  # child class of Vehicle\n",
    "    def __init__(self, brand, price, engine_type, number_seats):\n",
    "        print(\"init method of car class was called!!\")\n",
    "        # Vehicle.__init__(self, brand, price)\n",
    "        super().__init__(brand, price)\n",
    "        self.engine_type = engine_type\n",
    "        self.number_seats = number_seats\n",
    "    \n",
    "    number_wheels = 4\n",
    "    speed_limit = 300\n",
    "    \n",
    "    def set_speed(self, speed):\n",
    "        if speed > self.speed_limit:\n",
    "            raise Exception(f\"Overspeed Error!!! Select a speed less than {self.speed_limit}!!\")\n",
    "        self.speed = speed # no limitation on the speed\n",
    "        print(f\"the speed is set to : {speed} km/hr\")\n",
    "\n",
    "        \n",
    "    # def get_price(self):\n",
    "    #     print(\"the price of the car can be checked at the showroom!!!!\")\n",
    "    \n",
    "    def drive():\n",
    "        print(\"car is driving!!\")\n",
    "        \n",
    "    def brake():\n",
    "        print(\"car is breaking\")\n",
    "\n",
    "class SportsCar(Car):\n",
    "\n",
    "    def __init__(self, color, cylinders, brand = None,  price = None, engine_type = None, number_seats = None): # having None as default argument\n",
    "        print(\"init method of sports car class was called!!\")\n",
    "        super().__init__(brand, price, engine_type, number_seats )\n",
    "        self.color = color\n",
    "        self.cylinders = cylinders\n",
    "\n",
    "    \n",
    "    speed_limit = 400\n",
    "\n",
    "    def set_speed(self, speed):\n",
    "        if speed > self.speed_limit:\n",
    "            self.speed = self.speed_limit\n",
    "            print(f\"You are trying to overspeed. Speed is set to the max limit of {self.speed_limit}\")\n",
    "            # return\n",
    "        else:\n",
    "            self.speed = speed # no limitation on the speed\n",
    "            print(f\"the speed is set to : {speed} km/hr\")\n",
    "\n"
   ]
  },
  {
   "cell_type": "code",
   "execution_count": null,
   "id": "6b6947f8-202a-49bf-8daa-21c5fde8df3d",
   "metadata": {},
   "outputs": [],
   "source": []
  },
  {
   "cell_type": "code",
   "execution_count": 123,
   "id": "c9143c0e-2b00-450a-b9f8-2f1cd5e027c5",
   "metadata": {},
   "outputs": [
    {
     "name": "stdout",
     "output_type": "stream",
     "text": [
      "init method of car class was called!!\n",
      "init method of vehicle class was called!!\n",
      "init method of sports car class was called!!\n",
      "init method of car class was called!!\n",
      "init method of vehicle class was called!!\n"
     ]
    }
   ],
   "source": [
    "# vehicle = Vehicle(\"toyota\", 50000)\n",
    "car = Car(\"hyundai\", 60000, \"petrol\", 7)\n",
    "sports = SportsCar(\"green\", 6)\n"
   ]
  },
  {
   "cell_type": "code",
   "execution_count": 124,
   "id": "feaa8505-b6e9-4a2d-8609-80be32f2e866",
   "metadata": {},
   "outputs": [
    {
     "data": {
      "text/plain": [
       "('green', 6)"
      ]
     },
     "execution_count": 124,
     "metadata": {},
     "output_type": "execute_result"
    }
   ],
   "source": [
    "sports.color, sports.cylinders"
   ]
  },
  {
   "cell_type": "code",
   "execution_count": 125,
   "id": "34ce8194-5484-4eea-bd64-9f019a60cdc6",
   "metadata": {},
   "outputs": [],
   "source": [
    "sports.brand"
   ]
  },
  {
   "cell_type": "code",
   "execution_count": null,
   "id": "a6a42eab-6c5a-45d7-aed6-fbc87a5caeb4",
   "metadata": {},
   "outputs": [],
   "source": []
  },
  {
   "cell_type": "code",
   "execution_count": 105,
   "id": "34dd711b-9411-4808-8961-c1d4939d74f1",
   "metadata": {},
   "outputs": [
    {
     "data": {
      "text/plain": [
       "('toyota', 50000)"
      ]
     },
     "execution_count": 105,
     "metadata": {},
     "output_type": "execute_result"
    }
   ],
   "source": [
    "vehicle.brand, vehicle. price"
   ]
  },
  {
   "cell_type": "code",
   "execution_count": 106,
   "id": "b30e597c-00cf-46ef-8ca3-56b5bbb4c4b7",
   "metadata": {},
   "outputs": [
    {
     "data": {
      "text/plain": [
       "('hyundai', 60000, 7, 'petrol')"
      ]
     },
     "execution_count": 106,
     "metadata": {},
     "output_type": "execute_result"
    }
   ],
   "source": [
    "car.brand, car. price, car.number_seats, car.engine_type"
   ]
  },
  {
   "cell_type": "code",
   "execution_count": null,
   "id": "d4263153-175d-4d1e-8a57-6be3fc8b9479",
   "metadata": {},
   "outputs": [],
   "source": []
  },
  {
   "cell_type": "markdown",
   "id": "3faa8ccd-5544-4352-b758-5339ad4c7b04",
   "metadata": {},
   "source": [
    "## isinstance and issubclass"
   ]
  },
  {
   "cell_type": "code",
   "execution_count": 132,
   "id": "f866a911-6928-4f80-b885-2a567580f9ca",
   "metadata": {},
   "outputs": [],
   "source": [
    "class Person:\n",
    "    pass\n",
    "\n",
    "class Teacher(Person):\n",
    "    pass\n",
    "\n",
    "class Principal():\n",
    "    pass\n",
    "    \n",
    "\n",
    "\n",
    "shyam = Person()\n",
    "ram = Teacher()"
   ]
  },
  {
   "cell_type": "code",
   "execution_count": 139,
   "id": "13d7f737-bb5b-40b1-9d69-9966cf1e72c4",
   "metadata": {},
   "outputs": [
    {
     "data": {
      "text/plain": [
       "True"
      ]
     },
     "execution_count": 139,
     "metadata": {},
     "output_type": "execute_result"
    }
   ],
   "source": [
    "isinstance(ram, Teacher)"
   ]
  },
  {
   "cell_type": "code",
   "execution_count": 140,
   "id": "61598f3e-ee9e-4c84-8b50-fa88414e37ae",
   "metadata": {},
   "outputs": [
    {
     "data": {
      "text/plain": [
       "True"
      ]
     },
     "execution_count": 140,
     "metadata": {},
     "output_type": "execute_result"
    }
   ],
   "source": [
    "isinstance(ram, Person)"
   ]
  },
  {
   "cell_type": "code",
   "execution_count": 134,
   "id": "138f9d76-36f4-4f4c-b108-dd3918f657cb",
   "metadata": {},
   "outputs": [
    {
     "data": {
      "text/plain": [
       "True"
      ]
     },
     "execution_count": 134,
     "metadata": {},
     "output_type": "execute_result"
    }
   ],
   "source": [
    "isinstance(ram, (Person, Principal, Teacher))"
   ]
  },
  {
   "cell_type": "code",
   "execution_count": 143,
   "id": "11a5f3f4-6398-4705-ab65-2b547ccc587f",
   "metadata": {},
   "outputs": [
    {
     "data": {
      "text/plain": [
       "True"
      ]
     },
     "execution_count": 143,
     "metadata": {},
     "output_type": "execute_result"
    }
   ],
   "source": [
    "isinstance(ram, (str, int, Teacher))"
   ]
  },
  {
   "cell_type": "code",
   "execution_count": null,
   "id": "dab8c18a-9963-4b55-b6ad-c6087a2b07a6",
   "metadata": {},
   "outputs": [],
   "source": []
  },
  {
   "cell_type": "code",
   "execution_count": null,
   "id": "cc0b27f8-4d05-4aeb-bdfb-fccf76df0623",
   "metadata": {},
   "outputs": [],
   "source": []
  },
  {
   "cell_type": "code",
   "execution_count": 135,
   "id": "73d1ae56-ef2f-4b0a-b6aa-30c6d33f7226",
   "metadata": {},
   "outputs": [
    {
     "data": {
      "text/plain": [
       "True"
      ]
     },
     "execution_count": 135,
     "metadata": {},
     "output_type": "execute_result"
    }
   ],
   "source": [
    "issubclass(Teacher, Teacher)"
   ]
  },
  {
   "cell_type": "code",
   "execution_count": 145,
   "id": "d4611086-8d96-4cac-b31d-ec9ba4dd2791",
   "metadata": {},
   "outputs": [
    {
     "data": {
      "text/plain": [
       "False"
      ]
     },
     "execution_count": 145,
     "metadata": {},
     "output_type": "execute_result"
    }
   ],
   "source": [
    "issubclass(Person, Teacher)"
   ]
  },
  {
   "cell_type": "code",
   "execution_count": 131,
   "id": "5bf2a88e-0e27-4333-81ac-2460b9b44b10",
   "metadata": {},
   "outputs": [
    {
     "data": {
      "text/plain": [
       "True"
      ]
     },
     "execution_count": 131,
     "metadata": {},
     "output_type": "execute_result"
    }
   ],
   "source": [
    "issubclass(Teacher, Person)"
   ]
  },
  {
   "cell_type": "code",
   "execution_count": 144,
   "id": "c266f1f8-a6c5-4e3e-9b36-d3c2d8c1f1c0",
   "metadata": {},
   "outputs": [
    {
     "data": {
      "text/plain": [
       "False"
      ]
     },
     "execution_count": 144,
     "metadata": {},
     "output_type": "execute_result"
    }
   ],
   "source": [
    "issubclass(Teacher, Principal)"
   ]
  },
  {
   "cell_type": "code",
   "execution_count": 138,
   "id": "5bd65b1a-9c30-4be9-a221-a8db516a7f09",
   "metadata": {},
   "outputs": [
    {
     "data": {
      "text/plain": [
       "False"
      ]
     },
     "execution_count": 138,
     "metadata": {},
     "output_type": "execute_result"
    }
   ],
   "source": [
    "isinstance(\"apple\", int)"
   ]
  },
  {
   "cell_type": "code",
   "execution_count": null,
   "id": "45765bf2-11a2-4037-b25c-ac181a565a6e",
   "metadata": {},
   "outputs": [],
   "source": []
  },
  {
   "cell_type": "code",
   "execution_count": null,
   "id": "b2bccd19-0ac0-40b4-ab68-ba03807b28ad",
   "metadata": {},
   "outputs": [],
   "source": []
  },
  {
   "cell_type": "markdown",
   "id": "ae94e205-75aa-4b57-9f2f-15c7144e52f9",
   "metadata": {},
   "source": [
    "## Types of Inheritance\n",
    "**1. Single Inheritance** - A child class inherits from only one parent class. This is the simplest and most common form of inheritance.\n",
    "\n",
    "**2. Multiple Inheritance**  - A child class inherits from more than one parent class. Python resolves conflicts using the MRO (Method Resolution Order).\n",
    "\n",
    "**3. Multilevel Inheritance** - Inheritance happens across multiple levels, i.e., a class inherits from a child class of another class. This creates a chain.\n",
    "\n",
    "**4. Hierarchical Inheritance** - Multiple child classes inherit from the same parent class.\n",
    "\n",
    "**5. Hybrid Inheritance** - A combination of two or more types of inheritance. It often introduces the diamond problem, which Python solves with MRO."
   ]
  },
  {
   "cell_type": "code",
   "execution_count": 166,
   "id": "c685d791-08d8-4b94-8373-32fbed74b536",
   "metadata": {},
   "outputs": [
    {
     "name": "stdout",
     "output_type": "stream",
     "text": [
      "INIT method of smartphone was called!\n",
      "INIT method of phone was called!\n",
      "INIT method of camera was called!\n"
     ]
    }
   ],
   "source": [
    "#### Multiple Inheritance\n",
    "\n",
    "class Phone:\n",
    "    def __init__(self, brand):\n",
    "        print(\"INIT method of phone was called!\")\n",
    "        self.brand = brand\n",
    "\n",
    "class Camera:\n",
    "    def __init__(self, name):\n",
    "        print(\"INIT method of camera was called!\")\n",
    "        self.name = name\n",
    "\n",
    "class SmartPhone(Phone,  Camera):\n",
    "    def __init__(self, price):\n",
    "        print(\"INIT method of smartphone was called!\")\n",
    "        self.price = price\n",
    "        # super().__init__()\n",
    "        Phone.__init__(self, brand = \"Apple\")\n",
    "        Camera.__init__(self, name = \"Samsung\")\n",
    "\n",
    "\n",
    "iphone = SmartPhone(10000)\n"
   ]
  },
  {
   "cell_type": "code",
   "execution_count": 167,
   "id": "236957e4-32a1-4bde-b54b-913cd7d06dba",
   "metadata": {},
   "outputs": [
    {
     "data": {
      "text/plain": [
       "(10000, 'Apple')"
      ]
     },
     "execution_count": 167,
     "metadata": {},
     "output_type": "execute_result"
    }
   ],
   "source": [
    "iphone.price, iphone.brand"
   ]
  },
  {
   "cell_type": "code",
   "execution_count": 168,
   "id": "9d30ffc3-ea10-46e8-b47e-a979ec99b499",
   "metadata": {},
   "outputs": [
    {
     "data": {
      "text/plain": [
       "['SmartPhone', 'Phone', 'Camera', 'object']"
      ]
     },
     "execution_count": 168,
     "metadata": {},
     "output_type": "execute_result"
    }
   ],
   "source": [
    "[x.__name__ for x in  SmartPhone.mro()]"
   ]
  },
  {
   "cell_type": "code",
   "execution_count": null,
   "id": "3a334bb3-3f65-4e86-9f17-d11c8e21e3d0",
   "metadata": {},
   "outputs": [],
   "source": []
  },
  {
   "cell_type": "code",
   "execution_count": null,
   "id": "6987a2d8-9037-406b-bccd-549bb4aa405d",
   "metadata": {},
   "outputs": [],
   "source": []
  },
  {
   "cell_type": "markdown",
   "id": "83f8efde-b70a-43ba-bb96-84283dde9ace",
   "metadata": {},
   "source": [
    "## Multiple Inheritance"
   ]
  },
  {
   "cell_type": "code",
   "execution_count": 169,
   "id": "9dca9d0b-a570-4e6b-9729-ec6350b3f547",
   "metadata": {},
   "outputs": [
    {
     "name": "stdout",
     "output_type": "stream",
     "text": [
      "INIT method of smartphone was called!\n",
      "INIT method of phone was called!\n",
      "INIT method of camera was called!\n"
     ]
    }
   ],
   "source": [
    "\n",
    "\n",
    "class Phone:\n",
    "    def __init__(self, brand = None):\n",
    "        print(\"INIT method of phone was called!\")\n",
    "        self.brand = brand\n",
    "        super().__init__()\n",
    "\n",
    "class Camera:\n",
    "    def __init__(self, name = None):\n",
    "        print(\"INIT method of camera was called!\")\n",
    "        self.name = name\n",
    "        super().__init__()\n",
    "\n",
    "class SmartPhone(Phone, Camera):\n",
    "    def __init__(self, price = None):\n",
    "        print(\"INIT method of smartphone was called!\")\n",
    "        self.price = price\n",
    "        super().__init__()\n",
    "\n",
    "\n",
    "\n",
    "iphone = SmartPhone(10000)\n"
   ]
  },
  {
   "cell_type": "code",
   "execution_count": null,
   "id": "02c46234-b9b5-4966-b1cd-2118621617cf",
   "metadata": {},
   "outputs": [],
   "source": []
  },
  {
   "cell_type": "markdown",
   "id": "d50da341-1907-438e-92a6-d804fb181446",
   "metadata": {},
   "source": [
    "## Hybrid Inheritance"
   ]
  },
  {
   "cell_type": "code",
   "execution_count": 185,
   "id": "0cd5d738-0d74-4131-abac-a74cc6c124be",
   "metadata": {},
   "outputs": [
    {
     "name": "stdout",
     "output_type": "stream",
     "text": [
      "INIT method of smartphone was called!\n",
      "INIT method of phone was called!\n",
      "INIT method of camera was called!\n",
      "INIT method of device was called!!\n"
     ]
    }
   ],
   "source": [
    "class Device:\n",
    "    def __init__(self):\n",
    "        print(\"INIT method of device was called!!\")\n",
    "        self.device_type = \"Electronic Device\"\n",
    "        super().__init__()\n",
    "\n",
    "class Phone(Device):\n",
    "    def __init__(self, brand = None):\n",
    "        print(\"INIT method of phone was called!\")\n",
    "        self.brand = brand\n",
    "        super().__init__()\n",
    "\n",
    "class Camera(Device):\n",
    "    def __init__(self, name = None):\n",
    "        print(\"INIT method of camera was called!\")\n",
    "        self.name = name\n",
    "        super().__init__()\n",
    "\n",
    "class SmartPhone(Phone, Camera):\n",
    "    def __init__(self, price = None):\n",
    "        print(\"INIT method of smartphone was called!\")\n",
    "        self.price = price\n",
    "        super().__init__()\n",
    "\n",
    "iphone = SmartPhone(10000)\n"
   ]
  },
  {
   "cell_type": "code",
   "execution_count": 173,
   "id": "261022a4-a862-4931-a895-fae9a68adb47",
   "metadata": {},
   "outputs": [
    {
     "data": {
      "text/plain": [
       "{'price': 10000,\n",
       " 'brand': None,\n",
       " 'name': None,\n",
       " 'device_type': 'Electronic Device'}"
      ]
     },
     "execution_count": 173,
     "metadata": {},
     "output_type": "execute_result"
    }
   ],
   "source": [
    "iphone.__dict__"
   ]
  },
  {
   "cell_type": "code",
   "execution_count": 183,
   "id": "38885989-e011-4d67-94c5-5dd69422d03b",
   "metadata": {},
   "outputs": [
    {
     "data": {
      "text/plain": [
       "[__main__.SmartPhone, __main__.Phone, __main__.Camera, __main__.Device, object]"
      ]
     },
     "execution_count": 183,
     "metadata": {},
     "output_type": "execute_result"
    }
   ],
   "source": [
    "SmartPhone.mro()"
   ]
  },
  {
   "cell_type": "code",
   "execution_count": 184,
   "id": "1b6ef043-4ffd-47ac-82dd-ff1bba351975",
   "metadata": {},
   "outputs": [
    {
     "data": {
      "text/plain": [
       "[__main__.Phone, __main__.Device, object]"
      ]
     },
     "execution_count": 184,
     "metadata": {},
     "output_type": "execute_result"
    }
   ],
   "source": [
    "Phone.mro()"
   ]
  },
  {
   "cell_type": "code",
   "execution_count": 187,
   "id": "755362cb-ed70-4edb-b482-2bc0a06853e8",
   "metadata": {},
   "outputs": [
    {
     "name": "stdout",
     "output_type": "stream",
     "text": [
      "INIT method of smartphone was called!\n",
      "INIT method of phone was called!\n",
      "INIT method of camera was called!\n",
      "INIT method of device was called!!\n"
     ]
    }
   ],
   "source": [
    "iphone = SmartPhone(10000)"
   ]
  },
  {
   "cell_type": "code",
   "execution_count": 186,
   "id": "0f7f8c64-c91a-40eb-bc91-2326d1cd6ddb",
   "metadata": {},
   "outputs": [
    {
     "name": "stdout",
     "output_type": "stream",
     "text": [
      "INIT method of phone was called!\n",
      "INIT method of device was called!!\n"
     ]
    }
   ],
   "source": [
    "android = Phone()"
   ]
  },
  {
   "cell_type": "code",
   "execution_count": null,
   "id": "7d6c3b97-aef9-4bfb-ab46-9ad9df8b7500",
   "metadata": {},
   "outputs": [],
   "source": []
  },
  {
   "cell_type": "code",
   "execution_count": null,
   "id": "47e6fbc9-ae50-49fd-8631-0dbd77f03ecf",
   "metadata": {},
   "outputs": [],
   "source": []
  },
  {
   "cell_type": "markdown",
   "id": "52101f75-eb0a-48ca-a71c-f63cd30b01dc",
   "metadata": {},
   "source": [
    "### handling parameter to __init__ method in super() chaining"
   ]
  },
  {
   "cell_type": "code",
   "execution_count": null,
   "id": "cdacf75c-3aa4-424a-8f1d-bd8b91efbc74",
   "metadata": {},
   "outputs": [],
   "source": []
  },
  {
   "cell_type": "markdown",
   "id": "c8fea14d-a6bd-45d5-9be8-fea121c24344",
   "metadata": {},
   "source": [
    "##### explicit passing the parameters\n",
    "        - we need to remember the parameters expected by the super()"
   ]
  },
  {
   "cell_type": "code",
   "execution_count": 189,
   "id": "36c35b34-6772-4080-802b-cf1d6f72c1cc",
   "metadata": {},
   "outputs": [
    {
     "name": "stdout",
     "output_type": "stream",
     "text": [
      "init method of sports car class was called!!\n",
      "init method of car class was called!!\n",
      "init method of vehicle class was called!!\n"
     ]
    }
   ],
   "source": [
    "class Vehicle():\n",
    "\n",
    "    def __init__(self, brand, price):\n",
    "        print(\"init method of vehicle class was called!!\")\n",
    "        self.brand = brand\n",
    "        self.price = price\n",
    "    \n",
    "    has_engine = True\n",
    "        \n",
    "\n",
    "class Car(Vehicle):  # child class of Vehicle\n",
    "    def __init__(self, brand, price, engine_type, number_seats):\n",
    "        print(\"init method of car class was called!!\")\n",
    "        # Vehicle.__init__(self, brand, price)\n",
    "        super().__init__(brand, price)\n",
    "        self.engine_type = engine_type\n",
    "        self.number_seats = number_seats\n",
    "    \n",
    "    number_wheels = 4\n",
    "    speed_limit = 300\n",
    "\n",
    "        \n",
    "\n",
    "class SportsCar(Car):\n",
    "\n",
    "    def __init__(self, color, cylinders, brand,  price , engine_type, number_seats): # having None as default argument\n",
    "        print(\"init method of sports car class was called!!\")\n",
    "        super().__init__(brand, price, engine_type, number_seats )  # explicit passing\n",
    "        self.color = color\n",
    "        self.cylinders = cylinders\n",
    "\n",
    "\n",
    "\n",
    "sportscar = SportsCar(color = \"red\", \n",
    "                      cylinders= \"8\", \n",
    "                      brand =\"Ferrari\" ,  \n",
    "                      price = 6000000 , \n",
    "                      engine_type = \"petrol\", \n",
    "                      number_seats =2)\n"
   ]
  },
  {
   "cell_type": "code",
   "execution_count": 191,
   "id": "0163eeb0-3640-42f3-936e-7f6752c67cf2",
   "metadata": {},
   "outputs": [
    {
     "data": {
      "text/plain": [
       "(True, 4)"
      ]
     },
     "execution_count": 191,
     "metadata": {},
     "output_type": "execute_result"
    }
   ],
   "source": [
    "sportscar.has_engine, sportscar.number_wheels"
   ]
  },
  {
   "cell_type": "code",
   "execution_count": 193,
   "id": "2f40e427-2026-491a-8e05-630d454aecaa",
   "metadata": {},
   "outputs": [
    {
     "name": "stdout",
     "output_type": "stream",
     "text": [
      "Help on SportsCar in module __main__ object:\n",
      "\n",
      "class SportsCar(Car)\n",
      " |  SportsCar(color, cylinders, brand, price, engine_type, number_seats)\n",
      " |\n",
      " |  Method resolution order:\n",
      " |      SportsCar\n",
      " |      Car\n",
      " |      Vehicle\n",
      " |      builtins.object\n",
      " |\n",
      " |  Methods defined here:\n",
      " |\n",
      " |  __init__(self, color, cylinders, brand, price, engine_type, number_seats)\n",
      " |      Initialize self.  See help(type(self)) for accurate signature.\n",
      " |\n",
      " |  ----------------------------------------------------------------------\n",
      " |  Data and other attributes inherited from Car:\n",
      " |\n",
      " |  number_wheels = 4\n",
      " |\n",
      " |  speed_limit = 300\n",
      " |\n",
      " |  ----------------------------------------------------------------------\n",
      " |  Data descriptors inherited from Vehicle:\n",
      " |\n",
      " |  __dict__\n",
      " |      dictionary for instance variables\n",
      " |\n",
      " |  __weakref__\n",
      " |      list of weak references to the object\n",
      " |\n",
      " |  ----------------------------------------------------------------------\n",
      " |  Data and other attributes inherited from Vehicle:\n",
      " |\n",
      " |  has_engine = True\n",
      "\n"
     ]
    }
   ],
   "source": [
    "help(sportscar)"
   ]
  },
  {
   "cell_type": "code",
   "execution_count": 192,
   "id": "3dfc79b3-544e-4514-affc-a444fd1e9e00",
   "metadata": {},
   "outputs": [
    {
     "data": {
      "text/plain": [
       "{'brand': 'Ferrari',\n",
       " 'price': 6000000,\n",
       " 'engine_type': 'petrol',\n",
       " 'number_seats': 2,\n",
       " 'color': 'red',\n",
       " 'cylinders': '8'}"
      ]
     },
     "execution_count": 192,
     "metadata": {},
     "output_type": "execute_result"
    }
   ],
   "source": [
    "sportscar.__dict__"
   ]
  },
  {
   "cell_type": "code",
   "execution_count": null,
   "id": "0d705234-1e38-4178-9fc1-1baa20bcd963",
   "metadata": {},
   "outputs": [],
   "source": []
  },
  {
   "cell_type": "markdown",
   "id": "e95b5f03-db3c-4527-95d3-cc99d7f3465a",
   "metadata": {},
   "source": [
    "#### using args and kwargs\n",
    "    - more flexible\n",
    "    - but there is not restriction on what we are passing. "
   ]
  },
  {
   "cell_type": "code",
   "execution_count": 195,
   "id": "d5f962d2-a3dc-4c70-83af-8528f4e3f055",
   "metadata": {},
   "outputs": [
    {
     "name": "stdout",
     "output_type": "stream",
     "text": [
      "init method of sports car class was called!!\n",
      "kwargs in sports car {'brand': 'Ferrari', 'price': 6000000, 'engine_type': 'petrol', 'number_seats': 2}\n",
      "init method of car class was called!!\n",
      "kwargs in car class {'brand': 'Ferrari', 'price': 6000000}\n",
      "init method of vehicle class was called!!\n",
      "kwargs in vehicle class {}\n"
     ]
    }
   ],
   "source": [
    "class Vehicle():\n",
    "\n",
    "    def __init__(self, brand, price, **kwargs):\n",
    "        print(\"init method of vehicle class was called!!\")\n",
    "        print(\"kwargs in vehicle class\", kwargs)\n",
    "        self.brand = brand\n",
    "        self.price = price\n",
    "    \n",
    "    has_engine = True\n",
    "        \n",
    "\n",
    "class Car(Vehicle):  # child class of Vehicle\n",
    "    def __init__(self,  engine_type, number_seats, **kwargs):\n",
    "        print(\"init method of car class was called!!\")\n",
    "        print(\"kwargs in car class\", kwargs)\n",
    "        # Vehicle.__init__(self, brand, price)\n",
    "        # super().__init__(brand, price)\n",
    "        super().__init__(**kwargs)\n",
    "        self.engine_type = engine_type\n",
    "        self.number_seats = number_seats\n",
    "    \n",
    "    number_wheels = 4\n",
    "    speed_limit = 300\n",
    "\n",
    "        \n",
    "class SportsCar(Car):\n",
    "\n",
    "    def __init__(self, color, cylinders, **kwargs): # having None as default argument\n",
    "        print(\"init method of sports car class was called!!\")\n",
    "        print(\"kwargs in sports car\", kwargs)\n",
    "        # super().__init__(brand, price, engine_type, number_seats )\n",
    "        super().__init__(**kwargs)  # explicit passing\n",
    "        self.color = color\n",
    "        self.cylinders = cylinders\n",
    "\n",
    "\n",
    "sportscar = SportsCar(color = \"red\", \n",
    "                      cylinders= \"8\", \n",
    "                      brand =\"Ferrari\" ,  \n",
    "                      price = 6000000 , \n",
    "                      engine_type = \"petrol\", \n",
    "                      number_seats =2)\n"
   ]
  },
  {
   "cell_type": "code",
   "execution_count": null,
   "id": "4cab213d-3a03-4802-afb1-5d6c96eb19b7",
   "metadata": {},
   "outputs": [],
   "source": []
  },
  {
   "cell_type": "code",
   "execution_count": 198,
   "id": "1a3fd76a-bcab-4b79-9932-44bd7e816e9a",
   "metadata": {},
   "outputs": [
    {
     "data": {
      "text/plain": [
       "'/Users/ram/Documents/codeverra_python'"
      ]
     },
     "execution_count": 198,
     "metadata": {},
     "output_type": "execute_result"
    }
   ],
   "source": [
    "pwd"
   ]
  },
  {
   "cell_type": "code",
   "execution_count": null,
   "id": "e7a7880e-63c9-4ef6-85ec-c863d0b975f8",
   "metadata": {},
   "outputs": [],
   "source": []
  },
  {
   "cell_type": "code",
   "execution_count": null,
   "id": "fa46c681-ee1e-4ade-bbac-cfc644d21f37",
   "metadata": {},
   "outputs": [],
   "source": []
  },
  {
   "cell_type": "markdown",
   "id": "b3edd25f-07b0-4e31-b230-e6e75a169b39",
   "metadata": {},
   "source": [
    "# Composition v/s Inheritance\n",
    "\n",
    "\n",
    "| Aspect       | Inheritance                                         | Composition                                           |\n",
    "| ------------ | --------------------------------------------------- | ----------------------------------------------------- |\n",
    "| Relationship | **is-a**                                            | **has-a**                                             |\n",
    "| Code reuse   | Extends behavior of parent                          | Uses other objects’ functionality                     |\n",
    "| Coupling     | Tightly coupled (child depends on parent structure) | Looser coupling (components can change independently) |\n",
    "| Flexibility  | Harder to change hierarchy                          | Easier to swap components                             |\n",
    "| Example      | Dog **is an** Animal                                | Car **has an** Engine                                 |\n",
    "\n",
    "\n",
    "        Inheritance: reuse by “being a type of something.”\n",
    "        \n",
    "        Composition: reuse by “having something inside.”\n"
   ]
  },
  {
   "cell_type": "code",
   "execution_count": null,
   "id": "90ec3e69-4dcc-4aa5-b03c-d650d54ad829",
   "metadata": {},
   "outputs": [],
   "source": [
    "# Using Inheritance ❌( inappropriate)\n",
    "\n",
    "class Library:\n",
    "    def open(self):\n",
    "        print(\"Library is open\")\n",
    "\n",
    "class Book(Library):   # ❌ Book IS NOT a Library\n",
    "    def read(self):\n",
    "        print(\"Reading the book\")\n"
   ]
  },
  {
   "cell_type": "code",
   "execution_count": null,
   "id": "b0bafafb-255b-432c-887a-59c00bbd3188",
   "metadata": {},
   "outputs": [],
   "source": [
    "# Using Composition ✅\n",
    "\n",
    "class Book:\n",
    "    def __init__(self, title):\n",
    "        self.title = title\n",
    "    \n",
    "    def read(self):\n",
    "        print(f\"Reading {self.title}\")\n",
    "\n",
    "class Library:   # ✅ Library HAS Books\n",
    "    def __init__(self):\n",
    "        self.books = []\n",
    "    \n",
    "    def add_book(self, book):\n",
    "        self.books.append(book)\n",
    "    \n",
    "    def show_books(self):\n",
    "        for b in self.books:\n",
    "            print(f\"- {b.title}\")\n"
   ]
  },
  {
   "cell_type": "code",
   "execution_count": null,
   "id": "01e846c7-891a-4a8f-83ed-439fd369d32b",
   "metadata": {},
   "outputs": [],
   "source": []
  },
  {
   "cell_type": "code",
   "execution_count": null,
   "id": "7222a000-ed07-45da-a053-c38cfdf141ee",
   "metadata": {},
   "outputs": [],
   "source": []
  },
  {
   "cell_type": "code",
   "execution_count": null,
   "id": "d0e3d194-6612-4ea6-aaa4-edf043a6c842",
   "metadata": {},
   "outputs": [],
   "source": [
    "## Vehicle has-a Engine. Car is-a Vehicle. Truck is-a vehicle"
   ]
  },
  {
   "cell_type": "code",
   "execution_count": 219,
   "id": "ecd3ad93-a021-4a0f-93a5-48b72e61adbf",
   "metadata": {},
   "outputs": [
    {
     "name": "stdout",
     "output_type": "stream",
     "text": [
      "Engine is now ON !!!\n",
      "Car --Swift Dzire--  is now  driving!!\n",
      "Engine is now ON !!!\n",
      "Truck  --tata-- is now  driving!!\n",
      "Engine is now ON !!!\n",
      "Car --Hyundai Creta--  is now  driving!!\n"
     ]
    }
   ],
   "source": [
    "class Engine:\n",
    "    def __init__(self, cc, fuel_type):\n",
    "        self.cc  = cc\n",
    "        self.fuel_type = fuel_type\n",
    "\n",
    "    def start(self):\n",
    "        print(\"Engine is now ON !!!\")\n",
    "\n",
    "        \n",
    "class Vehicle:\n",
    "    def __init__(self, name, engine):\n",
    "        self.name = name\n",
    "        self.engine = engine\n",
    "\n",
    "    def move(self):\n",
    "        self.engine.start()\n",
    "        # print(\"Vehicle is now moving!!!\")\n",
    "\n",
    "    def __repr__(self):\n",
    "        return f\"--{self.name}--\"\n",
    "\n",
    "    def __str__(self):\n",
    "        return f\"--{self.name}--\"\n",
    "\n",
    "class Car(Vehicle):\n",
    "    def __init__(self, car_type, name, engine):\n",
    "        self.car_type = car_type\n",
    "        super().__init__(name, engine)\n",
    "\n",
    "    def move(self):\n",
    "        super().move()\n",
    "        print(f\"Car {self}  is now  driving!!\")\n",
    "\n",
    "\n",
    "class Truck(Vehicle):\n",
    "    def __init__(self, number_of_wheels, name, engine):\n",
    "        self.number_of_wheels = number_of_wheels\n",
    "        super().__init__(name, engine)\n",
    "\n",
    "    def move(self):\n",
    "        super().move()\n",
    "        print(f\"Truck  {self} is now  driving!!\")\n",
    "\n",
    "\n",
    "\n",
    "class TransportSystem:\n",
    "\n",
    "    def __init__(self, list_of_vehicles = None):\n",
    "        if list_of_vehicles:\n",
    "            self.list_of_vehicles = list_of_vehicles\n",
    "        else:\n",
    "            self.list_of_vehicles = []\n",
    "\n",
    "\n",
    "    \n",
    "    def show_status(self):\n",
    "        for vehicle in self.list_of_vehicles:\n",
    "            vehicle.move()\n",
    "        \n",
    "\n",
    "\n",
    "petrol_engine = Engine(2000, \"petrol\")\n",
    "\n",
    "diesel_engine = Engine(5000, \"diesel\")\n",
    "\n",
    "dzire = Car(car_type = \"Sedan\" , \n",
    "            name  = \"Swift Dzire\",\n",
    "            engine = petrol_engine)\n",
    "\n",
    "creta =  Car(car_type = \"Compact SUV\" , \n",
    "            name  = \"Hyundai Creta\",\n",
    "            engine = petrol_engine)\n",
    "\n",
    "tata_truck = Truck( number_of_wheels = 10, name = \"tata\", engine = diesel_engine)\n",
    "\n",
    "system = TransportSystem(list_of_vehicles = [dzire, tata_truck, creta])\n",
    "\n",
    "system.show_status()"
   ]
  },
  {
   "cell_type": "code",
   "execution_count": 220,
   "id": "080979be-87ac-4dea-8c25-5c83fe5881c1",
   "metadata": {},
   "outputs": [
    {
     "name": "stdout",
     "output_type": "stream",
     "text": [
      "--Hyundai Creta--\n"
     ]
    }
   ],
   "source": [
    "print(creta)"
   ]
  },
  {
   "cell_type": "code",
   "execution_count": null,
   "id": "cf4812ec-fb83-4dc5-9077-0ff7ab1f4286",
   "metadata": {},
   "outputs": [],
   "source": []
  },
  {
   "cell_type": "code",
   "execution_count": 213,
   "id": "1f6238e0-1a8d-4c45-aa02-98a03b8a4583",
   "metadata": {},
   "outputs": [
    {
     "name": "stdout",
     "output_type": "stream",
     "text": [
      "Engine is now ON !!!\n",
      "Vehicle is now moving!!!\n",
      "Car Swift Dzire  is now  driving!!\n",
      "Engine is now ON !!!\n",
      "Vehicle is now moving!!!\n",
      "Truck  tata is now  driving!!\n",
      "Engine is now ON !!!\n",
      "Vehicle is now moving!!!\n",
      "Car Hyundai Creta  is now  driving!!\n"
     ]
    }
   ],
   "source": [
    "system = TransportSystem(list_of_vehicles = [dzire, tata_truck, creta])\n",
    "\n",
    "system.show_status()"
   ]
  },
  {
   "cell_type": "code",
   "execution_count": null,
   "id": "11106f54-86e6-448e-a010-d2ff954ea084",
   "metadata": {},
   "outputs": [],
   "source": []
  },
  {
   "cell_type": "markdown",
   "id": "1f268789-d59e-48e2-b84c-bcb252c8d60e",
   "metadata": {},
   "source": [
    "# mixins in python"
   ]
  },
  {
   "cell_type": "code",
   "execution_count": 17,
   "id": "3ec588f0-1d58-4733-8a72-56b77a536f53",
   "metadata": {},
   "outputs": [],
   "source": [
    "class Car:\n",
    "    def __init__(self, make, model):\n",
    "        self.make  = make\n",
    "        self.model = model\n",
    "\n",
    "class MusicPlayerMixin:\n",
    "    def play_music(self, song):\n",
    "        print(\"playing the song\")\n",
    "\n",
    "    def play_radio(self):\n",
    "        print(\"playing the radio\")\n",
    "\n",
    "class ClimateControlMixin:\n",
    "    pass\n",
    "\n",
    "class VentilatedSeatsMixin:\n",
    "    pass\n",
    "\n",
    "\n",
    "\n",
    "class LuxuryCar(Car, MusicPlayerMixin, ClimateControlMixin):\n",
    "    def __init__(self, make, model):\n",
    "        super().__init__(make, model)\n",
    "\n",
    "    def drive(self):\n",
    "        print(\"i am driving\")\n"
   ]
  },
  {
   "cell_type": "code",
   "execution_count": 18,
   "id": "816dbf2b-b0d4-4475-b696-0bbcd9b2b52c",
   "metadata": {},
   "outputs": [],
   "source": [
    "lexus = LuxuryCar(make = \"Lexus\", model = \"A50\")"
   ]
  },
  {
   "cell_type": "code",
   "execution_count": 19,
   "id": "b011ff79-f660-4e70-800f-27459e5b2d86",
   "metadata": {},
   "outputs": [
    {
     "name": "stdout",
     "output_type": "stream",
     "text": [
      "playing the song\n"
     ]
    }
   ],
   "source": [
    "lexus.play_music(\"in the end\")"
   ]
  },
  {
   "cell_type": "code",
   "execution_count": 20,
   "id": "4d4b48bf-6b0c-48c7-9957-22dde41f639c",
   "metadata": {},
   "outputs": [
    {
     "name": "stdout",
     "output_type": "stream",
     "text": [
      "playing the radio\n"
     ]
    }
   ],
   "source": [
    "lexus.play_radio()"
   ]
  },
  {
   "cell_type": "code",
   "execution_count": null,
   "id": "0483ad56-e9a7-4a5e-80cb-2b692a8dd17e",
   "metadata": {},
   "outputs": [],
   "source": []
  },
  {
   "cell_type": "code",
   "execution_count": 40,
   "id": "8862019f-d0cf-4c9e-8253-a98cba980cc0",
   "metadata": {},
   "outputs": [],
   "source": [
    "import json\n",
    "import datetime\n",
    "\n",
    "class JsonSerializerMixin:\n",
    "    def to_json(self):\n",
    "        return json.dumps(self.__dict__)\n",
    "\n",
    "class LoggerMixin:\n",
    "    def log(self, message):\n",
    "        with open(\"log.txt\", \"a\") as file:\n",
    "            log_message = (\"\\n\"+ str(datetime.datetime.now()) + f\"activity logged for {self.name}:: \" + message)\n",
    "            file.write(log_message)\n",
    "\n",
    "\n",
    "class User(JsonSerializerMixin, LoggerMixin):\n",
    "    def __init__(self, name, age, city):\n",
    "        self.name = name\n",
    "        self.age = age\n",
    "        self.city = city\n",
    "\n",
    "    def log_in(self):\n",
    "        print(\"logging in !!\")\n",
    "        self.log(\"Attempt to log in the bank!!!\")\n",
    "\n",
    "\n",
    "\n",
    "user1 = User(name =  \"Rahul\", age = 20, city = \"Delhi\")\n",
    "user2 = User(name =  \"Mehul\", age = 20, city = \"Delhi\")\n",
    "\n"
   ]
  },
  {
   "cell_type": "code",
   "execution_count": 41,
   "id": "c24ef313-2d10-4e18-8c67-8af691262171",
   "metadata": {},
   "outputs": [
    {
     "data": {
      "text/plain": [
       "'{\"name\": \"Rahul\", \"age\": 20, \"city\": \"Delhi\"}'"
      ]
     },
     "execution_count": 41,
     "metadata": {},
     "output_type": "execute_result"
    }
   ],
   "source": [
    "user1.to_json()"
   ]
  },
  {
   "cell_type": "code",
   "execution_count": 42,
   "id": "2608b6e2-1272-42d4-942c-b0c753d8df59",
   "metadata": {},
   "outputs": [
    {
     "name": "stdout",
     "output_type": "stream",
     "text": [
      "logging in !!\n"
     ]
    }
   ],
   "source": [
    "user1.log_in()"
   ]
  },
  {
   "cell_type": "code",
   "execution_count": 43,
   "id": "6e015490-a6b9-429c-b818-6d87a0bdfba9",
   "metadata": {},
   "outputs": [
    {
     "name": "stdout",
     "output_type": "stream",
     "text": [
      "logging in !!\n"
     ]
    }
   ],
   "source": [
    "user2.log_in()"
   ]
  },
  {
   "cell_type": "code",
   "execution_count": null,
   "id": "94c703c5-188c-4a9e-b8ae-f3fed3dcd642",
   "metadata": {},
   "outputs": [],
   "source": []
  },
  {
   "cell_type": "code",
   "execution_count": null,
   "id": "5a1cb7f1-e98b-4037-b5a8-794da1d8f9fd",
   "metadata": {},
   "outputs": [],
   "source": []
  },
  {
   "cell_type": "code",
   "execution_count": null,
   "id": "b76adfb5-0e31-4771-873d-5a188d49ba0c",
   "metadata": {},
   "outputs": [],
   "source": []
  },
  {
   "cell_type": "code",
   "execution_count": null,
   "id": "217adb4e-0680-4a5f-9570-70d774407609",
   "metadata": {},
   "outputs": [],
   "source": []
  },
  {
   "cell_type": "code",
   "execution_count": null,
   "id": "fba1a24f-a7f0-43c7-bb43-aff90608906b",
   "metadata": {},
   "outputs": [],
   "source": []
  },
  {
   "cell_type": "code",
   "execution_count": null,
   "id": "2bee89f7-c351-4acd-87d6-d4acc495326a",
   "metadata": {},
   "outputs": [],
   "source": []
  },
  {
   "cell_type": "code",
   "execution_count": null,
   "id": "f97a42d0-9419-468e-82d0-ee1084806ea2",
   "metadata": {},
   "outputs": [],
   "source": []
  },
  {
   "cell_type": "code",
   "execution_count": null,
   "id": "d4905980-ccae-48fc-a3eb-5d9f4db0218a",
   "metadata": {},
   "outputs": [],
   "source": []
  },
  {
   "cell_type": "code",
   "execution_count": null,
   "id": "8befce12-8af7-4baa-af2e-66e84efc0662",
   "metadata": {},
   "outputs": [],
   "source": []
  }
 ],
 "metadata": {
  "kernelspec": {
   "display_name": "Python 3 (ipykernel)",
   "language": "python",
   "name": "python3"
  },
  "language_info": {
   "codemirror_mode": {
    "name": "ipython",
    "version": 3
   },
   "file_extension": ".py",
   "mimetype": "text/x-python",
   "name": "python",
   "nbconvert_exporter": "python",
   "pygments_lexer": "ipython3",
   "version": "3.13.5"
  }
 },
 "nbformat": 4,
 "nbformat_minor": 5
}
