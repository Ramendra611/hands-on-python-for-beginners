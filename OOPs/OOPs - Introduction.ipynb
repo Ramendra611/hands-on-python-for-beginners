{
 "cells": [
  {
   "cell_type": "code",
   "execution_count": null,
   "id": "a51dad9f-6296-43ef-baca-0ab13e2b7f4c",
   "metadata": {},
   "outputs": [],
   "source": []
  },
  {
   "cell_type": "markdown",
   "id": "a6522b27-4fcf-4f00-803e-b92f272ba5fc",
   "metadata": {},
   "source": [
    "## Attributes\n",
    "    - name ( first name, last name)\n",
    "    - email\n",
    "    - dob\n",
    "    - department\n",
    "\n",
    "## Methods\n",
    "    - get a promotion\n",
    "    - resign"
   ]
  },
  {
   "cell_type": "code",
   "execution_count": 8,
   "id": "0e073602-6238-40f5-a07d-e82142abc81a",
   "metadata": {},
   "outputs": [],
   "source": [
    "class Employee:\n",
    "    \n",
    "    \n",
    "    \n",
    "    pass"
   ]
  },
  {
   "cell_type": "code",
   "execution_count": 15,
   "id": "055add3d-c61d-4aa2-b9ed-4f6205678710",
   "metadata": {},
   "outputs": [],
   "source": [
    "## instances of the class\n",
    "\n",
    "mohan = Employee()\n",
    "sohan = Employee()"
   ]
  },
  {
   "cell_type": "code",
   "execution_count": 16,
   "id": "fb6d4c91-b0c5-408f-9f43-8e8a3c4e9913",
   "metadata": {},
   "outputs": [
    {
     "ename": "AttributeError",
     "evalue": "'Employee' object has no attribute 'name'",
     "output_type": "error",
     "traceback": [
      "\u001b[0;31m---------------------------------------------------------------------------\u001b[0m",
      "\u001b[0;31mAttributeError\u001b[0m                            Traceback (most recent call last)",
      "Cell \u001b[0;32mIn[16], line 1\u001b[0m\n\u001b[0;32m----> 1\u001b[0m \u001b[43msohan\u001b[49m\u001b[38;5;241;43m.\u001b[39;49m\u001b[43mname\u001b[49m\n",
      "\u001b[0;31mAttributeError\u001b[0m: 'Employee' object has no attribute 'name'"
     ]
    }
   ],
   "source": [
    "sohan.name"
   ]
  },
  {
   "cell_type": "code",
   "execution_count": 11,
   "id": "a6247823-0e3a-4404-92a8-7b8bee7988c3",
   "metadata": {},
   "outputs": [],
   "source": [
    "mohan.first = 'Mohan'\n"
   ]
  },
  {
   "cell_type": "code",
   "execution_count": 12,
   "id": "ef76b7cd-3648-48b9-b024-3cb21e7f03b3",
   "metadata": {},
   "outputs": [
    {
     "data": {
      "text/plain": [
       "'Mohan'"
      ]
     },
     "execution_count": 12,
     "metadata": {},
     "output_type": "execute_result"
    }
   ],
   "source": [
    "mohan.first"
   ]
  },
  {
   "cell_type": "code",
   "execution_count": 13,
   "id": "4db951b0-3e87-48cd-beb5-9ef1b27eae28",
   "metadata": {},
   "outputs": [],
   "source": [
    "mohan.email = \"mohan@gmail.com\""
   ]
  },
  {
   "cell_type": "code",
   "execution_count": 14,
   "id": "5250c5ed-f24e-4df5-bb61-8df0c7a97f88",
   "metadata": {},
   "outputs": [
    {
     "data": {
      "text/plain": [
       "'mohan@gmail.com'"
      ]
     },
     "execution_count": 14,
     "metadata": {},
     "output_type": "execute_result"
    }
   ],
   "source": [
    "mohan.email"
   ]
  },
  {
   "cell_type": "code",
   "execution_count": null,
   "id": "1cefcf87-7425-4c84-9b46-8d659a2fe2e1",
   "metadata": {},
   "outputs": [],
   "source": []
  },
  {
   "cell_type": "code",
   "execution_count": null,
   "id": "79005ef2-effc-4dad-981a-419732d46dee",
   "metadata": {},
   "outputs": [],
   "source": []
  },
  {
   "cell_type": "code",
   "execution_count": 5,
   "id": "bffd3050-17e6-48bb-b7bc-4bae881f397f",
   "metadata": {},
   "outputs": [
    {
     "name": "stdout",
     "output_type": "stream",
     "text": [
      "<class '__main__.Employee'>\n"
     ]
    }
   ],
   "source": [
    "print(type(mohan))"
   ]
  },
  {
   "cell_type": "code",
   "execution_count": null,
   "id": "3c0f0ffd-0591-4ea5-bb3f-8f04a82f6052",
   "metadata": {},
   "outputs": [],
   "source": []
  },
  {
   "cell_type": "code",
   "execution_count": null,
   "id": "b323fbf5-150f-4148-ba17-b9a0a2239dbd",
   "metadata": {},
   "outputs": [],
   "source": []
  },
  {
   "cell_type": "code",
   "execution_count": null,
   "id": "f40dc7da-291b-4fa3-8624-aab6e7999298",
   "metadata": {},
   "outputs": [],
   "source": []
  },
  {
   "cell_type": "code",
   "execution_count": 6,
   "id": "b00b3736-3df0-4c02-9123-84dd29a5490b",
   "metadata": {},
   "outputs": [],
   "source": [
    "x = int(6)"
   ]
  },
  {
   "cell_type": "code",
   "execution_count": 7,
   "id": "b245e078-9f56-4417-a23d-5d888992800b",
   "metadata": {},
   "outputs": [
    {
     "data": {
      "text/plain": [
       "int"
      ]
     },
     "execution_count": 7,
     "metadata": {},
     "output_type": "execute_result"
    }
   ],
   "source": [
    "type(x)"
   ]
  },
  {
   "cell_type": "code",
   "execution_count": null,
   "id": "a3638a25-803c-4c25-b81c-8b487f556d6c",
   "metadata": {},
   "outputs": [],
   "source": []
  },
  {
   "cell_type": "code",
   "execution_count": null,
   "id": "450bd5a8-93f0-49b9-b56f-c1e6e9a34193",
   "metadata": {},
   "outputs": [],
   "source": []
  },
  {
   "cell_type": "markdown",
   "id": "756e9c9f-7b05-49bd-a362-cef40bb14b13",
   "metadata": {},
   "source": [
    "### adding attributes to the class definition\n",
    "\n",
    "    - instance attributes\n",
    "    - class attributes"
   ]
  },
  {
   "cell_type": "code",
   "execution_count": 20,
   "id": "550e11f6-3042-4654-af21-c4042875275a",
   "metadata": {},
   "outputs": [],
   "source": [
    "class Employee:\n",
    "    \n",
    "    name = \"Mohan Sharma\"\n",
    "    department = \"Tech\"\n",
    "    \n",
    "    pass"
   ]
  },
  {
   "cell_type": "code",
   "execution_count": 23,
   "id": "4ddd8520-b025-44bd-b842-02fe1a370dd0",
   "metadata": {},
   "outputs": [],
   "source": [
    "mohan = Employee()\n",
    "sohan = Employee()"
   ]
  },
  {
   "cell_type": "code",
   "execution_count": 22,
   "id": "7641e617-e4f7-44b7-915c-7931e9b8bdfc",
   "metadata": {},
   "outputs": [
    {
     "data": {
      "text/plain": [
       "'Mohan Sharma'"
      ]
     },
     "execution_count": 22,
     "metadata": {},
     "output_type": "execute_result"
    }
   ],
   "source": [
    "mohan.name"
   ]
  },
  {
   "cell_type": "code",
   "execution_count": 24,
   "id": "5672ca52-0a83-4a25-a057-410343c929cd",
   "metadata": {},
   "outputs": [
    {
     "data": {
      "text/plain": [
       "'Mohan Sharma'"
      ]
     },
     "execution_count": 24,
     "metadata": {},
     "output_type": "execute_result"
    }
   ],
   "source": [
    "sohan.name"
   ]
  },
  {
   "cell_type": "code",
   "execution_count": 26,
   "id": "e0706781-21f6-4c67-a28d-b55d5e6f037f",
   "metadata": {},
   "outputs": [],
   "source": [
    "sohan.name = \"Sohan Sharma\""
   ]
  },
  {
   "cell_type": "code",
   "execution_count": 27,
   "id": "9d5565ae-dd5d-4c8a-b475-916351ac2ac8",
   "metadata": {},
   "outputs": [
    {
     "data": {
      "text/plain": [
       "'Sohan Sharma'"
      ]
     },
     "execution_count": 27,
     "metadata": {},
     "output_type": "execute_result"
    }
   ],
   "source": [
    "sohan.name"
   ]
  },
  {
   "cell_type": "code",
   "execution_count": null,
   "id": "7e9cc8a7-8e7d-4dc6-918e-b8bf7c96cb83",
   "metadata": {},
   "outputs": [],
   "source": []
  },
  {
   "cell_type": "markdown",
   "id": "4326b26e-d562-4969-be68-d610f80646b6",
   "metadata": {},
   "source": [
    "## Constructor or __init__ method"
   ]
  },
  {
   "cell_type": "code",
   "execution_count": 46,
   "id": "45b22a15-20f1-4336-8d7d-8c038493d024",
   "metadata": {},
   "outputs": [],
   "source": [
    "class Employee:\n",
    "    \n",
    "    def __init__(self, name, deptt):\n",
    "        # init method, constructor\n",
    "        self.name = name # instance variable\n",
    "        self.deptt = deptt # instance variable\n",
    "        \n",
    "    \n",
    "    pass"
   ]
  },
  {
   "cell_type": "code",
   "execution_count": 40,
   "id": "4b9a3678-b065-4cdb-a5c5-26c64c022db3",
   "metadata": {},
   "outputs": [],
   "source": [
    "mohan = Employee(name = \"Mohan\", deptt = \"Tech\")"
   ]
  },
  {
   "cell_type": "code",
   "execution_count": 43,
   "id": "6aeb690a-f246-4b75-bf77-0b76970452db",
   "metadata": {},
   "outputs": [],
   "source": [
    "sohan = Employee(name = \"Sohan Sharma\", deptt = \"Finance\")"
   ]
  },
  {
   "cell_type": "code",
   "execution_count": 45,
   "id": "949c113f-2d9a-4d57-a01d-59cf4aee8024",
   "metadata": {},
   "outputs": [
    {
     "data": {
      "text/plain": [
       "('Sohan Sharma', 'Finance')"
      ]
     },
     "execution_count": 45,
     "metadata": {},
     "output_type": "execute_result"
    }
   ],
   "source": [
    "sohan.name, sohan.deptt"
   ]
  },
  {
   "cell_type": "code",
   "execution_count": 41,
   "id": "d2a7eb2a-2d12-4b70-80c2-0e57f0819d95",
   "metadata": {},
   "outputs": [
    {
     "data": {
      "text/plain": [
       "'Mohan'"
      ]
     },
     "execution_count": 41,
     "metadata": {},
     "output_type": "execute_result"
    }
   ],
   "source": [
    "mohan.name"
   ]
  },
  {
   "cell_type": "code",
   "execution_count": 42,
   "id": "7ae1dc30-dab3-4fc6-92bd-e614c8a712a9",
   "metadata": {},
   "outputs": [
    {
     "data": {
      "text/plain": [
       "'Tech'"
      ]
     },
     "execution_count": 42,
     "metadata": {},
     "output_type": "execute_result"
    }
   ],
   "source": [
    "mohan.deptt"
   ]
  },
  {
   "cell_type": "code",
   "execution_count": null,
   "id": "b2841c9c-e6a0-4085-a865-f793c0fe941a",
   "metadata": {},
   "outputs": [],
   "source": []
  },
  {
   "cell_type": "markdown",
   "id": "5a53064b-a9b3-4189-a047-775a4157465f",
   "metadata": {},
   "source": [
    "## Adding methods to class definition\n",
    "    - instance method\n",
    "    - class method\n",
    "    - static method\n",
    "   "
   ]
  },
  {
   "cell_type": "code",
   "execution_count": 56,
   "id": "68cee8d1-9733-4151-9fbd-22ee717ee25f",
   "metadata": {},
   "outputs": [],
   "source": [
    "class Employee:\n",
    "    \n",
    "    def __init__(self, name, deptt, salary):\n",
    "        # init method, constructor\n",
    "        self.name = name # instance variable\n",
    "        self.deptt = deptt # instance variable\n",
    "        self.salary = salary\n",
    "        \n",
    "    def give_promotion(self, appraisal_percentage): # instance method\n",
    "        new_salary = self.salary * (1 + appraisal_percentage)\n",
    "        self.salary = new_salary\n",
    "        print(f\"Promotion applied to {self.name}\")\n",
    "        "
   ]
  },
  {
   "cell_type": "code",
   "execution_count": 74,
   "id": "7b9a5ccf-357f-41f6-b88f-1b7009c4b353",
   "metadata": {},
   "outputs": [],
   "source": [
    "rahul = Employee(\"Rahul\", \"HR\", 10000)"
   ]
  },
  {
   "cell_type": "code",
   "execution_count": 73,
   "id": "5467d2ab-3412-4d1b-bc12-69f35b759e9a",
   "metadata": {},
   "outputs": [],
   "source": [
    "mehul = Employee(\"Mehul Kumar\", \"Marketing\", 20000)"
   ]
  },
  {
   "cell_type": "code",
   "execution_count": 58,
   "id": "cad890e1-bec2-4877-a4ac-25a443d255ba",
   "metadata": {},
   "outputs": [
    {
     "data": {
      "text/plain": [
       "10000"
      ]
     },
     "execution_count": 58,
     "metadata": {},
     "output_type": "execute_result"
    }
   ],
   "source": [
    "rahul.salary"
   ]
  },
  {
   "cell_type": "code",
   "execution_count": 59,
   "id": "01748d99-6316-4c2a-af7e-81cc55fc9554",
   "metadata": {},
   "outputs": [
    {
     "name": "stdout",
     "output_type": "stream",
     "text": [
      "Promotion applied to Rahul\n"
     ]
    }
   ],
   "source": [
    "rahul.give_promotion(0.3)"
   ]
  },
  {
   "cell_type": "code",
   "execution_count": 60,
   "id": "84fed2be-3735-4653-9bb2-da7a6ec98a84",
   "metadata": {},
   "outputs": [
    {
     "data": {
      "text/plain": [
       "13000.0"
      ]
     },
     "execution_count": 60,
     "metadata": {},
     "output_type": "execute_result"
    }
   ],
   "source": [
    "rahul.salary"
   ]
  },
  {
   "cell_type": "code",
   "execution_count": 75,
   "id": "7c3a9649-b038-4565-8cf1-57f2a80abe70",
   "metadata": {},
   "outputs": [
    {
     "data": {
      "text/plain": [
       "'Mehul Kumar'"
      ]
     },
     "execution_count": 75,
     "metadata": {},
     "output_type": "execute_result"
    }
   ],
   "source": [
    "mehul.name"
   ]
  },
  {
   "cell_type": "code",
   "execution_count": 76,
   "id": "f53d1b19-02d7-4936-8703-3a3fb97712f0",
   "metadata": {},
   "outputs": [
    {
     "data": {
      "text/plain": [
       "20000"
      ]
     },
     "execution_count": 76,
     "metadata": {},
     "output_type": "execute_result"
    }
   ],
   "source": [
    "mehul.salary"
   ]
  },
  {
   "cell_type": "code",
   "execution_count": 79,
   "id": "7a49c99e-99ac-403d-9d65-2732713667db",
   "metadata": {},
   "outputs": [
    {
     "name": "stdout",
     "output_type": "stream",
     "text": [
      "Promotion applied to Mehul Kumar\n"
     ]
    }
   ],
   "source": [
    "mehul.give_promotion(appraisal_percentage=0.5)"
   ]
  },
  {
   "cell_type": "code",
   "execution_count": 80,
   "id": "386469ae-fb51-457d-bf2a-6c54f900e061",
   "metadata": {},
   "outputs": [
    {
     "data": {
      "text/plain": [
       "30000.0"
      ]
     },
     "execution_count": 80,
     "metadata": {},
     "output_type": "execute_result"
    }
   ],
   "source": [
    "mehul.salary"
   ]
  },
  {
   "cell_type": "code",
   "execution_count": 81,
   "id": "1a15d478-b47e-4612-a0a0-c9f9e1f1065c",
   "metadata": {},
   "outputs": [
    {
     "name": "stdout",
     "output_type": "stream",
     "text": [
      "Promotion applied to Mehul Kumar\n"
     ]
    }
   ],
   "source": [
    "Employee.give_promotion(mehul, appraisal_percentage=0.5 )"
   ]
  },
  {
   "cell_type": "code",
   "execution_count": 82,
   "id": "8a65e13c-d0a0-4f58-b625-29784bd76134",
   "metadata": {},
   "outputs": [
    {
     "data": {
      "text/plain": [
       "45000.0"
      ]
     },
     "execution_count": 82,
     "metadata": {},
     "output_type": "execute_result"
    }
   ],
   "source": [
    "mehul.salary"
   ]
  },
  {
   "cell_type": "code",
   "execution_count": 83,
   "id": "a513b802-1c17-45b0-a2c1-a4ef55e52812",
   "metadata": {},
   "outputs": [
    {
     "name": "stdout",
     "output_type": "stream",
     "text": [
      "Promotion applied to Mehul Kumar\n"
     ]
    }
   ],
   "source": [
    "mehul.give_promotion(appraisal_percentage=0.5)"
   ]
  },
  {
   "cell_type": "code",
   "execution_count": 84,
   "id": "afa9babe-8445-4f43-8806-aac9f9284676",
   "metadata": {},
   "outputs": [
    {
     "data": {
      "text/plain": [
       "67500.0"
      ]
     },
     "execution_count": 84,
     "metadata": {},
     "output_type": "execute_result"
    }
   ],
   "source": [
    "mehul.salary"
   ]
  },
  {
   "cell_type": "code",
   "execution_count": 85,
   "id": "ed44cb96-c1b2-48f9-887c-93abf9608c31",
   "metadata": {},
   "outputs": [
    {
     "ename": "TypeError",
     "evalue": "Employee.give_promotion() missing 1 required positional argument: 'appraisal_percentage'",
     "output_type": "error",
     "traceback": [
      "\u001b[0;31m---------------------------------------------------------------------------\u001b[0m",
      "\u001b[0;31mTypeError\u001b[0m                                 Traceback (most recent call last)",
      "Cell \u001b[0;32mIn[85], line 1\u001b[0m\n\u001b[0;32m----> 1\u001b[0m \u001b[43mmehul\u001b[49m\u001b[38;5;241;43m.\u001b[39;49m\u001b[43mgive_promotion\u001b[49m\u001b[43m(\u001b[49m\u001b[43m)\u001b[49m\n",
      "\u001b[0;31mTypeError\u001b[0m: Employee.give_promotion() missing 1 required positional argument: 'appraisal_percentage'"
     ]
    }
   ],
   "source": [
    "mehul.give_promotion() # only one positional argument needs to be passed here"
   ]
  },
  {
   "cell_type": "code",
   "execution_count": null,
   "id": "04a08205-e909-459f-b263-9e076e9885e2",
   "metadata": {},
   "outputs": [],
   "source": []
  },
  {
   "cell_type": "markdown",
   "id": "1bb65d4b-90e0-443d-a0c9-f89e20929232",
   "metadata": {},
   "source": [
    "## class attributes and class methods"
   ]
  },
  {
   "cell_type": "code",
   "execution_count": 86,
   "id": "f9beef54-ecca-4318-bf9e-5bea6ec085b4",
   "metadata": {},
   "outputs": [],
   "source": [
    "rohan = Employee(\"rohan\", \"HR\", 30000)"
   ]
  },
  {
   "cell_type": "code",
   "execution_count": 88,
   "id": "637ab352-d27c-47a2-b687-a118c8c1bec4",
   "metadata": {},
   "outputs": [
    {
     "data": {
      "text/plain": [
       "'rohan'"
      ]
     },
     "execution_count": 88,
     "metadata": {},
     "output_type": "execute_result"
    }
   ],
   "source": [
    "rohan.name"
   ]
  },
  {
   "cell_type": "code",
   "execution_count": 107,
   "id": "5e614757-9a92-41ad-be78-4c9b7937b447",
   "metadata": {},
   "outputs": [],
   "source": [
    "class Employee:\n",
    "    \n",
    "    organisation_name = \"codeverra\"\n",
    "    \n",
    "    def __init__(self, name, deptt, salary):\n",
    "        # init method, constructor\n",
    "        self.name = name # instance variable\n",
    "        self.deptt = deptt # instance variable\n",
    "        self.salary = salary\n",
    "        \n",
    "    def give_promotion(self, appraisal_percentage): # instance method\n",
    "        new_salary = self.salary * (1 + appraisal_percentage)\n",
    "        self.salary = new_salary\n",
    "        print(f\"Promotion applied to {self.name}\")\n",
    "        \n",
    "    @classmethod  #decorator \n",
    "    def update_organization_name(cls, new_name ): ## class method\n",
    "        cls.organisation_name = new_name\n",
    "        \n",
    "    \n",
    "        "
   ]
  },
  {
   "cell_type": "code",
   "execution_count": 108,
   "id": "1494409a-e44a-4e37-955f-79bfb5087b54",
   "metadata": {},
   "outputs": [],
   "source": [
    "rohan = Employee(\"rohan\", \"HR\", 30000)"
   ]
  },
  {
   "cell_type": "code",
   "execution_count": 92,
   "id": "929b8c3a-7080-48b7-9436-e75872d7b7db",
   "metadata": {},
   "outputs": [
    {
     "data": {
      "text/plain": [
       "'codeverra'"
      ]
     },
     "execution_count": 92,
     "metadata": {},
     "output_type": "execute_result"
    }
   ],
   "source": [
    "Employee.organisation_name"
   ]
  },
  {
   "cell_type": "code",
   "execution_count": 109,
   "id": "ce203064-0e8d-4265-be2f-d09c16ec2fc2",
   "metadata": {},
   "outputs": [],
   "source": []
  },
  {
   "cell_type": "code",
   "execution_count": 111,
   "id": "bef78eca-c7a5-4651-8586-9257130526eb",
   "metadata": {},
   "outputs": [],
   "source": [
    "rohan.organisation_name = \"techverra\""
   ]
  },
  {
   "cell_type": "code",
   "execution_count": 112,
   "id": "71b74134-5df3-4d1c-9224-35c9da540cba",
   "metadata": {},
   "outputs": [],
   "source": [
    "rohan.update_organization_name(\"dataverra2\")"
   ]
  },
  {
   "cell_type": "code",
   "execution_count": 113,
   "id": "37c7c0bc-03ba-4ef9-81cc-6cbeb5e4a882",
   "metadata": {},
   "outputs": [
    {
     "data": {
      "text/plain": [
       "'techverra'"
      ]
     },
     "execution_count": 113,
     "metadata": {},
     "output_type": "execute_result"
    }
   ],
   "source": [
    "rohan.organisation_name"
   ]
  },
  {
   "cell_type": "code",
   "execution_count": null,
   "id": "f1732bea-e023-4d96-ba41-226da4445dbc",
   "metadata": {},
   "outputs": [],
   "source": []
  },
  {
   "cell_type": "code",
   "execution_count": 91,
   "id": "3bb4b1dc-96fd-4cfb-bbb2-7c67e45387c6",
   "metadata": {},
   "outputs": [
    {
     "data": {
      "text/plain": [
       "'codeverra'"
      ]
     },
     "execution_count": 91,
     "metadata": {},
     "output_type": "execute_result"
    }
   ],
   "source": [
    "rohan.organisation_name"
   ]
  },
  {
   "cell_type": "code",
   "execution_count": 93,
   "id": "98b8a3a5-6773-4337-a38d-69e12364cf68",
   "metadata": {},
   "outputs": [
    {
     "data": {
      "text/plain": [
       "{'name': 'rohan', 'deptt': 'HR', 'salary': 30000}"
      ]
     },
     "execution_count": 93,
     "metadata": {},
     "output_type": "execute_result"
    }
   ],
   "source": [
    "rohan.__dict__"
   ]
  },
  {
   "cell_type": "code",
   "execution_count": 94,
   "id": "4d2130f7-587d-4bd8-ab4d-41ad7779fadc",
   "metadata": {},
   "outputs": [
    {
     "data": {
      "text/plain": [
       "mappingproxy({'__module__': '__main__',\n",
       "              'organisation_name': 'codeverra',\n",
       "              '__init__': <function __main__.Employee.__init__(self, name, deptt, salary)>,\n",
       "              'give_promotion': <function __main__.Employee.give_promotion(self, appraisal_percentage)>,\n",
       "              '__dict__': <attribute '__dict__' of 'Employee' objects>,\n",
       "              '__weakref__': <attribute '__weakref__' of 'Employee' objects>,\n",
       "              '__doc__': None})"
      ]
     },
     "execution_count": 94,
     "metadata": {},
     "output_type": "execute_result"
    }
   ],
   "source": [
    "Employee.__dict__"
   ]
  },
  {
   "cell_type": "code",
   "execution_count": null,
   "id": "bc07c208-5100-48b1-9477-6c767bf6044f",
   "metadata": {},
   "outputs": [],
   "source": []
  },
  {
   "cell_type": "code",
   "execution_count": 95,
   "id": "87412feb-5a73-478b-a1f1-3e0c94cda8a5",
   "metadata": {},
   "outputs": [],
   "source": [
    "rohan = Employee(\"rohan\", \"HR\", 30000)\n",
    "mohan = Employee(\"mohan\", \"tech\", 40000)"
   ]
  },
  {
   "cell_type": "code",
   "execution_count": 96,
   "id": "18e1c0c9-1a44-4f38-83f6-25702c02ea31",
   "metadata": {},
   "outputs": [
    {
     "data": {
      "text/plain": [
       "'codeverra'"
      ]
     },
     "execution_count": 96,
     "metadata": {},
     "output_type": "execute_result"
    }
   ],
   "source": [
    "rohan.organisation_name"
   ]
  },
  {
   "cell_type": "code",
   "execution_count": 97,
   "id": "e7c6af27-cf38-4be7-ae49-df41efb5551c",
   "metadata": {},
   "outputs": [
    {
     "data": {
      "text/plain": [
       "{'name': 'rohan', 'deptt': 'HR', 'salary': 30000}"
      ]
     },
     "execution_count": 97,
     "metadata": {},
     "output_type": "execute_result"
    }
   ],
   "source": [
    "rohan.__dict__"
   ]
  },
  {
   "cell_type": "code",
   "execution_count": 98,
   "id": "79c128ad-c072-47ae-9b27-f1ae650abb6a",
   "metadata": {},
   "outputs": [],
   "source": [
    "rohan.organisation_name = \"techverra\""
   ]
  },
  {
   "cell_type": "code",
   "execution_count": 99,
   "id": "e3eeda31-7701-4a82-8239-be7c2c55d91c",
   "metadata": {},
   "outputs": [
    {
     "data": {
      "text/plain": [
       "'techverra'"
      ]
     },
     "execution_count": 99,
     "metadata": {},
     "output_type": "execute_result"
    }
   ],
   "source": [
    "rohan.organisation_name"
   ]
  },
  {
   "cell_type": "code",
   "execution_count": 102,
   "id": "2bdae1e3-d884-4c71-961d-55be5f6898bc",
   "metadata": {},
   "outputs": [
    {
     "data": {
      "text/plain": [
       "{'name': 'rohan',\n",
       " 'deptt': 'HR',\n",
       " 'salary': 30000,\n",
       " 'organisation_name': 'techverra'}"
      ]
     },
     "execution_count": 102,
     "metadata": {},
     "output_type": "execute_result"
    }
   ],
   "source": [
    "rohan.__dict__"
   ]
  },
  {
   "cell_type": "code",
   "execution_count": 103,
   "id": "20b31d12-d545-43ce-982b-8077dc6dc3ad",
   "metadata": {},
   "outputs": [
    {
     "data": {
      "text/plain": [
       "{'name': 'mohan', 'deptt': 'tech', 'salary': 40000}"
      ]
     },
     "execution_count": 103,
     "metadata": {},
     "output_type": "execute_result"
    }
   ],
   "source": [
    "mohan.__dict__"
   ]
  },
  {
   "cell_type": "code",
   "execution_count": 101,
   "id": "35139400-eb82-4545-a2cd-0a5819b099fa",
   "metadata": {},
   "outputs": [
    {
     "data": {
      "text/plain": [
       "'codeverra'"
      ]
     },
     "execution_count": 101,
     "metadata": {},
     "output_type": "execute_result"
    }
   ],
   "source": [
    "mohan.organisation_name"
   ]
  },
  {
   "cell_type": "code",
   "execution_count": 104,
   "id": "e7e871eb-3276-40e1-a6e1-185d4473400a",
   "metadata": {},
   "outputs": [],
   "source": [
    "Employee.organisation_name = \"dataverra\""
   ]
  },
  {
   "cell_type": "code",
   "execution_count": 105,
   "id": "28c8f701-54bd-493c-8c15-67eb854e2a1b",
   "metadata": {},
   "outputs": [
    {
     "data": {
      "text/plain": [
       "'dataverra'"
      ]
     },
     "execution_count": 105,
     "metadata": {},
     "output_type": "execute_result"
    }
   ],
   "source": [
    "mohan.organisation_name"
   ]
  },
  {
   "cell_type": "code",
   "execution_count": 106,
   "id": "be02e8dc-d61f-4aca-815f-5fb532de8c1e",
   "metadata": {},
   "outputs": [
    {
     "data": {
      "text/plain": [
       "'techverra'"
      ]
     },
     "execution_count": 106,
     "metadata": {},
     "output_type": "execute_result"
    }
   ],
   "source": [
    "rohan.organisation_name"
   ]
  },
  {
   "cell_type": "code",
   "execution_count": null,
   "id": "8cbc41a2-6ea5-46ba-9e11-79b739321df5",
   "metadata": {},
   "outputs": [],
   "source": []
  },
  {
   "cell_type": "code",
   "execution_count": 114,
   "id": "b752d670-5e2e-49a5-860e-4a3079f3f04f",
   "metadata": {},
   "outputs": [],
   "source": [
    "mohan = Employee(\"mohan\", \"tech\", 40000)"
   ]
  },
  {
   "cell_type": "code",
   "execution_count": 115,
   "id": "146d7e63-e948-4929-83b8-404c51fc6321",
   "metadata": {},
   "outputs": [
    {
     "data": {
      "text/plain": [
       "'dataverra2'"
      ]
     },
     "execution_count": 115,
     "metadata": {},
     "output_type": "execute_result"
    }
   ],
   "source": [
    "mohan.organisation_name"
   ]
  },
  {
   "cell_type": "code",
   "execution_count": 116,
   "id": "cfc311eb-f987-4f95-93fc-08f5f7b3e016",
   "metadata": {},
   "outputs": [],
   "source": [
    "rohan.update_organization_name(\"techverra123\")"
   ]
  },
  {
   "cell_type": "code",
   "execution_count": 117,
   "id": "e13db0d0-0643-4f7f-b699-a9bbe00d7823",
   "metadata": {},
   "outputs": [
    {
     "data": {
      "text/plain": [
       "'techverra'"
      ]
     },
     "execution_count": 117,
     "metadata": {},
     "output_type": "execute_result"
    }
   ],
   "source": [
    "rohan.organisation_name"
   ]
  },
  {
   "cell_type": "code",
   "execution_count": 118,
   "id": "c50df1af-5d21-4d7f-80f3-dbadb5f81438",
   "metadata": {},
   "outputs": [
    {
     "data": {
      "text/plain": [
       "'techverra123'"
      ]
     },
     "execution_count": 118,
     "metadata": {},
     "output_type": "execute_result"
    }
   ],
   "source": [
    "mohan.organisation_name"
   ]
  },
  {
   "cell_type": "code",
   "execution_count": null,
   "id": "9eba83b6-0b15-4c89-bb49-59653119cb23",
   "metadata": {},
   "outputs": [],
   "source": []
  },
  {
   "cell_type": "code",
   "execution_count": 119,
   "id": "75b895b0-c803-4e0d-a539-4059ae3dba7a",
   "metadata": {},
   "outputs": [],
   "source": [
    "Employee.update_organization_name(\"datavera_xyz\")"
   ]
  },
  {
   "cell_type": "code",
   "execution_count": 120,
   "id": "484207bb-6f26-4447-a4b6-245dba97aa77",
   "metadata": {},
   "outputs": [
    {
     "data": {
      "text/plain": [
       "'datavera_xyz'"
      ]
     },
     "execution_count": 120,
     "metadata": {},
     "output_type": "execute_result"
    }
   ],
   "source": [
    "mohan.organisation_name"
   ]
  },
  {
   "cell_type": "code",
   "execution_count": null,
   "id": "9185d7a0-ac88-4b5e-ac94-5b7b6971ac07",
   "metadata": {},
   "outputs": [],
   "source": []
  },
  {
   "cell_type": "code",
   "execution_count": 121,
   "id": "7082592e-0e63-4e05-8a30-6b3abfd8ed0d",
   "metadata": {},
   "outputs": [],
   "source": [
    "rohan.update_organization_name(\"techverra_abc\")"
   ]
  },
  {
   "cell_type": "code",
   "execution_count": 122,
   "id": "f110f934-d2b7-460c-9b29-b8de979f2537",
   "metadata": {},
   "outputs": [
    {
     "data": {
      "text/plain": [
       "'techverra_abc'"
      ]
     },
     "execution_count": 122,
     "metadata": {},
     "output_type": "execute_result"
    }
   ],
   "source": [
    "mohan.organisation_name"
   ]
  },
  {
   "cell_type": "code",
   "execution_count": 123,
   "id": "e18c6c10-2f30-43a6-8860-2dc22fa16b02",
   "metadata": {},
   "outputs": [
    {
     "data": {
      "text/plain": [
       "'techverra'"
      ]
     },
     "execution_count": 123,
     "metadata": {},
     "output_type": "execute_result"
    }
   ],
   "source": [
    "rohan.organisation_name"
   ]
  },
  {
   "cell_type": "code",
   "execution_count": 124,
   "id": "1bd3de52-204b-4a54-a4e3-bf0d300985c9",
   "metadata": {},
   "outputs": [],
   "source": [
    "del rohan.organisation_name"
   ]
  },
  {
   "cell_type": "code",
   "execution_count": 125,
   "id": "febdb947-5c83-4ca1-918a-019b1df80d1b",
   "metadata": {},
   "outputs": [
    {
     "data": {
      "text/plain": [
       "'techverra_abc'"
      ]
     },
     "execution_count": 125,
     "metadata": {},
     "output_type": "execute_result"
    }
   ],
   "source": [
    "rohan.organisation_name"
   ]
  },
  {
   "cell_type": "code",
   "execution_count": null,
   "id": "5a33dd20-56da-42b5-baf0-0d3c0355cd32",
   "metadata": {},
   "outputs": [],
   "source": []
  },
  {
   "cell_type": "code",
   "execution_count": null,
   "id": "34005cdf-98b9-4401-827d-47f546821f9f",
   "metadata": {},
   "outputs": [],
   "source": []
  },
  {
   "cell_type": "code",
   "execution_count": null,
   "id": "cd54a11a-9935-4f11-8133-57f78197e8ec",
   "metadata": {},
   "outputs": [],
   "source": []
  },
  {
   "cell_type": "markdown",
   "id": "563ad91d-f63f-44f6-8107-9e8e863e8460",
   "metadata": {},
   "source": [
    "    Methods:\n",
    "            - instance method\n",
    "            - class method\n",
    "            - static method"
   ]
  },
  {
   "cell_type": "code",
   "execution_count": null,
   "id": "8540dc33-cb55-4910-8901-303a5cbcd241",
   "metadata": {},
   "outputs": [],
   "source": []
  },
  {
   "cell_type": "code",
   "execution_count": null,
   "id": "b4087463-b5e5-4ba9-a124-463d8151df44",
   "metadata": {},
   "outputs": [],
   "source": []
  },
  {
   "cell_type": "markdown",
   "id": "321b8c80-8f76-46a0-8eca-561218b5bac0",
   "metadata": {},
   "source": [
    "## staticmethods"
   ]
  },
  {
   "cell_type": "code",
   "execution_count": 186,
   "id": "0d05b04f-b63a-42bf-8079-3f28d099cef8",
   "metadata": {},
   "outputs": [],
   "source": [
    "class Employee:\n",
    "    \n",
    "    organisation_name = \"codeverra\"\n",
    "    \n",
    "    def __init__(self, name, deptt, salary, dob):\n",
    "        # init method, constructor\n",
    "        self.name = name # instance variable\n",
    "        self.deptt = deptt # instance variable\n",
    "        self.salary = salary\n",
    "        self.dob = dob\n",
    "        self.email = self.get_email(self.name, self.organisation_name)\n",
    "        # self.email = self.get_email()\n",
    "        self.age = self.get_age(self.dob)\n",
    "        self.tax_percentage = 0.3\n",
    "        self.tax = self.calculate_tax(self.salary, self.tax_percentage)\n",
    "        \n",
    "    def give_promotion(self, appraisal_percentage): # instance method\n",
    "        new_salary = self.salary * (1 + appraisal_percentage)\n",
    "        self.salary = new_salary\n",
    "        print(f\"Promotion applied to {self.name}\")\n",
    "        \n",
    "    @classmethod  #decorator \n",
    "    def update_organization_name(cls, new_name ): ## class method\n",
    "        cls.organisation_name = new_name\n",
    "        \n",
    "    @staticmethod\n",
    "    def get_email(name, organisation_name):\n",
    "        email = f\"{name}@{organisation_name}.com\"\n",
    "        return email\n",
    "    \n",
    "    # def get_email(self):\n",
    "    #     email = f\"{self.name}@{self.organisation_name}.com\"\n",
    "    #     return email\n",
    "    \n",
    "    \n",
    "    @staticmethod\n",
    "    def get_age(dob):\n",
    "        current_year = datetime.datetime.now().year\n",
    "        year_of_birth = datetime.datetime.strptime( dob ,  \"%Y-%m-%d\").year\n",
    "        return current_year - year_of_birth\n",
    "    \n",
    "    @staticmethod\n",
    "    def calculate_tax(salary, tax_percentage):\n",
    "        tax = salary * tax_percentage\n",
    "\n",
    "        return tax\n",
    "    \n",
    "        \n",
    "    \n",
    "    "
   ]
  },
  {
   "cell_type": "code",
   "execution_count": 158,
   "id": "60b0cf02-f51b-498d-9b32-b1a547c3ab37",
   "metadata": {},
   "outputs": [
    {
     "data": {
      "text/plain": [
       "2025"
      ]
     },
     "execution_count": 158,
     "metadata": {},
     "output_type": "execute_result"
    }
   ],
   "source": [
    "datetime.datetime.strptime( \"2025-12-15\" ,  \"%Y-%m-%d\").year"
   ]
  },
  {
   "cell_type": "code",
   "execution_count": null,
   "id": "516578e4-ee14-44ff-bb5b-31e5db0f7e02",
   "metadata": {},
   "outputs": [],
   "source": []
  },
  {
   "cell_type": "code",
   "execution_count": 147,
   "id": "82460abb-130a-495f-8361-1a9e9055ddf4",
   "metadata": {},
   "outputs": [
    {
     "data": {
      "text/plain": [
       "2025"
      ]
     },
     "execution_count": 147,
     "metadata": {},
     "output_type": "execute_result"
    }
   ],
   "source": [
    "import datetime\n",
    "\n",
    "datetime.datetime.now().year\n"
   ]
  },
  {
   "cell_type": "code",
   "execution_count": null,
   "id": "b929e7a7-2a42-4e4c-8204-bb57fd5b1013",
   "metadata": {},
   "outputs": [],
   "source": []
  },
  {
   "cell_type": "code",
   "execution_count": null,
   "id": "99005ce3-1bb2-44f5-ba33-28c021e26bf4",
   "metadata": {},
   "outputs": [],
   "source": []
  },
  {
   "cell_type": "code",
   "execution_count": 161,
   "id": "26eea59a-5166-480a-a13c-c6724524bf5f",
   "metadata": {},
   "outputs": [],
   "source": [
    "def get_age(dob):\n",
    "    current_year = datetime.datetime.now().year\n",
    "    year_of_birth = datetime.datetime.strptime( dob ,  \"%Y-%m-%d\").year\n",
    "    return current_year - year_of_birth\n",
    "    "
   ]
  },
  {
   "cell_type": "code",
   "execution_count": 162,
   "id": "59bad128-d89c-49ea-b19f-a2a3596033d5",
   "metadata": {},
   "outputs": [
    {
     "data": {
      "text/plain": [
       "31"
      ]
     },
     "execution_count": 162,
     "metadata": {},
     "output_type": "execute_result"
    }
   ],
   "source": [
    "get_age(\"1994-06-23\")"
   ]
  },
  {
   "cell_type": "code",
   "execution_count": null,
   "id": "3356cf0e-7ece-4c7b-b04f-a86101d384c4",
   "metadata": {},
   "outputs": [],
   "source": []
  },
  {
   "cell_type": "code",
   "execution_count": null,
   "id": "0e0c0d7e-dc4b-46a8-8fe2-b724eb9525dc",
   "metadata": {},
   "outputs": [],
   "source": []
  },
  {
   "cell_type": "code",
   "execution_count": null,
   "id": "5ccaeafe-cbc4-48ee-8416-fd63535063b5",
   "metadata": {},
   "outputs": [],
   "source": []
  },
  {
   "cell_type": "code",
   "execution_count": 187,
   "id": "9412a026-fb8c-48fc-9715-7ea3ec47792c",
   "metadata": {},
   "outputs": [],
   "source": [
    "rohan = Employee(\"rohan sharma\", \"tech\", 50000, \"2001-11-15\")"
   ]
  },
  {
   "cell_type": "code",
   "execution_count": 174,
   "id": "9e5a7f7d-3c33-4ec7-bdfd-0fb371504108",
   "metadata": {},
   "outputs": [
    {
     "data": {
      "text/plain": [
       "'rohan sharma@codeverra.com'"
      ]
     },
     "execution_count": 174,
     "metadata": {},
     "output_type": "execute_result"
    }
   ],
   "source": [
    "rohan.email"
   ]
  },
  {
   "cell_type": "code",
   "execution_count": 175,
   "id": "2d0bf557-f539-4ed4-aed0-85510db27512",
   "metadata": {},
   "outputs": [
    {
     "data": {
      "text/plain": [
       "24"
      ]
     },
     "execution_count": 175,
     "metadata": {},
     "output_type": "execute_result"
    }
   ],
   "source": [
    "rohan.age"
   ]
  },
  {
   "cell_type": "code",
   "execution_count": 176,
   "id": "befbfa43-c7c6-41a9-aad2-d05e8be700cf",
   "metadata": {},
   "outputs": [
    {
     "data": {
      "text/plain": [
       "24"
      ]
     },
     "execution_count": 176,
     "metadata": {},
     "output_type": "execute_result"
    }
   ],
   "source": [
    "rohan.get_age(rohan.dob)"
   ]
  },
  {
   "cell_type": "code",
   "execution_count": 177,
   "id": "d881c1c7-0f9b-43cd-92f2-ab729571d68f",
   "metadata": {},
   "outputs": [
    {
     "data": {
      "text/plain": [
       "24"
      ]
     },
     "execution_count": 177,
     "metadata": {},
     "output_type": "execute_result"
    }
   ],
   "source": [
    "Employee.get_age(rohan.dob)"
   ]
  },
  {
   "cell_type": "code",
   "execution_count": 188,
   "id": "6caf01d9-341f-4eac-9f72-f1cc6db6fd3a",
   "metadata": {},
   "outputs": [
    {
     "data": {
      "text/plain": [
       "15000.0"
      ]
     },
     "execution_count": 188,
     "metadata": {},
     "output_type": "execute_result"
    }
   ],
   "source": [
    "Employee.calculate_tax(rohan.salary, 0.3)"
   ]
  },
  {
   "cell_type": "code",
   "execution_count": 189,
   "id": "1c1a1980-d86c-4fbe-a7de-56acfd9a2d6b",
   "metadata": {},
   "outputs": [
    {
     "data": {
      "text/plain": [
       "15000.0"
      ]
     },
     "execution_count": 189,
     "metadata": {},
     "output_type": "execute_result"
    }
   ],
   "source": [
    "rohan.tax"
   ]
  },
  {
   "cell_type": "code",
   "execution_count": 190,
   "id": "c1fb7717-9d0d-424e-9908-b21c664ab9ac",
   "metadata": {},
   "outputs": [
    {
     "data": {
      "text/plain": [
       "15000.0"
      ]
     },
     "execution_count": 190,
     "metadata": {},
     "output_type": "execute_result"
    }
   ],
   "source": [
    "rohan.calculate_tax(rohan.salary, 0.3)"
   ]
  },
  {
   "cell_type": "code",
   "execution_count": null,
   "id": "92f3e7ad-cdee-485f-9e83-ee36674ea62f",
   "metadata": {},
   "outputs": [],
   "source": []
  },
  {
   "cell_type": "code",
   "execution_count": null,
   "id": "6de3e993-17e7-4f5b-b00f-dec54a051f14",
   "metadata": {},
   "outputs": [],
   "source": []
  },
  {
   "cell_type": "code",
   "execution_count": null,
   "id": "568d5298-1889-4715-8a82-d87f2bf377cc",
   "metadata": {},
   "outputs": [],
   "source": []
  },
  {
   "cell_type": "code",
   "execution_count": null,
   "id": "169a5f14-b30f-4498-8177-af8e63f75a5e",
   "metadata": {},
   "outputs": [],
   "source": []
  },
  {
   "cell_type": "code",
   "execution_count": null,
   "id": "c1870c79-0ead-4361-8270-62288852f690",
   "metadata": {},
   "outputs": [],
   "source": []
  },
  {
   "cell_type": "code",
   "execution_count": null,
   "id": "261c7162-8906-488e-a6a4-3f593d62d995",
   "metadata": {},
   "outputs": [],
   "source": []
  },
  {
   "cell_type": "code",
   "execution_count": null,
   "id": "e3d70efa-1076-40cf-b068-f6e54afd70ce",
   "metadata": {},
   "outputs": [],
   "source": []
  },
  {
   "cell_type": "code",
   "execution_count": null,
   "id": "4fe8e166-0c06-4a1f-bbfd-915422d870d1",
   "metadata": {},
   "outputs": [],
   "source": []
  },
  {
   "cell_type": "code",
   "execution_count": null,
   "id": "c4b74d9d-a728-4a03-816f-bd73ff27d276",
   "metadata": {},
   "outputs": [],
   "source": []
  },
  {
   "cell_type": "code",
   "execution_count": null,
   "id": "4ab7070d-4d1d-4a42-b5ed-9c12fc449eaf",
   "metadata": {},
   "outputs": [],
   "source": []
  },
  {
   "cell_type": "code",
   "execution_count": null,
   "id": "f4301845-2db9-41ba-b027-c1b1e2d84a0b",
   "metadata": {},
   "outputs": [],
   "source": []
  },
  {
   "cell_type": "code",
   "execution_count": null,
   "id": "3bf98b04-d478-4b63-8087-c35ae26626a9",
   "metadata": {},
   "outputs": [],
   "source": []
  }
 ],
 "metadata": {
  "kernelspec": {
   "display_name": "Python 3 (ipykernel)",
   "language": "python",
   "name": "python3"
  },
  "language_info": {
   "codemirror_mode": {
    "name": "ipython",
    "version": 3
   },
   "file_extension": ".py",
   "mimetype": "text/x-python",
   "name": "python",
   "nbconvert_exporter": "python",
   "pygments_lexer": "ipython3",
   "version": "3.10.8"
  }
 },
 "nbformat": 4,
 "nbformat_minor": 5
}
