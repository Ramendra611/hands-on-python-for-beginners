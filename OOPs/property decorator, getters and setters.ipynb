{
 "cells": [
  {
   "cell_type": "markdown",
   "id": "16ef72c3-a066-456a-bded-4c48d3a0ee3e",
   "metadata": {},
   "source": [
    "# Property Decorator in Python\n",
    "\n",
    "The `@property` decorator is a built-in decorator in Python that allows you to define methods that can be accessed like attributes, enabling controlled access to instance variables. It is part of Python's **property** mechanism, which helps in implementing **getters**, **setters**, and **deleters** in an elegant way.\n",
    "\n",
    "---\n",
    "\n",
    "## Why Use `@property`?\n",
    "- **Readability and Encapsulation**: Control how attributes are accessed or modified.\n",
    "- **Validation**: Ensure that only valid data is assigned to attributes.\n",
    "- **Computed Attributes**: Dynamically compute attribute values.\n",
    "- **Backward Compatibility**: Modify internal logic without changing the external interface.\n",
    "- **Lazy Computation**: Defer expensive computations until they are actually needed.\n",
    "- **Caching**: Store computed values for reuse to avoid repeated expensive operations.\n",
    "\n",
    "\n",
    "---\n"
   ]
  },
  {
   "cell_type": "code",
   "execution_count": 65,
   "id": "d2075890-3c74-4f81-8fb4-92712482821b",
   "metadata": {},
   "outputs": [],
   "source": [
    "class Employee():\n",
    "\n",
    "    organization_name = \"codeverra\"\n",
    "    \n",
    "    def __init__( self, emp_name, emp_deptt, emp_dob):\n",
    "        self.name = emp_name\n",
    "        self.deptt = emp_deptt\n",
    "        self.dob = emp_dob\n",
    "        # self.email = self.get_email()\n",
    "\n",
    "    @property  # getter\n",
    "    def email(self): # this becomes like an attribute\n",
    "        return self.name.lower() + \"@\" + \"gmail.com\"\n",
    "\n",
    "    @email.setter\n",
    "    def email(self, value):\n",
    "        print(\"You are not allowed to update the email. Email is automatically calculated using the name!!!\")\n",
    " \n",
    "    @email.deleter\n",
    "    def email(self):\n",
    "        print(\"Deleting the email!!!\")\n",
    "        # self.email = None\n",
    "    \n",
    "    \n",
    "    # def get_email(self): # instance method\n",
    "    #     email = self.name.lower() + \"@\" + \"gmail.com\"\n",
    "    #     return email\n",
    "\n"
   ]
  },
  {
   "cell_type": "code",
   "execution_count": 58,
   "id": "6941089c-8f71-4eda-84e8-6a73be844bc2",
   "metadata": {},
   "outputs": [],
   "source": [
    "rohan = Employee( \"Rohan\",\"Finance\", \"1995-09-08\" )\n",
    "kiran = Employee( \"Kiran\",\"HR\", \"1990-10-18\" )"
   ]
  },
  {
   "cell_type": "code",
   "execution_count": 59,
   "id": "423ebd04-0c93-40a6-9ba4-647ff07470c0",
   "metadata": {},
   "outputs": [
    {
     "data": {
      "text/plain": [
       "('Rohan', 'rohan@gmail.com')"
      ]
     },
     "execution_count": 59,
     "metadata": {},
     "output_type": "execute_result"
    }
   ],
   "source": [
    "rohan.name, rohan.email"
   ]
  },
  {
   "cell_type": "code",
   "execution_count": 60,
   "id": "975457d4-53a6-4a6c-a838-e98ed471df24",
   "metadata": {},
   "outputs": [],
   "source": [
    "rohan.name = \"Mohan\""
   ]
  },
  {
   "cell_type": "code",
   "execution_count": 61,
   "id": "e89a4fb7-65e2-4023-8bdd-ee6bd0034f84",
   "metadata": {},
   "outputs": [
    {
     "data": {
      "text/plain": [
       "('Mohan', 'mohan@gmail.com')"
      ]
     },
     "execution_count": 61,
     "metadata": {},
     "output_type": "execute_result"
    }
   ],
   "source": [
    "rohan.name, rohan.email"
   ]
  },
  {
   "cell_type": "code",
   "execution_count": 62,
   "id": "c8445f64-db10-4a2d-a4bc-ecc64b3fcdcc",
   "metadata": {},
   "outputs": [
    {
     "name": "stdout",
     "output_type": "stream",
     "text": [
      "You are not allowed to update the email. Email is automatically calculated using the name!!!\n"
     ]
    }
   ],
   "source": [
    "rohan.email = \"apple\""
   ]
  },
  {
   "cell_type": "code",
   "execution_count": 63,
   "id": "613a9a6d-0a36-4644-b364-f1cbf89cbfbb",
   "metadata": {},
   "outputs": [
    {
     "name": "stdout",
     "output_type": "stream",
     "text": [
      "Deleting the email!!!\n"
     ]
    }
   ],
   "source": [
    "del rohan.email"
   ]
  },
  {
   "cell_type": "code",
   "execution_count": 64,
   "id": "6d79ca17-a324-4f2c-bd84-c36f34dac4d9",
   "metadata": {},
   "outputs": [
    {
     "data": {
      "text/plain": [
       "'mohan@gmail.com'"
      ]
     },
     "execution_count": 64,
     "metadata": {},
     "output_type": "execute_result"
    }
   ],
   "source": [
    "rohan.email"
   ]
  },
  {
   "cell_type": "code",
   "execution_count": 41,
   "id": "94c383fd-c8b0-4315-8792-5df036e1e530",
   "metadata": {},
   "outputs": [
    {
     "data": {
      "text/plain": [
       "False"
      ]
     },
     "execution_count": 41,
     "metadata": {},
     "output_type": "execute_result"
    }
   ],
   "source": [
    "\"123\".isalpha()"
   ]
  },
  {
   "cell_type": "code",
   "execution_count": null,
   "id": "17e3754d-08ac-4da2-9d4c-84e0e0b7d966",
   "metadata": {},
   "outputs": [],
   "source": []
  },
  {
   "cell_type": "code",
   "execution_count": null,
   "id": "6f01888b-5272-442e-8ef2-d786a8ea3038",
   "metadata": {},
   "outputs": [],
   "source": []
  },
  {
   "cell_type": "code",
   "execution_count": null,
   "id": "0c168e23-8a41-41af-a51b-c159dc84b4cf",
   "metadata": {},
   "outputs": [],
   "source": []
  },
  {
   "cell_type": "code",
   "execution_count": null,
   "id": "4b98b6de-18f5-4444-9abf-471a68e9f211",
   "metadata": {},
   "outputs": [],
   "source": []
  },
  {
   "cell_type": "code",
   "execution_count": null,
   "id": "46c14824-ebd2-4d6d-8934-5420f21d9c0e",
   "metadata": {},
   "outputs": [],
   "source": []
  },
  {
   "cell_type": "code",
   "execution_count": null,
   "id": "c34d482a-a600-4cf0-b085-980eea3062f7",
   "metadata": {},
   "outputs": [],
   "source": []
  },
  {
   "cell_type": "code",
   "execution_count": null,
   "id": "0b2909af-159d-40d7-a226-be99fe3e4770",
   "metadata": {},
   "outputs": [],
   "source": []
  },
  {
   "cell_type": "code",
   "execution_count": null,
   "id": "eb69dcbb-d5c7-4442-bf67-681f5433b7e0",
   "metadata": {},
   "outputs": [],
   "source": [
    "# old code\n",
    "class Employee():\n",
    "\n",
    "    organization_name = \"codeverra\"\n",
    "    \n",
    "    def __init__( self, emp_name, emp_deptt, emp_dob):\n",
    "        self.name = emp_name\n",
    "        self.deptt = emp_deptt\n",
    "        self.dob = emp_dob\n",
    "        # self.email = self.get_email()\n",
    "\n",
    "    @property  # getter\n",
    "    def email(self): # this becomes like an attribute\n",
    "        return self.name.lower() + \"@\" + \"gmail.com\"\n",
    "\n",
    "    @email.setter\n",
    "    def email(self, value):\n",
    "        print(\"You are not allowed to update the email. Email is automatically calculated using the name!!!\")\n",
    " \n",
    "    @email.deleter\n",
    "    def email(self):\n",
    "        print(\"Deleting the email!!!\")\n",
    "        # self.email = None\n",
    "    \n",
    "    \n",
    "    # def get_email(self): # instance method\n",
    "    #     email = self.name.lower() + \"@\" + \"gmail.com\"\n",
    "    #     return email\n",
    "\n"
   ]
  },
  {
   "cell_type": "code",
   "execution_count": 107,
   "id": "52ac66f9-3d58-4499-a671-31a71b1377af",
   "metadata": {},
   "outputs": [
    {
     "data": {
      "text/plain": [
       "'Rohan'"
      ]
     },
     "execution_count": 107,
     "metadata": {},
     "output_type": "execute_result"
    }
   ],
   "source": [
    "rohan = Employee( \"Rohan\",\"Finance\", \"1995-09-08\" )\n",
    "rohan.name"
   ]
  },
  {
   "cell_type": "code",
   "execution_count": null,
   "id": "2d10635b-d978-4ad3-8b2d-623ca50a4fc8",
   "metadata": {},
   "outputs": [],
   "source": [
    "rohan.get_name()"
   ]
  },
  {
   "cell_type": "code",
   "execution_count": null,
   "id": "d7835e09-7cb1-4886-8f76-7a62ea943517",
   "metadata": {},
   "outputs": [],
   "source": []
  },
  {
   "cell_type": "code",
   "execution_count": 111,
   "id": "fa4b593e-4fb0-4c9d-8852-416ab1ffecf1",
   "metadata": {},
   "outputs": [],
   "source": [
    "# new code\n",
    "class Employee():\n",
    "\n",
    "    organization_name = \"codeverra\"\n",
    "    \n",
    "    def __init__( self, emp_name, emp_deptt, emp_dob):\n",
    "        self.name = emp_name\n",
    "        self.deptt = emp_deptt\n",
    "        self.dob = emp_dob\n",
    "        # self.email = self.get_email()\n",
    "\n",
    "    def get_name(self):\n",
    "        return self.name\n",
    "\n",
    "    @property  # getter\n",
    "    def email(self): # this becomes like an attribute\n",
    "        return self.name.lower() + \"@\" + \"gmail.com\"\n",
    "\n",
    "    @email.setter\n",
    "    def email(self, value):\n",
    "        print(\"You are not allowed to update the email. Email is automatically calculated using the name!!!\")\n",
    " \n",
    "    @email.deleter\n",
    "    def email(self):\n",
    "        print(\"Deleting the email!!!\")\n",
    "        # self.email = None\n",
    "    \n",
    "    \n",
    "    # def get_email(self): # instance method\n",
    "    #     email = self.name.lower() + \"@\" + \"gmail.com\"\n",
    "    #     return email\n",
    "\n"
   ]
  },
  {
   "cell_type": "code",
   "execution_count": 112,
   "id": "5ce4200e-72bc-4205-b194-1f7059dfedee",
   "metadata": {},
   "outputs": [
    {
     "data": {
      "text/plain": [
       "'Rohan'"
      ]
     },
     "execution_count": 112,
     "metadata": {},
     "output_type": "execute_result"
    }
   ],
   "source": [
    "rohan = Employee( \"Rohan\",\"Finance\", \"1995-09-08\" )\n",
    "rohan.name"
   ]
  },
  {
   "cell_type": "code",
   "execution_count": null,
   "id": "11d2b5bc-bd93-4111-bf3e-c2888a52f56b",
   "metadata": {},
   "outputs": [],
   "source": []
  },
  {
   "cell_type": "markdown",
   "id": "0d0883c4-8f1f-4c44-b645-f99c1d2019e2",
   "metadata": {},
   "source": [
    "### data validation in setter"
   ]
  },
  {
   "cell_type": "code",
   "execution_count": 134,
   "id": "4f1e5da2-df98-4f4b-b4b5-0434f8728b77",
   "metadata": {},
   "outputs": [],
   "source": [
    "class Employee():\n",
    "\n",
    "    organization_name = \"codeverra\"\n",
    "    \n",
    "    def __init__( self, emp_name, emp_deptt, emp_dob):\n",
    "        self.name = emp_name\n",
    "        self.deptt = emp_deptt\n",
    "        self.dob = emp_dob\n",
    "        # self.email = self.get_email()\n",
    "\n",
    "    @property  # getter\n",
    "    def name(self):\n",
    "        return self._name  # protected variables\n",
    "\n",
    "    @name.setter  # setter\n",
    "    def name(self, value): # this function is going to control what happens when we set a value to name\n",
    "        '''\n",
    "        Only valid names will be set to name\n",
    "        valid name will not contain any numbers and will be less than 10 characters\n",
    "        '''\n",
    "        if  not value.isalpha():\n",
    "            raise Exception(\"Invalid name: name can not contain numbers\")\n",
    "        elif len(value) > 10:\n",
    "            raise Exception(\"Invalid name : name must be less than 10 characters\")\n",
    "\n",
    "        self._name = value\n",
    "\n",
    "    @name.deleter\n",
    "    def name(self):\n",
    "        print(\"Deleting the name ....\")\n",
    "        self._name = None\n",
    "\n",
    "    \n",
    "    @property  # getter\n",
    "    def email(self): # this becomes like an attribute\n",
    "        return self.name.lower() + \"@\" + \"gmail.com\"\n",
    "    \n",
    "    @email.setter\n",
    "    def email(self, value):\n",
    "        print(\"You are not allowed to update the email. Email is automatically calculated using the name!!!\")\n",
    " \n",
    "    @email.deleter\n",
    "    def email(self):\n",
    "        print(\"Deleting the email!!!\")\n",
    "        # self.email = None\n",
    "    \n",
    "    \n",
    "    # def get_email(self): # instance method\n",
    "    #     email = self.name.lower() + \"@\" + \"gmail.com\"\n",
    "    #     return email\n",
    "\n"
   ]
  },
  {
   "cell_type": "code",
   "execution_count": 135,
   "id": "b01f8c9a-037f-4de5-96cf-428a10a23302",
   "metadata": {},
   "outputs": [
    {
     "data": {
      "text/plain": [
       "'Rohan'"
      ]
     },
     "execution_count": 135,
     "metadata": {},
     "output_type": "execute_result"
    }
   ],
   "source": [
    "rohan = Employee( \"Rohan\",\"Finance\", \"1995-09-08\" )\n",
    "rohan.name"
   ]
  },
  {
   "cell_type": "code",
   "execution_count": 136,
   "id": "4fb33178-3415-4e9f-b0b9-69da7560455b",
   "metadata": {},
   "outputs": [
    {
     "data": {
      "text/plain": [
       "'Rohan'"
      ]
     },
     "execution_count": 136,
     "metadata": {},
     "output_type": "execute_result"
    }
   ],
   "source": [
    "rohan.name"
   ]
  },
  {
   "cell_type": "code",
   "execution_count": 137,
   "id": "93fa3aa2-a2b4-4b41-9df1-73eb396403a2",
   "metadata": {},
   "outputs": [
    {
     "name": "stdout",
     "output_type": "stream",
     "text": [
      "Deleting the name ....\n"
     ]
    }
   ],
   "source": [
    "del rohan.name"
   ]
  },
  {
   "cell_type": "code",
   "execution_count": 140,
   "id": "cc6a27b0-759b-443f-8cd6-87964f2476d3",
   "metadata": {},
   "outputs": [],
   "source": [
    "rohan.name "
   ]
  },
  {
   "cell_type": "code",
   "execution_count": 144,
   "id": "4a576f9d-e149-4a21-a5ef-574cc3f0b731",
   "metadata": {},
   "outputs": [],
   "source": [
    "rohan.name =\"RohanKumar\""
   ]
  },
  {
   "cell_type": "code",
   "execution_count": 145,
   "id": "31ec9540-49d8-4c91-9add-abc9aca35960",
   "metadata": {},
   "outputs": [
    {
     "data": {
      "text/plain": [
       "('RohanKumar', 'rohankumar@gmail.com')"
      ]
     },
     "execution_count": 145,
     "metadata": {},
     "output_type": "execute_result"
    }
   ],
   "source": [
    "rohan.name , rohan.email"
   ]
  },
  {
   "cell_type": "code",
   "execution_count": null,
   "id": "122b72b5-7dd6-4a2d-9342-30ca863180df",
   "metadata": {},
   "outputs": [],
   "source": []
  },
  {
   "cell_type": "code",
   "execution_count": null,
   "id": "fb6346cd-370c-46cb-81f7-de74c7f6319e",
   "metadata": {},
   "outputs": [],
   "source": []
  },
  {
   "cell_type": "code",
   "execution_count": 77,
   "id": "2b16bec6-bf77-4643-8aef-7625380e5771",
   "metadata": {},
   "outputs": [],
   "source": [
    "rohan.name = \"Rahul\""
   ]
  },
  {
   "cell_type": "code",
   "execution_count": 78,
   "id": "a21afd10-f287-4ed4-bfa3-ea1eba7e0b85",
   "metadata": {},
   "outputs": [
    {
     "data": {
      "text/plain": [
       "'Rahul'"
      ]
     },
     "execution_count": 78,
     "metadata": {},
     "output_type": "execute_result"
    }
   ],
   "source": [
    "rohan.name"
   ]
  },
  {
   "cell_type": "code",
   "execution_count": 79,
   "id": "bcb623fb-10a6-44b4-b686-f1e89d3bed5b",
   "metadata": {},
   "outputs": [
    {
     "data": {
      "text/plain": [
       "'rahul@gmail.com'"
      ]
     },
     "execution_count": 79,
     "metadata": {},
     "output_type": "execute_result"
    }
   ],
   "source": [
    "rohan.email"
   ]
  },
  {
   "cell_type": "code",
   "execution_count": 80,
   "id": "ff4f7bad-211d-46ca-aedb-e8def18e39d9",
   "metadata": {},
   "outputs": [
    {
     "ename": "Exception",
     "evalue": "Invalid name : name must be less than 10 characters",
     "output_type": "error",
     "traceback": [
      "\u001b[31m---------------------------------------------------------------------------\u001b[39m",
      "\u001b[31mException\u001b[39m                                 Traceback (most recent call last)",
      "\u001b[36mCell\u001b[39m\u001b[36m \u001b[39m\u001b[32mIn[80]\u001b[39m\u001b[32m, line 1\u001b[39m\n\u001b[32m----> \u001b[39m\u001b[32m1\u001b[39m rohan.name = \u001b[33m\"\u001b[39m\u001b[33maaaaaaaaaaaaaaaaaa\u001b[39m\u001b[33m\"\u001b[39m\n",
      "\u001b[36mCell\u001b[39m\u001b[36m \u001b[39m\u001b[32mIn[72]\u001b[39m\u001b[32m, line 24\u001b[39m, in \u001b[36mEmployee.name\u001b[39m\u001b[34m(self, value)\u001b[39m\n\u001b[32m     22\u001b[39m     \u001b[38;5;28;01mraise\u001b[39;00m \u001b[38;5;167;01mException\u001b[39;00m(\u001b[33m\"\u001b[39m\u001b[33mInvalid name: name can not contain numbers\u001b[39m\u001b[33m\"\u001b[39m)\n\u001b[32m     23\u001b[39m \u001b[38;5;28;01melif\u001b[39;00m \u001b[38;5;28mlen\u001b[39m(value) > \u001b[32m10\u001b[39m:\n\u001b[32m---> \u001b[39m\u001b[32m24\u001b[39m     \u001b[38;5;28;01mraise\u001b[39;00m \u001b[38;5;167;01mException\u001b[39;00m(\u001b[33m\"\u001b[39m\u001b[33mInvalid name : name must be less than 10 characters\u001b[39m\u001b[33m\"\u001b[39m)\n\u001b[32m     26\u001b[39m \u001b[38;5;28mself\u001b[39m._name = value\n",
      "\u001b[31mException\u001b[39m: Invalid name : name must be less than 10 characters"
     ]
    }
   ],
   "source": [
    "rohan.name = \"aaaaaaaaaaaaaaaaaa\""
   ]
  },
  {
   "cell_type": "code",
   "execution_count": null,
   "id": "5119d34f-c1eb-499f-a5d4-1f607eacce4d",
   "metadata": {},
   "outputs": [],
   "source": []
  },
  {
   "cell_type": "code",
   "execution_count": null,
   "id": "61e14d23-2319-4523-8002-3f5a6fb805ba",
   "metadata": {},
   "outputs": [],
   "source": []
  },
  {
   "cell_type": "code",
   "execution_count": null,
   "id": "7c92dd8d-95bc-43ed-8fe9-4d651182874c",
   "metadata": {},
   "outputs": [],
   "source": []
  },
  {
   "cell_type": "code",
   "execution_count": null,
   "id": "a6d845de-f98a-4a34-84f7-db05274b670d",
   "metadata": {},
   "outputs": [],
   "source": []
  },
  {
   "cell_type": "code",
   "execution_count": null,
   "id": "f913568d-24c7-4b1a-b954-56514320dfc8",
   "metadata": {},
   "outputs": [],
   "source": []
  },
  {
   "cell_type": "code",
   "execution_count": null,
   "id": "75204dfc-20d4-4e2a-ab45-f4469d9b7b37",
   "metadata": {},
   "outputs": [],
   "source": []
  },
  {
   "cell_type": "markdown",
   "id": "8a16e2a4-77f9-4e9d-8cd8-c2bb5daaf65f",
   "metadata": {},
   "source": [
    "### lazy computation"
   ]
  },
  {
   "cell_type": "code",
   "execution_count": 153,
   "id": "9001c45f-63ed-427a-a402-b872817f31d3",
   "metadata": {},
   "outputs": [],
   "source": [
    "import time"
   ]
  },
  {
   "cell_type": "code",
   "execution_count": 154,
   "id": "e0c8a1a8-2d7d-41e0-bec6-e9a062289f34",
   "metadata": {},
   "outputs": [],
   "source": [
    "class DataProcessor:\n",
    "\n",
    "    def __init__(self, source):\n",
    "        self.source = source\n",
    "        self.data = self.fetch_data()  # eager processing\n",
    "\n",
    "    def fetch_data(self):\n",
    "        print(\"fetching the data .....\")\n",
    "        time.sleep(5)  # make the code sleep for 5 seconds\n",
    "        return sum([i**2 for i in range(10000)])\n",
    "        "
   ]
  },
  {
   "cell_type": "code",
   "execution_count": 156,
   "id": "14133c03-dcaa-4881-b6f5-5833a0c496bf",
   "metadata": {},
   "outputs": [
    {
     "name": "stdout",
     "output_type": "stream",
     "text": [
      "fetching the data .....\n"
     ]
    }
   ],
   "source": [
    "processor = DataProcessor(source = \"dummy database\")"
   ]
  },
  {
   "cell_type": "code",
   "execution_count": 158,
   "id": "ec2c3fe0-1e93-41bc-9bad-cb02a6251150",
   "metadata": {},
   "outputs": [],
   "source": [
    "class DataProcessor:\n",
    "\n",
    "    def __init__(self, source):\n",
    "        self.source = source\n",
    "        # self.data = self.fetch_data()\n",
    "\n",
    "    @property\n",
    "    def data(self):  # dynamically computation \n",
    "        return self.fetch_data() \n",
    "\n",
    "    def fetch_data(self):\n",
    "        print(\"fetching the data .....\")\n",
    "        time.sleep(5)  # make the code sleep for 5 seconds\n",
    "        return sum([i**2 for i in range(10000)])\n",
    "        "
   ]
  },
  {
   "cell_type": "code",
   "execution_count": 159,
   "id": "f3cb4000-9ca2-4241-b873-8592a7d2f95d",
   "metadata": {},
   "outputs": [],
   "source": [
    "processor = DataProcessor(source = \"dummy database\")"
   ]
  },
  {
   "cell_type": "code",
   "execution_count": 160,
   "id": "aa601981-36b4-4a4b-bb7f-57e821acb0c3",
   "metadata": {},
   "outputs": [
    {
     "name": "stdout",
     "output_type": "stream",
     "text": [
      "fetching the data .....\n"
     ]
    },
    {
     "data": {
      "text/plain": [
       "333283335000"
      ]
     },
     "execution_count": 160,
     "metadata": {},
     "output_type": "execute_result"
    }
   ],
   "source": [
    "processor.data"
   ]
  },
  {
   "cell_type": "code",
   "execution_count": null,
   "id": "2f488939-d68c-4b30-b7a7-e3498fdb5284",
   "metadata": {},
   "outputs": [],
   "source": []
  },
  {
   "cell_type": "code",
   "execution_count": null,
   "id": "5f330a41-7a15-44fe-9921-abe22484694d",
   "metadata": {},
   "outputs": [],
   "source": []
  },
  {
   "cell_type": "markdown",
   "id": "384e87ae-2cf1-4bec-ba53-df225b18feae",
   "metadata": {},
   "source": [
    "## caching"
   ]
  },
  {
   "cell_type": "code",
   "execution_count": 200,
   "id": "0e7cf33f-e42e-4428-bb42-6d67ebd66dda",
   "metadata": {},
   "outputs": [],
   "source": [
    "class Document:\n",
    "    '''\n",
    "    Allow the user to add some text, read the text and find out the number of words in the text\n",
    "    '''\n",
    "\n",
    "    def __init__(self, text):\n",
    "        self._text = text\n",
    "        self._word_count_cache = None\n",
    "\n",
    "    # def get_text(self):\n",
    "    #     print(\"Reading the text now!!!\")\n",
    "    #     return self._text\n",
    "\n",
    "    @property\n",
    "    def text(self):\n",
    "        return self._text\n",
    "\n",
    "    @text.setter\n",
    "    def text(self, value):\n",
    "        self._text = value # + \"\\n\" +value\n",
    "        self._word_count_cache = None # because we have changed the text so cache should be cleared\n",
    "        \n",
    "\n",
    "    @property\n",
    "    def word_count(self):\n",
    "        if self._word_count_cache is None:\n",
    "            print(\"calculating the number of words\")\n",
    "            time.sleep(1)\n",
    "            number_of_words = len(self._text.split())\n",
    "            self._word_count_cache = number_of_words\n",
    "\n",
    "        return self._word_count_cache\n",
    "         "
   ]
  },
  {
   "cell_type": "code",
   "execution_count": null,
   "id": "a7421c09-636f-4ee2-8d24-c0303edfeccc",
   "metadata": {},
   "outputs": [],
   "source": []
  },
  {
   "cell_type": "code",
   "execution_count": null,
   "id": "1e2fd664-ac79-47ee-91b9-a70cb48e5358",
   "metadata": {},
   "outputs": [],
   "source": []
  },
  {
   "cell_type": "code",
   "execution_count": 201,
   "id": "f2f68a64-4faf-4124-bf2e-a30fc9e08bba",
   "metadata": {},
   "outputs": [],
   "source": [
    "doc = Document(text = \"hello how are you???\")"
   ]
  },
  {
   "cell_type": "code",
   "execution_count": 202,
   "id": "82882841-cfd8-4899-94da-b7098d97d75b",
   "metadata": {},
   "outputs": [
    {
     "name": "stdout",
     "output_type": "stream",
     "text": [
      "calculating the number of words\n"
     ]
    },
    {
     "data": {
      "text/plain": [
       "4"
      ]
     },
     "execution_count": 202,
     "metadata": {},
     "output_type": "execute_result"
    }
   ],
   "source": [
    "doc.word_count"
   ]
  },
  {
   "cell_type": "code",
   "execution_count": 203,
   "id": "5327922b-18f7-4ace-aa55-c510b619859b",
   "metadata": {},
   "outputs": [
    {
     "data": {
      "text/plain": [
       "4"
      ]
     },
     "execution_count": 203,
     "metadata": {},
     "output_type": "execute_result"
    }
   ],
   "source": [
    "doc.word_count"
   ]
  },
  {
   "cell_type": "code",
   "execution_count": 204,
   "id": "ba67baa2-f180-4fa1-9a85-6b0d1a5d8287",
   "metadata": {},
   "outputs": [
    {
     "data": {
      "text/plain": [
       "4"
      ]
     },
     "execution_count": 204,
     "metadata": {},
     "output_type": "execute_result"
    }
   ],
   "source": [
    "doc.word_count"
   ]
  },
  {
   "cell_type": "code",
   "execution_count": null,
   "id": "aae34e14-932a-47dc-97b5-e0b06cad8995",
   "metadata": {},
   "outputs": [],
   "source": []
  },
  {
   "cell_type": "code",
   "execution_count": 205,
   "id": "399a4965-116e-40fe-8c50-b66aa53afcfb",
   "metadata": {},
   "outputs": [],
   "source": [
    "doc.text = \"hello i am coming from bangalore to hyderabad\""
   ]
  },
  {
   "cell_type": "code",
   "execution_count": 206,
   "id": "933bb35f-57bd-4286-a814-dd583b693c82",
   "metadata": {},
   "outputs": [
    {
     "name": "stdout",
     "output_type": "stream",
     "text": [
      "hello i am coming from bangalore to hyderabad\n"
     ]
    }
   ],
   "source": [
    "print(doc.text)"
   ]
  },
  {
   "cell_type": "code",
   "execution_count": 207,
   "id": "26a411e1-352a-44c8-be13-459e019dbd23",
   "metadata": {},
   "outputs": [
    {
     "name": "stdout",
     "output_type": "stream",
     "text": [
      "calculating the number of words\n"
     ]
    },
    {
     "data": {
      "text/plain": [
       "8"
      ]
     },
     "execution_count": 207,
     "metadata": {},
     "output_type": "execute_result"
    }
   ],
   "source": [
    "doc.word_count"
   ]
  },
  {
   "cell_type": "code",
   "execution_count": 208,
   "id": "1f043efd-53fd-4e62-8dbb-3ab09fa2e7ae",
   "metadata": {},
   "outputs": [
    {
     "data": {
      "text/plain": [
       "8"
      ]
     },
     "execution_count": 208,
     "metadata": {},
     "output_type": "execute_result"
    }
   ],
   "source": [
    "doc.word_count"
   ]
  },
  {
   "cell_type": "code",
   "execution_count": null,
   "id": "52867532-98c0-439a-a012-8520f07488a3",
   "metadata": {},
   "outputs": [],
   "source": []
  },
  {
   "cell_type": "code",
   "execution_count": null,
   "id": "7f360c29-d2e3-4d95-b32f-bc0c28613af6",
   "metadata": {},
   "outputs": [],
   "source": []
  },
  {
   "cell_type": "code",
   "execution_count": null,
   "id": "acae2eb4-6f30-4cc5-8f2c-da0ca01c5ed3",
   "metadata": {},
   "outputs": [],
   "source": []
  },
  {
   "cell_type": "code",
   "execution_count": null,
   "id": "1d577e45-88fd-41ef-8e7d-0ac622b9604a",
   "metadata": {},
   "outputs": [],
   "source": []
  },
  {
   "cell_type": "code",
   "execution_count": null,
   "id": "fdea3a41-a421-41d8-af34-1a17e5f97962",
   "metadata": {},
   "outputs": [],
   "source": []
  },
  {
   "cell_type": "code",
   "execution_count": null,
   "id": "d7298f30-06f7-434f-a82f-e1b4545f870a",
   "metadata": {},
   "outputs": [],
   "source": []
  },
  {
   "cell_type": "code",
   "execution_count": null,
   "id": "753bd16c-3e08-448c-b333-4e67a0e70873",
   "metadata": {},
   "outputs": [],
   "source": []
  },
  {
   "cell_type": "code",
   "execution_count": null,
   "id": "2946cbaa-ede6-4f51-924b-31578a6b67f7",
   "metadata": {},
   "outputs": [],
   "source": []
  },
  {
   "cell_type": "code",
   "execution_count": null,
   "id": "55c31adc-30a0-48e7-a801-669726e6924b",
   "metadata": {},
   "outputs": [],
   "source": []
  },
  {
   "cell_type": "code",
   "execution_count": null,
   "id": "978778bc-12da-42c8-9854-984a7c41f9e8",
   "metadata": {},
   "outputs": [],
   "source": []
  },
  {
   "cell_type": "code",
   "execution_count": null,
   "id": "9ad73b41-3a01-40ba-8602-6f56a7d65c12",
   "metadata": {},
   "outputs": [],
   "source": []
  },
  {
   "cell_type": "code",
   "execution_count": null,
   "id": "6cade73a-0626-4cb7-b5c3-2a35a3d069ed",
   "metadata": {},
   "outputs": [],
   "source": []
  },
  {
   "cell_type": "code",
   "execution_count": null,
   "id": "3a878e1d-e8b0-43b0-9c61-38610ef5d687",
   "metadata": {},
   "outputs": [],
   "source": []
  },
  {
   "cell_type": "code",
   "execution_count": null,
   "id": "c6598828-b170-4571-924f-51e581d45974",
   "metadata": {},
   "outputs": [],
   "source": []
  },
  {
   "cell_type": "code",
   "execution_count": null,
   "id": "2ded6f87-c3d2-4521-8f16-8a20f679804c",
   "metadata": {},
   "outputs": [],
   "source": []
  },
  {
   "cell_type": "code",
   "execution_count": null,
   "id": "b6ef4073-3373-45d7-86b0-35ddd2e470e4",
   "metadata": {},
   "outputs": [],
   "source": []
  },
  {
   "cell_type": "code",
   "execution_count": null,
   "id": "81e7990e-2b97-47a3-a2d6-e6904634fa3c",
   "metadata": {},
   "outputs": [],
   "source": []
  },
  {
   "cell_type": "code",
   "execution_count": null,
   "id": "6a9fa2fe-3af6-492d-80d4-778f71fc593d",
   "metadata": {},
   "outputs": [],
   "source": []
  },
  {
   "cell_type": "code",
   "execution_count": null,
   "id": "e7968cbd-9eb0-47c7-970e-e2b793bbaec5",
   "metadata": {},
   "outputs": [],
   "source": []
  },
  {
   "cell_type": "code",
   "execution_count": null,
   "id": "2443d5a4-2178-4f6d-b693-66c217b244dc",
   "metadata": {},
   "outputs": [],
   "source": []
  },
  {
   "cell_type": "markdown",
   "id": "e65c02ac-b6d3-4921-82f6-fe0284708357",
   "metadata": {},
   "source": [
    "## lazy computation"
   ]
  },
  {
   "cell_type": "code",
   "execution_count": 104,
   "id": "e199113c-a64e-4dfa-b738-04deb99c5341",
   "metadata": {},
   "outputs": [],
   "source": [
    "class DataFetcher:\n",
    "\n",
    "    def __init__(self, source):\n",
    "        self.source = source\n",
    "        self.data = self.fetch_data()\n",
    "\n",
    "    # @property\n",
    "    # def data(self):\n",
    "    #     if self._data is None:\n",
    "    #         # fetch the data\n",
    "    #         print(\"fetching the data. please wait ....\")\n",
    "    #         self._data = self.fetch_data()\n",
    "\n",
    "    #     return self._data\n",
    "\n",
    "    def fetch_data(self): # this is the expensive process)\n",
    "        print(\"fetching the data. please wait ....\")\n",
    "        return sum([i **2 for i in range(100)])\n",
    "        \n",
    "        \n",
    "\n",
    "     "
   ]
  },
  {
   "cell_type": "code",
   "execution_count": 105,
   "id": "775d4abf-2b8b-4eb3-b015-2f4d1c89018c",
   "metadata": {},
   "outputs": [
    {
     "name": "stdout",
     "output_type": "stream",
     "text": [
      "fetching the data. please wait ....\n"
     ]
    }
   ],
   "source": [
    "fetcher = DataFetcher(source= \"sqldatabase\")\n"
   ]
  },
  {
   "cell_type": "code",
   "execution_count": 100,
   "id": "061f52fd-def6-468b-89e4-d886cff0a6ed",
   "metadata": {},
   "outputs": [],
   "source": [
    "class DataFetcher:\n",
    "\n",
    "    def __init__(self, source):\n",
    "        self.source = source\n",
    "        self._data  = None\n",
    "\n",
    "    @property\n",
    "    def data(self):\n",
    "        if self._data is None:\n",
    "            # fetch the data\n",
    "            print(\"fetching the data. please wait ....\")\n",
    "            self._data = self.fetch_data()\n",
    "\n",
    "        return self._data\n",
    "\n",
    "    def fetch_data(self): # this is the expensive process)\n",
    "        return sum([i **2 for i in range(100)])\n",
    "        \n",
    "        \n",
    "\n",
    "     "
   ]
  },
  {
   "cell_type": "code",
   "execution_count": 101,
   "id": "6a0a6f84-08ba-40e2-9dcc-3dda4ca9aa17",
   "metadata": {},
   "outputs": [],
   "source": [
    "fetcher = DataFetcher(source= \"sqldatabase\")"
   ]
  },
  {
   "cell_type": "code",
   "execution_count": 102,
   "id": "ce8f4044-a0e6-4635-921f-ca2fb867419e",
   "metadata": {},
   "outputs": [
    {
     "name": "stdout",
     "output_type": "stream",
     "text": [
      "fetching the data. please wait ....\n"
     ]
    },
    {
     "data": {
      "text/plain": [
       "328350"
      ]
     },
     "execution_count": 102,
     "metadata": {},
     "output_type": "execute_result"
    }
   ],
   "source": [
    "fetcher.data"
   ]
  },
  {
   "cell_type": "code",
   "execution_count": null,
   "id": "b4719993-7d06-4a51-a74e-2a930627cca1",
   "metadata": {},
   "outputs": [],
   "source": []
  },
  {
   "cell_type": "code",
   "execution_count": null,
   "id": "03e546e2-fcde-4371-a596-98ab09917216",
   "metadata": {},
   "outputs": [],
   "source": []
  },
  {
   "cell_type": "code",
   "execution_count": null,
   "id": "1131f389-1654-44f4-8be1-10e19d86b860",
   "metadata": {},
   "outputs": [],
   "source": []
  },
  {
   "cell_type": "code",
   "execution_count": null,
   "id": "7c86a1c2-1c0d-40e0-85e5-7fc01ab577c1",
   "metadata": {},
   "outputs": [],
   "source": []
  },
  {
   "cell_type": "code",
   "execution_count": null,
   "id": "e84fdede-d81d-4688-b2b4-597900fe6433",
   "metadata": {},
   "outputs": [],
   "source": []
  },
  {
   "cell_type": "raw",
   "id": "29d08158-2840-4d65-bb6c-d1206e8f6c87",
   "metadata": {},
   "source": []
  },
  {
   "cell_type": "raw",
   "id": "96f85591-0492-44a0-a86e-96efdc9b0dd7",
   "metadata": {},
   "source": []
  },
  {
   "cell_type": "code",
   "execution_count": null,
   "id": "343665f7-8a56-4e8a-bf61-1913a5aa7729",
   "metadata": {},
   "outputs": [],
   "source": []
  },
  {
   "cell_type": "code",
   "execution_count": null,
   "id": "1d8b340b-443b-47cf-afa5-156555907a61",
   "metadata": {},
   "outputs": [],
   "source": []
  },
  {
   "cell_type": "code",
   "execution_count": null,
   "id": "38fc386a-6d56-46a2-b78c-fb76bd0f5f9d",
   "metadata": {},
   "outputs": [],
   "source": []
  },
  {
   "cell_type": "code",
   "execution_count": null,
   "id": "29631e81-3c04-4245-b34a-bfee1e754dd2",
   "metadata": {},
   "outputs": [],
   "source": []
  },
  {
   "cell_type": "raw",
   "id": "84f320f7-718a-4034-af0b-754eb9248952",
   "metadata": {},
   "source": []
  },
  {
   "cell_type": "code",
   "execution_count": null,
   "id": "21187d65-09b2-4a14-bd42-f24e09038b12",
   "metadata": {},
   "outputs": [],
   "source": []
  }
 ],
 "metadata": {
  "kernelspec": {
   "display_name": "Python 3 (ipykernel)",
   "language": "python",
   "name": "python3"
  },
  "language_info": {
   "codemirror_mode": {
    "name": "ipython",
    "version": 3
   },
   "file_extension": ".py",
   "mimetype": "text/x-python",
   "name": "python",
   "nbconvert_exporter": "python",
   "pygments_lexer": "ipython3",
   "version": "3.13.5"
  }
 },
 "nbformat": 4,
 "nbformat_minor": 5
}
