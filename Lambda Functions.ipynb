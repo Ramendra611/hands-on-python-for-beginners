{
 "cells": [
  {
   "cell_type": "markdown",
   "id": "60ddf7ee",
   "metadata": {},
   "source": [
    "## lambda function / lambda expression / anonymous"
   ]
  },
  {
   "cell_type": "markdown",
   "id": "f5476415",
   "metadata": {},
   "source": [
    "```python\n",
    "lambda arguments: expression\n",
    "```"
   ]
  },
  {
   "cell_type": "code",
   "execution_count": 2,
   "id": "33a77bfb",
   "metadata": {},
   "outputs": [],
   "source": [
    "def add(x, y):\n",
    "    return x + y"
   ]
  },
  {
   "cell_type": "code",
   "execution_count": 3,
   "id": "15777e8c",
   "metadata": {},
   "outputs": [
    {
     "data": {
      "text/plain": [
       "11"
      ]
     },
     "execution_count": 3,
     "metadata": {},
     "output_type": "execute_result"
    }
   ],
   "source": [
    "add(6, 5)"
   ]
  },
  {
   "cell_type": "code",
   "execution_count": 4,
   "id": "51add4e4",
   "metadata": {},
   "outputs": [],
   "source": [
    "add2 = lambda x, y : x + y"
   ]
  },
  {
   "cell_type": "code",
   "execution_count": 5,
   "id": "af26b9f6",
   "metadata": {},
   "outputs": [
    {
     "data": {
      "text/plain": [
       "11"
      ]
     },
     "execution_count": 5,
     "metadata": {},
     "output_type": "execute_result"
    }
   ],
   "source": [
    "add2(6, 5)"
   ]
  },
  {
   "cell_type": "code",
   "execution_count": 10,
   "id": "708ae57e",
   "metadata": {},
   "outputs": [
    {
     "data": {
      "text/plain": [
       "21"
      ]
     },
     "execution_count": 10,
     "metadata": {},
     "output_type": "execute_result"
    }
   ],
   "source": [
    "(lambda x, y, z : x + y+ z)(6, 7, 8)"
   ]
  },
  {
   "cell_type": "code",
   "execution_count": null,
   "id": "35cc0f84",
   "metadata": {},
   "outputs": [],
   "source": [
    "lambda x : len(x)"
   ]
  },
  {
   "cell_type": "code",
   "execution_count": 22,
   "id": "b7abf41a",
   "metadata": {},
   "outputs": [],
   "source": [
    "def my_key(x):\n",
    "    return len(x)"
   ]
  },
  {
   "cell_type": "code",
   "execution_count": 17,
   "id": "1e1f29b1",
   "metadata": {},
   "outputs": [
    {
     "data": {
      "text/plain": [
       "['Banana', 'Apple', 'Pomegranate', 'Mango', 'Grapes', 'Berry']"
      ]
     },
     "execution_count": 17,
     "metadata": {},
     "output_type": "execute_result"
    }
   ],
   "source": [
    "fruits = [ \"Mango\", \"Apple\", \"Banana\", \"Grapes\",\"Pomegranate\", \"Berry\"]\n",
    "\n",
    "sorted(fruits, key = lambda x : x[-1])"
   ]
  },
  {
   "cell_type": "code",
   "execution_count": 18,
   "id": "4c8cec72",
   "metadata": {},
   "outputs": [
    {
     "data": {
      "text/plain": [
       "['Mango', 'Banana', 'Berry', 'Pomegranate', 'Apple', 'Grapes']"
      ]
     },
     "execution_count": 18,
     "metadata": {},
     "output_type": "execute_result"
    }
   ],
   "source": [
    "sorted(fruits, key = lambda x : x[1])"
   ]
  },
  {
   "cell_type": "code",
   "execution_count": 21,
   "id": "d3fdae2f",
   "metadata": {},
   "outputs": [
    {
     "data": {
      "text/plain": [
       "['Pomegranate', 'Banana', 'Grapes', 'Mango', 'Apple', 'Berry']"
      ]
     },
     "execution_count": 21,
     "metadata": {},
     "output_type": "execute_result"
    }
   ],
   "source": [
    "sorted(fruits, key = lambda x : len(x), reverse=True)"
   ]
  },
  {
   "cell_type": "code",
   "execution_count": 25,
   "id": "03fdde22",
   "metadata": {},
   "outputs": [
    {
     "data": {
      "text/plain": [
       "['Pomegranate', 'Banana', 'Grapes', 'Mango', 'Apple', 'Berry']"
      ]
     },
     "execution_count": 25,
     "metadata": {},
     "output_type": "execute_result"
    }
   ],
   "source": [
    "sorted(fruits, key = lambda x: len(x), reverse=True)"
   ]
  },
  {
   "cell_type": "code",
   "execution_count": null,
   "id": "e82db7e9",
   "metadata": {},
   "outputs": [],
   "source": []
  },
  {
   "cell_type": "code",
   "execution_count": 27,
   "id": "4fbab14d",
   "metadata": {},
   "outputs": [],
   "source": [
    "products = [\n",
    "            {\"name\": \"Laptop\", \"price\": 50000, \"discount\": 0.1},\n",
    "            {\"name\": \"Phone\", \"price\": 15000, \"discount\" : 0.15},\n",
    "            {\"name\": \"tablet\", \"price\": 5000, \"discount\" : 0.35}\n",
    "           ]"
   ]
  },
  {
   "cell_type": "code",
   "execution_count": 30,
   "id": "fc81b22e",
   "metadata": {},
   "outputs": [
    {
     "data": {
      "text/plain": [
       "[{'name': 'Laptop', 'price': 50000, 'discount': 0.1},\n",
       " {'name': 'Phone', 'price': 15000, 'discount': 0.15},\n",
       " {'name': 'tablet', 'price': 5000, 'discount': 0.35}]"
      ]
     },
     "execution_count": 30,
     "metadata": {},
     "output_type": "execute_result"
    }
   ],
   "source": [
    "sorted(products, key = lambda x: x[\"price\"], reverse=True )"
   ]
  },
  {
   "cell_type": "code",
   "execution_count": 33,
   "id": "59159d01",
   "metadata": {},
   "outputs": [
    {
     "data": {
      "text/plain": [
       "[{'name': 'tablet', 'price': 5000, 'discount': 0.35},\n",
       " {'name': 'Phone', 'price': 15000, 'discount': 0.15},\n",
       " {'name': 'Laptop', 'price': 50000, 'discount': 0.1}]"
      ]
     },
     "execution_count": 33,
     "metadata": {},
     "output_type": "execute_result"
    }
   ],
   "source": [
    "sorted(products, key = lambda x: x[\"discount\"], reverse=True )"
   ]
  },
  {
   "cell_type": "code",
   "execution_count": null,
   "id": "8139d528",
   "metadata": {},
   "outputs": [],
   "source": []
  },
  {
   "cell_type": "markdown",
   "id": "049283f4",
   "metadata": {},
   "source": [
    "# Higher order functions\n",
    "    - map\n",
    "    - filter\n",
    "    - reduce\n",
    "    - sorted"
   ]
  },
  {
   "cell_type": "markdown",
   "id": "9353d17d",
   "metadata": {},
   "source": [
    "## map"
   ]
  },
  {
   "cell_type": "code",
   "execution_count": 35,
   "id": "a73ce6c3",
   "metadata": {},
   "outputs": [],
   "source": [
    "def get_square(number):\n",
    "    return number**2"
   ]
  },
  {
   "cell_type": "code",
   "execution_count": 34,
   "id": "290ceffb",
   "metadata": {},
   "outputs": [],
   "source": [
    "numbers = [5, 6, 8, 3, 2]"
   ]
  },
  {
   "cell_type": "code",
   "execution_count": null,
   "id": "1f4987dc",
   "metadata": {},
   "outputs": [],
   "source": [
    "[25, 36, 64, 9, 4]"
   ]
  },
  {
   "cell_type": "code",
   "execution_count": null,
   "id": "8af2ab00",
   "metadata": {},
   "outputs": [],
   "source": []
  },
  {
   "cell_type": "code",
   "execution_count": 38,
   "id": "8d7c1488",
   "metadata": {},
   "outputs": [
    {
     "data": {
      "text/plain": [
       "[25, 36, 64, 9, 4]"
      ]
     },
     "execution_count": 38,
     "metadata": {},
     "output_type": "execute_result"
    }
   ],
   "source": [
    "list(map(lambda x : x**2, numbers))"
   ]
  },
  {
   "cell_type": "code",
   "execution_count": null,
   "id": "a0ae485f",
   "metadata": {},
   "outputs": [],
   "source": []
  },
  {
   "cell_type": "markdown",
   "id": "0f8d2e7a",
   "metadata": {},
   "source": [
    "**Example (Convert Temperatures from Celsius to Fahrenheit):**\n",
    "\n",
    "```f = c*(9/5) + 32```"
   ]
  },
  {
   "cell_type": "code",
   "execution_count": 39,
   "id": "be37fdc4",
   "metadata": {},
   "outputs": [],
   "source": [
    "temps_in_celsius = [0, 20, 37, 100]"
   ]
  },
  {
   "cell_type": "code",
   "execution_count": 40,
   "id": "46f0ed80",
   "metadata": {},
   "outputs": [],
   "source": [
    "temp_converter = lambda c : c*(9/5) + 32"
   ]
  },
  {
   "cell_type": "code",
   "execution_count": 45,
   "id": "14d245c1",
   "metadata": {},
   "outputs": [
    {
     "data": {
      "text/plain": [
       "[32.0, 68.0, 98.60000000000001, 212.0]"
      ]
     },
     "execution_count": 45,
     "metadata": {},
     "output_type": "execute_result"
    }
   ],
   "source": [
    "list(map(lambda c : c*(9/5) + 32, temps_in_celsius))"
   ]
  },
  {
   "cell_type": "code",
   "execution_count": null,
   "id": "4e928aaa",
   "metadata": {},
   "outputs": [],
   "source": []
  },
  {
   "cell_type": "markdown",
   "id": "0ed764e2",
   "metadata": {},
   "source": [
    "## filter"
   ]
  },
  {
   "cell_type": "code",
   "execution_count": null,
   "id": "7d727bd8",
   "metadata": {},
   "outputs": [],
   "source": [
    "numbers = [1, 2, 3, 4, 5, 6]"
   ]
  },
  {
   "cell_type": "code",
   "execution_count": 46,
   "id": "1092f8ca",
   "metadata": {},
   "outputs": [
    {
     "data": {
      "text/plain": [
       "[6, 8, 2]"
      ]
     },
     "execution_count": 46,
     "metadata": {},
     "output_type": "execute_result"
    }
   ],
   "source": [
    "even_numbers = []\n",
    "for num in numbers:\n",
    "    if num %2 ==0:\n",
    "        even_numbers.append(num)\n",
    "even_numbers\n"
   ]
  },
  {
   "cell_type": "code",
   "execution_count": 48,
   "id": "d377b3a6",
   "metadata": {},
   "outputs": [
    {
     "data": {
      "text/plain": [
       "[6, 8, 2]"
      ]
     },
     "execution_count": 48,
     "metadata": {},
     "output_type": "execute_result"
    }
   ],
   "source": [
    "list(filter(lambda x : x%2 ==0, numbers))"
   ]
  },
  {
   "cell_type": "code",
   "execution_count": 51,
   "id": "f8e6b18e",
   "metadata": {},
   "outputs": [],
   "source": [
    "products = [\n",
    "            {\"name\": \"Laptop\", \"price\": 50000, \"discount\": 0.1},\n",
    "            {\"name\": \"Phone\", \"price\": 15000, \"discount\" : 0.15},\n",
    "            {\"name\": \"tablet\", \"price\": 5000, \"discount\" : 0.35},\n",
    "            {\"name\": \"ps4\", \"price\": 55000, \"discount\" : 0.75}\n",
    "           ]"
   ]
  },
  {
   "cell_type": "code",
   "execution_count": 53,
   "id": "724bb901",
   "metadata": {},
   "outputs": [
    {
     "data": {
      "text/plain": [
       "[{'name': 'tablet', 'price': 5000, 'discount': 0.35},\n",
       " {'name': 'ps4', 'price': 55000, 'discount': 0.75}]"
      ]
     },
     "execution_count": 53,
     "metadata": {},
     "output_type": "execute_result"
    }
   ],
   "source": [
    "list(filter( lambda product : product[\"discount\"] > 0.3, products ))"
   ]
  },
  {
   "cell_type": "code",
   "execution_count": null,
   "id": "5a929113",
   "metadata": {},
   "outputs": [],
   "source": []
  },
  {
   "cell_type": "code",
   "execution_count": null,
   "id": "fd1dd2c4",
   "metadata": {},
   "outputs": [],
   "source": []
  },
  {
   "cell_type": "markdown",
   "id": "98d54e9f",
   "metadata": {},
   "source": [
    "## reduce\n",
    "\n",
    "Used to **reduce an iterable to a single value** by applying a function cumulatively."
   ]
  },
  {
   "cell_type": "code",
   "execution_count": 54,
   "id": "35415cbc",
   "metadata": {},
   "outputs": [],
   "source": [
    "from functools import reduce"
   ]
  },
  {
   "cell_type": "code",
   "execution_count": 55,
   "id": "09aef343",
   "metadata": {},
   "outputs": [
    {
     "data": {
      "text/plain": [
       "15"
      ]
     },
     "execution_count": 55,
     "metadata": {},
     "output_type": "execute_result"
    }
   ],
   "source": [
    "numbers = [1, 2, 3, 4, 5]\n",
    "\n",
    "reduce(lambda x, y : x + y, numbers)"
   ]
  },
  {
   "cell_type": "code",
   "execution_count": 58,
   "id": "a1d62836",
   "metadata": {},
   "outputs": [
    {
     "data": {
      "text/plain": [
       "100"
      ]
     },
     "execution_count": 58,
     "metadata": {},
     "output_type": "execute_result"
    }
   ],
   "source": [
    "numbers = [1, 2, 3, 4, 5, -1, 100]\n",
    "\n",
    "reduce(lambda x, y : x if x > y else y, numbers)"
   ]
  },
  {
   "cell_type": "code",
   "execution_count": null,
   "id": "8fcaf38a",
   "metadata": {},
   "outputs": [],
   "source": []
  },
  {
   "cell_type": "code",
   "execution_count": null,
   "id": "7794ce23",
   "metadata": {},
   "outputs": [],
   "source": []
  },
  {
   "cell_type": "code",
   "execution_count": null,
   "id": "8f0c1e94",
   "metadata": {},
   "outputs": [],
   "source": []
  },
  {
   "cell_type": "code",
   "execution_count": null,
   "id": "6e7acf55",
   "metadata": {},
   "outputs": [],
   "source": []
  },
  {
   "cell_type": "code",
   "execution_count": null,
   "id": "ad898c02",
   "metadata": {},
   "outputs": [],
   "source": []
  },
  {
   "cell_type": "code",
   "execution_count": null,
   "id": "8051aeaa",
   "metadata": {},
   "outputs": [],
   "source": []
  },
  {
   "cell_type": "code",
   "execution_count": null,
   "id": "2e42a4dc",
   "metadata": {},
   "outputs": [],
   "source": []
  },
  {
   "cell_type": "code",
   "execution_count": null,
   "id": "3e80e4a8",
   "metadata": {},
   "outputs": [],
   "source": []
  },
  {
   "cell_type": "code",
   "execution_count": null,
   "id": "d7696aed",
   "metadata": {},
   "outputs": [],
   "source": []
  },
  {
   "cell_type": "code",
   "execution_count": null,
   "id": "2a0d8c25",
   "metadata": {},
   "outputs": [],
   "source": []
  },
  {
   "cell_type": "code",
   "execution_count": null,
   "id": "306b9607",
   "metadata": {},
   "outputs": [],
   "source": []
  },
  {
   "cell_type": "code",
   "execution_count": null,
   "id": "63409561",
   "metadata": {},
   "outputs": [],
   "source": []
  },
  {
   "cell_type": "code",
   "execution_count": null,
   "id": "fd5f3c65",
   "metadata": {},
   "outputs": [],
   "source": []
  },
  {
   "cell_type": "code",
   "execution_count": null,
   "id": "045cfa7f",
   "metadata": {},
   "outputs": [],
   "source": []
  },
  {
   "cell_type": "code",
   "execution_count": null,
   "id": "68c9d1e1",
   "metadata": {},
   "outputs": [],
   "source": []
  },
  {
   "cell_type": "code",
   "execution_count": null,
   "id": "88dd6370",
   "metadata": {},
   "outputs": [],
   "source": []
  },
  {
   "cell_type": "code",
   "execution_count": null,
   "id": "abc4faa9",
   "metadata": {},
   "outputs": [],
   "source": []
  }
 ],
 "metadata": {
  "kernelspec": {
   "display_name": "Python 3 (ipykernel)",
   "language": "python",
   "name": "python3"
  },
  "language_info": {
   "codemirror_mode": {
    "name": "ipython",
    "version": 3
   },
   "file_extension": ".py",
   "mimetype": "text/x-python",
   "name": "python",
   "nbconvert_exporter": "python",
   "pygments_lexer": "ipython3",
   "version": "3.10.8"
  }
 },
 "nbformat": 4,
 "nbformat_minor": 5
}
