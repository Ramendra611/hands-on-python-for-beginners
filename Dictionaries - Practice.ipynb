{
 "cells": [
  {
   "cell_type": "markdown",
   "id": "cad60f06",
   "metadata": {},
   "source": [
    "##### Updating Values in a Dictionary\n",
    "Create a dictionary containing the following key-value pairs:\n",
    "{\"Virat Kohli\": 12000, \"Sachin Tendulkar\": 18000} representing the total runs scored by these cricketers.\n",
    "\n",
    "Update Virat Kohli’s total runs to 12500."
   ]
  },
  {
   "cell_type": "code",
   "execution_count": 15,
   "id": "b5eb8ed4",
   "metadata": {},
   "outputs": [],
   "source": [
    "runs = {\"Virat Kohli\": 12000, \"Sachin Tendulkar\": 18000}"
   ]
  },
  {
   "cell_type": "code",
   "execution_count": 17,
   "id": "d650f58d",
   "metadata": {},
   "outputs": [],
   "source": [
    "runs[\"Virat Kohli\"]= 12500"
   ]
  },
  {
   "cell_type": "code",
   "execution_count": 18,
   "id": "f4fd8441",
   "metadata": {},
   "outputs": [
    {
     "data": {
      "text/plain": [
       "{'Virat Kohli': 12500, 'Sachin Tendulkar': 18000}"
      ]
     },
     "execution_count": 18,
     "metadata": {},
     "output_type": "execute_result"
    }
   ],
   "source": [
    "runs"
   ]
  },
  {
   "cell_type": "markdown",
   "id": "909bd131",
   "metadata": {},
   "source": [
    "##### Deleting Keys from a Dictionary\n",
    "Create a dictionary with the names of Indian festivals and their corresponding months:\n",
    "{\"Diwali\": \"November\", \"Holi\": \"March\", \"Onam\": \"August\"}.\n",
    "\n",
    "Remove the entry for \"Onam\" using the pop() method.\n"
   ]
  },
  {
   "cell_type": "code",
   "execution_count": 19,
   "id": "1bbe8c9e",
   "metadata": {},
   "outputs": [],
   "source": [
    "festivals = {\"Diwali\": \"November\", \"Holi\": \"March\", \"Onam\": \"August\"}"
   ]
  },
  {
   "cell_type": "code",
   "execution_count": 20,
   "id": "d7172f95",
   "metadata": {},
   "outputs": [
    {
     "data": {
      "text/plain": [
       "'August'"
      ]
     },
     "execution_count": 20,
     "metadata": {},
     "output_type": "execute_result"
    }
   ],
   "source": [
    "festivals.pop(\"Onam\")"
   ]
  },
  {
   "cell_type": "code",
   "execution_count": 21,
   "id": "ec2ae198",
   "metadata": {},
   "outputs": [
    {
     "data": {
      "text/plain": [
       "{'Diwali': 'November', 'Holi': 'March'}"
      ]
     },
     "execution_count": 21,
     "metadata": {},
     "output_type": "execute_result"
    }
   ],
   "source": [
    "festivals"
   ]
  },
  {
   "cell_type": "markdown",
   "id": "0caba200",
   "metadata": {},
   "source": [
    "##### Nested Dictionary Access\n",
    "Create a nested dictionary representing an Indian family:\n",
    "\n",
    "family = {\n",
    "    \"Father\": {\"name\": \"Rajesh\", \"age\": 50},\n",
    "    \"Mother\": {\"name\": \"Suman\", \"age\": 45},\n",
    "    \"Child\": {\"name\": \"Aarav\", \"age\": 10}\n",
    "}\n",
    "Retrieve the name of the child from the nested dictionary."
   ]
  },
  {
   "cell_type": "code",
   "execution_count": 23,
   "id": "b74eca5f",
   "metadata": {},
   "outputs": [
    {
     "data": {
      "text/plain": [
       "'Aarav'"
      ]
     },
     "execution_count": 23,
     "metadata": {},
     "output_type": "execute_result"
    }
   ],
   "source": [
    "family = {\n",
    "    \"Father\": {\"name\": \"Rajesh\", \"age\": 50},\n",
    "    \"Mother\": {\"name\": \"Suman\", \"age\": 45},\n",
    "    \"Child\": {\"name\": \"Aarav\", \"age\": 10}\n",
    "}\n",
    "\n",
    "family[\"Child\"][\"name\"]"
   ]
  },
  {
   "cell_type": "code",
   "execution_count": 25,
   "id": "aedef97e",
   "metadata": {},
   "outputs": [
    {
     "data": {
      "text/plain": [
       "'n/a'"
      ]
     },
     "execution_count": 25,
     "metadata": {},
     "output_type": "execute_result"
    }
   ],
   "source": [
    "family.get(\"Sister\", {}).get(\"name\",\"n/a\")"
   ]
  },
  {
   "cell_type": "markdown",
   "id": "341d6f79",
   "metadata": {},
   "source": [
    "##### Using get() with Default Values\n",
    "Create a dictionary storing the official languages spoken in three states:\n",
    "{\"Karnataka\": \"Kannada\", \"Tamil Nadu\": \"Tamil\", \"Kerala\": \"Malayalam\"}.\n",
    "\n",
    "Use the get() method to retrieve the language for \"Goa\". If the key is not found, return \"Not Available\"."
   ]
  },
  {
   "cell_type": "code",
   "execution_count": 26,
   "id": "70c6cc09",
   "metadata": {},
   "outputs": [],
   "source": [
    "lang= {\"Karnataka\": \"Kannada\", \"Tamil Nadu\": \"Tamil\", \"Kerala\": \"Malayalam\"}"
   ]
  },
  {
   "cell_type": "code",
   "execution_count": 28,
   "id": "933956b6",
   "metadata": {},
   "outputs": [
    {
     "data": {
      "text/plain": [
       "'Not Available'"
      ]
     },
     "execution_count": 28,
     "metadata": {},
     "output_type": "execute_result"
    }
   ],
   "source": [
    "lang.get(\"Goa\", \"Not Available\")"
   ]
  },
  {
   "cell_type": "code",
   "execution_count": 29,
   "id": "4e228ff1",
   "metadata": {},
   "outputs": [
    {
     "data": {
      "text/plain": [
       "'Not Available'"
      ]
     },
     "execution_count": 29,
     "metadata": {},
     "output_type": "execute_result"
    }
   ],
   "source": [
    "lang.setdefault(\"Goa\", \"Not Available\")"
   ]
  },
  {
   "cell_type": "code",
   "execution_count": 30,
   "id": "bef63667",
   "metadata": {},
   "outputs": [
    {
     "data": {
      "text/plain": [
       "{'Karnataka': 'Kannada',\n",
       " 'Tamil Nadu': 'Tamil',\n",
       " 'Kerala': 'Malayalam',\n",
       " 'Goa': 'Not Available'}"
      ]
     },
     "execution_count": 30,
     "metadata": {},
     "output_type": "execute_result"
    }
   ],
   "source": [
    "lang"
   ]
  },
  {
   "cell_type": "markdown",
   "id": "3f778432",
   "metadata": {},
   "source": [
    "##### Using setdefault()\n",
    "Create a dictionary that stores the traditional dishes of Indian states:\n",
    "{\"Punjab\": \"Sarson da Saag\", \"Bengal\": \"Rasgulla\"}.\n",
    "\n",
    "Use setdefault() to ensure \"Gujarat\" has the dish \"Dhokla\", and print the updated dictionary."
   ]
  },
  {
   "cell_type": "code",
   "execution_count": 32,
   "id": "bb340c40",
   "metadata": {},
   "outputs": [],
   "source": [
    "dishes = {\"Punjab\": \"Sarson da Saag\", \"Bengal\": \"Rasgulla\"}"
   ]
  },
  {
   "cell_type": "code",
   "execution_count": 33,
   "id": "2ff29a9c",
   "metadata": {},
   "outputs": [
    {
     "ename": "KeyError",
     "evalue": "'Gujarat'",
     "output_type": "error",
     "traceback": [
      "\u001b[0;31m---------------------------------------------------------------------------\u001b[0m",
      "\u001b[0;31mKeyError\u001b[0m                                  Traceback (most recent call last)",
      "Cell \u001b[0;32mIn[33], line 1\u001b[0m\n\u001b[0;32m----> 1\u001b[0m \u001b[43mdishes\u001b[49m\u001b[43m[\u001b[49m\u001b[38;5;124;43m\"\u001b[39;49m\u001b[38;5;124;43mGujarat\u001b[39;49m\u001b[38;5;124;43m\"\u001b[39;49m\u001b[43m]\u001b[49m\n",
      "\u001b[0;31mKeyError\u001b[0m: 'Gujarat'"
     ]
    }
   ],
   "source": [
    "dishes[\"Gujarat\"]"
   ]
  },
  {
   "cell_type": "code",
   "execution_count": null,
   "id": "742245a7",
   "metadata": {},
   "outputs": [],
   "source": [
    "# dishes[\"Gujarat\"]= \"Dhokla\""
   ]
  },
  {
   "cell_type": "code",
   "execution_count": 34,
   "id": "81d27363",
   "metadata": {},
   "outputs": [
    {
     "data": {
      "text/plain": [
       "'Dhokla'"
      ]
     },
     "execution_count": 34,
     "metadata": {},
     "output_type": "execute_result"
    }
   ],
   "source": [
    "\n",
    "dishes.setdefault(\"Gujarat\", \"Dhokla\")"
   ]
  },
  {
   "cell_type": "code",
   "execution_count": 35,
   "id": "3f008ac0",
   "metadata": {},
   "outputs": [
    {
     "data": {
      "text/plain": [
       "{'Punjab': 'Sarson da Saag', 'Bengal': 'Rasgulla', 'Gujarat': 'Dhokla'}"
      ]
     },
     "execution_count": 35,
     "metadata": {},
     "output_type": "execute_result"
    }
   ],
   "source": [
    "dishes"
   ]
  },
  {
   "cell_type": "code",
   "execution_count": null,
   "id": "e93aa722",
   "metadata": {},
   "outputs": [],
   "source": []
  },
  {
   "cell_type": "markdown",
   "id": "3f4e79ba",
   "metadata": {},
   "source": [
    "##### Creating a Dictionary from Lists\n",
    "You are given two lists:\n",
    "\n",
    "    States: [\"Rajasthan\", \"Assam\", \"Bihar\"]\n",
    "    Capitals: [\"Jaipur\", \"Dispur\", \"Patna\"]\n",
    "    Create a dictionary using these two lists, where the states are the keys and the capitals are the values."
   ]
  },
  {
   "cell_type": "code",
   "execution_count": 37,
   "id": "602538d3",
   "metadata": {},
   "outputs": [],
   "source": [
    "states   = [\"Rajasthan\", \"Assam\", \"Bihar\"]\n",
    "capitals = [\"Jaipur\", \"Dispur\", \"Patna\"]\n",
    "\n",
    "\n",
    "result = {\n",
    "    \"Rajasthan\" : \"Jaipur\"\n",
    "}"
   ]
  },
  {
   "cell_type": "code",
   "execution_count": 39,
   "id": "7e8dc816",
   "metadata": {},
   "outputs": [
    {
     "data": {
      "text/plain": [
       "[('Rajasthan', 'Jaipur'), ('Assam', 'Dispur'), ('Bihar', 'Patna')]"
      ]
     },
     "execution_count": 39,
     "metadata": {},
     "output_type": "execute_result"
    }
   ],
   "source": [
    "list(zip(states, capitals))"
   ]
  },
  {
   "cell_type": "code",
   "execution_count": 40,
   "id": "531523a4",
   "metadata": {},
   "outputs": [
    {
     "data": {
      "text/plain": [
       "{'Rajasthan': 'Jaipur', 'Assam': 'Dispur', 'Bihar': 'Patna'}"
      ]
     },
     "execution_count": 40,
     "metadata": {},
     "output_type": "execute_result"
    }
   ],
   "source": [
    "dict(zip(states, capitals))"
   ]
  },
  {
   "cell_type": "code",
   "execution_count": 42,
   "id": "375dc2b7",
   "metadata": {},
   "outputs": [
    {
     "data": {
      "text/plain": [
       "{'Rajasthan': 'Jaipur'}"
      ]
     },
     "execution_count": 42,
     "metadata": {},
     "output_type": "execute_result"
    }
   ],
   "source": [
    "dict(Rajasthan = \"Jaipur\")"
   ]
  },
  {
   "cell_type": "markdown",
   "id": "ce7a164e",
   "metadata": {},
   "source": [
    "##### Dictionary of Dictionaries\n",
    "Create a dictionary representing a few famous monuments in India and the year they were built:\n",
    "\n",
    "    monuments = {\n",
    "        \"Taj Mahal\": {\"Location\": \"Agra\", \"Year\": 1632},\n",
    "        \"Qutub Minar\": {\"Location\": \"Delhi\", \"Year\": 1193},\n",
    "        \"Gateway of India\": {\"Location\": \"Mumbai\", \"Year\": 1924}\n",
    "    }\n",
    "Retrieve the year the Taj Mahal was built from the nested dictionary."
   ]
  },
  {
   "cell_type": "code",
   "execution_count": 46,
   "id": "c0529c17",
   "metadata": {},
   "outputs": [
    {
     "data": {
      "text/plain": [
       "1632"
      ]
     },
     "execution_count": 46,
     "metadata": {},
     "output_type": "execute_result"
    }
   ],
   "source": [
    "monuments = {\n",
    "    \"Taj Mahal\": {\"Location\": \"Agra\", \"Year\": 1632},\n",
    "    \"Qutub Minar\": {\"Location\": \"Delhi\", \"Year\": 1193},\n",
    "    \"Gateway of India\": {\"Location\": \"Mumbai\", \"Year\": 1924}\n",
    "}\n",
    "\n",
    "\n",
    "monuments[\"Taj Mahal\"][\"Year\"]"
   ]
  },
  {
   "cell_type": "code",
   "execution_count": null,
   "id": "4203496e",
   "metadata": {},
   "outputs": [],
   "source": []
  }
 ],
 "metadata": {
  "kernelspec": {
   "display_name": "Python 3 (ipykernel)",
   "language": "python",
   "name": "python3"
  },
  "language_info": {
   "codemirror_mode": {
    "name": "ipython",
    "version": 3
   },
   "file_extension": ".py",
   "mimetype": "text/x-python",
   "name": "python",
   "nbconvert_exporter": "python",
   "pygments_lexer": "ipython3",
   "version": "3.10.8"
  }
 },
 "nbformat": 4,
 "nbformat_minor": 5
}
