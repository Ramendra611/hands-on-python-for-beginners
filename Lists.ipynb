{
 "cells": [
  {
   "cell_type": "code",
   "execution_count": 3,
   "id": "5bbba684",
   "metadata": {},
   "outputs": [
    {
     "data": {
      "text/plain": [
       "[1, 2, 3]"
      ]
     },
     "execution_count": 3,
     "metadata": {},
     "output_type": "execute_result"
    }
   ],
   "source": [
    "list_of_numbers = [ 1, 2, 3 ]\n",
    "list_of_numbers"
   ]
  },
  {
   "cell_type": "code",
   "execution_count": 4,
   "id": "2c3ca0e2",
   "metadata": {},
   "outputs": [
    {
     "data": {
      "text/plain": [
       "list"
      ]
     },
     "execution_count": 4,
     "metadata": {},
     "output_type": "execute_result"
    }
   ],
   "source": [
    "type(list_of_numbers)"
   ]
  },
  {
   "cell_type": "code",
   "execution_count": 5,
   "id": "6bf1ebc4",
   "metadata": {},
   "outputs": [
    {
     "name": "stdout",
     "output_type": "stream",
     "text": [
      "<class 'list'>\n"
     ]
    }
   ],
   "source": [
    "print(type(list_of_numbers))"
   ]
  },
  {
   "cell_type": "code",
   "execution_count": null,
   "id": "8222f74c",
   "metadata": {},
   "outputs": [],
   "source": [
    "## Attributes of list\n",
    "    - length\n",
    "    - indexes\n",
    "    - first\n",
    "    - last \n",
    "    \n",
    "## Method\n",
    "    - append\n",
    "    - delete\n",
    "    - create\n",
    "    - pop\n",
    "    "
   ]
  },
  {
   "cell_type": "code",
   "execution_count": 6,
   "id": "3b8751e4",
   "metadata": {},
   "outputs": [],
   "source": [
    "list_of_friends = [\"Ram\", \"Shyam\", \"Ghanshyam\"]"
   ]
  },
  {
   "cell_type": "code",
   "execution_count": 7,
   "id": "a80a9571",
   "metadata": {},
   "outputs": [
    {
     "data": {
      "text/plain": [
       "3"
      ]
     },
     "execution_count": 7,
     "metadata": {},
     "output_type": "execute_result"
    }
   ],
   "source": [
    "len(list_of_friends)"
   ]
  },
  {
   "cell_type": "code",
   "execution_count": 8,
   "id": "e82e8076",
   "metadata": {},
   "outputs": [
    {
     "data": {
      "text/plain": [
       "'Ram'"
      ]
     },
     "execution_count": 8,
     "metadata": {},
     "output_type": "execute_result"
    }
   ],
   "source": [
    "list_of_friends[0]"
   ]
  },
  {
   "cell_type": "code",
   "execution_count": 9,
   "id": "15ac65d9",
   "metadata": {},
   "outputs": [
    {
     "data": {
      "text/plain": [
       "str"
      ]
     },
     "execution_count": 9,
     "metadata": {},
     "output_type": "execute_result"
    }
   ],
   "source": [
    "type(list_of_friends[0])"
   ]
  },
  {
   "cell_type": "code",
   "execution_count": 10,
   "id": "93a9ca35",
   "metadata": {},
   "outputs": [
    {
     "name": "stdout",
     "output_type": "stream",
     "text": [
      "<class 'str'>\n"
     ]
    }
   ],
   "source": [
    "print(type(list_of_friends[0]))"
   ]
  },
  {
   "cell_type": "code",
   "execution_count": 12,
   "id": "fd6a758f",
   "metadata": {},
   "outputs": [
    {
     "data": {
      "text/plain": [
       "('Shyam', 'Ghanshyam')"
      ]
     },
     "execution_count": 12,
     "metadata": {},
     "output_type": "execute_result"
    }
   ],
   "source": [
    "list_of_friends[1], list_of_friends[2]"
   ]
  },
  {
   "cell_type": "code",
   "execution_count": 14,
   "id": "200f9bd6",
   "metadata": {},
   "outputs": [
    {
     "ename": "IndexError",
     "evalue": "list index out of range",
     "output_type": "error",
     "traceback": [
      "\u001b[0;31m---------------------------------------------------------------------------\u001b[0m",
      "\u001b[0;31mIndexError\u001b[0m                                Traceback (most recent call last)",
      "Cell \u001b[0;32mIn[14], line 1\u001b[0m\n\u001b[0;32m----> 1\u001b[0m \u001b[43mlist_of_friends\u001b[49m\u001b[43m[\u001b[49m\u001b[38;5;241;43m4\u001b[39;49m\u001b[43m]\u001b[49m\n",
      "\u001b[0;31mIndexError\u001b[0m: list index out of range"
     ]
    }
   ],
   "source": [
    "list_of_friends[4]"
   ]
  },
  {
   "cell_type": "code",
   "execution_count": 15,
   "id": "e80da19c",
   "metadata": {},
   "outputs": [
    {
     "data": {
      "text/plain": [
       "['Ram', 'Shyam', 'Ghanshyam']"
      ]
     },
     "execution_count": 15,
     "metadata": {},
     "output_type": "execute_result"
    }
   ],
   "source": [
    "list_of_friends"
   ]
  },
  {
   "cell_type": "code",
   "execution_count": 16,
   "id": "5bb9f4e5",
   "metadata": {},
   "outputs": [],
   "source": [
    "len_of_list = len(list_of_friends)"
   ]
  },
  {
   "cell_type": "code",
   "execution_count": 17,
   "id": "4df7dbd5",
   "metadata": {},
   "outputs": [
    {
     "data": {
      "text/plain": [
       "3"
      ]
     },
     "execution_count": 17,
     "metadata": {},
     "output_type": "execute_result"
    }
   ],
   "source": [
    "len_of_list"
   ]
  },
  {
   "cell_type": "code",
   "execution_count": 18,
   "id": "c100b957",
   "metadata": {},
   "outputs": [
    {
     "data": {
      "text/plain": [
       "'Ghanshyam'"
      ]
     },
     "execution_count": 18,
     "metadata": {},
     "output_type": "execute_result"
    }
   ],
   "source": [
    "list_of_friends[len_of_list-1]"
   ]
  },
  {
   "cell_type": "code",
   "execution_count": 19,
   "id": "7ed88a2c",
   "metadata": {},
   "outputs": [
    {
     "data": {
      "text/plain": [
       "'Ghanshyam'"
      ]
     },
     "execution_count": 19,
     "metadata": {},
     "output_type": "execute_result"
    }
   ],
   "source": [
    "list_of_friends[-1]"
   ]
  },
  {
   "cell_type": "code",
   "execution_count": 21,
   "id": "f5355285",
   "metadata": {},
   "outputs": [
    {
     "data": {
      "text/plain": [
       "'Shyam'"
      ]
     },
     "execution_count": 21,
     "metadata": {},
     "output_type": "execute_result"
    }
   ],
   "source": [
    "list_of_friends[-2]"
   ]
  },
  {
   "cell_type": "code",
   "execution_count": 22,
   "id": "06e2f0e7",
   "metadata": {},
   "outputs": [
    {
     "data": {
      "text/plain": [
       "'Ram'"
      ]
     },
     "execution_count": 22,
     "metadata": {},
     "output_type": "execute_result"
    }
   ],
   "source": [
    "list_of_friends[-3]"
   ]
  },
  {
   "cell_type": "code",
   "execution_count": 23,
   "id": "a48bf3aa",
   "metadata": {},
   "outputs": [
    {
     "ename": "IndexError",
     "evalue": "list index out of range",
     "output_type": "error",
     "traceback": [
      "\u001b[0;31m---------------------------------------------------------------------------\u001b[0m",
      "\u001b[0;31mIndexError\u001b[0m                                Traceback (most recent call last)",
      "Cell \u001b[0;32mIn[23], line 1\u001b[0m\n\u001b[0;32m----> 1\u001b[0m \u001b[43mlist_of_friends\u001b[49m\u001b[43m[\u001b[49m\u001b[38;5;241;43m-\u001b[39;49m\u001b[38;5;241;43m4\u001b[39;49m\u001b[43m]\u001b[49m\n",
      "\u001b[0;31mIndexError\u001b[0m: list index out of range"
     ]
    }
   ],
   "source": [
    "list_of_friends[-4]"
   ]
  },
  {
   "cell_type": "code",
   "execution_count": null,
   "id": "f0073c90",
   "metadata": {},
   "outputs": [],
   "source": []
  },
  {
   "cell_type": "markdown",
   "id": "3cd6f491",
   "metadata": {},
   "source": [
    "## Slicing a list"
   ]
  },
  {
   "cell_type": "code",
   "execution_count": 27,
   "id": "f0468d9f",
   "metadata": {},
   "outputs": [],
   "source": [
    "list_of_students  = [\"Mohan\", \"Sohan\", \"Rohan\", \"Amit\", \"Rajesh\", \"Rajesh\", \"Mahesh\", \"Suresh\"]"
   ]
  },
  {
   "cell_type": "code",
   "execution_count": 28,
   "id": "923a8e5e",
   "metadata": {},
   "outputs": [
    {
     "data": {
      "text/plain": [
       "8"
      ]
     },
     "execution_count": 28,
     "metadata": {},
     "output_type": "execute_result"
    }
   ],
   "source": [
    "len(list_of_students)"
   ]
  },
  {
   "cell_type": "markdown",
   "id": "978b2f9f",
   "metadata": {},
   "source": [
    "- Who are the top 3 students?   [\"Mohan\", \"Sohan\", \"Rohan\"]\n",
    "- Who are the last 2 students ? [\"Mahesh\", \"Suresh\"]"
   ]
  },
  {
   "cell_type": "code",
   "execution_count": 29,
   "id": "76d95616",
   "metadata": {},
   "outputs": [
    {
     "data": {
      "text/plain": [
       "['Mohan', 'Sohan', 'Rohan']"
      ]
     },
     "execution_count": 29,
     "metadata": {},
     "output_type": "execute_result"
    }
   ],
   "source": [
    "[ list_of_students[0], list_of_students[1], list_of_students[2] ]"
   ]
  },
  {
   "cell_type": "code",
   "execution_count": 31,
   "id": "d71d4e20",
   "metadata": {},
   "outputs": [
    {
     "data": {
      "text/plain": [
       "['Mohan', 'Sohan', 'Rohan']"
      ]
     },
     "execution_count": 31,
     "metadata": {},
     "output_type": "execute_result"
    }
   ],
   "source": [
    "list_of_students[0:3]  # slicing a list"
   ]
  },
  {
   "cell_type": "code",
   "execution_count": 32,
   "id": "59ad7e12",
   "metadata": {},
   "outputs": [
    {
     "data": {
      "text/plain": [
       "['Rohan', 'Amit', 'Rajesh']"
      ]
     },
     "execution_count": 32,
     "metadata": {},
     "output_type": "execute_result"
    }
   ],
   "source": [
    "list_of_students[2:5]           "
   ]
  },
  {
   "cell_type": "code",
   "execution_count": 34,
   "id": "086032ad",
   "metadata": {},
   "outputs": [
    {
     "data": {
      "text/plain": [
       "8"
      ]
     },
     "execution_count": 34,
     "metadata": {},
     "output_type": "execute_result"
    }
   ],
   "source": [
    "len(list_of_students)"
   ]
  },
  {
   "cell_type": "code",
   "execution_count": 38,
   "id": "6c553c06",
   "metadata": {},
   "outputs": [
    {
     "data": {
      "text/plain": [
       "['Mahesh', 'Suresh']"
      ]
     },
     "execution_count": 38,
     "metadata": {},
     "output_type": "execute_result"
    }
   ],
   "source": [
    "list_of_students[-2:len(list_of_students)]"
   ]
  },
  {
   "cell_type": "code",
   "execution_count": 40,
   "id": "2a2ae7d9",
   "metadata": {},
   "outputs": [
    {
     "data": {
      "text/plain": [
       "['Mahesh', 'Suresh']"
      ]
     },
     "execution_count": 40,
     "metadata": {},
     "output_type": "execute_result"
    }
   ],
   "source": [
    "list_of_students[-2: ]  # from 2nd last element till the end of the list"
   ]
  },
  {
   "cell_type": "code",
   "execution_count": 42,
   "id": "f321f884",
   "metadata": {},
   "outputs": [
    {
     "data": {
      "text/plain": [
       "['Mohan', 'Sohan', 'Rohan', 'Amit', 'Rajesh', 'Rajesh', 'Mahesh', 'Suresh']"
      ]
     },
     "execution_count": 42,
     "metadata": {},
     "output_type": "execute_result"
    }
   ],
   "source": [
    "list_of_students"
   ]
  },
  {
   "cell_type": "code",
   "execution_count": 41,
   "id": "d886bab2",
   "metadata": {},
   "outputs": [
    {
     "data": {
      "text/plain": [
       "['Sohan', 'Rohan', 'Amit', 'Rajesh', 'Rajesh', 'Mahesh', 'Suresh']"
      ]
     },
     "execution_count": 41,
     "metadata": {},
     "output_type": "execute_result"
    }
   ],
   "source": [
    "list_of_students[1:]"
   ]
  },
  {
   "cell_type": "code",
   "execution_count": 43,
   "id": "350c7376",
   "metadata": {},
   "outputs": [
    {
     "data": {
      "text/plain": [
       "['Mohan', 'Sohan', 'Rohan', 'Amit']"
      ]
     },
     "execution_count": 43,
     "metadata": {},
     "output_type": "execute_result"
    }
   ],
   "source": [
    "list_of_students[ :4] ## from beginning till the 4th element ( till 3rd index)"
   ]
  },
  {
   "cell_type": "code",
   "execution_count": null,
   "id": "47692986",
   "metadata": {},
   "outputs": [],
   "source": []
  },
  {
   "cell_type": "code",
   "execution_count": 145,
   "id": "0dbe75d3",
   "metadata": {},
   "outputs": [],
   "source": [
    "list_of_students  = [\"Mohan\", \"Sohan\", \"Rohan\", \"Amit\", \"Rajesh\", \"Ramesh\", \"Mahesh\", \"Suresh\"]"
   ]
  },
  {
   "cell_type": "code",
   "execution_count": 146,
   "id": "314031b0",
   "metadata": {},
   "outputs": [
    {
     "data": {
      "text/plain": [
       "['Rohan', 'Amit', 'Rajesh', 'Ramesh']"
      ]
     },
     "execution_count": 146,
     "metadata": {},
     "output_type": "execute_result"
    }
   ],
   "source": [
    "list_of_students[2 : -2 ]"
   ]
  },
  {
   "cell_type": "code",
   "execution_count": 147,
   "id": "11991ed1",
   "metadata": {},
   "outputs": [
    {
     "data": {
      "text/plain": [
       "['Rohan', 'Rajesh']"
      ]
     },
     "execution_count": 147,
     "metadata": {},
     "output_type": "execute_result"
    }
   ],
   "source": [
    "list_of_students[2 : -2 : 2 ]"
   ]
  },
  {
   "cell_type": "code",
   "execution_count": 148,
   "id": "0cc33d0e",
   "metadata": {},
   "outputs": [],
   "source": [
    "list_of_numbers = [1, 2, 3, 4, 5, 6, 7, 8, 9, 10, 11, 12]"
   ]
  },
  {
   "cell_type": "code",
   "execution_count": 151,
   "id": "de7400da",
   "metadata": {},
   "outputs": [
    {
     "data": {
      "text/plain": [
       "[2, 4, 6, 8, 10, 12]"
      ]
     },
     "execution_count": 151,
     "metadata": {},
     "output_type": "execute_result"
    }
   ],
   "source": [
    "list_of_numbers[1 : : 2]"
   ]
  },
  {
   "cell_type": "code",
   "execution_count": 152,
   "id": "45af4255",
   "metadata": {},
   "outputs": [
    {
     "data": {
      "text/plain": [
       "[12, 11, 10, 9, 8, 7, 6, 5, 4, 3, 2, 1]"
      ]
     },
     "execution_count": 152,
     "metadata": {},
     "output_type": "execute_result"
    }
   ],
   "source": [
    "list_of_numbers[ : : -1]"
   ]
  },
  {
   "cell_type": "code",
   "execution_count": null,
   "id": "1e875c3c",
   "metadata": {},
   "outputs": [],
   "source": []
  },
  {
   "cell_type": "code",
   "execution_count": null,
   "id": "020a9dcc",
   "metadata": {},
   "outputs": [],
   "source": []
  },
  {
   "cell_type": "markdown",
   "id": "c08f648b",
   "metadata": {},
   "source": [
    "## Creating a list"
   ]
  },
  {
   "cell_type": "code",
   "execution_count": 45,
   "id": "40f61938",
   "metadata": {},
   "outputs": [],
   "source": [
    "list_of_cities = [\"Mum\", \"Del\", \"Kol\", \"Hyd\"]"
   ]
  },
  {
   "cell_type": "code",
   "execution_count": 46,
   "id": "56ff85a4",
   "metadata": {},
   "outputs": [
    {
     "data": {
      "text/plain": [
       "['Mum', 'Del', 'Kol', 'Hyd']"
      ]
     },
     "execution_count": 46,
     "metadata": {},
     "output_type": "execute_result"
    }
   ],
   "source": [
    "list((\"Mum\", \"Del\", \"Kol\", \"Hyd\"))"
   ]
  },
  {
   "cell_type": "code",
   "execution_count": 47,
   "id": "bb2fadcf",
   "metadata": {},
   "outputs": [],
   "source": [
    "list_of_states = []"
   ]
  },
  {
   "cell_type": "code",
   "execution_count": 48,
   "id": "3056a858",
   "metadata": {},
   "outputs": [
    {
     "data": {
      "text/plain": [
       "list"
      ]
     },
     "execution_count": 48,
     "metadata": {},
     "output_type": "execute_result"
    }
   ],
   "source": [
    "type(list_of_states)"
   ]
  },
  {
   "cell_type": "code",
   "execution_count": 49,
   "id": "69f36e98",
   "metadata": {},
   "outputs": [
    {
     "data": {
      "text/plain": [
       "0"
      ]
     },
     "execution_count": 49,
     "metadata": {},
     "output_type": "execute_result"
    }
   ],
   "source": [
    "len(list_of_states)"
   ]
  },
  {
   "cell_type": "code",
   "execution_count": 51,
   "id": "fe45d470",
   "metadata": {},
   "outputs": [],
   "source": [
    "empty_list = list()"
   ]
  },
  {
   "cell_type": "code",
   "execution_count": null,
   "id": "b556a81f",
   "metadata": {},
   "outputs": [],
   "source": []
  },
  {
   "cell_type": "code",
   "execution_count": null,
   "id": "4cc114c8",
   "metadata": {},
   "outputs": [],
   "source": []
  },
  {
   "cell_type": "markdown",
   "id": "f4e987ea",
   "metadata": {},
   "source": [
    "## Modifying elements in a list\n",
    "        - appending or adding something to a list\n",
    "        - removing something from a list\n",
    "        - changing something in a list"
   ]
  },
  {
   "cell_type": "code",
   "execution_count": null,
   "id": "e0706ef0",
   "metadata": {},
   "outputs": [],
   "source": []
  },
  {
   "cell_type": "markdown",
   "id": "eaf069a5",
   "metadata": {},
   "source": [
    "### Appending to a list"
   ]
  },
  {
   "cell_type": "code",
   "execution_count": 53,
   "id": "41baf5d0",
   "metadata": {},
   "outputs": [],
   "source": [
    "list_of_cities.append(\"Blr\")"
   ]
  },
  {
   "cell_type": "code",
   "execution_count": 54,
   "id": "a2aa859f",
   "metadata": {},
   "outputs": [
    {
     "data": {
      "text/plain": [
       "['Mum', 'Del', 'Kol', 'Hyd', 'Blr']"
      ]
     },
     "execution_count": 54,
     "metadata": {},
     "output_type": "execute_result"
    }
   ],
   "source": [
    "list_of_cities"
   ]
  },
  {
   "cell_type": "code",
   "execution_count": 55,
   "id": "de1b0bce",
   "metadata": {},
   "outputs": [],
   "source": [
    "list_of_cities.append(\"Pun\")"
   ]
  },
  {
   "cell_type": "code",
   "execution_count": 56,
   "id": "22847c93",
   "metadata": {},
   "outputs": [
    {
     "data": {
      "text/plain": [
       "['Mum', 'Del', 'Kol', 'Hyd', 'Blr', 'Pun']"
      ]
     },
     "execution_count": 56,
     "metadata": {},
     "output_type": "execute_result"
    }
   ],
   "source": [
    "list_of_cities"
   ]
  },
  {
   "cell_type": "code",
   "execution_count": 57,
   "id": "557e297b",
   "metadata": {},
   "outputs": [
    {
     "data": {
      "text/plain": [
       "6"
      ]
     },
     "execution_count": 57,
     "metadata": {},
     "output_type": "execute_result"
    }
   ],
   "source": [
    "len(list_of_cities)"
   ]
  },
  {
   "cell_type": "markdown",
   "id": "37495598",
   "metadata": {},
   "source": [
    "### Changing an element in a list"
   ]
  },
  {
   "cell_type": "code",
   "execution_count": 59,
   "id": "cdc1aa22",
   "metadata": {},
   "outputs": [],
   "source": [
    "list_of_cities[2] = \"Che\""
   ]
  },
  {
   "cell_type": "code",
   "execution_count": 62,
   "id": "41428885",
   "metadata": {},
   "outputs": [
    {
     "data": {
      "text/plain": [
       "['Mum', 'Del', 'Che', 'Hyd', 'Blr', 'Pun']"
      ]
     },
     "execution_count": 62,
     "metadata": {},
     "output_type": "execute_result"
    }
   ],
   "source": [
    "list_of_cities"
   ]
  },
  {
   "cell_type": "code",
   "execution_count": 63,
   "id": "8e2923e2",
   "metadata": {},
   "outputs": [],
   "source": [
    "list_of_cities[-1] = \"Del\""
   ]
  },
  {
   "cell_type": "code",
   "execution_count": 64,
   "id": "4f0eb8d6",
   "metadata": {},
   "outputs": [
    {
     "data": {
      "text/plain": [
       "['Mum', 'Del', 'Che', 'Hyd', 'Blr', 'Del']"
      ]
     },
     "execution_count": 64,
     "metadata": {},
     "output_type": "execute_result"
    }
   ],
   "source": [
    "list_of_cities"
   ]
  },
  {
   "cell_type": "code",
   "execution_count": null,
   "id": "5b6bddd4",
   "metadata": {},
   "outputs": [],
   "source": []
  },
  {
   "cell_type": "markdown",
   "id": "5333951e",
   "metadata": {},
   "source": [
    "### Inserting an element into a list"
   ]
  },
  {
   "cell_type": "code",
   "execution_count": 65,
   "id": "7f83ca44",
   "metadata": {},
   "outputs": [
    {
     "data": {
      "text/plain": [
       "['Mum', 'Del', 'Che', 'Hyd', 'Blr', 'Del']"
      ]
     },
     "execution_count": 65,
     "metadata": {},
     "output_type": "execute_result"
    }
   ],
   "source": [
    "list_of_cities"
   ]
  },
  {
   "cell_type": "code",
   "execution_count": 66,
   "id": "a4af2052",
   "metadata": {},
   "outputs": [],
   "source": [
    "list_of_cities.insert(2, \"Pun\")"
   ]
  },
  {
   "cell_type": "code",
   "execution_count": 67,
   "id": "8464d55a",
   "metadata": {},
   "outputs": [
    {
     "data": {
      "text/plain": [
       "['Mum', 'Del', 'Pun', 'Che', 'Hyd', 'Blr', 'Del']"
      ]
     },
     "execution_count": 67,
     "metadata": {},
     "output_type": "execute_result"
    }
   ],
   "source": [
    "list_of_cities"
   ]
  },
  {
   "cell_type": "code",
   "execution_count": null,
   "id": "447dab1b",
   "metadata": {},
   "outputs": [],
   "source": []
  },
  {
   "cell_type": "markdown",
   "id": "51e696be",
   "metadata": {},
   "source": [
    "### Removing something from a list"
   ]
  },
  {
   "cell_type": "code",
   "execution_count": 68,
   "id": "ef4ff095",
   "metadata": {},
   "outputs": [],
   "source": [
    "list_of_cities.remove(\"Che\")"
   ]
  },
  {
   "cell_type": "code",
   "execution_count": 69,
   "id": "13999a1c",
   "metadata": {},
   "outputs": [
    {
     "data": {
      "text/plain": [
       "['Mum', 'Del', 'Pun', 'Hyd', 'Blr', 'Del']"
      ]
     },
     "execution_count": 69,
     "metadata": {},
     "output_type": "execute_result"
    }
   ],
   "source": [
    "list_of_cities"
   ]
  },
  {
   "cell_type": "code",
   "execution_count": 70,
   "id": "e8ca6875",
   "metadata": {},
   "outputs": [
    {
     "data": {
      "text/plain": [
       "['Mum', 'Del', 'Pun', 'Hyd', 'Blr', 'Del']"
      ]
     },
     "execution_count": 70,
     "metadata": {},
     "output_type": "execute_result"
    }
   ],
   "source": [
    "list_of_cities"
   ]
  },
  {
   "cell_type": "code",
   "execution_count": 71,
   "id": "f48f00e0",
   "metadata": {},
   "outputs": [],
   "source": [
    "list_of_cities.remove(\"Del\")"
   ]
  },
  {
   "cell_type": "code",
   "execution_count": 72,
   "id": "27e38faa",
   "metadata": {},
   "outputs": [
    {
     "data": {
      "text/plain": [
       "['Mum', 'Pun', 'Hyd', 'Blr', 'Del']"
      ]
     },
     "execution_count": 72,
     "metadata": {},
     "output_type": "execute_result"
    }
   ],
   "source": [
    "list_of_cities"
   ]
  },
  {
   "cell_type": "markdown",
   "id": "d7e10a26",
   "metadata": {},
   "source": [
    "### Popping something from a list"
   ]
  },
  {
   "cell_type": "code",
   "execution_count": 73,
   "id": "a3dd6ddd",
   "metadata": {},
   "outputs": [
    {
     "data": {
      "text/plain": [
       "'Del'"
      ]
     },
     "execution_count": 73,
     "metadata": {},
     "output_type": "execute_result"
    }
   ],
   "source": [
    "list_of_cities.pop()"
   ]
  },
  {
   "cell_type": "code",
   "execution_count": 74,
   "id": "ac8beaed",
   "metadata": {},
   "outputs": [
    {
     "data": {
      "text/plain": [
       "['Mum', 'Pun', 'Hyd', 'Blr']"
      ]
     },
     "execution_count": 74,
     "metadata": {},
     "output_type": "execute_result"
    }
   ],
   "source": [
    "list_of_cities"
   ]
  },
  {
   "cell_type": "code",
   "execution_count": 75,
   "id": "2bd0688e",
   "metadata": {},
   "outputs": [
    {
     "data": {
      "text/plain": [
       "'Hyd'"
      ]
     },
     "execution_count": 75,
     "metadata": {},
     "output_type": "execute_result"
    }
   ],
   "source": [
    "list_of_cities.pop(2)"
   ]
  },
  {
   "cell_type": "code",
   "execution_count": 76,
   "id": "37ddc69e",
   "metadata": {},
   "outputs": [
    {
     "data": {
      "text/plain": [
       "['Mum', 'Pun', 'Blr']"
      ]
     },
     "execution_count": 76,
     "metadata": {},
     "output_type": "execute_result"
    }
   ],
   "source": [
    "list_of_cities"
   ]
  },
  {
   "cell_type": "code",
   "execution_count": 77,
   "id": "a07b5589",
   "metadata": {},
   "outputs": [],
   "source": [
    "city = list_of_cities.pop()"
   ]
  },
  {
   "cell_type": "code",
   "execution_count": 78,
   "id": "75125a5c",
   "metadata": {},
   "outputs": [
    {
     "data": {
      "text/plain": [
       "'Blr'"
      ]
     },
     "execution_count": 78,
     "metadata": {},
     "output_type": "execute_result"
    }
   ],
   "source": [
    "city"
   ]
  },
  {
   "cell_type": "code",
   "execution_count": null,
   "id": "c60f4a5a",
   "metadata": {},
   "outputs": [],
   "source": []
  },
  {
   "cell_type": "markdown",
   "id": "0beb9c1c",
   "metadata": {},
   "source": [
    "### Extending a list"
   ]
  },
  {
   "cell_type": "code",
   "execution_count": 80,
   "id": "b46f07a0",
   "metadata": {},
   "outputs": [],
   "source": [
    "secA = [\"Ram\", \"Shyam\", \"Radheshyam\"]\n",
    "secB = [\"Sita\", \"Gita\", \"Meeta\"]\n",
    "\n"
   ]
  },
  {
   "cell_type": "code",
   "execution_count": 81,
   "id": "fda808e6",
   "metadata": {},
   "outputs": [],
   "source": [
    "secA.append(secB[0])"
   ]
  },
  {
   "cell_type": "code",
   "execution_count": 83,
   "id": "3250ef13",
   "metadata": {},
   "outputs": [],
   "source": [
    "secA.append(secB[1])"
   ]
  },
  {
   "cell_type": "code",
   "execution_count": 85,
   "id": "49faf5fe",
   "metadata": {},
   "outputs": [],
   "source": [
    "secA.append(secB[2])"
   ]
  },
  {
   "cell_type": "code",
   "execution_count": 86,
   "id": "2c8a4cdd",
   "metadata": {},
   "outputs": [
    {
     "data": {
      "text/plain": [
       "['Ram', 'Shyam', 'Radheshyam', 'Sita', 'Gita', 'Meeta']"
      ]
     },
     "execution_count": 86,
     "metadata": {},
     "output_type": "execute_result"
    }
   ],
   "source": [
    "secA"
   ]
  },
  {
   "cell_type": "code",
   "execution_count": 87,
   "id": "7df1c832",
   "metadata": {},
   "outputs": [],
   "source": [
    "secA = [\"Ram\", \"Shyam\", \"Radheshyam\"]\n",
    "secB = [\"Sita\", \"Gita\", \"Meeta\"]\n"
   ]
  },
  {
   "cell_type": "code",
   "execution_count": 90,
   "id": "a44917ea",
   "metadata": {},
   "outputs": [],
   "source": [
    "secA.extend(secB)"
   ]
  },
  {
   "cell_type": "code",
   "execution_count": 91,
   "id": "a868d61e",
   "metadata": {},
   "outputs": [
    {
     "data": {
      "text/plain": [
       "['Ram', 'Shyam', 'Radheshyam', 'Sita', 'Gita', 'Meeta']"
      ]
     },
     "execution_count": 91,
     "metadata": {},
     "output_type": "execute_result"
    }
   ],
   "source": [
    "secA"
   ]
  },
  {
   "cell_type": "code",
   "execution_count": 93,
   "id": "61a59934",
   "metadata": {},
   "outputs": [],
   "source": [
    "secA = [\"Ram\", \"Shyam\", \"Radheshyam\"]\n",
    "secB = [\"Sita\", \"Gita\", \"Meeta\"]"
   ]
  },
  {
   "cell_type": "code",
   "execution_count": 96,
   "id": "8c984274",
   "metadata": {},
   "outputs": [],
   "source": [
    "secA.append(secB)"
   ]
  },
  {
   "cell_type": "code",
   "execution_count": 97,
   "id": "cf32f478",
   "metadata": {},
   "outputs": [
    {
     "data": {
      "text/plain": [
       "['Ram', 'Shyam', 'Radheshyam', ['Sita', 'Gita', 'Meeta']]"
      ]
     },
     "execution_count": 97,
     "metadata": {},
     "output_type": "execute_result"
    }
   ],
   "source": [
    "secA"
   ]
  },
  {
   "cell_type": "code",
   "execution_count": null,
   "id": "86448c20",
   "metadata": {},
   "outputs": [],
   "source": []
  },
  {
   "cell_type": "code",
   "execution_count": 119,
   "id": "b51f537c",
   "metadata": {},
   "outputs": [],
   "source": [
    "secA = [\"Ram\", \"Shyam\", \"Radheshyam\"]\n",
    "secB = [\"Sita\", \"Gita\", \"Meeta\"]"
   ]
  },
  {
   "cell_type": "code",
   "execution_count": 120,
   "id": "e83b93aa",
   "metadata": {},
   "outputs": [
    {
     "data": {
      "text/plain": [
       "['Ram', 'Shyam', 'Radheshyam', 'Sita', 'Gita', 'Meeta']"
      ]
     },
     "execution_count": 120,
     "metadata": {},
     "output_type": "execute_result"
    }
   ],
   "source": [
    "secA + secB"
   ]
  },
  {
   "cell_type": "code",
   "execution_count": 121,
   "id": "a1f69045",
   "metadata": {},
   "outputs": [],
   "source": [
    "secA.extend(secB)"
   ]
  },
  {
   "cell_type": "code",
   "execution_count": 122,
   "id": "83c47e3e",
   "metadata": {},
   "outputs": [
    {
     "data": {
      "text/plain": [
       "['Ram', 'Shyam', 'Radheshyam', 'Sita', 'Gita', 'Meeta']"
      ]
     },
     "execution_count": 122,
     "metadata": {},
     "output_type": "execute_result"
    }
   ],
   "source": [
    "secA"
   ]
  },
  {
   "cell_type": "code",
   "execution_count": null,
   "id": "c403a580",
   "metadata": {},
   "outputs": [],
   "source": []
  },
  {
   "cell_type": "markdown",
   "id": "02be8990",
   "metadata": {},
   "source": [
    "### Sorting a list"
   ]
  },
  {
   "cell_type": "code",
   "execution_count": 124,
   "id": "bab75ec6",
   "metadata": {},
   "outputs": [],
   "source": [
    "list_of_numbers = [5, 3, 8, 9, 1, 0, -10]"
   ]
  },
  {
   "cell_type": "code",
   "execution_count": 132,
   "id": "42704664",
   "metadata": {},
   "outputs": [
    {
     "data": {
      "text/plain": [
       "[-10, 0, 1, 3, 5, 8, 9]"
      ]
     },
     "execution_count": 132,
     "metadata": {},
     "output_type": "execute_result"
    }
   ],
   "source": [
    "sorted(list_of_numbers)"
   ]
  },
  {
   "cell_type": "code",
   "execution_count": 127,
   "id": "f42082ca",
   "metadata": {},
   "outputs": [
    {
     "data": {
      "text/plain": [
       "[9, 8, 5, 3, 1, 0, -10]"
      ]
     },
     "execution_count": 127,
     "metadata": {},
     "output_type": "execute_result"
    }
   ],
   "source": [
    "sorted(list_of_numbers, reverse=True)"
   ]
  },
  {
   "cell_type": "code",
   "execution_count": 133,
   "id": "8ec9c0f4",
   "metadata": {},
   "outputs": [],
   "source": [
    "list_of_numbers.sort()"
   ]
  },
  {
   "cell_type": "code",
   "execution_count": 134,
   "id": "73f8503e",
   "metadata": {},
   "outputs": [
    {
     "data": {
      "text/plain": [
       "[-10, 0, 1, 3, 5, 8, 9]"
      ]
     },
     "execution_count": 134,
     "metadata": {},
     "output_type": "execute_result"
    }
   ],
   "source": [
    "list_of_numbers"
   ]
  },
  {
   "cell_type": "code",
   "execution_count": 128,
   "id": "8e0c9dee",
   "metadata": {},
   "outputs": [],
   "source": [
    "list_of_numbers.sort()"
   ]
  },
  {
   "cell_type": "code",
   "execution_count": 129,
   "id": "6eae7d9b",
   "metadata": {},
   "outputs": [
    {
     "data": {
      "text/plain": [
       "[-10, 0, 1, 3, 5, 8, 9]"
      ]
     },
     "execution_count": 129,
     "metadata": {},
     "output_type": "execute_result"
    }
   ],
   "source": [
    "list_of_numbers"
   ]
  },
  {
   "cell_type": "code",
   "execution_count": 130,
   "id": "417f7f87",
   "metadata": {},
   "outputs": [],
   "source": [
    "list_of_numbers.sort(reverse=True)"
   ]
  },
  {
   "cell_type": "code",
   "execution_count": 131,
   "id": "1578c8db",
   "metadata": {},
   "outputs": [
    {
     "data": {
      "text/plain": [
       "[9, 8, 5, 3, 1, 0, -10]"
      ]
     },
     "execution_count": 131,
     "metadata": {},
     "output_type": "execute_result"
    }
   ],
   "source": [
    "list_of_numbers"
   ]
  },
  {
   "cell_type": "code",
   "execution_count": 138,
   "id": "549e417e",
   "metadata": {},
   "outputs": [],
   "source": [
    "list_of_cities = ['Mum', 'Pun', 'Hyd', 'Blr']"
   ]
  },
  {
   "cell_type": "code",
   "execution_count": 139,
   "id": "d385dd76",
   "metadata": {},
   "outputs": [
    {
     "data": {
      "text/plain": [
       "['Blr', 'Hyd', 'Mum', 'Pun']"
      ]
     },
     "execution_count": 139,
     "metadata": {},
     "output_type": "execute_result"
    }
   ],
   "source": [
    "sorted(list_of_cities)"
   ]
  },
  {
   "cell_type": "code",
   "execution_count": null,
   "id": "14d6da09",
   "metadata": {},
   "outputs": [],
   "source": []
  },
  {
   "cell_type": "code",
   "execution_count": null,
   "id": "affcfc19",
   "metadata": {},
   "outputs": [],
   "source": []
  },
  {
   "cell_type": "markdown",
   "id": "173c8b90",
   "metadata": {},
   "source": [
    "### Reversing a list"
   ]
  },
  {
   "cell_type": "code",
   "execution_count": null,
   "id": "32ec9917",
   "metadata": {},
   "outputs": [],
   "source": []
  },
  {
   "cell_type": "code",
   "execution_count": null,
   "id": "1e94537c",
   "metadata": {},
   "outputs": [],
   "source": []
  },
  {
   "cell_type": "code",
   "execution_count": null,
   "id": "74e82fb5",
   "metadata": {},
   "outputs": [],
   "source": []
  },
  {
   "cell_type": "code",
   "execution_count": 136,
   "id": "4760f90f",
   "metadata": {},
   "outputs": [],
   "source": [
    "list_of_cities = ['Mum', 'Pun', 'Hyd', 'Blr']"
   ]
  },
  {
   "cell_type": "code",
   "execution_count": 137,
   "id": "242b0881",
   "metadata": {},
   "outputs": [
    {
     "data": {
      "text/plain": [
       "['Mum', 'Pun', 'Hyd', 'Blr']"
      ]
     },
     "execution_count": 137,
     "metadata": {},
     "output_type": "execute_result"
    }
   ],
   "source": [
    "list_of_cities"
   ]
  },
  {
   "cell_type": "code",
   "execution_count": 141,
   "id": "6281c757",
   "metadata": {},
   "outputs": [
    {
     "data": {
      "text/plain": [
       "['Blr', 'Hyd', 'Pun', 'Mum']"
      ]
     },
     "execution_count": 141,
     "metadata": {},
     "output_type": "execute_result"
    }
   ],
   "source": [
    "list_of_cities[ : : -1]"
   ]
  },
  {
   "cell_type": "code",
   "execution_count": 158,
   "id": "3fa830f9",
   "metadata": {},
   "outputs": [
    {
     "data": {
      "text/plain": [
       "['Mum', 'Pun', 'Hyd', 'Blr']"
      ]
     },
     "execution_count": 158,
     "metadata": {},
     "output_type": "execute_result"
    }
   ],
   "source": [
    "list_of_cities"
   ]
  },
  {
   "cell_type": "code",
   "execution_count": 159,
   "id": "f10e5a9d",
   "metadata": {},
   "outputs": [],
   "source": [
    "list_of_cities.reverse()"
   ]
  },
  {
   "cell_type": "code",
   "execution_count": 160,
   "id": "11c106d1",
   "metadata": {},
   "outputs": [
    {
     "data": {
      "text/plain": [
       "['Blr', 'Hyd', 'Pun', 'Mum']"
      ]
     },
     "execution_count": 160,
     "metadata": {},
     "output_type": "execute_result"
    }
   ],
   "source": [
    "list_of_cities"
   ]
  },
  {
   "cell_type": "code",
   "execution_count": null,
   "id": "6e9a0237",
   "metadata": {},
   "outputs": [],
   "source": []
  },
  {
   "cell_type": "code",
   "execution_count": null,
   "id": "8c54ad61",
   "metadata": {},
   "outputs": [],
   "source": []
  },
  {
   "cell_type": "markdown",
   "id": "8cfdf1f1",
   "metadata": {},
   "source": [
    "### Repeating a list"
   ]
  },
  {
   "cell_type": "code",
   "execution_count": 161,
   "id": "81123db7",
   "metadata": {},
   "outputs": [
    {
     "data": {
      "text/plain": [
       "[1, 1, 1, 1, 1]"
      ]
     },
     "execution_count": 161,
     "metadata": {},
     "output_type": "execute_result"
    }
   ],
   "source": [
    "[1] * 5"
   ]
  },
  {
   "cell_type": "code",
   "execution_count": 164,
   "id": "33ded621",
   "metadata": {},
   "outputs": [
    {
     "data": {
      "text/plain": [
       "['A', 'B', 'C', 'A', 'B', 'C', 'A', 'B', 'C', 'A', 'B', 'C', 'A', 'B', 'C']"
      ]
     },
     "execution_count": 164,
     "metadata": {},
     "output_type": "execute_result"
    }
   ],
   "source": [
    "[\"A\", \"B\", \"C\"] * 5"
   ]
  },
  {
   "cell_type": "code",
   "execution_count": null,
   "id": "f5c068fa",
   "metadata": {},
   "outputs": [],
   "source": []
  },
  {
   "cell_type": "markdown",
   "id": "902a3c10",
   "metadata": {},
   "source": [
    "### List Comprehensions"
   ]
  },
  {
   "cell_type": "code",
   "execution_count": null,
   "id": "b4ad1c29",
   "metadata": {},
   "outputs": [],
   "source": []
  },
  {
   "cell_type": "code",
   "execution_count": null,
   "id": "f53510be",
   "metadata": {},
   "outputs": [],
   "source": []
  },
  {
   "cell_type": "code",
   "execution_count": null,
   "id": "da9fc13e",
   "metadata": {},
   "outputs": [],
   "source": []
  },
  {
   "cell_type": "code",
   "execution_count": 98,
   "id": "a53680f1",
   "metadata": {},
   "outputs": [],
   "source": [
    "random_list = [1, \"Ram\", \"Hyd\", [4, 5, 6]]"
   ]
  },
  {
   "cell_type": "code",
   "execution_count": 100,
   "id": "08c65dbc",
   "metadata": {},
   "outputs": [
    {
     "data": {
      "text/plain": [
       "4"
      ]
     },
     "execution_count": 100,
     "metadata": {},
     "output_type": "execute_result"
    }
   ],
   "source": [
    "random_list[-1][0]"
   ]
  },
  {
   "cell_type": "code",
   "execution_count": 102,
   "id": "f47652df",
   "metadata": {},
   "outputs": [],
   "source": [
    "secA = [\"Ram\", \"Shyam\", \"Radheshyam\"]\n",
    "secB = [\"Sita\", \"Gita\", \"Meeta\"]\n",
    "secC = [\"Rohan\", \"Mohan\", \"Sohan\"]"
   ]
  },
  {
   "cell_type": "code",
   "execution_count": 104,
   "id": "249bcf2b",
   "metadata": {
    "scrolled": true
   },
   "outputs": [
    {
     "data": {
      "text/plain": [
       "[['Ram', 'Shyam', 'Radheshyam'],\n",
       " ['Sita', 'Gita', 'Meeta'],\n",
       " ['Rohan', 'Mohan', 'Sohan']]"
      ]
     },
     "execution_count": 104,
     "metadata": {},
     "output_type": "execute_result"
    }
   ],
   "source": [
    "section = [secA, secB, secC]\n",
    "section\n",
    "\n"
   ]
  },
  {
   "cell_type": "code",
   "execution_count": 106,
   "id": "b7f4ff79",
   "metadata": {},
   "outputs": [
    {
     "data": {
      "text/plain": [
       "'Meeta'"
      ]
     },
     "execution_count": 106,
     "metadata": {},
     "output_type": "execute_result"
    }
   ],
   "source": [
    "section[1][-1]"
   ]
  },
  {
   "cell_type": "code",
   "execution_count": null,
   "id": "dac9f34b",
   "metadata": {},
   "outputs": [],
   "source": []
  },
  {
   "cell_type": "code",
   "execution_count": null,
   "id": "54bc684e",
   "metadata": {},
   "outputs": [],
   "source": []
  },
  {
   "cell_type": "code",
   "execution_count": null,
   "id": "c7f3ee08",
   "metadata": {},
   "outputs": [],
   "source": []
  },
  {
   "cell_type": "code",
   "execution_count": null,
   "id": "0d1b5e71",
   "metadata": {},
   "outputs": [],
   "source": []
  },
  {
   "cell_type": "code",
   "execution_count": null,
   "id": "8dff5b98",
   "metadata": {},
   "outputs": [],
   "source": []
  },
  {
   "cell_type": "code",
   "execution_count": null,
   "id": "b4b3e8ff",
   "metadata": {},
   "outputs": [],
   "source": []
  },
  {
   "cell_type": "code",
   "execution_count": null,
   "id": "c4a18a1c",
   "metadata": {},
   "outputs": [],
   "source": []
  },
  {
   "cell_type": "markdown",
   "id": "887302af",
   "metadata": {},
   "source": [
    "### Checking the membership in a list"
   ]
  },
  {
   "cell_type": "code",
   "execution_count": 109,
   "id": "2ab243b7",
   "metadata": {},
   "outputs": [],
   "source": [
    "secA = [\"Ram\", \"Shyam\", \"Radheshyam\"]"
   ]
  },
  {
   "cell_type": "code",
   "execution_count": 110,
   "id": "85c77942",
   "metadata": {},
   "outputs": [
    {
     "data": {
      "text/plain": [
       "True"
      ]
     },
     "execution_count": 110,
     "metadata": {},
     "output_type": "execute_result"
    }
   ],
   "source": [
    "\"Shyam\" in secA  # is shyam present in secA"
   ]
  },
  {
   "cell_type": "code",
   "execution_count": 111,
   "id": "82edbc62",
   "metadata": {},
   "outputs": [
    {
     "name": "stdout",
     "output_type": "stream",
     "text": [
      "I am there\n"
     ]
    }
   ],
   "source": [
    "if \"Shyam\" in secA:\n",
    "    print(\"I am there\")"
   ]
  },
  {
   "cell_type": "code",
   "execution_count": 113,
   "id": "7cc92493",
   "metadata": {},
   "outputs": [
    {
     "data": {
      "text/plain": [
       "False"
      ]
     },
     "execution_count": 113,
     "metadata": {},
     "output_type": "execute_result"
    }
   ],
   "source": [
    "\"Mohan\" in secA"
   ]
  },
  {
   "cell_type": "code",
   "execution_count": 116,
   "id": "1e52d338",
   "metadata": {},
   "outputs": [
    {
     "name": "stdout",
     "output_type": "stream",
     "text": [
      "I am not there!!!\n"
     ]
    }
   ],
   "source": [
    "if \"Mohan\" in secA:\n",
    "    print(\"I am there\")\n",
    "else:\n",
    "    print(\"I am not there!!!\")"
   ]
  },
  {
   "cell_type": "code",
   "execution_count": 117,
   "id": "cbead232",
   "metadata": {},
   "outputs": [
    {
     "data": {
      "text/plain": [
       "True"
      ]
     },
     "execution_count": 117,
     "metadata": {},
     "output_type": "execute_result"
    }
   ],
   "source": [
    "\"Mohan\" not in secA"
   ]
  },
  {
   "cell_type": "code",
   "execution_count": 118,
   "id": "f42de052",
   "metadata": {},
   "outputs": [
    {
     "data": {
      "text/plain": [
       "True"
      ]
     },
     "execution_count": 118,
     "metadata": {},
     "output_type": "execute_result"
    }
   ],
   "source": [
    "not(\"Mohan\"  in secA)"
   ]
  },
  {
   "cell_type": "code",
   "execution_count": null,
   "id": "27364b6c",
   "metadata": {},
   "outputs": [],
   "source": []
  },
  {
   "cell_type": "code",
   "execution_count": null,
   "id": "c3ea092b",
   "metadata": {},
   "outputs": [],
   "source": []
  },
  {
   "cell_type": "code",
   "execution_count": null,
   "id": "b86b8643",
   "metadata": {},
   "outputs": [],
   "source": []
  },
  {
   "cell_type": "code",
   "execution_count": null,
   "id": "2a97087c",
   "metadata": {},
   "outputs": [],
   "source": []
  },
  {
   "cell_type": "code",
   "execution_count": null,
   "id": "314639e3",
   "metadata": {},
   "outputs": [],
   "source": []
  },
  {
   "cell_type": "code",
   "execution_count": null,
   "id": "1cde3169",
   "metadata": {},
   "outputs": [],
   "source": []
  },
  {
   "cell_type": "markdown",
   "id": "f7e17f2d",
   "metadata": {},
   "source": [
    "### Clearing a list"
   ]
  },
  {
   "cell_type": "code",
   "execution_count": 107,
   "id": "c25feb77",
   "metadata": {},
   "outputs": [],
   "source": [
    "section.clear()"
   ]
  },
  {
   "cell_type": "code",
   "execution_count": 108,
   "id": "a101fc44",
   "metadata": {},
   "outputs": [
    {
     "data": {
      "text/plain": [
       "[]"
      ]
     },
     "execution_count": 108,
     "metadata": {},
     "output_type": "execute_result"
    }
   ],
   "source": [
    "section"
   ]
  },
  {
   "cell_type": "code",
   "execution_count": null,
   "id": "b1885cd6",
   "metadata": {},
   "outputs": [],
   "source": []
  },
  {
   "cell_type": "code",
   "execution_count": null,
   "id": "70c9ee7b",
   "metadata": {},
   "outputs": [],
   "source": []
  },
  {
   "cell_type": "code",
   "execution_count": null,
   "id": "96e37c42",
   "metadata": {},
   "outputs": [],
   "source": []
  }
 ],
 "metadata": {
  "kernelspec": {
   "display_name": "Python 3 (ipykernel)",
   "language": "python",
   "name": "python3"
  },
  "language_info": {
   "codemirror_mode": {
    "name": "ipython",
    "version": 3
   },
   "file_extension": ".py",
   "mimetype": "text/x-python",
   "name": "python",
   "nbconvert_exporter": "python",
   "pygments_lexer": "ipython3",
   "version": "3.10.8"
  }
 },
 "nbformat": 4,
 "nbformat_minor": 5
}
