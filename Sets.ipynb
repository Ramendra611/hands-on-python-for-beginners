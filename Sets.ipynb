{
 "cells": [
  {
   "cell_type": "markdown",
   "id": "e4de9558",
   "metadata": {},
   "source": [
    "    - contains only unique elements\n",
    "    - unordered\n",
    "    - mutable"
   ]
  },
  {
   "cell_type": "code",
   "execution_count": null,
   "id": "16fc3470",
   "metadata": {},
   "outputs": [],
   "source": []
  },
  {
   "cell_type": "code",
   "execution_count": null,
   "id": "9dddbbfb",
   "metadata": {},
   "outputs": [],
   "source": []
  },
  {
   "cell_type": "markdown",
   "id": "12ad55ac",
   "metadata": {},
   "source": [
    "## Key Characteristics of Sets:\n",
    "    Unordered: No guarantee of maintaining insertion order.\n",
    "    Unique Elements: Duplicates are automatically removed.\n",
    "    Mutable: Elements can be added or removed, but the set itself cannot contain mutable elements (like lists or dictionaries).\n",
    "    Supports Set Operations: Like union, intersection, difference, etc."
   ]
  },
  {
   "cell_type": "code",
   "execution_count": null,
   "id": "73e56731",
   "metadata": {},
   "outputs": [],
   "source": []
  },
  {
   "cell_type": "code",
   "execution_count": 20,
   "id": "9b2166fe",
   "metadata": {},
   "outputs": [
    {
     "data": {
      "text/plain": [
       "{1, 2, 3, 5, 6}"
      ]
     },
     "execution_count": 20,
     "metadata": {},
     "output_type": "execute_result"
    }
   ],
   "source": [
    "my_set = { 1, 2, 3, 2, 5, 6, 1 }\n",
    "my_set"
   ]
  },
  {
   "cell_type": "code",
   "execution_count": 21,
   "id": "8d11c6eb",
   "metadata": {},
   "outputs": [
    {
     "data": {
      "text/plain": [
       "set()"
      ]
     },
     "execution_count": 21,
     "metadata": {},
     "output_type": "execute_result"
    }
   ],
   "source": [
    "set()"
   ]
  },
  {
   "cell_type": "code",
   "execution_count": 22,
   "id": "dcc0d065",
   "metadata": {},
   "outputs": [
    {
     "data": {
      "text/plain": [
       "{1, 2, 4, 5, 6, 7, 8}"
      ]
     },
     "execution_count": 22,
     "metadata": {},
     "output_type": "execute_result"
    }
   ],
   "source": [
    "set([4, 5, 6, 4, 1, 2, 7, 8, 6])"
   ]
  },
  {
   "cell_type": "code",
   "execution_count": null,
   "id": "229f2a40",
   "metadata": {},
   "outputs": [],
   "source": []
  },
  {
   "cell_type": "code",
   "execution_count": 27,
   "id": "db73c4f4",
   "metadata": {},
   "outputs": [],
   "source": [
    "friends = [\"Rohan\", \"Mohan\", \"Sohan\" , \"Mohan\"]"
   ]
  },
  {
   "cell_type": "code",
   "execution_count": 28,
   "id": "9e2d6619",
   "metadata": {},
   "outputs": [
    {
     "data": {
      "text/plain": [
       "{'Mohan', 'Rohan', 'Sohan'}"
      ]
     },
     "execution_count": 28,
     "metadata": {},
     "output_type": "execute_result"
    }
   ],
   "source": [
    "set_friends = set(friends)\n",
    "\n",
    "set_friends"
   ]
  },
  {
   "cell_type": "code",
   "execution_count": 29,
   "id": "38cb8391",
   "metadata": {},
   "outputs": [
    {
     "data": {
      "text/plain": [
       "True"
      ]
     },
     "execution_count": 29,
     "metadata": {},
     "output_type": "execute_result"
    }
   ],
   "source": [
    "\"Rohan\" in set_friends"
   ]
  },
  {
   "cell_type": "code",
   "execution_count": 30,
   "id": "ad8985c6",
   "metadata": {},
   "outputs": [
    {
     "data": {
      "text/plain": [
       "False"
      ]
     },
     "execution_count": 30,
     "metadata": {},
     "output_type": "execute_result"
    }
   ],
   "source": [
    "\"Amit\" in set_friends"
   ]
  },
  {
   "cell_type": "code",
   "execution_count": null,
   "id": "20a9ef7b",
   "metadata": {},
   "outputs": [],
   "source": []
  },
  {
   "cell_type": "code",
   "execution_count": 32,
   "id": "29994823",
   "metadata": {},
   "outputs": [],
   "source": [
    "set_friends.add(\"Amit\")"
   ]
  },
  {
   "cell_type": "code",
   "execution_count": 33,
   "id": "1c85e442",
   "metadata": {},
   "outputs": [
    {
     "data": {
      "text/plain": [
       "{'Amit', 'Mohan', 'Rohan', 'Sohan'}"
      ]
     },
     "execution_count": 33,
     "metadata": {},
     "output_type": "execute_result"
    }
   ],
   "source": [
    "set_friends"
   ]
  },
  {
   "cell_type": "code",
   "execution_count": null,
   "id": "a2f3d9eb",
   "metadata": {},
   "outputs": [],
   "source": []
  },
  {
   "cell_type": "markdown",
   "id": "30460d9c",
   "metadata": {},
   "source": [
    "### update"
   ]
  },
  {
   "cell_type": "code",
   "execution_count": 35,
   "id": "eb553a77",
   "metadata": {},
   "outputs": [
    {
     "data": {
      "text/plain": [
       "{1, 2, 3, 5, 6}"
      ]
     },
     "execution_count": 35,
     "metadata": {},
     "output_type": "execute_result"
    }
   ],
   "source": [
    "my_set"
   ]
  },
  {
   "cell_type": "code",
   "execution_count": 34,
   "id": "cb6b62c0",
   "metadata": {},
   "outputs": [
    {
     "data": {
      "text/plain": [
       "{'Amit', 'Mohan', 'Rohan', 'Sohan'}"
      ]
     },
     "execution_count": 34,
     "metadata": {},
     "output_type": "execute_result"
    }
   ],
   "source": [
    "set_friends"
   ]
  },
  {
   "cell_type": "code",
   "execution_count": 36,
   "id": "e5451b64",
   "metadata": {},
   "outputs": [],
   "source": [
    "my_set.update(set_friends)"
   ]
  },
  {
   "cell_type": "code",
   "execution_count": 37,
   "id": "9ce227a9",
   "metadata": {},
   "outputs": [
    {
     "data": {
      "text/plain": [
       "{1, 2, 3, 5, 6, 'Amit', 'Mohan', 'Rohan', 'Sohan'}"
      ]
     },
     "execution_count": 37,
     "metadata": {},
     "output_type": "execute_result"
    }
   ],
   "source": [
    "my_set"
   ]
  },
  {
   "cell_type": "code",
   "execution_count": 38,
   "id": "ee46e01e",
   "metadata": {},
   "outputs": [],
   "source": [
    "my_set.remove(\"Mohan\")"
   ]
  },
  {
   "cell_type": "code",
   "execution_count": 39,
   "id": "4adcdb54",
   "metadata": {},
   "outputs": [
    {
     "data": {
      "text/plain": [
       "{1, 2, 3, 5, 6, 'Amit', 'Rohan', 'Sohan'}"
      ]
     },
     "execution_count": 39,
     "metadata": {},
     "output_type": "execute_result"
    }
   ],
   "source": [
    "my_set"
   ]
  },
  {
   "cell_type": "code",
   "execution_count": 40,
   "id": "977ec020",
   "metadata": {},
   "outputs": [
    {
     "ename": "KeyError",
     "evalue": "'Ramesh'",
     "output_type": "error",
     "traceback": [
      "\u001b[0;31m---------------------------------------------------------------------------\u001b[0m",
      "\u001b[0;31mKeyError\u001b[0m                                  Traceback (most recent call last)",
      "Cell \u001b[0;32mIn[40], line 1\u001b[0m\n\u001b[0;32m----> 1\u001b[0m \u001b[43mmy_set\u001b[49m\u001b[38;5;241;43m.\u001b[39;49m\u001b[43mremove\u001b[49m\u001b[43m(\u001b[49m\u001b[38;5;124;43m\"\u001b[39;49m\u001b[38;5;124;43mRamesh\u001b[39;49m\u001b[38;5;124;43m\"\u001b[39;49m\u001b[43m)\u001b[49m\n",
      "\u001b[0;31mKeyError\u001b[0m: 'Ramesh'"
     ]
    }
   ],
   "source": [
    "my_set.remove(\"Ramesh\")"
   ]
  },
  {
   "cell_type": "code",
   "execution_count": 41,
   "id": "b834ed05",
   "metadata": {},
   "outputs": [
    {
     "name": "stdout",
     "output_type": "stream",
     "text": [
      "['__and__', '__class__', '__class_getitem__', '__contains__', '__delattr__', '__dir__', '__doc__', '__eq__', '__format__', '__ge__', '__getattribute__', '__gt__', '__hash__', '__iand__', '__init__', '__init_subclass__', '__ior__', '__isub__', '__iter__', '__ixor__', '__le__', '__len__', '__lt__', '__ne__', '__new__', '__or__', '__rand__', '__reduce__', '__reduce_ex__', '__repr__', '__ror__', '__rsub__', '__rxor__', '__setattr__', '__sizeof__', '__str__', '__sub__', '__subclasshook__', '__xor__', 'add', 'clear', 'copy', 'difference', 'difference_update', 'discard', 'intersection', 'intersection_update', 'isdisjoint', 'issubset', 'issuperset', 'pop', 'remove', 'symmetric_difference', 'symmetric_difference_update', 'union', 'update']\n"
     ]
    }
   ],
   "source": [
    "print(dir(my_set))"
   ]
  },
  {
   "cell_type": "code",
   "execution_count": 42,
   "id": "542d3e97",
   "metadata": {},
   "outputs": [],
   "source": [
    "my_set.discard(\"Ramesh\")"
   ]
  },
  {
   "cell_type": "code",
   "execution_count": 43,
   "id": "ac14f1c6",
   "metadata": {},
   "outputs": [
    {
     "data": {
      "text/plain": [
       "{1, 2, 3, 5, 6, 'Amit', 'Rohan', 'Sohan'}"
      ]
     },
     "execution_count": 43,
     "metadata": {},
     "output_type": "execute_result"
    }
   ],
   "source": [
    "my_set"
   ]
  },
  {
   "cell_type": "code",
   "execution_count": 45,
   "id": "3d18cafc",
   "metadata": {},
   "outputs": [
    {
     "data": {
      "text/plain": [
       "2"
      ]
     },
     "execution_count": 45,
     "metadata": {},
     "output_type": "execute_result"
    }
   ],
   "source": [
    "my_set.pop()"
   ]
  },
  {
   "cell_type": "markdown",
   "id": "66ce5863",
   "metadata": {},
   "source": [
    "### Set Operations\n",
    "    - Union\n",
    "    - Intersection\n",
    "    - Difference"
   ]
  },
  {
   "cell_type": "code",
   "execution_count": 50,
   "id": "b60def0d",
   "metadata": {},
   "outputs": [
    {
     "data": {
      "text/plain": [
       "{1, 2, 3, 4, 5, 10}"
      ]
     },
     "execution_count": 50,
     "metadata": {},
     "output_type": "execute_result"
    }
   ],
   "source": [
    "a = {1, 2, 3, 10}\n",
    "b = {3, 4, 5, 10}\n",
    "\n",
    "a|b # a or b  ( a union b)"
   ]
  },
  {
   "cell_type": "code",
   "execution_count": 51,
   "id": "b9a619ed",
   "metadata": {},
   "outputs": [
    {
     "data": {
      "text/plain": [
       "{3, 10}"
      ]
     },
     "execution_count": 51,
     "metadata": {},
     "output_type": "execute_result"
    }
   ],
   "source": [
    "a & b # intersection of a and b"
   ]
  },
  {
   "cell_type": "code",
   "execution_count": 52,
   "id": "f3b1a62c",
   "metadata": {},
   "outputs": [
    {
     "data": {
      "text/plain": [
       "{1, 2}"
      ]
     },
     "execution_count": 52,
     "metadata": {},
     "output_type": "execute_result"
    }
   ],
   "source": [
    "a - b  ## difference between a and b"
   ]
  },
  {
   "cell_type": "code",
   "execution_count": 53,
   "id": "5d7f7705",
   "metadata": {},
   "outputs": [
    {
     "data": {
      "text/plain": [
       "{1, 2}"
      ]
     },
     "execution_count": 53,
     "metadata": {},
     "output_type": "execute_result"
    }
   ],
   "source": [
    "a.difference(b)"
   ]
  },
  {
   "cell_type": "code",
   "execution_count": null,
   "id": "ac3ae1d9",
   "metadata": {},
   "outputs": [],
   "source": []
  },
  {
   "cell_type": "code",
   "execution_count": 55,
   "id": "173a7ced",
   "metadata": {},
   "outputs": [
    {
     "data": {
      "text/plain": [
       "{1, 2, 4, 5}"
      ]
     },
     "execution_count": 55,
     "metadata": {},
     "output_type": "execute_result"
    }
   ],
   "source": [
    "a ^ b # symmetric difference"
   ]
  },
  {
   "cell_type": "code",
   "execution_count": null,
   "id": "e36a7e6f",
   "metadata": {},
   "outputs": [],
   "source": []
  },
  {
   "cell_type": "code",
   "execution_count": 56,
   "id": "bbb08e04",
   "metadata": {},
   "outputs": [],
   "source": [
    "a = {1, 2, 3, 10}\n",
    "b = {3, 4, 5, 10}\n",
    "\n",
    "a.symmetric_difference_update(b)"
   ]
  },
  {
   "cell_type": "code",
   "execution_count": 57,
   "id": "1c724e2b",
   "metadata": {},
   "outputs": [
    {
     "data": {
      "text/plain": [
       "{1, 2, 4, 5}"
      ]
     },
     "execution_count": 57,
     "metadata": {},
     "output_type": "execute_result"
    }
   ],
   "source": [
    "a"
   ]
  },
  {
   "cell_type": "code",
   "execution_count": 58,
   "id": "369f8dea",
   "metadata": {},
   "outputs": [],
   "source": [
    "a = {1, 2, 3, 10}\n",
    "b = {3, 4, 5, 10}\n",
    "\n",
    "a.difference_update(b)"
   ]
  },
  {
   "cell_type": "code",
   "execution_count": 59,
   "id": "d46f0477",
   "metadata": {},
   "outputs": [
    {
     "data": {
      "text/plain": [
       "{1, 2}"
      ]
     },
     "execution_count": 59,
     "metadata": {},
     "output_type": "execute_result"
    }
   ],
   "source": [
    "a"
   ]
  },
  {
   "cell_type": "code",
   "execution_count": 60,
   "id": "7d93436a",
   "metadata": {},
   "outputs": [],
   "source": [
    "a = {1, 2, 3, 10}\n",
    "b = {3, 4, 5, 10}\n",
    "\n",
    "a.intersection_update(b)"
   ]
  },
  {
   "cell_type": "code",
   "execution_count": 61,
   "id": "f795a78f",
   "metadata": {},
   "outputs": [
    {
     "data": {
      "text/plain": [
       "{3, 10}"
      ]
     },
     "execution_count": 61,
     "metadata": {},
     "output_type": "execute_result"
    }
   ],
   "source": [
    "a"
   ]
  },
  {
   "cell_type": "code",
   "execution_count": null,
   "id": "1841ea2d",
   "metadata": {},
   "outputs": [],
   "source": []
  },
  {
   "cell_type": "code",
   "execution_count": null,
   "id": "7078893f",
   "metadata": {},
   "outputs": [],
   "source": [
    "'isdisjoint', 'issubset', 'issuperset'"
   ]
  },
  {
   "cell_type": "code",
   "execution_count": 65,
   "id": "2a523b21",
   "metadata": {},
   "outputs": [],
   "source": [
    "secA = set([\"Rohan\", \"Sohan\", \"Mohan\"])\n",
    "secB =  set([\"Amit\", \"Mohit\"])\n",
    "secC = set([\"Rohan\", \"Mohan\"])"
   ]
  },
  {
   "cell_type": "code",
   "execution_count": 67,
   "id": "7b08fe39",
   "metadata": {},
   "outputs": [
    {
     "data": {
      "text/plain": [
       "True"
      ]
     },
     "execution_count": 67,
     "metadata": {},
     "output_type": "execute_result"
    }
   ],
   "source": [
    "secC.issubset(secA)"
   ]
  },
  {
   "cell_type": "code",
   "execution_count": 68,
   "id": "b335974d",
   "metadata": {},
   "outputs": [
    {
     "data": {
      "text/plain": [
       "False"
      ]
     },
     "execution_count": 68,
     "metadata": {},
     "output_type": "execute_result"
    }
   ],
   "source": [
    "secA.issubset(secC)"
   ]
  },
  {
   "cell_type": "code",
   "execution_count": 69,
   "id": "5b936b38",
   "metadata": {},
   "outputs": [
    {
     "data": {
      "text/plain": [
       "True"
      ]
     },
     "execution_count": 69,
     "metadata": {},
     "output_type": "execute_result"
    }
   ],
   "source": [
    "secA.issuperset(secC)"
   ]
  },
  {
   "cell_type": "code",
   "execution_count": 70,
   "id": "db8254a3",
   "metadata": {},
   "outputs": [
    {
     "data": {
      "text/plain": [
       "True"
      ]
     },
     "execution_count": 70,
     "metadata": {},
     "output_type": "execute_result"
    }
   ],
   "source": [
    "secB.isdisjoint(secC)"
   ]
  },
  {
   "cell_type": "code",
   "execution_count": null,
   "id": "2e10dc39",
   "metadata": {},
   "outputs": [],
   "source": []
  },
  {
   "cell_type": "code",
   "execution_count": null,
   "id": "6d866a73",
   "metadata": {},
   "outputs": [],
   "source": []
  },
  {
   "cell_type": "markdown",
   "id": "62fb2150",
   "metadata": {},
   "source": [
    "### creating sets"
   ]
  },
  {
   "cell_type": "code",
   "execution_count": 3,
   "id": "f161b08b",
   "metadata": {},
   "outputs": [],
   "source": [
    "my_set = { 2, 3, 4, 5, 2, 1 }"
   ]
  },
  {
   "cell_type": "code",
   "execution_count": 4,
   "id": "6cfe1e17",
   "metadata": {},
   "outputs": [
    {
     "data": {
      "text/plain": [
       "set"
      ]
     },
     "execution_count": 4,
     "metadata": {},
     "output_type": "execute_result"
    }
   ],
   "source": [
    "type(my_set)"
   ]
  },
  {
   "cell_type": "code",
   "execution_count": 5,
   "id": "31b04bc3",
   "metadata": {},
   "outputs": [
    {
     "data": {
      "text/plain": [
       "{1, 2, 3, 4, 5}"
      ]
     },
     "execution_count": 5,
     "metadata": {},
     "output_type": "execute_result"
    }
   ],
   "source": [
    "my_set"
   ]
  },
  {
   "cell_type": "code",
   "execution_count": 6,
   "id": "59948887",
   "metadata": {},
   "outputs": [
    {
     "data": {
      "text/plain": [
       "{1, 2, 4, 5, 6, 7}"
      ]
     },
     "execution_count": 6,
     "metadata": {},
     "output_type": "execute_result"
    }
   ],
   "source": [
    "set([5, 6, 2, 1, 4, 6, 7])"
   ]
  },
  {
   "cell_type": "code",
   "execution_count": 7,
   "id": "937db31c",
   "metadata": {},
   "outputs": [
    {
     "data": {
      "text/plain": [
       "set()"
      ]
     },
     "execution_count": 7,
     "metadata": {},
     "output_type": "execute_result"
    }
   ],
   "source": [
    "set()"
   ]
  },
  {
   "cell_type": "code",
   "execution_count": null,
   "id": "a9a9f293",
   "metadata": {},
   "outputs": [],
   "source": []
  },
  {
   "cell_type": "code",
   "execution_count": 13,
   "id": "e1298e2c",
   "metadata": {},
   "outputs": [
    {
     "name": "stdout",
     "output_type": "stream",
     "text": [
      "['__and__', '__class__', '__class_getitem__', '__contains__', '__delattr__', '__dir__', '__doc__', '__eq__', '__format__', '__ge__', '__getattribute__', '__gt__', '__hash__', '__iand__', '__init__', '__init_subclass__', '__ior__', '__isub__', '__iter__', '__ixor__', '__le__', '__len__', '__lt__', '__ne__', '__new__', '__or__', '__rand__', '__reduce__', '__reduce_ex__', '__repr__', '__ror__', '__rsub__', '__rxor__', '__setattr__', '__sizeof__', '__str__', '__sub__', '__subclasshook__', '__xor__', 'add', 'clear', 'copy', 'difference', 'difference_update', 'discard', 'intersection', 'intersection_update', 'isdisjoint', 'issubset', 'issuperset', 'pop', 'remove', 'symmetric_difference', 'symmetric_difference_update', 'union', 'update']\n"
     ]
    }
   ],
   "source": [
    "print(dir(my_set))"
   ]
  },
  {
   "cell_type": "code",
   "execution_count": null,
   "id": "2b9955d7",
   "metadata": {},
   "outputs": [],
   "source": []
  },
  {
   "cell_type": "code",
   "execution_count": null,
   "id": "e59ea052",
   "metadata": {},
   "outputs": [],
   "source": []
  },
  {
   "cell_type": "code",
   "execution_count": null,
   "id": "3b0a7fb9",
   "metadata": {},
   "outputs": [],
   "source": []
  },
  {
   "cell_type": "markdown",
   "id": "cb4d13b5",
   "metadata": {},
   "source": [
    "## operations on sets"
   ]
  },
  {
   "cell_type": "code",
   "execution_count": 8,
   "id": "56a371a8",
   "metadata": {},
   "outputs": [
    {
     "data": {
      "text/plain": [
       "{1, 2, 3, 4, 5}"
      ]
     },
     "execution_count": 8,
     "metadata": {},
     "output_type": "execute_result"
    }
   ],
   "source": [
    "my_set"
   ]
  },
  {
   "cell_type": "code",
   "execution_count": 9,
   "id": "c7128159",
   "metadata": {},
   "outputs": [],
   "source": [
    "my_set.add(10)"
   ]
  },
  {
   "cell_type": "code",
   "execution_count": 10,
   "id": "2da6e270",
   "metadata": {},
   "outputs": [
    {
     "data": {
      "text/plain": [
       "{1, 2, 3, 4, 5, 10}"
      ]
     },
     "execution_count": 10,
     "metadata": {},
     "output_type": "execute_result"
    }
   ],
   "source": [
    "\n",
    "my_set\n"
   ]
  },
  {
   "cell_type": "code",
   "execution_count": null,
   "id": "ade7529e",
   "metadata": {},
   "outputs": [],
   "source": []
  },
  {
   "cell_type": "code",
   "execution_count": 14,
   "id": "ba532727",
   "metadata": {},
   "outputs": [
    {
     "data": {
      "text/plain": [
       "{1, 2, 3, 4, 5, 10}"
      ]
     },
     "execution_count": 14,
     "metadata": {},
     "output_type": "execute_result"
    }
   ],
   "source": [
    "my_set"
   ]
  },
  {
   "cell_type": "code",
   "execution_count": 16,
   "id": "5d86a11f",
   "metadata": {},
   "outputs": [],
   "source": [
    "another_set = {\"Ramesh\", \"Suresh\"}"
   ]
  },
  {
   "cell_type": "code",
   "execution_count": 17,
   "id": "8cfb2d70",
   "metadata": {},
   "outputs": [],
   "source": [
    "my_set.update(another_set)"
   ]
  },
  {
   "cell_type": "code",
   "execution_count": 18,
   "id": "d65ba450",
   "metadata": {},
   "outputs": [
    {
     "data": {
      "text/plain": [
       "{1, 10, 2, 3, 4, 5, 'Ramesh', 'Suresh'}"
      ]
     },
     "execution_count": 18,
     "metadata": {},
     "output_type": "execute_result"
    }
   ],
   "source": [
    "my_set"
   ]
  },
  {
   "cell_type": "code",
   "execution_count": null,
   "id": "5cd843d5",
   "metadata": {},
   "outputs": [],
   "source": []
  },
  {
   "cell_type": "code",
   "execution_count": null,
   "id": "0befefb5",
   "metadata": {},
   "outputs": [],
   "source": []
  },
  {
   "cell_type": "code",
   "execution_count": null,
   "id": "cea82250",
   "metadata": {},
   "outputs": [],
   "source": []
  },
  {
   "cell_type": "code",
   "execution_count": null,
   "id": "83d220bf",
   "metadata": {},
   "outputs": [],
   "source": []
  },
  {
   "cell_type": "code",
   "execution_count": 71,
   "id": "4a6979fd",
   "metadata": {},
   "outputs": [],
   "source": [
    "user1_interests = {\"Cricket\", \"Music\", \"Cooking\"}\n",
    "user2_interests = {\"Music\", \"Photography\", \"Cricket\"}"
   ]
  },
  {
   "cell_type": "code",
   "execution_count": 72,
   "id": "5f1031ad",
   "metadata": {},
   "outputs": [
    {
     "data": {
      "text/plain": [
       "{'Cricket', 'Music'}"
      ]
     },
     "execution_count": 72,
     "metadata": {},
     "output_type": "execute_result"
    }
   ],
   "source": [
    "user1_interests & user2_interests"
   ]
  },
  {
   "cell_type": "code",
   "execution_count": 73,
   "id": "e2f3cee5",
   "metadata": {},
   "outputs": [
    {
     "data": {
      "text/plain": [
       "False"
      ]
     },
     "execution_count": 73,
     "metadata": {},
     "output_type": "execute_result"
    }
   ],
   "source": [
    "user1_interests.isdisjoint(user2_interests)"
   ]
  },
  {
   "cell_type": "code",
   "execution_count": null,
   "id": "35855cb5",
   "metadata": {},
   "outputs": [],
   "source": []
  },
  {
   "cell_type": "code",
   "execution_count": null,
   "id": "65991de5",
   "metadata": {},
   "outputs": [],
   "source": [
    "event1_attendees = {\"Anita\", \"Rahul\", \"Pooja\"}\n",
    "event2_attendees = {\"Pooja\", \"Suresh\", \"Rahul\"}\n"
   ]
  },
  {
   "cell_type": "code",
   "execution_count": null,
   "id": "e5fb3425",
   "metadata": {},
   "outputs": [],
   "source": []
  },
  {
   "cell_type": "code",
   "execution_count": null,
   "id": "89fe70ff",
   "metadata": {},
   "outputs": [],
   "source": []
  },
  {
   "cell_type": "code",
   "execution_count": null,
   "id": "1548c4e7",
   "metadata": {},
   "outputs": [],
   "source": []
  },
  {
   "cell_type": "code",
   "execution_count": null,
   "id": "281b3b38",
   "metadata": {},
   "outputs": [],
   "source": []
  },
  {
   "cell_type": "code",
   "execution_count": null,
   "id": "2afdb50f",
   "metadata": {},
   "outputs": [],
   "source": []
  },
  {
   "cell_type": "code",
   "execution_count": null,
   "id": "656da903",
   "metadata": {},
   "outputs": [],
   "source": []
  },
  {
   "cell_type": "code",
   "execution_count": null,
   "id": "60bb3803",
   "metadata": {},
   "outputs": [],
   "source": []
  },
  {
   "cell_type": "code",
   "execution_count": null,
   "id": "aa236e5a",
   "metadata": {},
   "outputs": [],
   "source": []
  },
  {
   "cell_type": "code",
   "execution_count": null,
   "id": "06f6e2a4",
   "metadata": {},
   "outputs": [],
   "source": []
  }
 ],
 "metadata": {
  "kernelspec": {
   "display_name": "Python 3 (ipykernel)",
   "language": "python",
   "name": "python3"
  },
  "language_info": {
   "codemirror_mode": {
    "name": "ipython",
    "version": 3
   },
   "file_extension": ".py",
   "mimetype": "text/x-python",
   "name": "python",
   "nbconvert_exporter": "python",
   "pygments_lexer": "ipython3",
   "version": "3.10.8"
  }
 },
 "nbformat": 4,
 "nbformat_minor": 5
}
