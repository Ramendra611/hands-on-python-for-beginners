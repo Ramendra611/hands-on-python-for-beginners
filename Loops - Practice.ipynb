{
 "cells": [
  {
   "cell_type": "markdown",
   "id": "5433a810",
   "metadata": {},
   "source": [
    "**Ask the user to enter a OTP. Once the correct OTP is entered, display a login confirmation**"
   ]
  },
  {
   "cell_type": "code",
   "execution_count": 1,
   "id": "46f6e0fb",
   "metadata": {},
   "outputs": [],
   "source": [
    "correct_otp = 9876"
   ]
  },
  {
   "cell_type": "code",
   "execution_count": 2,
   "id": "1786f956",
   "metadata": {},
   "outputs": [
    {
     "name": "stdout",
     "output_type": "stream",
     "text": [
      "Enter the OTP1234\n",
      "WRONG OTP. TRY AGAIN :(\n",
      "Enter the OTP4564\n",
      "WRONG OTP. TRY AGAIN :(\n",
      "Enter the OTP6756\n",
      "WRONG OTP. TRY AGAIN :(\n",
      "Enter the OTP6758\n"
     ]
    }
   ],
   "source": [
    "otp = int(input(\"Enter the OTP\"))\n",
    "for i in range(3):\n",
    "    if otp == correct_otp:\n",
    "        print(\"YOU ARE NOW LOOGED IN!!!\")\n",
    "    else:\n",
    "        print(\"WRONG OTP. TRY AGAIN :(\")\n",
    "        otp = int(input(\"Enter the OTP\"))\n",
    "        \n",
    "    "
   ]
  },
  {
   "cell_type": "markdown",
   "id": "1a84365d",
   "metadata": {},
   "source": [
    "    while condition:\n",
    "        print(\"Hello\")"
   ]
  },
  {
   "cell_type": "code",
   "execution_count": 5,
   "id": "a8f23d51",
   "metadata": {},
   "outputs": [
    {
     "name": "stdout",
     "output_type": "stream",
     "text": [
      "Enter the OTP63226\n",
      "WRONG OTP. TRY AGAIN :(\n",
      "Enter the OTP6323\n",
      "WRONG OTP. TRY AGAIN :(\n",
      "Enter the OTP32632\n",
      "WRONG OTP. TRY AGAIN :(\n",
      "Enter the OTP56236\n",
      "WRONG OTP. TRY AGAIN :(\n",
      "Enter the OTP646\n",
      "WRONG OTP. TRY AGAIN :(\n",
      "Enter the OTP6426\n",
      "WRONG OTP. TRY AGAIN :(\n",
      "Enter the OTP64262\n",
      "WRONG OTP. TRY AGAIN :(\n",
      "Enter the OTP6426\n",
      "WRONG OTP. TRY AGAIN :(\n",
      "Enter the OTP642642\n",
      "WRONG OTP. TRY AGAIN :(\n",
      "Enter the OTP642642\n",
      "WRONG OTP. TRY AGAIN :(\n",
      "Enter the OTP6426\n",
      "WRONG OTP. TRY AGAIN :(\n",
      "Enter the OTP64236\n",
      "WRONG OTP. TRY AGAIN :(\n",
      "Enter the OTP246426\n",
      "WRONG OTP. TRY AGAIN :(\n",
      "Enter the OTP9876\n",
      "YOU ARE NOW LOOGED IN!!!\n"
     ]
    }
   ],
   "source": [
    "otp = int(input(\"Enter the OTP\"))\n",
    "while otp != correct_otp: # breaking condition\n",
    "    \n",
    "    print(\"WRONG OTP. TRY AGAIN :(\")\n",
    "    otp = int(input(\"Enter the OTP\"))\n",
    "    \n",
    "print(\"YOU ARE NOW LOOGED IN!!!\")\n",
    "    "
   ]
  },
  {
   "cell_type": "code",
   "execution_count": null,
   "id": "41601449",
   "metadata": {},
   "outputs": [],
   "source": []
  },
  {
   "cell_type": "code",
   "execution_count": null,
   "id": "bea5f5ce",
   "metadata": {},
   "outputs": [
    {
     "name": "stdout",
     "output_type": "stream",
     "text": [
      "Enter the OTP654\n"
     ]
    },
    {
     "name": "stderr",
     "output_type": "stream",
     "text": [
      "IOPub data rate exceeded.\n",
      "The notebook server will temporarily stop sending output\n",
      "to the client in order to avoid crashing it.\n",
      "To change this limit, set the config variable\n",
      "`--NotebookApp.iopub_data_rate_limit`.\n",
      "\n",
      "Current values:\n",
      "NotebookApp.iopub_data_rate_limit=1000000.0 (bytes/sec)\n",
      "NotebookApp.rate_limit_window=3.0 (secs)\n",
      "\n"
     ]
    }
   ],
   "source": [
    "otp = int(input(\"Enter the OTP\"))\n",
    "while otp != correct_otp: # breaking condition\n",
    "    \n",
    "    print(\"WRONG OTP. TRY AGAIN :(\")\n",
    "    \n",
    "print(\"YOU ARE NOW LOOGED IN!!!\")\n",
    "    "
   ]
  },
  {
   "cell_type": "code",
   "execution_count": null,
   "id": "27e5040a",
   "metadata": {},
   "outputs": [],
   "source": []
  },
  {
   "cell_type": "markdown",
   "id": "704e0481",
   "metadata": {},
   "source": [
    "**Print Numbers from 1 to 5**"
   ]
  },
  {
   "cell_type": "code",
   "execution_count": 1,
   "id": "456ea819",
   "metadata": {},
   "outputs": [
    {
     "name": "stdout",
     "output_type": "stream",
     "text": [
      "0\n",
      "1\n",
      "2\n",
      "3\n",
      "4\n"
     ]
    }
   ],
   "source": [
    "for num in range(5):\n",
    "    print(num)"
   ]
  },
  {
   "cell_type": "code",
   "execution_count": 2,
   "id": "86e8dffb",
   "metadata": {},
   "outputs": [
    {
     "name": "stdout",
     "output_type": "stream",
     "text": [
      "0\n",
      "1\n",
      "2\n",
      "3\n",
      "4\n",
      "OUT OF LOOP!!\n"
     ]
    }
   ],
   "source": [
    "i = 0\n",
    "while i < 5: # as long as this condition is true, the loops will be executed. \n",
    "    print(i)\n",
    "    i = i + 1\n",
    "print(\"OUT OF LOOP!!\")"
   ]
  },
  {
   "cell_type": "markdown",
   "id": "59a72134",
   "metadata": {},
   "source": [
    "**Print Even Numbers between 1 and 10**"
   ]
  },
  {
   "cell_type": "code",
   "execution_count": 4,
   "id": "79d8ce8d",
   "metadata": {},
   "outputs": [
    {
     "name": "stdout",
     "output_type": "stream",
     "text": [
      "0\n",
      "2\n",
      "4\n",
      "6\n",
      "8\n"
     ]
    }
   ],
   "source": [
    "num = 0\n",
    "while num < 10:\n",
    "    if num % 2 == 0:\n",
    "        print(num)\n",
    "    num = num + 1"
   ]
  },
  {
   "cell_type": "code",
   "execution_count": 6,
   "id": "1ed72145",
   "metadata": {},
   "outputs": [
    {
     "data": {
      "text/plain": [
       "[0, 2, 4, 6, 8]"
      ]
     },
     "execution_count": 6,
     "metadata": {},
     "output_type": "execute_result"
    }
   ],
   "source": [
    "num = 0\n",
    "even_numbers = []\n",
    "while num < 10:\n",
    "    if num % 2 == 0:\n",
    "        even_numbers.append(num)\n",
    "    num = num + 1 # updating the variable\n",
    "even_numbers"
   ]
  },
  {
   "cell_type": "code",
   "execution_count": null,
   "id": "f1ae26b6",
   "metadata": {},
   "outputs": [],
   "source": []
  },
  {
   "cell_type": "markdown",
   "id": "bfb92a60",
   "metadata": {},
   "source": [
    "**Ask the user to enter his name. If he enters the name, then show the person a welcome message. If  he doesnt enter the name then prompt again**"
   ]
  },
  {
   "cell_type": "code",
   "execution_count": 8,
   "id": "1b2fb67e",
   "metadata": {},
   "outputs": [
    {
     "name": "stdout",
     "output_type": "stream",
     "text": [
      "Enter your name : \n",
      "Enter a valid name ...\n",
      "Enter your name : \n",
      "Enter a valid name ...\n",
      "Enter your name : \n",
      "Enter a valid name ...\n",
      "Enter your name : \n",
      "Enter a valid name ...\n",
      "Enter your name : \n",
      "Enter a valid name ...\n",
      "Enter your name : \n",
      "Enter a valid name ...\n",
      "Enter your name : \n",
      "Enter a valid name ...\n",
      "Enter your name : \n",
      "Enter a valid name ...\n",
      "Enter your name : \n",
      "Enter a valid name ...\n",
      "Enter your name : \n",
      "Enter a valid name ...\n",
      "Enter your name : \n",
      "Enter a valid name ...\n",
      "Enter your name : \n",
      "Enter a valid name ...\n",
      "Enter your name : \n",
      "Enter a valid name ...\n",
      "Enter your name : \n",
      "Enter a valid name ...\n",
      "Enter your name : a\n",
      "Hello a !! \n"
     ]
    }
   ],
   "source": [
    "name = input(\"Enter your name : \")\n",
    "while name == \"\": # user has not entered the name\n",
    "    print(\"Enter a valid name ...\")\n",
    "    name = input(\"Enter your name : \")\n",
    "print(f\"Hello {name} !! \")"
   ]
  },
  {
   "cell_type": "code",
   "execution_count": null,
   "id": "14707ecd",
   "metadata": {},
   "outputs": [],
   "source": []
  },
  {
   "cell_type": "code",
   "execution_count": null,
   "id": "b2604e4b",
   "metadata": {},
   "outputs": [],
   "source": []
  },
  {
   "cell_type": "markdown",
   "id": "1a17e734",
   "metadata": {},
   "source": [
    "## break continue pass "
   ]
  },
  {
   "cell_type": "code",
   "execution_count": 9,
   "id": "240f3e63",
   "metadata": {},
   "outputs": [
    {
     "name": "stdout",
     "output_type": "stream",
     "text": [
      "2\n",
      "5\n",
      "6\n",
      "8\n",
      "15\n",
      "EXITING\n"
     ]
    }
   ],
   "source": [
    "list_of_numbers = [2, 5, 6, 8, 15, 10]\n",
    "\n",
    "for number  in list_of_numbers:\n",
    "    print(number)\n",
    "    if number > 10:\n",
    "        print(\"EXITING\")\n",
    "        break"
   ]
  },
  {
   "cell_type": "code",
   "execution_count": null,
   "id": "bc21875d",
   "metadata": {},
   "outputs": [],
   "source": [
    "otp = int(input(\"Enter the OTP\"))\n",
    "while otp != correct_otp: # breaking condition\n",
    "    \n",
    "    print(\"WRONG OTP. TRY AGAIN :(\")\n",
    "    otp = int(input(\"Enter the OTP\"))\n",
    "    \n",
    "print(\"YOU ARE NOW LOOGED IN!!!\")\n",
    "    "
   ]
  },
  {
   "cell_type": "code",
   "execution_count": null,
   "id": "0e676781",
   "metadata": {},
   "outputs": [],
   "source": [
    "correct_otp = 1234"
   ]
  },
  {
   "cell_type": "code",
   "execution_count": 13,
   "id": "6ad9b2f2",
   "metadata": {},
   "outputs": [],
   "source": [
    "correct_otp = 1234\n",
    "otp = int(input(\"Enter the OTP\"))\n",
    "while True:\n",
    "    print(\"WRONG OTP. TRY AGAIN :(\")\n",
    "    otp = int(input(\"Enter the OTP\"))\n",
    "    if otp == correct_otp:\n",
    "        print(\"YOU ARE NOW LOGGED IN!!\")\n",
    "        break\n",
    "\n",
    "    "
   ]
  },
  {
   "cell_type": "markdown",
   "id": "fb5c0b0b",
   "metadata": {},
   "source": [
    "**Find the sum of all the even numbers**"
   ]
  },
  {
   "cell_type": "code",
   "execution_count": 16,
   "id": "98ba18a5",
   "metadata": {},
   "outputs": [
    {
     "name": "stdout",
     "output_type": "stream",
     "text": [
      "4\n",
      "5\n",
      "going to the next number\n",
      "10\n",
      "54\n",
      "43\n",
      "going to the next number\n",
      "21\n",
      "going to the next number\n",
      "34\n",
      "56\n"
     ]
    },
    {
     "data": {
      "text/plain": [
       "158"
      ]
     },
     "execution_count": 16,
     "metadata": {},
     "output_type": "execute_result"
    }
   ],
   "source": [
    "list_of_numbers = [4, 5, 10, 54, 43, 21, 34, 56]\n",
    "sum_of_even_numbers = 0\n",
    "for number in list_of_numbers:\n",
    "    print(number)\n",
    "    if number % 2 != 0: # the number is odd\n",
    "        print(\"going to the next number\")\n",
    "        continue\n",
    "    sum_of_even_numbers = sum_of_even_numbers + number\n",
    "    \n",
    "\n",
    "sum_of_even_numbers"
   ]
  },
  {
   "cell_type": "markdown",
   "id": "68e38585",
   "metadata": {},
   "source": [
    "## pass"
   ]
  },
  {
   "cell_type": "code",
   "execution_count": 22,
   "id": "90a6276e",
   "metadata": {},
   "outputs": [
    {
     "name": "stdout",
     "output_type": "stream",
     "text": [
      "Number is odd!!\n",
      "Number is odd!!\n",
      "Number is odd!!\n"
     ]
    }
   ],
   "source": [
    "list_of_numbers = [4, 5, 10, 54, 43, 21, 34, 56]\n",
    "for number in list_of_numbers:\n",
    "    if number % 2 ==0:\n",
    "#         print(number * 2)\n",
    "        pass\n",
    "    else:\n",
    "        print(\"Number is odd!!\")"
   ]
  },
  {
   "cell_type": "code",
   "execution_count": null,
   "id": "a8a3ecf8",
   "metadata": {},
   "outputs": [],
   "source": []
  },
  {
   "cell_type": "markdown",
   "id": "e90d1029",
   "metadata": {},
   "source": [
    "**Imagine you are searching for a customer's order in a long list. Once you find the relevant order, you don’t need to check further.**\n",
    "        \n",
    "```orders = [{\"order_id\": 101, \"customer\": \"Ravi\"},{\"order_id\": 102, \"customer\": \"Anita\"},{\"order_id\": 103, \"customer\": \"Ramesh\"},]```"
   ]
  },
  {
   "cell_type": "code",
   "execution_count": 25,
   "id": "29aa6525",
   "metadata": {},
   "outputs": [],
   "source": [
    "orders = [{\"order_id\": 101, \"customer\": \"Ravi\"},{\"order_id\": 102, \"customer\": \"Anita\"},{\"order_id\": 103, \"customer\": \"Ramesh\"},]"
   ]
  },
  {
   "cell_type": "code",
   "execution_count": 26,
   "id": "4e9dc037",
   "metadata": {},
   "outputs": [
    {
     "data": {
      "text/plain": [
       "[{'order_id': 101, 'customer': 'Ravi'},\n",
       " {'order_id': 102, 'customer': 'Anita'},\n",
       " {'order_id': 103, 'customer': 'Ramesh'}]"
      ]
     },
     "execution_count": 26,
     "metadata": {},
     "output_type": "execute_result"
    }
   ],
   "source": [
    "orders"
   ]
  },
  {
   "cell_type": "code",
   "execution_count": 27,
   "id": "24cb2b93",
   "metadata": {},
   "outputs": [
    {
     "name": "stdout",
     "output_type": "stream",
     "text": [
      "Name of the customer:  Anita\n"
     ]
    }
   ],
   "source": [
    "for order in orders:\n",
    "    if order[\"order_id\"] == 102:\n",
    "        print(\"Name of the customer: \", order[\"customer\"])\n",
    "        break"
   ]
  },
  {
   "cell_type": "code",
   "execution_count": null,
   "id": "044329d1",
   "metadata": {},
   "outputs": [],
   "source": []
  },
  {
   "cell_type": "markdown",
   "id": "dbead427",
   "metadata": {},
   "source": [
    "**Given the list of transactions print only the successfull transactions**\n",
    "\n",
    "```transactions = [{\"id\": 1, \"status\": \"success\", \"amount\": 1000},{\"id\": 2, \"status\": \"failed\", \"amount\": 500},{\"id\": 3, \"status\": \"success\", \"amount\": 750},]```"
   ]
  },
  {
   "cell_type": "code",
   "execution_count": 28,
   "id": "4656879d",
   "metadata": {},
   "outputs": [],
   "source": [
    "transactions = [{\"id\": 1, \"status\": \"success\", \"amount\": 1000},{\"id\": 2, \"status\": \"failed\", \"amount\": 500},{\"id\": 3, \"status\": \"success\", \"amount\": 750},]"
   ]
  },
  {
   "cell_type": "code",
   "execution_count": 29,
   "id": "14f6dd0a",
   "metadata": {},
   "outputs": [
    {
     "data": {
      "text/plain": [
       "[{'id': 1, 'status': 'success', 'amount': 1000},\n",
       " {'id': 2, 'status': 'failed', 'amount': 500},\n",
       " {'id': 3, 'status': 'success', 'amount': 750}]"
      ]
     },
     "execution_count": 29,
     "metadata": {},
     "output_type": "execute_result"
    }
   ],
   "source": [
    "transactions"
   ]
  },
  {
   "cell_type": "code",
   "execution_count": 31,
   "id": "770f8059",
   "metadata": {},
   "outputs": [
    {
     "name": "stdout",
     "output_type": "stream",
     "text": [
      "{'id': 1, 'status': 'success', 'amount': 1000}\n",
      "{'id': 3, 'status': 'success', 'amount': 750}\n"
     ]
    }
   ],
   "source": [
    "for trans in transactions:\n",
    "    if trans[\"status\"]==\"failed\":\n",
    "        continue\n",
    "    print(trans)"
   ]
  },
  {
   "cell_type": "code",
   "execution_count": null,
   "id": "d0545f2d",
   "metadata": {},
   "outputs": [],
   "source": []
  },
  {
   "cell_type": "markdown",
   "id": "499fe986",
   "metadata": {},
   "source": [
    "**Find out the first repeating character in a string**"
   ]
  },
  {
   "cell_type": "code",
   "execution_count": 38,
   "id": "7cf44a60",
   "metadata": {},
   "outputs": [
    {
     "name": "stdout",
     "output_type": "stream",
     "text": [
      "Repeating character found: e\n"
     ]
    }
   ],
   "source": [
    "string = \"New Zealand\"\n",
    "\n",
    "my_set = set()\n",
    "for character in string:\n",
    "    if character in my_set:\n",
    "        print(f\"Repeating character found: {character}\")\n",
    "        break\n",
    "    my_set.add(character)\n",
    "# my_set\n",
    "    "
   ]
  },
  {
   "cell_type": "code",
   "execution_count": null,
   "id": "59cdaff7",
   "metadata": {},
   "outputs": [],
   "source": []
  },
  {
   "cell_type": "code",
   "execution_count": null,
   "id": "6408841e",
   "metadata": {},
   "outputs": [],
   "source": []
  },
  {
   "cell_type": "markdown",
   "id": "4b3c73a4",
   "metadata": {},
   "source": [
    "**Find out the unique elements in the list of numbers given**"
   ]
  },
  {
   "cell_type": "code",
   "execution_count": 40,
   "id": "c4b3357b",
   "metadata": {},
   "outputs": [],
   "source": [
    "numbers = [1, 2, 2, 3, 4, 4, 5]"
   ]
  },
  {
   "cell_type": "code",
   "execution_count": 43,
   "id": "87ece755",
   "metadata": {},
   "outputs": [
    {
     "data": {
      "text/plain": [
       "[1, 2, 3, 4, 5]"
      ]
     },
     "execution_count": 43,
     "metadata": {},
     "output_type": "execute_result"
    }
   ],
   "source": [
    "unique_list = []\n",
    "for number in numbers:\n",
    "    if number in unique_list:\n",
    "        continue\n",
    "    unique_list.append(number)\n",
    "unique_list"
   ]
  },
  {
   "cell_type": "code",
   "execution_count": 60,
   "id": "fc638235",
   "metadata": {},
   "outputs": [
    {
     "data": {
      "text/plain": [
       "[1, 2, 3, 4, 5]"
      ]
     },
     "execution_count": 60,
     "metadata": {},
     "output_type": "execute_result"
    }
   ],
   "source": [
    "ind = 0\n",
    "while True:\n",
    "    if ind == len(numbers)-1:\n",
    "        break\n",
    "    number = numbers[ind]\n",
    "    if number in unique_list:\n",
    "        ind += 1\n",
    "        continue\n",
    "    unique_list.append(number)\n",
    "#     ind = ind + 1\n",
    "    ind += 1\n",
    "\n",
    "unique_list\n",
    "    \n",
    "    "
   ]
  },
  {
   "cell_type": "code",
   "execution_count": 63,
   "id": "dc334f8c",
   "metadata": {},
   "outputs": [
    {
     "data": {
      "text/plain": [
       "[1, 2, 2, 3, 4, 4, 5]"
      ]
     },
     "execution_count": 63,
     "metadata": {},
     "output_type": "execute_result"
    }
   ],
   "source": [
    "numbers"
   ]
  },
  {
   "cell_type": "code",
   "execution_count": 72,
   "id": "bb18bd9c",
   "metadata": {},
   "outputs": [
    {
     "data": {
      "text/plain": [
       "[1, 2, 3, 4, 5]"
      ]
     },
     "execution_count": 72,
     "metadata": {},
     "output_type": "execute_result"
    }
   ],
   "source": [
    "ind = 0\n",
    "unique_list = []\n",
    "while ind < len(numbers):\n",
    "    number = numbers[ind]\n",
    "    if number in unique_list:\n",
    "        ind += 1\n",
    "        continue\n",
    "    unique_list.append(number)\n",
    "#     ind = ind + 1\n",
    "    ind += 1\n",
    "\n",
    "unique_list"
   ]
  },
  {
   "cell_type": "code",
   "execution_count": null,
   "id": "ed0b0e96",
   "metadata": {},
   "outputs": [],
   "source": []
  },
  {
   "cell_type": "code",
   "execution_count": null,
   "id": "ba824a08",
   "metadata": {},
   "outputs": [],
   "source": []
  },
  {
   "cell_type": "code",
   "execution_count": null,
   "id": "16c8215c",
   "metadata": {},
   "outputs": [],
   "source": []
  },
  {
   "cell_type": "code",
   "execution_count": null,
   "id": "03452d67",
   "metadata": {},
   "outputs": [],
   "source": []
  },
  {
   "cell_type": "code",
   "execution_count": null,
   "id": "21af811a",
   "metadata": {},
   "outputs": [],
   "source": []
  },
  {
   "cell_type": "code",
   "execution_count": null,
   "id": "bfc21de9",
   "metadata": {},
   "outputs": [],
   "source": []
  },
  {
   "cell_type": "code",
   "execution_count": null,
   "id": "9bc36324",
   "metadata": {},
   "outputs": [],
   "source": []
  },
  {
   "cell_type": "code",
   "execution_count": null,
   "id": "9e5e351b",
   "metadata": {},
   "outputs": [],
   "source": []
  },
  {
   "cell_type": "code",
   "execution_count": null,
   "id": "a601b64e",
   "metadata": {},
   "outputs": [],
   "source": []
  },
  {
   "cell_type": "code",
   "execution_count": null,
   "id": "064b1091",
   "metadata": {},
   "outputs": [],
   "source": []
  },
  {
   "cell_type": "code",
   "execution_count": null,
   "id": "26169815",
   "metadata": {},
   "outputs": [],
   "source": []
  },
  {
   "cell_type": "code",
   "execution_count": null,
   "id": "9d56b303",
   "metadata": {},
   "outputs": [],
   "source": []
  }
 ],
 "metadata": {
  "kernelspec": {
   "display_name": "Python 3 (ipykernel)",
   "language": "python",
   "name": "python3"
  },
  "language_info": {
   "codemirror_mode": {
    "name": "ipython",
    "version": 3
   },
   "file_extension": ".py",
   "mimetype": "text/x-python",
   "name": "python",
   "nbconvert_exporter": "python",
   "pygments_lexer": "ipython3",
   "version": "3.10.8"
  }
 },
 "nbformat": 4,
 "nbformat_minor": 5
}
