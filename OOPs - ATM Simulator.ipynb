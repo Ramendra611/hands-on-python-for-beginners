{
 "cells": [
  {
   "cell_type": "markdown",
   "id": "13e05628-f955-46c7-a37c-320b389e64b0",
   "metadata": {},
   "source": [
    "# *OOPs Mini Project: ATM Simulator**\n",
    "\n",
    "## **Objective**\n",
    "By the end of this project, you will:\n",
    "- ✅ Understand **Object-Oriented Programming (OOP)** concepts through a real-world example.\n",
    "- ✅ Implement **classes, instance variables, methods, inheritance, method overriding, encapsulation, and static methods**.\n",
    "- ✅ Simulate an ATM system with basic banking operations like **checking balance, withdrawing, depositing, and PIN authentication**.\n",
    "\n",
    "---\n",
    "\n",
    "## **Final Outcome (What We Are Building)**\n",
    "We will create a **command-line ATM simulator** where a user can:\n",
    "1. **Authenticate** with a PIN.\n",
    "2. **Check balance** of their account.\n",
    "3. **Withdraw money**, ensuring sufficient balance.\n",
    "4. **Deposit money** to increase their balance.\n",
    "5. **Exit the system** safely.\n",
    "\n",
    "The ATM will:\n",
    "- Work for **multiple users** with their own accounts.\n",
    "- Handle errors like **invalid PIN, insufficient balance, and incorrect input**.\n",
    "\n",
    "---\n",
    "\n",
    "## **Project Breakdown (Step-by-Step Implementation)**\n",
    "\n",
    "### **Phase 1: Planning & Class Structure**\n",
    "We'll define the core classes needed:\n",
    "1. `BankAccount` → Represents a user’s bank account with methods for transactions.\n",
    "2. `ATM` → Manages user authentication and transaction processing.\n",
    "\n",
    "---\n",
    "\n",
    "### **Phase 2: Implementing Basic Functionality**\n",
    "\n",
    "✅ **Step 1: Define the `BankAccount` class**\n",
    "   - Attributes: `account_number`, `pin`, `balance`.\n",
    "   - Methods:\n",
    "     - `check_balance()`\n",
    "     - `deposit(amount)`\n",
    "     - `withdraw(amount)` (with validation for sufficient funds).\n",
    "\n",
    "✅ **Step 2: Create the `ATM` class**\n",
    "   - Attributes: `accounts` (dictionary storing multiple `BankAccount` objects).\n",
    "   - Methods:\n",
    "     - `authenticate(account_number, pin) → Returns BankAccount instance if correct`.\n",
    "     - `display_menu()` → Show user options.\n",
    "     - `process_transactions()` → Handle user choices in a loop.\n",
    "\n",
    "✅ **Step 3: Build the ATM Menu System**\n",
    "   - Users will interact through the terminal.\n",
    "   - Prompt for **account number and PIN** before allowing access.\n",
    "   - Show menu options and execute the respective methods based on user input.\n",
    "\n",
    "---\n",
    "\n",
    "### **Phase 3: Testing & Refinements**\n",
    "✅ **Step 4: Test with Multiple Users**\n",
    "   - Create sample `BankAccount` objects.\n",
    "   - Simulate different transactions.\n",
    "   - Ensure all functionalities work correctly.\n",
    "\n",
    "✅ **Step 5: Handle Edge Cases & Errors**\n",
    "   - Invalid account numbers or PINs.\n",
    "   - Withdrawals exceeding balance.\n",
    "   - Deposits of negative amounts.\n",
    "   - Graceful exit when the user chooses to quit.\n",
    "\n",
    "---\n",
    "\n",
    "## **Future Enhancements (Advanced Functionalities)**\n",
    "Once the basic ATM system is working, we can enhance it with:\n",
    "\n",
    "🔥 **1. Inheritance & Method Overriding**\n",
    "- Create `SavingsAccount` and `CheckingAccount` classes, inheriting from `BankAccount`.\n",
    "- Override `withdraw()` to impose different rules (e.g., withdrawal limits for Savings accounts).\n",
    "\n",
    "🔥 **2. Static & Class Methods**\n",
    "- Implement a **static method** to **validate PIN format**.\n",
    "- Use a **class variable** to track the total number of accounts created.\n",
    "\n",
    "🔥 **3. Transaction History Feature**\n",
    "- Store transaction records for each account and allow users to view recent transactions.\n",
    "\n",
    "🔥 **4. Multi-User Login System**\n",
    "- Allow multiple users to log in and manage their own accounts.\n",
    "\n",
    "🔥 **5. File Storage / Database Integration**\n",
    "- Save account details to a file or database instead of keeping them in memory.\n",
    "- Load account details when the program starts.\n",
    "\n",
    "---\n",
    "\n",
    "### **Next Steps**\n",
    "Let's begin by implementing **Phase 1 & 2** (basic ATM functionalities). Once we have that working, we will extend the project with **advanced features**.\n",
    "\n",
    "Let us get started! 🚀\n"
   ]
  },
  {
   "cell_type": "code",
   "execution_count": 40,
   "id": "65282730-bf63-4f1d-9dcf-4a27efafae7a",
   "metadata": {},
   "outputs": [],
   "source": [
    "class BankAccount:\n",
    "    \n",
    "    def __init__(self, account_number:str, pin:int, balance:float):\n",
    "        self.account_number = account_number\n",
    "        self.pin = pin\n",
    "        self.balance = balance\n",
    "        \n",
    "    def check_balance(self):    \n",
    "        return self.balance\n",
    "    \n",
    "    def deposit(self, amount:float):\n",
    "        # todo: check if amount is positive\n",
    "        if amount > 0:\n",
    "            self.balance = self.balance + amount\n",
    "            print(f\"Amount {amount} deposited!! You new balance is : {self.balance}\")\n",
    "            # todo: add logs for this \n",
    "        else:\n",
    "            raise Exception(\"Amount to be deposited can't be negative\")\n",
    "    \n",
    "    def withdraw(self, amount:float):\n",
    "        if amount > 0:\n",
    "                if amount <= self.balance:\n",
    "                    self.balance = self.balance - amount\n",
    "                    print(f\"Amount {amount} withdrawn!! You new balance is : {self.balance}\")\n",
    "                else:\n",
    "                    raise Exception(\"Insuffient balance!!\")\n",
    "                    \n",
    "        else:\n",
    "            raise Exception(\"Amount to be withdrawn can't be negative\")\n",
    "\n"
   ]
  },
  {
   "cell_type": "code",
   "execution_count": 46,
   "id": "da26b0c4-9e6c-468c-bb84-841e9e6323d7",
   "metadata": {},
   "outputs": [],
   "source": [
    "class ATM:\n",
    "    '''\n",
    "    ATM class that will register an account, authenticate and then allow the user to depost or withdraw money \n",
    "    from the account. \n",
    "    '''\n",
    "    \n",
    "    def __init__(self):\n",
    "        self.registered_accounts = {}\n",
    "        \n",
    "    def register_account(self, account:BankAccount ):\n",
    "        \n",
    "        self.registered_accounts[account.account_number]  = account\n",
    "        \n",
    "    def authenticate(self, account_number, pin):\n",
    "        account = self.registered_accounts.get(account_number)\n",
    "        if not account:\n",
    "            raise Exception(\"Account not found!! Please try again!!\")\n",
    "        if pin == account.pin:\n",
    "            print(\"Login successful!!\")\n",
    "            return account\n",
    "        else:\n",
    "            raise Exception(\"INVALID PIN!\")\n",
    "            \n",
    "    @staticmethod\n",
    "    def display_options():\n",
    "        print('''\n",
    "                Select the correct option:\n",
    "                    1. Check your balance\n",
    "                    2. Withdraw \n",
    "                    3. Deposit\n",
    "                    4. Exit\n",
    "        \n",
    "        ''')\n",
    "\n",
    "        "
   ]
  },
  {
   "cell_type": "code",
   "execution_count": 47,
   "id": "92f1b4ae-15a8-429e-960c-7446a27de403",
   "metadata": {},
   "outputs": [
    {
     "name": "stdin",
     "output_type": "stream",
     "text": [
      "\n",
      "Enter the account number: 5\n",
      "Please enter your pin:  3456\n"
     ]
    },
    {
     "ename": "Exception",
     "evalue": "Account not found!! Please try again!!",
     "output_type": "error",
     "traceback": [
      "\u001b[0;31m---------------------------------------------------------------------------\u001b[0m",
      "\u001b[0;31mException\u001b[0m                                 Traceback (most recent call last)",
      "Cell \u001b[0;32mIn[47], line 20\u001b[0m\n\u001b[1;32m     17\u001b[0m account_number \u001b[38;5;241m=\u001b[39m \u001b[38;5;28minput\u001b[39m(\u001b[38;5;124m\"\u001b[39m\u001b[38;5;130;01m\\n\u001b[39;00m\u001b[38;5;124mEnter the account number:\u001b[39m\u001b[38;5;124m\"\u001b[39m)\n\u001b[1;32m     18\u001b[0m pin \u001b[38;5;241m=\u001b[39m \u001b[38;5;28mint\u001b[39m(\u001b[38;5;28minput\u001b[39m(\u001b[38;5;124m\"\u001b[39m\u001b[38;5;124mPlease enter your pin: \u001b[39m\u001b[38;5;124m\"\u001b[39m))\n\u001b[0;32m---> 20\u001b[0m account \u001b[38;5;241m=\u001b[39m \u001b[43matm\u001b[49m\u001b[38;5;241;43m.\u001b[39;49m\u001b[43mauthenticate\u001b[49m\u001b[43m(\u001b[49m\u001b[43maccount_number\u001b[49m\u001b[43m,\u001b[49m\u001b[43m \u001b[49m\u001b[43mpin\u001b[49m\u001b[43m)\u001b[49m\n\u001b[1;32m     23\u001b[0m \u001b[38;5;28;01mwhile\u001b[39;00m \u001b[38;5;28;01mTrue\u001b[39;00m:\n\u001b[1;32m     24\u001b[0m     atm\u001b[38;5;241m.\u001b[39mdisplay_options()\n",
      "Cell \u001b[0;32mIn[46], line 17\u001b[0m, in \u001b[0;36mATM.authenticate\u001b[0;34m(self, account_number, pin)\u001b[0m\n\u001b[1;32m     15\u001b[0m account \u001b[38;5;241m=\u001b[39m \u001b[38;5;28mself\u001b[39m\u001b[38;5;241m.\u001b[39mregistered_accounts\u001b[38;5;241m.\u001b[39mget(account_number)\n\u001b[1;32m     16\u001b[0m \u001b[38;5;28;01mif\u001b[39;00m \u001b[38;5;129;01mnot\u001b[39;00m account:\n\u001b[0;32m---> 17\u001b[0m     \u001b[38;5;28;01mraise\u001b[39;00m \u001b[38;5;167;01mException\u001b[39;00m(\u001b[38;5;124m\"\u001b[39m\u001b[38;5;124mAccount not found!! Please try again!!\u001b[39m\u001b[38;5;124m\"\u001b[39m)\n\u001b[1;32m     18\u001b[0m \u001b[38;5;28;01mif\u001b[39;00m pin \u001b[38;5;241m==\u001b[39m account\u001b[38;5;241m.\u001b[39mpin:\n\u001b[1;32m     19\u001b[0m     \u001b[38;5;28mprint\u001b[39m(\u001b[38;5;124m\"\u001b[39m\u001b[38;5;124mLogin successful!!\u001b[39m\u001b[38;5;124m\"\u001b[39m)\n",
      "\u001b[0;31mException\u001b[0m: Account not found!! Please try again!!"
     ]
    }
   ],
   "source": [
    "'''\n",
    "\n",
    "1. Create the bank account\n",
    "2. Register the bank account with the atm\n",
    "3. Ask the user to enter the account number \n",
    "4. Enter the pin\n",
    "5. Authenticate and then show options\n",
    "6. As per the option selected, perform deposit or withdraw\n",
    "'''\n",
    "\n",
    "atm = ATM()\n",
    "\n",
    "atm.register_account(BankAccount(\"1\", 1234, 10000))\n",
    "atm.register_account(BankAccount(\"2\", 5678, 20000))\n",
    "\n",
    "while True:\n",
    "    account_number = input(\"\\nEnter the account number:\")\n",
    "    pin = int(input(\"Please enter your pin: \"))\n",
    "    account = atm.authenticate(account_number, pin)\n",
    "    \n",
    "    \n",
    "    \n",
    "    while True:\n",
    "        atm.display_options()\n",
    "\n",
    "        choice = (input(\"\\nEnter your choice:::\"))\n",
    "\n",
    "        if choice == \"1\":\n",
    "            balance = account.check_balance()\n",
    "            print(f\"Your balance:  {balance}\")\n",
    "\n",
    "        elif choice == \"2\":\n",
    "            withdraw_amount = int(input(\"Enter the amount to withdraw: \"))\n",
    "            account.withdraw(withdraw_amount)\n",
    "\n",
    "\n",
    "        elif choice == \"3\":\n",
    "            deposit_amount = int(input(\"Enter the amount to deposit: \"))\n",
    "            account.deposit(deposit_amount)\n",
    "\n",
    "        else:\n",
    "            print(\"Thank you for banking with us! Have a nice day!!\")\n",
    "            break\n"
   ]
  },
  {
   "cell_type": "code",
   "execution_count": null,
   "id": "f5250379-2591-4e5e-a988-b205fe25c3ce",
   "metadata": {},
   "outputs": [],
   "source": []
  },
  {
   "cell_type": "code",
   "execution_count": null,
   "id": "123fcfdd-a217-4c21-af8f-70fffa91b9ce",
   "metadata": {},
   "outputs": [],
   "source": []
  },
  {
   "cell_type": "code",
   "execution_count": null,
   "id": "4d23cb19-f6a3-4608-8ed7-6689f72b5b49",
   "metadata": {},
   "outputs": [],
   "source": []
  },
  {
   "cell_type": "code",
   "execution_count": 26,
   "id": "b78280be-13f3-47b9-b242-61611a05e778",
   "metadata": {},
   "outputs": [],
   "source": [
    "account1 = BankAccount(\"123\", 1234, 10000 )"
   ]
  },
  {
   "cell_type": "code",
   "execution_count": 27,
   "id": "09dd06f9-68b9-4e49-908b-d268baa3e226",
   "metadata": {},
   "outputs": [
    {
     "data": {
      "text/plain": [
       "'123'"
      ]
     },
     "execution_count": 27,
     "metadata": {},
     "output_type": "execute_result"
    }
   ],
   "source": [
    "account1.account_number"
   ]
  },
  {
   "cell_type": "code",
   "execution_count": 16,
   "id": "80111e52-c2ae-4344-a916-9ee85205e760",
   "metadata": {},
   "outputs": [
    {
     "data": {
      "text/plain": [
       "10000"
      ]
     },
     "execution_count": 16,
     "metadata": {},
     "output_type": "execute_result"
    }
   ],
   "source": [
    "account1.balance "
   ]
  },
  {
   "cell_type": "code",
   "execution_count": 17,
   "id": "0acbbeed-3b45-4493-a00a-db76f9f669e9",
   "metadata": {},
   "outputs": [
    {
     "data": {
      "text/plain": [
       "10000"
      ]
     },
     "execution_count": 17,
     "metadata": {},
     "output_type": "execute_result"
    }
   ],
   "source": [
    "account1.check_balance()"
   ]
  },
  {
   "cell_type": "code",
   "execution_count": 18,
   "id": "c3f719ba-eb54-4ff3-843f-4d40de156ede",
   "metadata": {},
   "outputs": [],
   "source": [
    "account1.deposit(20000)"
   ]
  },
  {
   "cell_type": "code",
   "execution_count": 19,
   "id": "5cf8029e-bb08-40ab-a9fa-6028ddddf88a",
   "metadata": {},
   "outputs": [
    {
     "data": {
      "text/plain": [
       "30000"
      ]
     },
     "execution_count": 19,
     "metadata": {},
     "output_type": "execute_result"
    }
   ],
   "source": [
    "account1.balance"
   ]
  },
  {
   "cell_type": "code",
   "execution_count": 20,
   "id": "34e50ff1-ba6c-4dce-810f-196fa971e8ad",
   "metadata": {},
   "outputs": [],
   "source": [
    "account1.withdraw(5000)"
   ]
  },
  {
   "cell_type": "code",
   "execution_count": 21,
   "id": "360cfe06-963d-423d-9318-3ff7320a5546",
   "metadata": {},
   "outputs": [
    {
     "data": {
      "text/plain": [
       "25000"
      ]
     },
     "execution_count": 21,
     "metadata": {},
     "output_type": "execute_result"
    }
   ],
   "source": [
    "account1.check_balance()"
   ]
  },
  {
   "cell_type": "code",
   "execution_count": null,
   "id": "e0cdc0b9-b5bd-4d68-aca8-7d5639d4176a",
   "metadata": {},
   "outputs": [],
   "source": []
  },
  {
   "cell_type": "code",
   "execution_count": 24,
   "id": "f0f66da7-a3b4-46a0-aaed-9042295a961f",
   "metadata": {},
   "outputs": [],
   "source": [
    "atm = ATM()"
   ]
  },
  {
   "cell_type": "code",
   "execution_count": 29,
   "id": "b7afe729-607f-4ce7-bfb8-db0ff75cf477",
   "metadata": {},
   "outputs": [],
   "source": [
    "atm.register_account(account1)"
   ]
  },
  {
   "cell_type": "code",
   "execution_count": 32,
   "id": "7f8c8faf-4c81-4def-8dff-e3fd49eab2be",
   "metadata": {},
   "outputs": [
    {
     "name": "stdout",
     "output_type": "stream",
     "text": [
      "Login successful!!\n"
     ]
    }
   ],
   "source": [
    "account = atm.authenticate(\"123\", 1234)"
   ]
  },
  {
   "cell_type": "code",
   "execution_count": 33,
   "id": "c55d0654-b4b0-4e79-96bf-d93b0b530ef7",
   "metadata": {},
   "outputs": [
    {
     "data": {
      "text/plain": [
       "10000"
      ]
     },
     "execution_count": 33,
     "metadata": {},
     "output_type": "execute_result"
    }
   ],
   "source": [
    "account.check_balance()"
   ]
  },
  {
   "cell_type": "code",
   "execution_count": 35,
   "id": "5fc851aa-2897-4ea9-a9da-ffbf3bf8636b",
   "metadata": {},
   "outputs": [
    {
     "name": "stdout",
     "output_type": "stream",
     "text": [
      "\n",
      "                Select the correct option:\n",
      "                    1. Check your balance\n",
      "                    2. Withdraw \n",
      "                    3. Deposit\n",
      "                    4. Exit\n",
      "        \n",
      "        \n"
     ]
    }
   ],
   "source": [
    "atm.display_options()"
   ]
  },
  {
   "cell_type": "code",
   "execution_count": null,
   "id": "2ac10234-8e3c-4979-beaf-19dec771e6d6",
   "metadata": {},
   "outputs": [],
   "source": []
  },
  {
   "cell_type": "code",
   "execution_count": null,
   "id": "0c027857-5aea-4b2e-a9b1-6d4d39d0c040",
   "metadata": {},
   "outputs": [],
   "source": []
  },
  {
   "cell_type": "code",
   "execution_count": null,
   "id": "ff735398-7cfd-4566-812e-9cd7a779a8e6",
   "metadata": {},
   "outputs": [],
   "source": []
  },
  {
   "cell_type": "code",
   "execution_count": null,
   "id": "8508e04d-0a79-4fde-bb9f-8e763a606341",
   "metadata": {},
   "outputs": [],
   "source": []
  },
  {
   "cell_type": "code",
   "execution_count": 9,
   "id": "23e81265-7d2f-4491-9de7-4eaca7fab157",
   "metadata": {},
   "outputs": [
    {
     "name": "stdout",
     "output_type": "stream",
     "text": [
      "<class '__main__.BankAccount'>\n"
     ]
    }
   ],
   "source": [
    "print(type(account1))"
   ]
  },
  {
   "cell_type": "code",
   "execution_count": null,
   "id": "0d865456-62f1-4110-96e6-f853f9adce1c",
   "metadata": {},
   "outputs": [],
   "source": []
  },
  {
   "cell_type": "code",
   "execution_count": null,
   "id": "90716f4d-50db-4958-8f73-a49c03b07e33",
   "metadata": {},
   "outputs": [],
   "source": []
  },
  {
   "cell_type": "code",
   "execution_count": null,
   "id": "3a31ade7-8310-49ef-a09c-e64c0c52250f",
   "metadata": {},
   "outputs": [],
   "source": []
  },
  {
   "cell_type": "code",
   "execution_count": 1,
   "id": "fff83eda-49e1-4f33-8c36-91922a989e00",
   "metadata": {},
   "outputs": [
    {
     "data": {
      "text/plain": [
       "[0, 1, 2, 3, 4]"
      ]
     },
     "execution_count": 1,
     "metadata": {},
     "output_type": "execute_result"
    }
   ],
   "source": [
    "list(range(5))"
   ]
  },
  {
   "cell_type": "code",
   "execution_count": 5,
   "id": "77546507-3548-40b2-82d1-fcd51cd8318a",
   "metadata": {},
   "outputs": [
    {
     "data": {
      "text/plain": [
       "True"
      ]
     },
     "execution_count": 5,
     "metadata": {},
     "output_type": "execute_result"
    }
   ],
   "source": [
    "float(\"inf\") == float(\"inf\")"
   ]
  },
  {
   "cell_type": "code",
   "execution_count": 11,
   "id": "df9d4e9b-5a59-4fb5-84f5-9addb02704a9",
   "metadata": {},
   "outputs": [
    {
     "data": {
      "text/plain": [
       "[1, 0]"
      ]
     },
     "execution_count": 11,
     "metadata": {},
     "output_type": "execute_result"
    }
   ],
   "source": [
    "m = 3\n",
    "n = 7\n",
    "\n",
    "list(range(m-2,-1, -1))"
   ]
  },
  {
   "cell_type": "code",
   "execution_count": 12,
   "id": "c3e9e996-b697-49c3-8105-c58b438a0607",
   "metadata": {},
   "outputs": [
    {
     "data": {
      "text/plain": [
       "[2, 3, 4]"
      ]
     },
     "execution_count": 12,
     "metadata": {},
     "output_type": "execute_result"
    }
   ],
   "source": [
    "x = [[1, 1, 1], [2, 3, 4]]\n",
    "max(x)"
   ]
  },
  {
   "cell_type": "code",
   "execution_count": 23,
   "id": "a533cf89-a235-4db6-805c-28c9ccefaa5d",
   "metadata": {},
   "outputs": [
    {
     "data": {
      "text/plain": [
       "True"
      ]
     },
     "execution_count": 23,
     "metadata": {},
     "output_type": "execute_result"
    }
   ],
   "source": [
    "\"a\".isalpha()"
   ]
  },
  {
   "cell_type": "code",
   "execution_count": 21,
   "id": "43389d06-f8b5-4211-a546-ab67a549c22b",
   "metadata": {},
   "outputs": [
    {
     "data": {
      "text/plain": [
       "True"
      ]
     },
     "execution_count": 21,
     "metadata": {},
     "output_type": "execute_result"
    }
   ],
   "source": [
    "\"A\".isalpha()"
   ]
  },
  {
   "cell_type": "code",
   "execution_count": null,
   "id": "3d5856ed-0744-41e8-ada5-33120bc2b256",
   "metadata": {},
   "outputs": [],
   "source": []
  }
 ],
 "metadata": {
  "kernelspec": {
   "display_name": "Python 3 (ipykernel)",
   "language": "python",
   "name": "python3"
  },
  "language_info": {
   "codemirror_mode": {
    "name": "ipython",
    "version": 3
   },
   "file_extension": ".py",
   "mimetype": "text/x-python",
   "name": "python",
   "nbconvert_exporter": "python",
   "pygments_lexer": "ipython3",
   "version": "3.10.8"
  }
 },
 "nbformat": 4,
 "nbformat_minor": 5
}
