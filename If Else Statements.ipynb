{
 "cells": [
  {
   "cell_type": "markdown",
   "id": "df8c3780",
   "metadata": {},
   "source": [
    "**Control Flow**\n",
    "\n",
    "Control flow determines the order in which statements and instructions are executed in a program.\n",
    "```python\n",
    "\n",
    "    - Conditional Statements\n",
    "    - Loops ( For loops and while loops)\n",
    "    - Branching Statements ( break, contunue, pass) \n",
    "    - Exception Handling\n",
    "```"
   ]
  },
  {
   "cell_type": "code",
   "execution_count": null,
   "id": "f90ca97c",
   "metadata": {},
   "outputs": [],
   "source": []
  },
  {
   "cell_type": "markdown",
   "id": "cb634dd4",
   "metadata": {},
   "source": [
    "## Conditional Statements in python\n",
    "    - If \n",
    "    - If - else\n",
    "    - if elif - else"
   ]
  },
  {
   "cell_type": "code",
   "execution_count": null,
   "id": "224628bf",
   "metadata": {},
   "outputs": [],
   "source": []
  },
  {
   "cell_type": "markdown",
   "id": "67e27f10",
   "metadata": {},
   "source": [
    "**Ask the user to enter his marks and if the marks are more than passing marks then show he is pass otherwise fail**"
   ]
  },
  {
   "cell_type": "code",
   "execution_count": 1,
   "id": "afa3b538",
   "metadata": {},
   "outputs": [],
   "source": [
    "marks = 50\n",
    "\n",
    "passing_marks = 30"
   ]
  },
  {
   "cell_type": "code",
   "execution_count": 11,
   "id": "eddfa7b7",
   "metadata": {},
   "outputs": [
    {
     "name": "stdout",
     "output_type": "stream",
     "text": [
      "Enter your marks: 10\n",
      "YOU HAVE FAILED !\n"
     ]
    }
   ],
   "source": [
    "marks = int(input(\"Enter your marks: \"))\n",
    "if marks > passing_marks:\n",
    "    print(\"CONGRATULATIONS. YOU HAVE PASSED!!\")\n",
    "else:\n",
    "    print(\"YOU HAVE FAILED !\")\n",
    "    \n",
    "    "
   ]
  },
  {
   "cell_type": "code",
   "execution_count": null,
   "id": "8d689bb3",
   "metadata": {},
   "outputs": [],
   "source": [
    "marks = int(input(\"Enter your marks: \"))\n",
    "if marks > passing_marks:\n",
    "    print(\"CONGRATULATIONS. YOU HAVE PASSED!!\")\n",
    "else:\n",
    "    print(\"YOU HAVE FAILED !\")"
   ]
  },
  {
   "cell_type": "code",
   "execution_count": 16,
   "id": "202e5ab4",
   "metadata": {},
   "outputs": [
    {
     "name": "stdout",
     "output_type": "stream",
     "text": [
      "Enter your marks: 199\n",
      "199\n"
     ]
    }
   ],
   "source": [
    "marks = int(input(\"Enter your marks: \"))\n"
   ]
  },
  {
   "cell_type": "code",
   "execution_count": null,
   "id": "b6ddea23",
   "metadata": {},
   "outputs": [],
   "source": []
  },
  {
   "cell_type": "code",
   "execution_count": null,
   "id": "9e229991",
   "metadata": {},
   "outputs": [],
   "source": []
  },
  {
   "cell_type": "markdown",
   "id": "16d754a8",
   "metadata": {},
   "source": [
    "## nested if-else statements"
   ]
  },
  {
   "cell_type": "markdown",
   "id": "42397c66",
   "metadata": {},
   "source": [
    "**Ask the user to enter his marks and if the marks are more than passing marks then show he is pass otherwise fail. If the student has scored more than 90 than show he has A grade, if between 80-90 then show B grade**"
   ]
  },
  {
   "cell_type": "code",
   "execution_count": 25,
   "id": "6cb23fcc",
   "metadata": {},
   "outputs": [
    {
     "name": "stdout",
     "output_type": "stream",
     "text": [
      "YOU HAVE FAILED!\n"
     ]
    }
   ],
   "source": [
    "marks = 10\n",
    "\n",
    "\n",
    "if marks > passing_marks:\n",
    "    if marks >= 90:\n",
    "        print(\"You have passed with A grade!!!\")\n",
    "    else:\n",
    "        if marks > 80:\n",
    "            print(\"You have passed with B grade!!!\")\n",
    "        else:\n",
    "            print(\"You have passed but not secured any grade!!!\")\n",
    "            \n",
    "\n",
    "else:\n",
    "    print(\"YOU HAVE FAILED!\")\n",
    "    "
   ]
  },
  {
   "cell_type": "code",
   "execution_count": null,
   "id": "8be8bfc4",
   "metadata": {},
   "outputs": [],
   "source": []
  },
  {
   "cell_type": "markdown",
   "id": "878dfc87",
   "metadata": {},
   "source": [
    "**Ask the user to enter his marks and if the marks are more than passing marks then show he is pass otherwise fail. If the student has scored more than 90 than show he has A grade, if between 80-90 then show B grade. If 70-80 then show C grade**"
   ]
  },
  {
   "cell_type": "code",
   "execution_count": 28,
   "id": "8a533866",
   "metadata": {},
   "outputs": [],
   "source": [
    "passing_marks = 40"
   ]
  },
  {
   "cell_type": "code",
   "execution_count": 32,
   "id": "7e7fa844",
   "metadata": {},
   "outputs": [
    {
     "name": "stdout",
     "output_type": "stream",
     "text": [
      "Enter the marks:  108\n",
      "You have passed with A grade!!!\n"
     ]
    }
   ],
   "source": [
    "marks = int(input(\"Enter the marks:  \"))\n",
    "\n",
    "\n",
    "if marks > passing_marks:\n",
    "    if marks >= 90:\n",
    "        print(\"You have passed with A grade!!!\")\n",
    "    elif marks >= 80:\n",
    "        print(\"You have passed with B grade!!!\")\n",
    "    elif marks >=70:\n",
    "        print(\"You have passed with C grade!!!\")       \n",
    "    else:\n",
    "        print(\"You have passed but not secured any grade!!!\")\n",
    "            \n",
    "else:\n",
    "    print(\"YOU HAVE FAILED!\")"
   ]
  },
  {
   "cell_type": "code",
   "execution_count": null,
   "id": "2e3bd2d2",
   "metadata": {},
   "outputs": [],
   "source": []
  },
  {
   "cell_type": "markdown",
   "id": "dfb1be51",
   "metadata": {},
   "source": [
    "**Handling invalid input**"
   ]
  },
  {
   "cell_type": "code",
   "execution_count": 37,
   "id": "b24efc97",
   "metadata": {},
   "outputs": [
    {
     "name": "stdout",
     "output_type": "stream",
     "text": [
      "Enter the marks:  -10\n",
      "You have entered invalid input!!\n"
     ]
    }
   ],
   "source": [
    "marks = int(input(\"Enter the marks:  \"))\n",
    "\n",
    "# if (marks >= 0) and (marks <=100):\n",
    "if 0 < marks < 100:\n",
    "\n",
    "    if marks > passing_marks:\n",
    "        if marks >= 90:\n",
    "            print(\"You have passed with A grade!!!\")\n",
    "        elif marks >= 80:\n",
    "            print(\"You have passed with B grade!!!\")\n",
    "        elif marks >=70:\n",
    "            print(\"You have passed with C grade!!!\")       \n",
    "        else:\n",
    "            print(\"You have passed but not secured any grade!!!\")\n",
    "\n",
    "    else:\n",
    "        print(\"YOU HAVE FAILED!\")\n",
    "else:\n",
    "    print(\"You have entered invalid input!!\")"
   ]
  },
  {
   "cell_type": "code",
   "execution_count": null,
   "id": "e51e10c9",
   "metadata": {},
   "outputs": [],
   "source": []
  },
  {
   "cell_type": "markdown",
   "id": "954dcb1f",
   "metadata": {},
   "source": [
    "### Single line if-else:"
   ]
  },
  {
   "cell_type": "markdown",
   "id": "343bbb62",
   "metadata": {},
   "source": [
    "**Ask the user to enter a number and display whether the number is even or not**"
   ]
  },
  {
   "cell_type": "code",
   "execution_count": 43,
   "id": "4dcc5522",
   "metadata": {},
   "outputs": [],
   "source": [
    "number = 10"
   ]
  },
  {
   "cell_type": "code",
   "execution_count": 45,
   "id": "f7b898ff",
   "metadata": {},
   "outputs": [
    {
     "name": "stdout",
     "output_type": "stream",
     "text": [
      "even\n"
     ]
    }
   ],
   "source": [
    "\n",
    "if number % 2 == 0:\n",
    "    result = \"even\"\n",
    "else:\n",
    "    result = \"odd\"\n",
    "    \n",
    "print(result)"
   ]
  },
  {
   "cell_type": "code",
   "execution_count": 48,
   "id": "b8a82068",
   "metadata": {},
   "outputs": [
    {
     "data": {
      "text/plain": [
       "'odd'"
      ]
     },
     "execution_count": 48,
     "metadata": {},
     "output_type": "execute_result"
    }
   ],
   "source": [
    "number = 81\n",
    "result = \"even\" if number % 2 ==0 else \"odd\"\n",
    "result"
   ]
  },
  {
   "cell_type": "code",
   "execution_count": 64,
   "id": "dbc19de5",
   "metadata": {},
   "outputs": [
    {
     "data": {
      "text/plain": [
       "'C'"
      ]
     },
     "execution_count": 64,
     "metadata": {},
     "output_type": "execute_result"
    }
   ],
   "source": [
    "marks = 75\n",
    "grade = \"A\" if ((marks > passing_marks) and  (marks >= 90)) \\\n",
    "        else ( \"B\" if marks >= 80 else (\"C\" if marks >= 70 else \\\n",
    "        (\"just pass\" if marks > passing_marks else \"Fail\")))\n",
    "grade"
   ]
  },
  {
   "cell_type": "markdown",
   "id": "5bc046df",
   "metadata": {},
   "source": [
    "## Practice"
   ]
  },
  {
   "cell_type": "markdown",
   "id": "424c6cfe",
   "metadata": {},
   "source": [
    "**Write a program that takes an integer input from the user and prints \"Positive\" if the number is greater than 0.**"
   ]
  },
  {
   "cell_type": "code",
   "execution_count": 72,
   "id": "bce8c057",
   "metadata": {},
   "outputs": [
    {
     "name": "stdout",
     "output_type": "stream",
     "text": [
      "Enter the number : -19\n",
      "The number is not positive!!!!!!\n"
     ]
    }
   ],
   "source": [
    "number = int(input(\"Enter the number : \"))\n",
    "\n",
    "if number > 0:\n",
    "    print(\"The number is positive!!\")\n",
    "else:\n",
    "    print(\"The number is not positive!!!!!!\")"
   ]
  },
  {
   "cell_type": "code",
   "execution_count": 75,
   "id": "e13b32e4",
   "metadata": {},
   "outputs": [
    {
     "name": "stdout",
     "output_type": "stream",
     "text": [
      "Enter the number : -6\n",
      "The number is not positive!!!!!!\n"
     ]
    }
   ],
   "source": [
    "number = int(input(\"Enter the number : \"))\n",
    "print(\"The number is positive!!\") if number  > 0 else print(\"The number is not positive!!!!!!\")"
   ]
  },
  {
   "cell_type": "code",
   "execution_count": null,
   "id": "c8f2d674",
   "metadata": {},
   "outputs": [],
   "source": []
  },
  {
   "cell_type": "markdown",
   "id": "ddb71d10",
   "metadata": {},
   "source": [
    "**Write a program that checks if a given string is empty. If it is, print \"Empty String\".**"
   ]
  },
  {
   "cell_type": "code",
   "execution_count": 86,
   "id": "6177ac08",
   "metadata": {},
   "outputs": [
    {
     "name": "stdout",
     "output_type": "stream",
     "text": [
      "Enter a string value: \n",
      "The string is empty\n"
     ]
    }
   ],
   "source": [
    "string = input(\"Enter a string value: \")\n",
    "\n",
    "if not string:\n",
    "    print(\"The string is empty\")\n",
    "else:\n",
    "    print(\"The string you entered has \", len(string), \"characters.\")\n"
   ]
  },
  {
   "cell_type": "code",
   "execution_count": null,
   "id": "ca3e29e2",
   "metadata": {},
   "outputs": [],
   "source": []
  },
  {
   "cell_type": "markdown",
   "id": "99bbc7fc",
   "metadata": {},
   "source": [
    "**Write a program to check if a given year is a leap year.**"
   ]
  },
  {
   "cell_type": "code",
   "execution_count": 92,
   "id": "d407fabc",
   "metadata": {},
   "outputs": [
    {
     "name": "stdout",
     "output_type": "stream",
     "text": [
      "Enter the year2000\n",
      "The year is a leap year!!\n"
     ]
    }
   ],
   "source": [
    "year = int(input(\"Enter the year\"))\n",
    "\n",
    "if year % 4 == 0:\n",
    "    print(\"The year is a leap year!!\")\n",
    "else:\n",
    "    print(\"Sorry the year is not a leap year!!!\")"
   ]
  },
  {
   "cell_type": "code",
   "execution_count": null,
   "id": "98a16fa5",
   "metadata": {},
   "outputs": [],
   "source": []
  },
  {
   "cell_type": "code",
   "execution_count": null,
   "id": "966d727f",
   "metadata": {},
   "outputs": [],
   "source": []
  },
  {
   "cell_type": "markdown",
   "id": "178ea59f",
   "metadata": {},
   "source": [
    "**Write a program that prints \"Divisible by both\" if a number is divisible by both 5 and 3.**"
   ]
  },
  {
   "cell_type": "code",
   "execution_count": 97,
   "id": "c20192b6",
   "metadata": {},
   "outputs": [
    {
     "name": "stdout",
     "output_type": "stream",
     "text": [
      "Divisible by only 5!\n"
     ]
    }
   ],
   "source": [
    "number = 10\n",
    "\n",
    "if (number % 5 ==0) and (number % 3 ==0):\n",
    "        print(\"Divisible by both!!\")\n",
    "elif (number % 5 ==0):\n",
    "    print(\"Divisible by only 5!\")\n",
    "elif (number % 3 ==0):\n",
    "    print(\"Divisible by only 3!\")\n",
    "else:\n",
    "    print(\"Divisible by neither 5 nor 3!\")"
   ]
  },
  {
   "cell_type": "code",
   "execution_count": null,
   "id": "ecef0cf0",
   "metadata": {},
   "outputs": [],
   "source": []
  },
  {
   "cell_type": "markdown",
   "id": "5c2d2c76",
   "metadata": {},
   "source": [
    "**Write a program that takes two integers as input and prints the larger one.**"
   ]
  },
  {
   "cell_type": "code",
   "execution_count": 101,
   "id": "a3891ea6",
   "metadata": {},
   "outputs": [
    {
     "name": "stdout",
     "output_type": "stream",
     "text": [
      "Enter the first number: 9.3\n",
      "Enter the second number: 100.5\n",
      "The numbers you entered are:  9.3  and  100.5\n",
      "The larger number is  100.5\n"
     ]
    }
   ],
   "source": [
    "number1 = float(input(\"Enter the first number: \"))\n",
    "number2 = float(input(\"Enter the second number: \"))\n",
    "\n",
    "print(\"The numbers you entered are: \", number1,\" and \" ,number2)\n",
    "if number1 > number2:\n",
    "    print(\"The larger number is \", number1)\n",
    "else:\n",
    "    print(\"The larger number is \", number2)\n",
    "    "
   ]
  },
  {
   "cell_type": "code",
   "execution_count": null,
   "id": "b5bbcef2",
   "metadata": {},
   "outputs": [],
   "source": []
  },
  {
   "cell_type": "markdown",
   "id": "8e55ebe2",
   "metadata": {},
   "source": [
    "**Write a program that assigns a grade based on the following:**\n",
    "```\n",
    "    - Marks >= 90: \"A\"\n",
    "    - Marks >= 75: \"B\"\n",
    "    - Marks >= 60: \"C\"\n",
    "    - Otherwise: \"D\"\n",
    "```"
   ]
  },
  {
   "cell_type": "code",
   "execution_count": null,
   "id": "e5a0cbdf",
   "metadata": {},
   "outputs": [],
   "source": []
  },
  {
   "cell_type": "markdown",
   "id": "412c10f9",
   "metadata": {},
   "source": [
    "**Write a program that checks if the given character is a vowel.**"
   ]
  },
  {
   "cell_type": "code",
   "execution_count": 102,
   "id": "df404e86",
   "metadata": {},
   "outputs": [],
   "source": [
    "character = \"a\"\n",
    "\n",
    "vowels = \"aeiouAEIOU\"\n",
    "vowels = \"aeiou\""
   ]
  },
  {
   "cell_type": "code",
   "execution_count": 112,
   "id": "8636a1a9",
   "metadata": {},
   "outputs": [
    {
     "name": "stdout",
     "output_type": "stream",
     "text": [
      "Enter a character to check if its a vowel( please enter one character:):  ii\n",
      "YOU HAVE ENTERED INVALID ENTRY. PLEASE ENTER ONLY ONE CHARACTER!!\n"
     ]
    }
   ],
   "source": [
    "character = \\\n",
    "input(\"Enter a character to check if its a vowel( please enter one character:):  \")\n",
    "\n",
    "if len(character) == 0 or len(character) > 1:\n",
    "    print(\"YOU HAVE ENTERED INVALID ENTRY. PLEASE ENTER ONLY ONE CHARACTER!!\")\n",
    "\n",
    "else:\n",
    "    if character in vowels:\n",
    "        print(\"The character is a vowel\")\n",
    "    else:\n",
    "        print(\"The character is not a vowel!!\")"
   ]
  },
  {
   "cell_type": "code",
   "execution_count": 114,
   "id": "6f5d4406",
   "metadata": {},
   "outputs": [
    {
     "name": "stdout",
     "output_type": "stream",
     "text": [
      "Enter a character to check if its a vowel( please enter one character:):   \n",
      "The character is not a vowel!!\n"
     ]
    }
   ],
   "source": [
    "character = \\\n",
    "input(\"Enter a character to check if its a vowel( please enter one character:):  \")\n",
    "\n",
    "if len(character) == 0 or len(character) > 1:\n",
    "    print(\"YOU HAVE ENTERED INVALID ENTRY. PLEASE ENTER ONLY ONE CHARACTER!!\")\n",
    "\n",
    "else:\n",
    "    print(\"The character is a vowel\") if  character in vowels else print(\"The character is not a vowel!!\")\n"
   ]
  },
  {
   "cell_type": "code",
   "execution_count": null,
   "id": "3bf494d8",
   "metadata": {},
   "outputs": [],
   "source": []
  },
  {
   "cell_type": "markdown",
   "id": "212fe405",
   "metadata": {},
   "source": [
    "**Write a program that calculates the electricity bill based on the following rules:**\n",
    "```\n",
    "- Units <= 100: ₹1.50 per unit\n",
    "- Units <= 300: ₹2.00 per unit\n",
    "- Above 300: ₹3.00 per unit\n",
    "```"
   ]
  },
  {
   "cell_type": "code",
   "execution_count": 119,
   "id": "ca1a8968",
   "metadata": {},
   "outputs": [
    {
     "name": "stdout",
     "output_type": "stream",
     "text": [
      "Enter  the units:  400\n",
      "The bill is : 1200\n"
     ]
    }
   ],
   "source": [
    "units = int(input(\"Enter  the units:  \"))\n",
    "rate300 = 3\n",
    "rate100_300 = 2\n",
    "rate100 = 1.5\n",
    "\n",
    "\n",
    "if units > 300:\n",
    "    bill = units * rate300\n",
    "    \n",
    "elif units > 100:\n",
    "    bill = units * rate100_300\n",
    "\n",
    "elif units >= 0:\n",
    "    bill = units * rate100\n",
    "else:\n",
    "    print(\"You have entered invalid entry!!\")\n",
    "    bill = ''\n",
    "    \n",
    "print(\"The bill is :\", bill)"
   ]
  },
  {
   "cell_type": "code",
   "execution_count": 120,
   "id": "82978c58",
   "metadata": {},
   "outputs": [
    {
     "data": {
      "text/plain": [
       "850.0"
      ]
     },
     "execution_count": 120,
     "metadata": {},
     "output_type": "execute_result"
    }
   ],
   "source": [
    "100 * 1.5 + 200 * 2 + 100 * 3"
   ]
  },
  {
   "cell_type": "code",
   "execution_count": null,
   "id": "72b29607",
   "metadata": {},
   "outputs": [],
   "source": []
  },
  {
   "cell_type": "markdown",
   "id": "90073576",
   "metadata": {},
   "source": [
    "**Ask the user to enter a sentence and check if it contains the word `\"Python\"`.**"
   ]
  },
  {
   "cell_type": "code",
   "execution_count": 132,
   "id": "049c7321",
   "metadata": {},
   "outputs": [
    {
     "name": "stdout",
     "output_type": "stream",
     "text": [
      "Enter the wordpython\n",
      "You entered the word: python\n",
      "You are talking about python\n"
     ]
    }
   ],
   "source": [
    "word = input(\"Enter the word\")\n",
    "print(\"You entered the word:\", word) \n",
    "\n",
    "if \"python\" in word.lower():\n",
    "    print(\"You are talking about python\")\n",
    "else:\n",
    "    print(\"There is no mention of python!!!\")"
   ]
  },
  {
   "cell_type": "code",
   "execution_count": 129,
   "id": "cf46c4ec",
   "metadata": {},
   "outputs": [
    {
     "data": {
      "text/plain": [
       "'python'"
      ]
     },
     "execution_count": 129,
     "metadata": {},
     "output_type": "execute_result"
    }
   ],
   "source": [
    "\"Python\".lower()"
   ]
  },
  {
   "cell_type": "code",
   "execution_count": null,
   "id": "68bcca6c",
   "metadata": {},
   "outputs": [],
   "source": []
  },
  {
   "cell_type": "code",
   "execution_count": 102,
   "id": "03234467",
   "metadata": {},
   "outputs": [],
   "source": [
    "character = \"a\"\n",
    "\n",
    "# vowels = \"aeiouAEIOU\"\n",
    "vowels = \"aeiou\""
   ]
  },
  {
   "cell_type": "code",
   "execution_count": 133,
   "id": "d775db4b",
   "metadata": {},
   "outputs": [
    {
     "name": "stdout",
     "output_type": "stream",
     "text": [
      "Enter a character to check if its a vowel( please enter one character:):  A\n",
      "The character is a vowel\n"
     ]
    }
   ],
   "source": [
    "character = \\\n",
    "input(\"Enter a character to check if its a vowel( please enter one character:):  \")\n",
    "\n",
    "if len(character) == 0 or len(character) > 1:\n",
    "    print(\"YOU HAVE ENTERED INVALID ENTRY. PLEASE ENTER ONLY ONE CHARACTER!!\")\n",
    "\n",
    "else:\n",
    "    if character.lower() in vowels:\n",
    "        print(\"The character is a vowel\")\n",
    "    else:\n",
    "        print(\"The character is not a vowel!!\")"
   ]
  },
  {
   "cell_type": "code",
   "execution_count": null,
   "id": "1b82f2f4",
   "metadata": {},
   "outputs": [],
   "source": []
  },
  {
   "cell_type": "code",
   "execution_count": null,
   "id": "c5236d79",
   "metadata": {},
   "outputs": [],
   "source": []
  },
  {
   "cell_type": "code",
   "execution_count": null,
   "id": "a6de8709",
   "metadata": {},
   "outputs": [],
   "source": []
  },
  {
   "cell_type": "code",
   "execution_count": null,
   "id": "c2da5bb4",
   "metadata": {},
   "outputs": [],
   "source": []
  },
  {
   "cell_type": "code",
   "execution_count": null,
   "id": "d19bd7a0",
   "metadata": {},
   "outputs": [],
   "source": []
  }
 ],
 "metadata": {
  "kernelspec": {
   "display_name": "Python 3 (ipykernel)",
   "language": "python",
   "name": "python3"
  },
  "language_info": {
   "codemirror_mode": {
    "name": "ipython",
    "version": 3
   },
   "file_extension": ".py",
   "mimetype": "text/x-python",
   "name": "python",
   "nbconvert_exporter": "python",
   "pygments_lexer": "ipython3",
   "version": "3.10.8"
  }
 },
 "nbformat": 4,
 "nbformat_minor": 5
}
