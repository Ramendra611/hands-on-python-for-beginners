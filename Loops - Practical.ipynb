{
 "cells": [
  {
   "cell_type": "code",
   "execution_count": 2,
   "id": "709783f7",
   "metadata": {},
   "outputs": [],
   "source": [
    "list_of_students = [\"Ram\", \"Shyam\", \"Radheshyam\"]\n",
    "# message = f\"Welcome {name_of_student}! \""
   ]
  },
  {
   "cell_type": "code",
   "execution_count": 4,
   "id": "4a35bf86",
   "metadata": {},
   "outputs": [
    {
     "name": "stdout",
     "output_type": "stream",
     "text": [
      "Welcome Ram! \n"
     ]
    }
   ],
   "source": [
    "name_of_student=  list_of_students[0]\n",
    "message = f\"Welcome {name_of_student}! How are you? \"\n",
    "print(message)"
   ]
  },
  {
   "cell_type": "code",
   "execution_count": 6,
   "id": "6929d816",
   "metadata": {},
   "outputs": [
    {
     "name": "stdout",
     "output_type": "stream",
     "text": [
      "Welcome Shyam! \n"
     ]
    }
   ],
   "source": [
    "name_of_student=  list_of_students[1]\n",
    "message = f\"Welcome {name_of_student}! \"\n",
    "print(message)"
   ]
  },
  {
   "cell_type": "code",
   "execution_count": 7,
   "id": "2cb3da64",
   "metadata": {},
   "outputs": [
    {
     "name": "stdout",
     "output_type": "stream",
     "text": [
      "Welcome Radheshyam! \n"
     ]
    }
   ],
   "source": [
    "name_of_student=  list_of_students[2]\n",
    "message = f\"Welcome {name_of_student}! \"\n",
    "print(message)"
   ]
  },
  {
   "cell_type": "code",
   "execution_count": 9,
   "id": "0456f567",
   "metadata": {},
   "outputs": [
    {
     "data": {
      "text/plain": [
       "['Ram', 'Shyam', 'Radheshyam']"
      ]
     },
     "execution_count": 9,
     "metadata": {},
     "output_type": "execute_result"
    }
   ],
   "source": [
    "list_of_students"
   ]
  },
  {
   "cell_type": "code",
   "execution_count": 14,
   "id": "f23771fa",
   "metadata": {},
   "outputs": [
    {
     "name": "stdout",
     "output_type": "stream",
     "text": [
      "Welcome Ram ! How are you?\n",
      "Welcome Shyam ! How are you?\n",
      "Welcome Radheshyam ! How are you?\n"
     ]
    }
   ],
   "source": [
    "for x in list_of_students:\n",
    "    print(f\"Welcome {x} ! How are you?\")\n",
    "#     print(x)"
   ]
  },
  {
   "cell_type": "code",
   "execution_count": null,
   "id": "f8f4f77b",
   "metadata": {},
   "outputs": [],
   "source": []
  },
  {
   "cell_type": "code",
   "execution_count": 23,
   "id": "fd2ca010",
   "metadata": {},
   "outputs": [],
   "source": [
    "list_of_numbers = [4, 5, 10, 13, 21, 45, 41, 34, 98, 12, 34, 67]\n"
   ]
  },
  {
   "cell_type": "code",
   "execution_count": 24,
   "id": "8a68a746",
   "metadata": {},
   "outputs": [
    {
     "data": {
      "text/plain": [
       "True"
      ]
     },
     "execution_count": 24,
     "metadata": {},
     "output_type": "execute_result"
    }
   ],
   "source": [
    "nums[0] % 2 == 0"
   ]
  },
  {
   "cell_type": "code",
   "execution_count": 25,
   "id": "4a53c67d",
   "metadata": {},
   "outputs": [
    {
     "name": "stdout",
     "output_type": "stream",
     "text": [
      "4 is even\n",
      "5 is odd\n",
      "10 is even\n",
      "13 is odd\n",
      "21 is odd\n",
      "45 is odd\n",
      "41 is odd\n",
      "34 is even\n",
      "98 is even\n",
      "12 is even\n",
      "34 is even\n",
      "67 is odd\n"
     ]
    }
   ],
   "source": [
    "for number in list_of_numbers:\n",
    "    if (number % 2 == 0):\n",
    "        print(f\"{number} is even\")\n",
    "    else:\n",
    "        print(f\"{number} is odd\")"
   ]
  },
  {
   "cell_type": "code",
   "execution_count": null,
   "id": "c3b814a7",
   "metadata": {},
   "outputs": [],
   "source": []
  },
  {
   "cell_type": "code",
   "execution_count": 26,
   "id": "21e2f7a8",
   "metadata": {},
   "outputs": [
    {
     "data": {
      "text/plain": [
       "[4, 5, 10, 13, 21, 45, 41, 34, 98, 12, 34, 67]"
      ]
     },
     "execution_count": 26,
     "metadata": {},
     "output_type": "execute_result"
    }
   ],
   "source": [
    "list_of_numbers"
   ]
  },
  {
   "cell_type": "markdown",
   "id": "eeb3d7ee",
   "metadata": {},
   "source": [
    "##### Iterating on the values"
   ]
  },
  {
   "cell_type": "code",
   "execution_count": 30,
   "id": "53210c26",
   "metadata": {},
   "outputs": [
    {
     "name": "stdout",
     "output_type": "stream",
     "text": [
      "4 ----> 8\n",
      "5 ----> 10\n",
      "10 ----> 20\n",
      "13 ----> 26\n",
      "21 ----> 42\n",
      "45 ----> 90\n",
      "41 ----> 82\n",
      "34 ----> 68\n",
      "98 ----> 196\n",
      "12 ----> 24\n",
      "34 ----> 68\n",
      "67 ----> 134\n"
     ]
    }
   ],
   "source": [
    "for number in list_of_numbers:\n",
    "    print(number,\"---->\" ,number * 2)"
   ]
  },
  {
   "cell_type": "markdown",
   "id": "091edede",
   "metadata": {},
   "source": [
    "### Iterating on index"
   ]
  },
  {
   "cell_type": "code",
   "execution_count": 31,
   "id": "798bd22f",
   "metadata": {},
   "outputs": [
    {
     "data": {
      "text/plain": [
       "[4, 5, 10, 13, 21, 45, 41, 34, 98, 12, 34, 67]"
      ]
     },
     "execution_count": 31,
     "metadata": {},
     "output_type": "execute_result"
    }
   ],
   "source": [
    "list_of_numbers"
   ]
  },
  {
   "cell_type": "code",
   "execution_count": 32,
   "id": "c136c6fc",
   "metadata": {},
   "outputs": [
    {
     "data": {
      "text/plain": [
       "12"
      ]
     },
     "execution_count": 32,
     "metadata": {},
     "output_type": "execute_result"
    }
   ],
   "source": [
    "len(list_of_numbers)"
   ]
  },
  {
   "cell_type": "code",
   "execution_count": 38,
   "id": "0895fc4e",
   "metadata": {},
   "outputs": [
    {
     "name": "stdout",
     "output_type": "stream",
     "text": [
      "4 ---> 8\n",
      "5 ---> 10\n",
      "10 ---> 20\n",
      "13 ---> 26\n",
      "21 ---> 42\n",
      "45 ---> 90\n",
      "41 ---> 82\n",
      "34 ---> 68\n",
      "98 ---> 196\n",
      "12 ---> 24\n",
      "34 ---> 68\n",
      "67 ---> 134\n"
     ]
    }
   ],
   "source": [
    "for ind in [0, 1, 2, 3, 4, 5, 6, 7, 8, 9, 10, 11]:\n",
    "    print(list_of_numbers[ind], \"--->\",list_of_numbers[ind] * 2)"
   ]
  },
  {
   "cell_type": "code",
   "execution_count": null,
   "id": "4aa234e7",
   "metadata": {},
   "outputs": [],
   "source": []
  },
  {
   "cell_type": "markdown",
   "id": "0d687d4d",
   "metadata": {},
   "source": [
    " ### Range Function"
   ]
  },
  {
   "cell_type": "code",
   "execution_count": 40,
   "id": "75863b90",
   "metadata": {},
   "outputs": [
    {
     "data": {
      "text/plain": [
       "[0, 1, 2, 3, 4, 5, 6, 7, 8, 9]"
      ]
     },
     "execution_count": 40,
     "metadata": {},
     "output_type": "execute_result"
    }
   ],
   "source": [
    "list(range(10))"
   ]
  },
  {
   "cell_type": "code",
   "execution_count": 41,
   "id": "5eb9bfe9",
   "metadata": {},
   "outputs": [
    {
     "data": {
      "text/plain": [
       "[5, 6, 7, 8, 9, 10, 11, 12, 13, 14, 15, 16, 17, 18, 19]"
      ]
     },
     "execution_count": 41,
     "metadata": {},
     "output_type": "execute_result"
    }
   ],
   "source": [
    "list(range(5, 20))"
   ]
  },
  {
   "cell_type": "code",
   "execution_count": 44,
   "id": "2b36a048",
   "metadata": {},
   "outputs": [
    {
     "data": {
      "text/plain": [
       "[0, 5, 10, 15]"
      ]
     },
     "execution_count": 44,
     "metadata": {},
     "output_type": "execute_result"
    }
   ],
   "source": [
    "list(range(0, 20, 5))"
   ]
  },
  {
   "cell_type": "code",
   "execution_count": null,
   "id": "21aec0ea",
   "metadata": {},
   "outputs": [],
   "source": []
  },
  {
   "cell_type": "code",
   "execution_count": 45,
   "id": "87135ec3",
   "metadata": {},
   "outputs": [
    {
     "data": {
      "text/plain": [
       "[4, 5, 10, 13, 21, 45, 41, 34, 98, 12, 34, 67]"
      ]
     },
     "execution_count": 45,
     "metadata": {},
     "output_type": "execute_result"
    }
   ],
   "source": [
    "list_of_numbers"
   ]
  },
  {
   "cell_type": "code",
   "execution_count": 49,
   "id": "51888a76",
   "metadata": {},
   "outputs": [
    {
     "data": {
      "text/plain": [
       "[0, 1, 2, 3, 4, 5, 6, 7, 8, 9, 10, 11]"
      ]
     },
     "execution_count": 49,
     "metadata": {},
     "output_type": "execute_result"
    }
   ],
   "source": [
    "list(range(len(list_of_numbers)))"
   ]
  },
  {
   "cell_type": "code",
   "execution_count": 48,
   "id": "e1d44ee4",
   "metadata": {},
   "outputs": [
    {
     "name": "stdout",
     "output_type": "stream",
     "text": [
      "0\n",
      "1\n",
      "2\n",
      "3\n",
      "4\n",
      "5\n",
      "6\n",
      "7\n",
      "8\n",
      "9\n",
      "10\n",
      "11\n"
     ]
    }
   ],
   "source": [
    "for ind in range(len(list_of_numbers)):\n",
    "    print(ind)"
   ]
  },
  {
   "cell_type": "code",
   "execution_count": null,
   "id": "62b92e3a",
   "metadata": {},
   "outputs": [],
   "source": []
  },
  {
   "cell_type": "code",
   "execution_count": null,
   "id": "b39b33a9",
   "metadata": {},
   "outputs": [],
   "source": []
  },
  {
   "cell_type": "markdown",
   "id": "07a850a4",
   "metadata": {},
   "source": [
    "#### Example: Printing Odd Numbers between 1 and 20"
   ]
  },
  {
   "cell_type": "code",
   "execution_count": 52,
   "id": "37236665",
   "metadata": {},
   "outputs": [
    {
     "data": {
      "text/plain": [
       "[1, 2, 3, 4, 5, 6, 7, 8, 9, 10, 11, 12, 13, 14, 15, 16, 17, 18, 19, 20]"
      ]
     },
     "execution_count": 52,
     "metadata": {},
     "output_type": "execute_result"
    }
   ],
   "source": [
    "list_of_numbers = list(range(1, 21))\n",
    "list_of_numbers"
   ]
  },
  {
   "cell_type": "code",
   "execution_count": 54,
   "id": "a6436739",
   "metadata": {},
   "outputs": [
    {
     "name": "stdout",
     "output_type": "stream",
     "text": [
      "1\n",
      "3\n",
      "5\n",
      "7\n",
      "9\n",
      "11\n",
      "13\n",
      "15\n",
      "17\n",
      "19\n"
     ]
    }
   ],
   "source": [
    "## iterated on the value\n",
    "for number in list_of_numbers:\n",
    "    if number % 2 != 0:\n",
    "        print(number)"
   ]
  },
  {
   "cell_type": "code",
   "execution_count": 55,
   "id": "c3e12ec2",
   "metadata": {},
   "outputs": [
    {
     "data": {
      "text/plain": [
       "range(0, 20)"
      ]
     },
     "execution_count": 55,
     "metadata": {},
     "output_type": "execute_result"
    }
   ],
   "source": [
    "range(len(list_of_numbers))"
   ]
  },
  {
   "cell_type": "code",
   "execution_count": 56,
   "id": "deb4347d",
   "metadata": {},
   "outputs": [
    {
     "name": "stdout",
     "output_type": "stream",
     "text": [
      "1\n",
      "3\n",
      "5\n",
      "7\n",
      "9\n",
      "11\n",
      "13\n",
      "15\n",
      "17\n",
      "19\n"
     ]
    }
   ],
   "source": [
    "## iterated on the index\n",
    "\n",
    "for ind in range(len(list_of_numbers)):\n",
    "    number = list_of_numbers[ind]\n",
    "    if number % 2 != 0:\n",
    "        print(number)\n",
    "    "
   ]
  },
  {
   "cell_type": "code",
   "execution_count": null,
   "id": "b393595e",
   "metadata": {},
   "outputs": [],
   "source": []
  },
  {
   "cell_type": "code",
   "execution_count": null,
   "id": "337d012d",
   "metadata": {},
   "outputs": [],
   "source": []
  },
  {
   "cell_type": "code",
   "execution_count": null,
   "id": "9b1e5d37",
   "metadata": {},
   "outputs": [],
   "source": []
  },
  {
   "cell_type": "code",
   "execution_count": null,
   "id": "22ae2d2e",
   "metadata": {},
   "outputs": [],
   "source": []
  },
  {
   "cell_type": "markdown",
   "id": "e108f010",
   "metadata": {},
   "source": [
    "#### Example: Make a list of all  Odd Numbers between 1 and 20"
   ]
  },
  {
   "cell_type": "code",
   "execution_count": 57,
   "id": "8692b1aa",
   "metadata": {},
   "outputs": [
    {
     "name": "stdout",
     "output_type": "stream",
     "text": [
      "[1, 3, 5, 7, 9, 11, 13, 15, 17, 19]\n"
     ]
    }
   ],
   "source": [
    "odd_numbers = []\n",
    "for number in list_of_numbers:\n",
    "    if number % 2 != 0:\n",
    "        odd_numbers.append(number)\n",
    "print(odd_numbers)"
   ]
  },
  {
   "cell_type": "code",
   "execution_count": 58,
   "id": "2c77d733",
   "metadata": {},
   "outputs": [
    {
     "name": "stdout",
     "output_type": "stream",
     "text": [
      "[1, 3, 5, 7, 9, 11, 13, 15, 17, 19]\n"
     ]
    }
   ],
   "source": [
    "odd_numbers = []\n",
    "for ind in range(len(list_of_numbers)):\n",
    "    number = list_of_numbers[ind]\n",
    "    if number % 2 != 0:\n",
    "        odd_numbers.append(number)\n",
    "print(odd_numbers)"
   ]
  },
  {
   "cell_type": "code",
   "execution_count": null,
   "id": "de585e7a",
   "metadata": {},
   "outputs": [],
   "source": []
  },
  {
   "cell_type": "code",
   "execution_count": 59,
   "id": "619c921e",
   "metadata": {},
   "outputs": [
    {
     "name": "stdout",
     "output_type": "stream",
     "text": [
      "U\n",
      "n\n",
      "i\n",
      "t\n",
      "e\n",
      "d\n",
      " \n",
      "S\n",
      "t\n",
      "a\n",
      "t\n",
      "e\n",
      "s\n",
      " \n",
      "o\n",
      "f\n",
      " \n",
      "A\n",
      "m\n",
      "e\n",
      "r\n",
      "i\n",
      "c\n",
      "a\n"
     ]
    }
   ],
   "source": [
    "country = \"United States of America\"\n",
    "for character in country:\n",
    "    print(character)"
   ]
  },
  {
   "cell_type": "code",
   "execution_count": null,
   "id": "e9b28817",
   "metadata": {},
   "outputs": [],
   "source": []
  },
  {
   "cell_type": "code",
   "execution_count": 60,
   "id": "5335a35c",
   "metadata": {},
   "outputs": [],
   "source": [
    "capitals = {\"Maharashtra\": \"Mumbai\", \"Tamil Nadu\": \"Chennai\", \"Karnataka\": \"Bangalore\"}"
   ]
  },
  {
   "cell_type": "code",
   "execution_count": 63,
   "id": "9ae47d47",
   "metadata": {},
   "outputs": [
    {
     "data": {
      "text/plain": [
       "dict_keys(['Maharashtra', 'Tamil Nadu', 'Karnataka'])"
      ]
     },
     "execution_count": 63,
     "metadata": {},
     "output_type": "execute_result"
    }
   ],
   "source": [
    "capitals.keys()"
   ]
  },
  {
   "cell_type": "code",
   "execution_count": 64,
   "id": "e21ac58e",
   "metadata": {},
   "outputs": [
    {
     "data": {
      "text/plain": [
       "dict_values(['Mumbai', 'Chennai', 'Bangalore'])"
      ]
     },
     "execution_count": 64,
     "metadata": {},
     "output_type": "execute_result"
    }
   ],
   "source": [
    "capitals.values()"
   ]
  },
  {
   "cell_type": "code",
   "execution_count": null,
   "id": "4e4ca2b8",
   "metadata": {},
   "outputs": [],
   "source": []
  },
  {
   "cell_type": "code",
   "execution_count": 67,
   "id": "c0e8ae63",
   "metadata": {},
   "outputs": [
    {
     "data": {
      "text/plain": [
       "[('Maharashtra', 'Mumbai'),\n",
       " ('Tamil Nadu', 'Chennai'),\n",
       " ('Karnataka', 'Bangalore')]"
      ]
     },
     "execution_count": 67,
     "metadata": {},
     "output_type": "execute_result"
    }
   ],
   "source": [
    "list(zip(capitals.keys(), capitals.values()))"
   ]
  },
  {
   "cell_type": "code",
   "execution_count": 71,
   "id": "eac3a74c",
   "metadata": {},
   "outputs": [
    {
     "name": "stdout",
     "output_type": "stream",
     "text": [
      "Capital of Maharashtra  is Mumbai\n",
      "Capital of Tamil Nadu  is Chennai\n",
      "Capital of Karnataka  is Bangalore\n"
     ]
    }
   ],
   "source": [
    "for pair in list(zip(capitals.keys(), capitals.values())):\n",
    "    print(f\"Capital of {pair[0]}  is {pair[1]}\")"
   ]
  },
  {
   "cell_type": "code",
   "execution_count": 72,
   "id": "a514df2a",
   "metadata": {},
   "outputs": [
    {
     "name": "stdout",
     "output_type": "stream",
     "text": [
      "Capital of Maharashtra  is Mumbai\n",
      "Capital of Tamil Nadu  is Chennai\n",
      "Capital of Karnataka  is Bangalore\n"
     ]
    }
   ],
   "source": [
    "for state, capital in list(zip(capitals.keys(), capitals.values())):\n",
    "    print(f\"Capital of {state}  is {capital}\")"
   ]
  },
  {
   "cell_type": "code",
   "execution_count": null,
   "id": "f0c28e55",
   "metadata": {},
   "outputs": [],
   "source": []
  },
  {
   "cell_type": "code",
   "execution_count": 75,
   "id": "6d98c7c7",
   "metadata": {},
   "outputs": [
    {
     "name": "stdout",
     "output_type": "stream",
     "text": [
      "Capital of Maharashtra  is Mumbai\n",
      "Capital of Tamil Nadu  is Chennai\n",
      "Capital of Karnataka  is Bangalore\n"
     ]
    }
   ],
   "source": [
    "for pair in list(capitals.items()):\n",
    "    print(f\"Capital of {pair[0]}  is {pair[1]}\")"
   ]
  },
  {
   "cell_type": "code",
   "execution_count": 76,
   "id": "01f52523",
   "metadata": {},
   "outputs": [
    {
     "name": "stdout",
     "output_type": "stream",
     "text": [
      "Capital of Maharashtra  is Mumbai\n",
      "Capital of Tamil Nadu  is Chennai\n",
      "Capital of Karnataka  is Bangalore\n"
     ]
    }
   ],
   "source": [
    "for state, capital in list(capitals.items()):\n",
    "    print(f\"Capital of {state}  is {capital}\")"
   ]
  },
  {
   "cell_type": "code",
   "execution_count": null,
   "id": "453154de",
   "metadata": {},
   "outputs": [],
   "source": []
  },
  {
   "cell_type": "code",
   "execution_count": 65,
   "id": "495ef4dc",
   "metadata": {},
   "outputs": [
    {
     "name": "stdout",
     "output_type": "stream",
     "text": [
      "Mumbai\n",
      "Chennai\n",
      "Bangalore\n"
     ]
    }
   ],
   "source": [
    "for x in capitals.values():\n",
    "    print(x)"
   ]
  },
  {
   "cell_type": "code",
   "execution_count": null,
   "id": "5c32bc7e",
   "metadata": {},
   "outputs": [],
   "source": []
  },
  {
   "cell_type": "markdown",
   "id": "8aec94ce",
   "metadata": {},
   "source": [
    "#### Write a `for` loop to **calculate the sum of even numbers** between 1 and 100."
   ]
  },
  {
   "cell_type": "code",
   "execution_count": 2,
   "id": "db1ece8c",
   "metadata": {},
   "outputs": [
    {
     "data": {
      "text/plain": [
       "[2,\n",
       " 4,\n",
       " 6,\n",
       " 8,\n",
       " 10,\n",
       " 12,\n",
       " 14,\n",
       " 16,\n",
       " 18,\n",
       " 20,\n",
       " 22,\n",
       " 24,\n",
       " 26,\n",
       " 28,\n",
       " 30,\n",
       " 32,\n",
       " 34,\n",
       " 36,\n",
       " 38,\n",
       " 40,\n",
       " 42,\n",
       " 44,\n",
       " 46,\n",
       " 48,\n",
       " 50,\n",
       " 52,\n",
       " 54,\n",
       " 56,\n",
       " 58,\n",
       " 60,\n",
       " 62,\n",
       " 64,\n",
       " 66,\n",
       " 68,\n",
       " 70,\n",
       " 72,\n",
       " 74,\n",
       " 76,\n",
       " 78,\n",
       " 80,\n",
       " 82,\n",
       " 84,\n",
       " 86,\n",
       " 88,\n",
       " 90,\n",
       " 92,\n",
       " 94,\n",
       " 96,\n",
       " 98]"
      ]
     },
     "execution_count": 2,
     "metadata": {},
     "output_type": "execute_result"
    }
   ],
   "source": [
    "even_numbers = []\n",
    "for number in range(1,100):\n",
    "    if number %2 ==0: \n",
    "        even_numbers.append(number)\n",
    "even_numbers"
   ]
  },
  {
   "cell_type": "code",
   "execution_count": 3,
   "id": "d2f09bde",
   "metadata": {},
   "outputs": [
    {
     "data": {
      "text/plain": [
       "2450"
      ]
     },
     "execution_count": 3,
     "metadata": {},
     "output_type": "execute_result"
    }
   ],
   "source": [
    "sum(even_numbers)"
   ]
  },
  {
   "cell_type": "code",
   "execution_count": 4,
   "id": "5485a000",
   "metadata": {},
   "outputs": [
    {
     "data": {
      "text/plain": [
       "2450"
      ]
     },
     "execution_count": 4,
     "metadata": {},
     "output_type": "execute_result"
    }
   ],
   "source": [
    "sum_of_numbers = 0\n",
    "\n",
    "for number in range(1, 100):\n",
    "    if number %2==0:\n",
    "#         sum_of_numbers  = sum_of_numbers + number\n",
    "        sum_of_numbers += number\n",
    "        \n",
    "sum_of_numbers"
   ]
  },
  {
   "cell_type": "code",
   "execution_count": 8,
   "id": "c488ce86",
   "metadata": {},
   "outputs": [
    {
     "data": {
      "text/plain": [
       "342432247025119762482464328952081859751186750537191988279156544634880000000000"
      ]
     },
     "execution_count": 8,
     "metadata": {},
     "output_type": "execute_result"
    }
   ],
   "source": [
    "sum_of_numbers = 1\n",
    "\n",
    "for number in range(1, 100):\n",
    "    if number %2==0:\n",
    "#         sum_of_numbers  = sum_of_numbers + number\n",
    "        sum_of_numbers *= number\n",
    "        \n",
    "sum_of_numbers"
   ]
  },
  {
   "cell_type": "code",
   "execution_count": null,
   "id": "948e025b",
   "metadata": {},
   "outputs": [],
   "source": []
  },
  {
   "cell_type": "code",
   "execution_count": null,
   "id": "11a67958",
   "metadata": {},
   "outputs": [],
   "source": []
  },
  {
   "cell_type": "markdown",
   "id": "2628dea0",
   "metadata": {},
   "source": [
    "Given a list of student names: `[\"Anil\", \"Sunita\", \"Aman\", \"Ravi\", \"Asha\", \"Suresh\"]`,  \n",
    "- Write a `for` loop to **print only the names that start with 'A'**."
   ]
  },
  {
   "cell_type": "code",
   "execution_count": 9,
   "id": "900c8815",
   "metadata": {},
   "outputs": [],
   "source": [
    "list_of_students = [\"Anil\", \"Sunita\", \"Aman\", \"Ravi\", \"Asha\", \"Suresh\"]"
   ]
  },
  {
   "cell_type": "code",
   "execution_count": 11,
   "id": "ea749136",
   "metadata": {},
   "outputs": [
    {
     "name": "stdout",
     "output_type": "stream",
     "text": [
      "Anil\n",
      "Aman\n",
      "Asha\n"
     ]
    }
   ],
   "source": [
    "for student in list_of_students:\n",
    "    if student[0] == \"A\":\n",
    "        print(student)"
   ]
  },
  {
   "cell_type": "code",
   "execution_count": 12,
   "id": "a57d2548",
   "metadata": {},
   "outputs": [
    {
     "data": {
      "text/plain": [
       "['Anil', 'Aman', 'Asha']"
      ]
     },
     "execution_count": 12,
     "metadata": {},
     "output_type": "execute_result"
    }
   ],
   "source": [
    "sublist = []\n",
    "for student in list_of_students:\n",
    "    if student[0] == \"A\":\n",
    "        sublist.append(student)\n",
    "sublist"
   ]
  },
  {
   "cell_type": "code",
   "execution_count": null,
   "id": "f88819f5",
   "metadata": {},
   "outputs": [],
   "source": []
  },
  {
   "cell_type": "code",
   "execution_count": null,
   "id": "80f4ea88",
   "metadata": {},
   "outputs": [],
   "source": []
  },
  {
   "cell_type": "markdown",
   "id": "0603503d",
   "metadata": {},
   "source": [
    "Given a dictionary representing **expenses**:\n",
    "```python\n",
    "expenses = {\"Rent\": 15000, \"Groceries\": 5000, \"Transport\": 3000, \"Utilities\": 2000}\n",
    "```\n",
    "- Write a `for` loop to **calculate the total monthly expense**."
   ]
  },
  {
   "cell_type": "code",
   "execution_count": 13,
   "id": "3c76ce75",
   "metadata": {},
   "outputs": [],
   "source": [
    "expenses = {\"Rent\": 15000, \"Groceries\": 5000, \"Transport\": 3000, \"Utilities\": 2000}"
   ]
  },
  {
   "cell_type": "code",
   "execution_count": 18,
   "id": "8d019102",
   "metadata": {},
   "outputs": [
    {
     "data": {
      "text/plain": [
       "25000"
      ]
     },
     "execution_count": 18,
     "metadata": {},
     "output_type": "execute_result"
    }
   ],
   "source": [
    "sum(expenses.values())"
   ]
  },
  {
   "cell_type": "code",
   "execution_count": 16,
   "id": "c95569b2",
   "metadata": {},
   "outputs": [
    {
     "data": {
      "text/plain": [
       "25000"
      ]
     },
     "execution_count": 16,
     "metadata": {},
     "output_type": "execute_result"
    }
   ],
   "source": [
    "total_expense = 0\n",
    "for expense in expenses.values():\n",
    "    total_expense = total_expense + expense\n",
    "total_expense"
   ]
  },
  {
   "cell_type": "code",
   "execution_count": null,
   "id": "3bacbbeb",
   "metadata": {},
   "outputs": [],
   "source": []
  },
  {
   "cell_type": "code",
   "execution_count": null,
   "id": "9db1a4c7",
   "metadata": {},
   "outputs": [],
   "source": []
  },
  {
   "cell_type": "markdown",
   "id": "d035af0f",
   "metadata": {},
   "source": [
    "Write a `for` loop to **generate and print the multiplication table of 5**."
   ]
  },
  {
   "cell_type": "code",
   "execution_count": 20,
   "id": "210cc0eb",
   "metadata": {},
   "outputs": [
    {
     "name": "stdout",
     "output_type": "stream",
     "text": [
      "5 x 1 =   5\n",
      "5 x 2 =   10\n",
      "5 x 3 =   15\n",
      "5 x 4 =   20\n",
      "5 x 5 =   25\n",
      "5 x 6 =   30\n",
      "5 x 7 =   35\n",
      "5 x 8 =   40\n",
      "5 x 9 =   45\n"
     ]
    }
   ],
   "source": [
    "for i in range(1, 10):\n",
    "    print(f\"5 x {i} =   {5 * i}\")"
   ]
  },
  {
   "cell_type": "markdown",
   "id": "324973e2",
   "metadata": {},
   "source": [
    "**Write a `for` loop to generate and print the multiplication table of a number. Ask the user for the number**"
   ]
  },
  {
   "cell_type": "code",
   "execution_count": null,
   "id": "b6680554",
   "metadata": {},
   "outputs": [],
   "source": []
  },
  {
   "cell_type": "code",
   "execution_count": null,
   "id": "30167697",
   "metadata": {},
   "outputs": [],
   "source": []
  },
  {
   "cell_type": "markdown",
   "id": "a1a69af8",
   "metadata": {},
   "source": [
    "Write a `for` loop to **count the number of vowels** in the string `\"Incredible India\"`."
   ]
  },
  {
   "cell_type": "code",
   "execution_count": 31,
   "id": "4eaefec4",
   "metadata": {},
   "outputs": [],
   "source": [
    "text = \"Incredible India\"\n",
    "vowels = \"aeiou\"\n",
    "# vowels = \"aeiouAEIOU\""
   ]
  },
  {
   "cell_type": "code",
   "execution_count": 32,
   "id": "88665b83",
   "metadata": {},
   "outputs": [
    {
     "data": {
      "text/plain": [
       "False"
      ]
     },
     "execution_count": 32,
     "metadata": {},
     "output_type": "execute_result"
    }
   ],
   "source": [
    "\"f\" in vowels"
   ]
  },
  {
   "cell_type": "code",
   "execution_count": 36,
   "id": "f3d227b6",
   "metadata": {},
   "outputs": [
    {
     "data": {
      "text/plain": [
       "'i'"
      ]
     },
     "execution_count": 36,
     "metadata": {},
     "output_type": "execute_result"
    }
   ],
   "source": [
    "\"i\".lower()"
   ]
  },
  {
   "cell_type": "code",
   "execution_count": 34,
   "id": "13109655",
   "metadata": {},
   "outputs": [
    {
     "data": {
      "text/plain": [
       "7"
      ]
     },
     "execution_count": 34,
     "metadata": {},
     "output_type": "execute_result"
    }
   ],
   "source": [
    "counter = 0\n",
    "for character in text:\n",
    "    if character.lower() in vowels:\n",
    "        counter = counter + 1\n",
    "counter"
   ]
  },
  {
   "cell_type": "code",
   "execution_count": null,
   "id": "26e9e92f",
   "metadata": {},
   "outputs": [],
   "source": []
  },
  {
   "cell_type": "code",
   "execution_count": null,
   "id": "a417d47d",
   "metadata": {},
   "outputs": [],
   "source": []
  },
  {
   "cell_type": "code",
   "execution_count": null,
   "id": "cbf0024d",
   "metadata": {},
   "outputs": [],
   "source": []
  },
  {
   "cell_type": "code",
   "execution_count": null,
   "id": "bc29fdfd",
   "metadata": {},
   "outputs": [],
   "source": []
  },
  {
   "cell_type": "code",
   "execution_count": null,
   "id": "8c06e4a6",
   "metadata": {},
   "outputs": [],
   "source": []
  },
  {
   "cell_type": "code",
   "execution_count": null,
   "id": "1ed61c83",
   "metadata": {},
   "outputs": [],
   "source": []
  },
  {
   "cell_type": "code",
   "execution_count": null,
   "id": "d805336e",
   "metadata": {},
   "outputs": [],
   "source": []
  },
  {
   "cell_type": "code",
   "execution_count": null,
   "id": "0e252baa",
   "metadata": {},
   "outputs": [],
   "source": []
  },
  {
   "cell_type": "code",
   "execution_count": null,
   "id": "b25efcf6",
   "metadata": {},
   "outputs": [],
   "source": []
  },
  {
   "cell_type": "code",
   "execution_count": null,
   "id": "ec08e267",
   "metadata": {},
   "outputs": [],
   "source": []
  },
  {
   "cell_type": "code",
   "execution_count": null,
   "id": "f633d3d4",
   "metadata": {},
   "outputs": [],
   "source": []
  },
  {
   "cell_type": "code",
   "execution_count": null,
   "id": "edbf7273",
   "metadata": {},
   "outputs": [],
   "source": []
  },
  {
   "cell_type": "code",
   "execution_count": null,
   "id": "f223b14d",
   "metadata": {},
   "outputs": [],
   "source": []
  },
  {
   "cell_type": "code",
   "execution_count": null,
   "id": "2d4c3895",
   "metadata": {},
   "outputs": [],
   "source": []
  },
  {
   "cell_type": "code",
   "execution_count": null,
   "id": "bf5fbfcc",
   "metadata": {},
   "outputs": [],
   "source": []
  },
  {
   "cell_type": "code",
   "execution_count": null,
   "id": "2b63cf8a",
   "metadata": {},
   "outputs": [],
   "source": []
  },
  {
   "cell_type": "code",
   "execution_count": null,
   "id": "351dcaee",
   "metadata": {},
   "outputs": [],
   "source": []
  },
  {
   "cell_type": "code",
   "execution_count": null,
   "id": "6b3e94ad",
   "metadata": {},
   "outputs": [],
   "source": []
  },
  {
   "cell_type": "code",
   "execution_count": null,
   "id": "75dd4ad8",
   "metadata": {},
   "outputs": [],
   "source": []
  },
  {
   "cell_type": "code",
   "execution_count": null,
   "id": "f013ca27",
   "metadata": {},
   "outputs": [],
   "source": []
  },
  {
   "cell_type": "code",
   "execution_count": null,
   "id": "501a3965",
   "metadata": {},
   "outputs": [],
   "source": []
  },
  {
   "cell_type": "code",
   "execution_count": null,
   "id": "aae0b424",
   "metadata": {},
   "outputs": [],
   "source": []
  },
  {
   "cell_type": "code",
   "execution_count": 103,
   "id": "3a23b002",
   "metadata": {},
   "outputs": [
    {
     "name": "stdout",
     "output_type": "stream",
     "text": [
      "5 X 1 = 5\n",
      "5 X 2 = 10\n",
      "5 X 3 = 15\n",
      "5 X 4 = 20\n",
      "5 X 5 = 25\n",
      "5 X 6 = 30\n",
      "5 X 7 = 35\n",
      "5 X 8 = 40\n",
      "5 X 9 = 45\n",
      "5 X 10 = 50\n"
     ]
    }
   ],
   "source": [
    "for i in range(1, 11):\n",
    "    print(f\"5 X {i} = {5*i}\")"
   ]
  },
  {
   "cell_type": "code",
   "execution_count": null,
   "id": "c4431308",
   "metadata": {},
   "outputs": [],
   "source": []
  },
  {
   "cell_type": "markdown",
   "id": "fedd21c1",
   "metadata": {},
   "source": [
    "Write a `for` loop to **count the number of vowels** in the string `\"Incredible India\"`."
   ]
  },
  {
   "cell_type": "code",
   "execution_count": 111,
   "id": "bdb60fbf",
   "metadata": {},
   "outputs": [
    {
     "data": {
      "text/plain": [
       "7"
      ]
     },
     "execution_count": 111,
     "metadata": {},
     "output_type": "execute_result"
    }
   ],
   "source": [
    "text = \"Incredible India\"\n",
    "vowel_list = []\n",
    "\n",
    "for character in text:\n",
    "#     if character in \"AEIOUaeiou\":\n",
    "#         vowel_list.append(character)\n",
    "    \n",
    "#     if character in \"aeiou\" or character in \"AEIOU\":\n",
    "#         vowel_list.append(character)\n",
    "    \n",
    "    if character.lower() in \"aeiou\": #best way\n",
    "        vowel_list.append(character)\n",
    "        \n",
    "len(vowel_list)"
   ]
  },
  {
   "cell_type": "code",
   "execution_count": 113,
   "id": "41a843b8",
   "metadata": {},
   "outputs": [
    {
     "data": {
      "text/plain": [
       "7"
      ]
     },
     "execution_count": 113,
     "metadata": {},
     "output_type": "execute_result"
    }
   ],
   "source": [
    "text = \"Incredible India\"\n",
    "vowel_counter = 0\n",
    "\n",
    "for character in text:\n",
    "    \n",
    "    if character.lower() in \"aeiou\": #best way\n",
    "#         vowel_counter = vowel_counter + 1\n",
    "        vowel_counter += 1\n",
    "        \n",
    "vowel_counter"
   ]
  },
  {
   "cell_type": "code",
   "execution_count": null,
   "id": "bec339b5",
   "metadata": {},
   "outputs": [],
   "source": []
  },
  {
   "cell_type": "code",
   "execution_count": null,
   "id": "ae9e397d",
   "metadata": {},
   "outputs": [],
   "source": []
  },
  {
   "cell_type": "code",
   "execution_count": null,
   "id": "e69dcbb9",
   "metadata": {},
   "outputs": [],
   "source": []
  },
  {
   "cell_type": "code",
   "execution_count": null,
   "id": "b22a3faa",
   "metadata": {},
   "outputs": [],
   "source": []
  },
  {
   "cell_type": "markdown",
   "id": "aee4db27",
   "metadata": {},
   "source": [
    "## List Comprehension"
   ]
  },
  {
   "cell_type": "markdown",
   "id": "b303b712",
   "metadata": {},
   "source": [
    "**Generate squares of odd numbers from 1 to 20.**"
   ]
  },
  {
   "cell_type": "code",
   "execution_count": 148,
   "id": "0ca47708",
   "metadata": {},
   "outputs": [
    {
     "data": {
      "text/plain": [
       "[1, 3, 5, 7, 9, 11, 13, 15, 17, 19]"
      ]
     },
     "execution_count": 148,
     "metadata": {},
     "output_type": "execute_result"
    }
   ],
   "source": [
    "new_list = []\n",
    "for number in range(1, 20):\n",
    "    if number%2==1:\n",
    "        new_list.append(number)\n",
    "new_list"
   ]
  },
  {
   "cell_type": "code",
   "execution_count": 154,
   "id": "a845aea9",
   "metadata": {},
   "outputs": [
    {
     "data": {
      "text/plain": [
       "[1, 3, 5, 7, 9, 11, 13, 15, 17, 19]"
      ]
     },
     "execution_count": 154,
     "metadata": {},
     "output_type": "execute_result"
    }
   ],
   "source": [
    "new_list = []\n",
    "for number in numbers:\n",
    "    if number %2==1:\n",
    "        new_list.append(number)\n",
    "new_list"
   ]
  },
  {
   "cell_type": "code",
   "execution_count": 155,
   "id": "ba1a7ee5",
   "metadata": {},
   "outputs": [
    {
     "data": {
      "text/plain": [
       "[1, 3, 5, 7, 9, 11, 13, 15, 17, 19]"
      ]
     },
     "execution_count": 155,
     "metadata": {},
     "output_type": "execute_result"
    }
   ],
   "source": [
    "new_list = [number for number in numbers if number %2==1 ]\n",
    "new_list"
   ]
  },
  {
   "cell_type": "code",
   "execution_count": null,
   "id": "772d2f11",
   "metadata": {},
   "outputs": [],
   "source": []
  },
  {
   "cell_type": "code",
   "execution_count": null,
   "id": "71df659a",
   "metadata": {},
   "outputs": [],
   "source": []
  },
  {
   "cell_type": "markdown",
   "id": "aae404f7",
   "metadata": {},
   "source": [
    "**generate a list of students whose name starts with A**"
   ]
  },
  {
   "cell_type": "code",
   "execution_count": 125,
   "id": "51b6a79f",
   "metadata": {},
   "outputs": [],
   "source": [
    "students = [\"Anil\", \"Sunita\", \"Aman\", \"Ravi\", \"Asha\", \"Suresh\"]"
   ]
  },
  {
   "cell_type": "code",
   "execution_count": 158,
   "id": "e888b797",
   "metadata": {},
   "outputs": [
    {
     "data": {
      "text/plain": [
       "['Anil', 'Aman', 'Asha']"
      ]
     },
     "execution_count": 158,
     "metadata": {},
     "output_type": "execute_result"
    }
   ],
   "source": [
    "new_list = []\n",
    "for student in students:\n",
    "    if student[0]==\"A\":\n",
    "        new_list.append(student)\n",
    "    \n",
    "new_list"
   ]
  },
  {
   "cell_type": "code",
   "execution_count": 160,
   "id": "407f1b3a",
   "metadata": {},
   "outputs": [
    {
     "data": {
      "text/plain": [
       "['Anil', 'Aman', 'Asha']"
      ]
     },
     "execution_count": 160,
     "metadata": {},
     "output_type": "execute_result"
    }
   ],
   "source": [
    "new_list = [student for student in students if student[0]==\"A\"]\n",
    "new_list"
   ]
  },
  {
   "cell_type": "code",
   "execution_count": null,
   "id": "36cf8b1b",
   "metadata": {},
   "outputs": [],
   "source": []
  },
  {
   "cell_type": "code",
   "execution_count": null,
   "id": "3e1eaed4",
   "metadata": {},
   "outputs": [],
   "source": []
  },
  {
   "cell_type": "markdown",
   "id": "8a855ba8",
   "metadata": {},
   "source": [
    "**Given a list of all number from 1 to 10 generate a new list that contains square of all odd numbers and cube of all even numbers**"
   ]
  },
  {
   "cell_type": "code",
   "execution_count": 161,
   "id": "328d1689",
   "metadata": {},
   "outputs": [
    {
     "data": {
      "text/plain": [
       "[1, 8, 9, 64, 25, 216, 49, 512, 81]"
      ]
     },
     "execution_count": 161,
     "metadata": {},
     "output_type": "execute_result"
    }
   ],
   "source": [
    "new_list = []\n",
    "for number in range(1, 10):\n",
    "    if number % 2 == 0:\n",
    "        new_list.append(number**3)\n",
    "    else:\n",
    "        new_list.append(number**2)\n",
    "new_list"
   ]
  },
  {
   "cell_type": "code",
   "execution_count": 165,
   "id": "d9532854",
   "metadata": {},
   "outputs": [
    {
     "data": {
      "text/plain": [
       "[1, 8, 9, 64, 25, 216, 49, 512, 81]"
      ]
     },
     "execution_count": 165,
     "metadata": {},
     "output_type": "execute_result"
    }
   ],
   "source": [
    "new_list = []\n",
    "for num in range(1, 10):\n",
    "    new_list.append(num**3 if num %2==0 else num**2)\n",
    "new_list"
   ]
  },
  {
   "cell_type": "code",
   "execution_count": 168,
   "id": "95c02b16",
   "metadata": {},
   "outputs": [],
   "source": [
    "new_list = [num**3 if num %2==0 else num**2 for num in range(1, 10) ]"
   ]
  },
  {
   "cell_type": "code",
   "execution_count": null,
   "id": "745b2ba4",
   "metadata": {},
   "outputs": [],
   "source": []
  },
  {
   "cell_type": "code",
   "execution_count": null,
   "id": "fd32f2d3",
   "metadata": {},
   "outputs": [],
   "source": []
  },
  {
   "cell_type": "markdown",
   "id": "ea1a2c0a",
   "metadata": {},
   "source": [
    "**Filter city names with an even number of characters.**"
   ]
  },
  {
   "cell_type": "code",
   "execution_count": 140,
   "id": "6fcd55ce",
   "metadata": {},
   "outputs": [],
   "source": [
    "cities = [\"Mumbai\", \"Chennai\", \"Pune\", \"Kolkata\", \"Delhi\", \"Bengaluru\"]"
   ]
  },
  {
   "cell_type": "code",
   "execution_count": 169,
   "id": "235803af",
   "metadata": {},
   "outputs": [
    {
     "data": {
      "text/plain": [
       "['Mumbai', 'Pune']"
      ]
     },
     "execution_count": 169,
     "metadata": {},
     "output_type": "execute_result"
    }
   ],
   "source": [
    "new_list = []\n",
    "for city in cities:\n",
    "    if len(city) %2 ==0:\n",
    "        new_list.append(city)\n",
    "new_list"
   ]
  },
  {
   "cell_type": "code",
   "execution_count": 171,
   "id": "8217b115",
   "metadata": {},
   "outputs": [
    {
     "data": {
      "text/plain": [
       "['Mumbai', 'Pune']"
      ]
     },
     "execution_count": 171,
     "metadata": {},
     "output_type": "execute_result"
    }
   ],
   "source": [
    "new_list = [city for city in cities if len(city)%2==0 ]\n",
    "new_list"
   ]
  },
  {
   "cell_type": "code",
   "execution_count": null,
   "id": "eb5852c4",
   "metadata": {},
   "outputs": [],
   "source": []
  },
  {
   "cell_type": "code",
   "execution_count": null,
   "id": "ea1974db",
   "metadata": {},
   "outputs": [],
   "source": []
  },
  {
   "cell_type": "markdown",
   "id": "fbd174bb",
   "metadata": {},
   "source": [
    "**Flatten a 2D list of cricket scores into a single list.**"
   ]
  },
  {
   "cell_type": "code",
   "execution_count": 145,
   "id": "5f201495",
   "metadata": {},
   "outputs": [],
   "source": [
    "scores = [ [50, 75], [120, 98], [45, 67] ]\n",
    "[50, 75, 120, 98, 45, 67]"
   ]
  },
  {
   "cell_type": "code",
   "execution_count": 174,
   "id": "814b1bbd",
   "metadata": {},
   "outputs": [
    {
     "name": "stdout",
     "output_type": "stream",
     "text": [
      "[50, 75]\n",
      "50\n",
      "75\n",
      "[120, 98]\n",
      "120\n",
      "98\n",
      "[45, 67]\n",
      "45\n",
      "67\n"
     ]
    },
    {
     "data": {
      "text/plain": [
       "[50, 75, 120, 98, 45, 67]"
      ]
     },
     "execution_count": 174,
     "metadata": {},
     "output_type": "execute_result"
    }
   ],
   "source": [
    "result= []\n",
    "for sublist in scores:\n",
    "    print(sublist)\n",
    "    for number in sublist:\n",
    "        print(number)\n",
    "        result.append(number)\n",
    "result"
   ]
  },
  {
   "cell_type": "code",
   "execution_count": 184,
   "id": "653be88c",
   "metadata": {},
   "outputs": [
    {
     "data": {
      "text/plain": [
       "[50, 75, 120, 98, 45, 67]"
      ]
     },
     "execution_count": 184,
     "metadata": {},
     "output_type": "execute_result"
    }
   ],
   "source": [
    "[number for sublist in scores for number in sublist]"
   ]
  },
  {
   "cell_type": "markdown",
   "id": "29de2616",
   "metadata": {},
   "source": [
    "## Dictionary Comprehensions"
   ]
  },
  {
   "cell_type": "markdown",
   "id": "64ee8af1",
   "metadata": {},
   "source": [
    "**Create a dictionary of numbers from 1 to 10 and their squares.**"
   ]
  },
  {
   "cell_type": "code",
   "execution_count": 185,
   "id": "bca34321",
   "metadata": {},
   "outputs": [],
   "source": [
    "## {1:1, 2:4, 3:9 ..}"
   ]
  },
  {
   "cell_type": "code",
   "execution_count": 186,
   "id": "eb1f00d6",
   "metadata": {},
   "outputs": [
    {
     "data": {
      "text/plain": [
       "{1: 1, 2: 4, 3: 9, 4: 16, 5: 25, 6: 36, 7: 49, 8: 64, 9: 81}"
      ]
     },
     "execution_count": 186,
     "metadata": {},
     "output_type": "execute_result"
    }
   ],
   "source": [
    "result = {}\n",
    "for num in range(1, 10):\n",
    "    result[num] = num**2\n",
    "result"
   ]
  },
  {
   "cell_type": "code",
   "execution_count": 187,
   "id": "97759685",
   "metadata": {},
   "outputs": [
    {
     "data": {
      "text/plain": [
       "{1: 1, 2: 4, 3: 9, 4: 16, 5: 25, 6: 36, 7: 49, 8: 64, 9: 81}"
      ]
     },
     "execution_count": 187,
     "metadata": {},
     "output_type": "execute_result"
    }
   ],
   "source": [
    "{ num : num**2  for num in range(1, 10)}"
   ]
  },
  {
   "cell_type": "markdown",
   "id": "a2da706b",
   "metadata": {},
   "source": [
    "**Extract students with scores greater than 75.**\n",
    "\n",
    "```students = {\"Aman\": 85, \"Ravi\": 65, \"Simran\": 90, \"Priya\": 72}```"
   ]
  },
  {
   "cell_type": "code",
   "execution_count": 188,
   "id": "e8c1b290",
   "metadata": {},
   "outputs": [],
   "source": [
    "students = {\"Aman\": 85, \"Ravi\": 65, \"Simran\": 90, \"Priya\": 72}"
   ]
  },
  {
   "cell_type": "code",
   "execution_count": 195,
   "id": "791a61e9",
   "metadata": {},
   "outputs": [
    {
     "data": {
      "text/plain": [
       "{'Aman': 85, 'Simran': 90}"
      ]
     },
     "execution_count": 195,
     "metadata": {},
     "output_type": "execute_result"
    }
   ],
   "source": [
    "new_dict = {}\n",
    "for name, score in students.items():\n",
    "    if score > 75:\n",
    "        new_dict[name] = score\n",
    "new_dict"
   ]
  },
  {
   "cell_type": "code",
   "execution_count": 190,
   "id": "21bfbd22",
   "metadata": {},
   "outputs": [
    {
     "data": {
      "text/plain": [
       "{'Aman': 85, 'Simran': 90}"
      ]
     },
     "execution_count": 190,
     "metadata": {},
     "output_type": "execute_result"
    }
   ],
   "source": [
    "{x : y for x, y in students.items() if y > 75 }"
   ]
  },
  {
   "cell_type": "code",
   "execution_count": 198,
   "id": "930c2902",
   "metadata": {},
   "outputs": [
    {
     "data": {
      "text/plain": [
       "{'Aman': 85, 'Simran': 90}"
      ]
     },
     "execution_count": 198,
     "metadata": {},
     "output_type": "execute_result"
    }
   ],
   "source": [
    "new_list = []\n",
    "for name, score in students.items():\n",
    "    if score > 75:\n",
    "        new_list.append((name, score))\n",
    "dict(new_list)"
   ]
  },
  {
   "cell_type": "code",
   "execution_count": null,
   "id": "f5b4b14b",
   "metadata": {},
   "outputs": [],
   "source": []
  },
  {
   "cell_type": "markdown",
   "id": "60050798",
   "metadata": {},
   "source": [
    "**Map words to their lengths.**\n",
    "\n",
    "```words = [\"Python\", \"Comprehension\", \"Dictionary\", \"List\"]```"
   ]
  },
  {
   "cell_type": "code",
   "execution_count": 200,
   "id": "19e2f838",
   "metadata": {},
   "outputs": [],
   "source": [
    "words = [\"Python\", \"Comprehension\", \"Dictionary\", \"List\"]"
   ]
  },
  {
   "cell_type": "code",
   "execution_count": 202,
   "id": "4dd2cc8f",
   "metadata": {},
   "outputs": [
    {
     "data": {
      "text/plain": [
       "{'Python': 6, 'Comprehension': 13, 'Dictionary': 10, 'List': 4}"
      ]
     },
     "execution_count": 202,
     "metadata": {},
     "output_type": "execute_result"
    }
   ],
   "source": [
    "mapping = {}\n",
    "\n",
    "for word in words:\n",
    "    mapping[word] = len(word)\n",
    "mapping"
   ]
  },
  {
   "cell_type": "code",
   "execution_count": 203,
   "id": "887d6b13",
   "metadata": {},
   "outputs": [
    {
     "data": {
      "text/plain": [
       "{'Python': 6, 'Comprehension': 13, 'Dictionary': 10, 'List': 4}"
      ]
     },
     "execution_count": 203,
     "metadata": {},
     "output_type": "execute_result"
    }
   ],
   "source": [
    "{ word : len(word) for word in words }"
   ]
  },
  {
   "cell_type": "code",
   "execution_count": 204,
   "id": "240b4032",
   "metadata": {},
   "outputs": [
    {
     "data": {
      "text/plain": [
       "[('Python', 6), ('Comprehension', 13), ('Dictionary', 10), ('List', 4)]"
      ]
     },
     "execution_count": 204,
     "metadata": {},
     "output_type": "execute_result"
    }
   ],
   "source": [
    "mapping_list = []\n",
    "for word in words:\n",
    "    mapping_list.append((word, len(word)))\n",
    "mapping_list"
   ]
  },
  {
   "cell_type": "code",
   "execution_count": 205,
   "id": "c6c4e85b",
   "metadata": {},
   "outputs": [
    {
     "data": {
      "text/plain": [
       "{'Python': 6, 'Comprehension': 13, 'Dictionary': 10, 'List': 4}"
      ]
     },
     "execution_count": 205,
     "metadata": {},
     "output_type": "execute_result"
    }
   ],
   "source": [
    "dict(mapping_list)"
   ]
  },
  {
   "cell_type": "code",
   "execution_count": null,
   "id": "1e560bab",
   "metadata": {},
   "outputs": [],
   "source": []
  },
  {
   "cell_type": "markdown",
   "id": "c9e0b2d4",
   "metadata": {},
   "source": [
    "**Keep dictionary entries where the values have more than 5 characters.**\n",
    "\n",
    "```fruits = {\"apple\": \"red\", \"banana\": \"yellow\", \"grape\": \"purple\"}```"
   ]
  },
  {
   "cell_type": "code",
   "execution_count": 208,
   "id": "2e16adaf",
   "metadata": {},
   "outputs": [],
   "source": [
    "fruits = {\"apple\": \"red\", \"banana\": \"yellow\", \"grape\": \"purple\"}"
   ]
  },
  {
   "cell_type": "code",
   "execution_count": 209,
   "id": "4b1d4429",
   "metadata": {},
   "outputs": [
    {
     "data": {
      "text/plain": [
       "{'banana': 'yellow', 'grape': 'purple'}"
      ]
     },
     "execution_count": 209,
     "metadata": {},
     "output_type": "execute_result"
    }
   ],
   "source": [
    "new_dict = {}\n",
    "\n",
    "for fruit, color in fruits.items():\n",
    "    if len(color) > 5:\n",
    "        new_dict[fruit] = color\n",
    "new_dict\n",
    "    "
   ]
  },
  {
   "cell_type": "code",
   "execution_count": 210,
   "id": "c2516923",
   "metadata": {},
   "outputs": [
    {
     "data": {
      "text/plain": [
       "{'banana': 'yellow', 'grape': 'purple'}"
      ]
     },
     "execution_count": 210,
     "metadata": {},
     "output_type": "execute_result"
    }
   ],
   "source": [
    "new_dict = {}\n",
    "\n",
    "for fruit in fruits:\n",
    "    color = fruits[fruit]\n",
    "    if len(color) > 5:\n",
    "        new_dict[fruit] = color \n",
    "\n",
    "\n",
    "new_dict"
   ]
  },
  {
   "cell_type": "code",
   "execution_count": 211,
   "id": "e122e043",
   "metadata": {},
   "outputs": [
    {
     "data": {
      "text/plain": [
       "{'banana': 'yellow', 'grape': 'purple'}"
      ]
     },
     "execution_count": 211,
     "metadata": {},
     "output_type": "execute_result"
    }
   ],
   "source": [
    "{fruit : color for fruit, color in fruits.items() if len(color) > 5}"
   ]
  },
  {
   "cell_type": "code",
   "execution_count": null,
   "id": "3854918d",
   "metadata": {},
   "outputs": [],
   "source": []
  },
  {
   "cell_type": "code",
   "execution_count": null,
   "id": "acc73ae5",
   "metadata": {},
   "outputs": [],
   "source": []
  },
  {
   "cell_type": "code",
   "execution_count": null,
   "id": "b4532f81",
   "metadata": {},
   "outputs": [],
   "source": []
  },
  {
   "cell_type": "code",
   "execution_count": null,
   "id": "869f2eb3",
   "metadata": {},
   "outputs": [],
   "source": []
  },
  {
   "cell_type": "code",
   "execution_count": null,
   "id": "cd5de94e",
   "metadata": {},
   "outputs": [],
   "source": []
  }
 ],
 "metadata": {
  "kernelspec": {
   "display_name": "Python 3 (ipykernel)",
   "language": "python",
   "name": "python3"
  },
  "language_info": {
   "codemirror_mode": {
    "name": "ipython",
    "version": 3
   },
   "file_extension": ".py",
   "mimetype": "text/x-python",
   "name": "python",
   "nbconvert_exporter": "python",
   "pygments_lexer": "ipython3",
   "version": "3.10.8"
  }
 },
 "nbformat": 4,
 "nbformat_minor": 5
}
