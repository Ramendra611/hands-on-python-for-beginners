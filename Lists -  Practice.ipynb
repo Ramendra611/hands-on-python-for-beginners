{
 "cells": [
  {
   "cell_type": "markdown",
   "id": "80ff4a36",
   "metadata": {},
   "source": [
    "##### 1. Create a list of the following Indian cities: Mumbai, Delhi, Bengaluru, Kolkata, Chennai. Print the second and fourth cities from the list. "
   ]
  },
  {
   "cell_type": "code",
   "execution_count": 1,
   "id": "913487c7",
   "metadata": {},
   "outputs": [],
   "source": [
    "list_of_cities = [\"Mumbai\", \"Delhi\", \"Bengaluru\", \"Kolkata\", \"Chennai\"]"
   ]
  },
  {
   "cell_type": "code",
   "execution_count": 3,
   "id": "9824c8a6",
   "metadata": {},
   "outputs": [
    {
     "name": "stdout",
     "output_type": "stream",
     "text": [
      "Delhi\n"
     ]
    }
   ],
   "source": [
    "print(list_of_cities[1])"
   ]
  },
  {
   "cell_type": "code",
   "execution_count": 4,
   "id": "2a4c3136",
   "metadata": {},
   "outputs": [
    {
     "data": {
      "text/plain": [
       "'Delhi'"
      ]
     },
     "execution_count": 4,
     "metadata": {},
     "output_type": "execute_result"
    }
   ],
   "source": [
    "list_of_cities[1]"
   ]
  },
  {
   "cell_type": "code",
   "execution_count": 5,
   "id": "bad6b81e",
   "metadata": {},
   "outputs": [
    {
     "data": {
      "text/plain": [
       "'Kolkata'"
      ]
     },
     "execution_count": 5,
     "metadata": {},
     "output_type": "execute_result"
    }
   ],
   "source": [
    "list_of_cities[3]"
   ]
  },
  {
   "cell_type": "markdown",
   "id": "79f593bc",
   "metadata": {},
   "source": [
    "##### 2. Given the list of names [\"Rahul\", \"Anita\", \"Suresh\", \"Priya\", \"Rohan\"], slice and print the first three names."
   ]
  },
  {
   "cell_type": "code",
   "execution_count": 9,
   "id": "6f1db743",
   "metadata": {},
   "outputs": [
    {
     "name": "stdout",
     "output_type": "stream",
     "text": [
      "['Rahul', 'Anita', 'Suresh']\n"
     ]
    }
   ],
   "source": [
    "names = [\"Rahul\", \"Anita\", \"Suresh\", \"Priya\", \"Rohan\"]\n",
    "print(names[0:3])"
   ]
  },
  {
   "cell_type": "markdown",
   "id": "fca06815",
   "metadata": {},
   "source": [
    "##### 3. Appending and Inserting Elements\n",
    "\n",
    "Create a list of fruits: [\"Apple\", \"Banana\", \"Mango\"].\n",
    "\n",
    "Add \"Orange\" to the end of the list.\n",
    "Insert \"Grapes\" at index 2."
   ]
  },
  {
   "cell_type": "code",
   "execution_count": 11,
   "id": "4cf3cb0e",
   "metadata": {},
   "outputs": [],
   "source": [
    "fruits = [\"Apple\", \"Banana\", \"Mango\"]"
   ]
  },
  {
   "cell_type": "code",
   "execution_count": 13,
   "id": "754b4088",
   "metadata": {},
   "outputs": [],
   "source": [
    "fruits.append(\"Orange\")"
   ]
  },
  {
   "cell_type": "code",
   "execution_count": 14,
   "id": "a1ed5464",
   "metadata": {},
   "outputs": [
    {
     "data": {
      "text/plain": [
       "['Apple', 'Banana', 'Mango', 'Orange']"
      ]
     },
     "execution_count": 14,
     "metadata": {},
     "output_type": "execute_result"
    }
   ],
   "source": [
    "fruits"
   ]
  },
  {
   "cell_type": "code",
   "execution_count": 16,
   "id": "96fd619f",
   "metadata": {},
   "outputs": [],
   "source": [
    "fruits.insert(2, \"Grapes\")"
   ]
  },
  {
   "cell_type": "code",
   "execution_count": 19,
   "id": "ffbd1c4e",
   "metadata": {},
   "outputs": [
    {
     "data": {
      "text/plain": [
       "['Apple', 'Banana', 'Grapes', '', 'Mango', 'Orange']"
      ]
     },
     "execution_count": 19,
     "metadata": {},
     "output_type": "execute_result"
    }
   ],
   "source": [
    "fruits"
   ]
  },
  {
   "cell_type": "code",
   "execution_count": 18,
   "id": "8ecb0832",
   "metadata": {},
   "outputs": [
    {
     "data": {
      "text/plain": [
       "'Grapes'"
      ]
     },
     "execution_count": 18,
     "metadata": {},
     "output_type": "execute_result"
    }
   ],
   "source": [
    "fruits[2]"
   ]
  },
  {
   "cell_type": "code",
   "execution_count": 20,
   "id": "ce9f5ef0",
   "metadata": {},
   "outputs": [],
   "source": [
    "fruits.remove(\"\")"
   ]
  },
  {
   "cell_type": "code",
   "execution_count": 21,
   "id": "4284dbbe",
   "metadata": {},
   "outputs": [
    {
     "data": {
      "text/plain": [
       "['Apple', 'Banana', 'Grapes', 'Mango', 'Orange']"
      ]
     },
     "execution_count": 21,
     "metadata": {},
     "output_type": "execute_result"
    }
   ],
   "source": [
    "fruits"
   ]
  },
  {
   "cell_type": "code",
   "execution_count": null,
   "id": "10fda8a1",
   "metadata": {},
   "outputs": [],
   "source": []
  },
  {
   "cell_type": "markdown",
   "id": "3c867aa1",
   "metadata": {},
   "source": [
    "##### 4. Removing Elements (pop, remove, clear)\n",
    "Question:\n",
    "Given the list of players [\"Sachin\", \"Virat\", \"Dhoni\", \"Rohit\"]:\n",
    "\n",
    "    Remove the last element using pop().\n",
    "    Remove \"Virat\" using remove().\n",
    "    Clear the entire list."
   ]
  },
  {
   "cell_type": "code",
   "execution_count": 22,
   "id": "783f9a06",
   "metadata": {},
   "outputs": [],
   "source": [
    "players = [\"Sachin\", \"Virat\", \"Dhoni\", \"Rohit\"]"
   ]
  },
  {
   "cell_type": "code",
   "execution_count": 23,
   "id": "fc40ea6e",
   "metadata": {},
   "outputs": [
    {
     "data": {
      "text/plain": [
       "'Rohit'"
      ]
     },
     "execution_count": 23,
     "metadata": {},
     "output_type": "execute_result"
    }
   ],
   "source": [
    "players.pop()"
   ]
  },
  {
   "cell_type": "code",
   "execution_count": 24,
   "id": "d3052408",
   "metadata": {},
   "outputs": [
    {
     "data": {
      "text/plain": [
       "['Sachin', 'Virat', 'Dhoni']"
      ]
     },
     "execution_count": 24,
     "metadata": {},
     "output_type": "execute_result"
    }
   ],
   "source": [
    "players"
   ]
  },
  {
   "cell_type": "code",
   "execution_count": 25,
   "id": "06a7e860",
   "metadata": {},
   "outputs": [],
   "source": [
    "players.remove(\"Virat\")"
   ]
  },
  {
   "cell_type": "code",
   "execution_count": 26,
   "id": "d5f473c7",
   "metadata": {},
   "outputs": [
    {
     "data": {
      "text/plain": [
       "['Sachin', 'Dhoni']"
      ]
     },
     "execution_count": 26,
     "metadata": {},
     "output_type": "execute_result"
    }
   ],
   "source": [
    "players"
   ]
  },
  {
   "cell_type": "code",
   "execution_count": 27,
   "id": "8c7ade16",
   "metadata": {},
   "outputs": [],
   "source": [
    "players.clear()"
   ]
  },
  {
   "cell_type": "code",
   "execution_count": 28,
   "id": "dd5cf8de",
   "metadata": {},
   "outputs": [
    {
     "data": {
      "text/plain": [
       "[]"
      ]
     },
     "execution_count": 28,
     "metadata": {},
     "output_type": "execute_result"
    }
   ],
   "source": [
    "players"
   ]
  },
  {
   "cell_type": "markdown",
   "id": "f135a391",
   "metadata": {},
   "source": [
    "##### 5. Sorting and Reversing a List\n",
    "Question:\n",
    "Create a list of numbers: [9, 3, 6, 1, 8].\n",
    "\n",
    "    Sort the list in ascending order.\n",
    "    Reverse the list after sorting."
   ]
  },
  {
   "cell_type": "code",
   "execution_count": 34,
   "id": "cf367f64",
   "metadata": {},
   "outputs": [],
   "source": [
    "numbers = [9, 3, 6, 1, 8]"
   ]
  },
  {
   "cell_type": "code",
   "execution_count": 30,
   "id": "c990205e",
   "metadata": {},
   "outputs": [
    {
     "data": {
      "text/plain": [
       "[1, 3, 6, 8, 9]"
      ]
     },
     "execution_count": 30,
     "metadata": {},
     "output_type": "execute_result"
    }
   ],
   "source": [
    "sorted(numbers)"
   ]
  },
  {
   "cell_type": "code",
   "execution_count": 32,
   "id": "3c4942ab",
   "metadata": {},
   "outputs": [],
   "source": [
    "numbers.sort()"
   ]
  },
  {
   "cell_type": "code",
   "execution_count": 33,
   "id": "a1bd22d7",
   "metadata": {},
   "outputs": [
    {
     "data": {
      "text/plain": [
       "[1, 3, 6, 8, 9]"
      ]
     },
     "execution_count": 33,
     "metadata": {},
     "output_type": "execute_result"
    }
   ],
   "source": [
    "numbers"
   ]
  },
  {
   "cell_type": "code",
   "execution_count": 35,
   "id": "d9a501a6",
   "metadata": {},
   "outputs": [
    {
     "data": {
      "text/plain": [
       "[9, 3, 6, 1, 8]"
      ]
     },
     "execution_count": 35,
     "metadata": {},
     "output_type": "execute_result"
    }
   ],
   "source": [
    "numbers"
   ]
  },
  {
   "cell_type": "code",
   "execution_count": 38,
   "id": "c4659604",
   "metadata": {},
   "outputs": [],
   "source": [
    "sorted_numbers = sorted(numbers, reverse=True)"
   ]
  },
  {
   "cell_type": "code",
   "execution_count": 39,
   "id": "515c67a4",
   "metadata": {},
   "outputs": [
    {
     "data": {
      "text/plain": [
       "[9, 8, 6, 3, 1]"
      ]
     },
     "execution_count": 39,
     "metadata": {},
     "output_type": "execute_result"
    }
   ],
   "source": [
    "sorted_numbers"
   ]
  },
  {
   "cell_type": "code",
   "execution_count": 40,
   "id": "b2a6dbd3",
   "metadata": {},
   "outputs": [],
   "source": [
    "sorted_numbers.reverse()  # in place operation"
   ]
  },
  {
   "cell_type": "code",
   "execution_count": 42,
   "id": "70ed95ec",
   "metadata": {},
   "outputs": [
    {
     "data": {
      "text/plain": [
       "[1, 3, 6, 8, 9]"
      ]
     },
     "execution_count": 42,
     "metadata": {},
     "output_type": "execute_result"
    }
   ],
   "source": [
    "sorted_numbers"
   ]
  },
  {
   "cell_type": "code",
   "execution_count": 45,
   "id": "3f1d2837",
   "metadata": {},
   "outputs": [
    {
     "data": {
      "text/plain": [
       "[9, 8, 6, 3, 1]"
      ]
     },
     "execution_count": 45,
     "metadata": {},
     "output_type": "execute_result"
    }
   ],
   "source": [
    "sorted_numbers[::-1] # not in place operation ( returns only a view )"
   ]
  },
  {
   "cell_type": "code",
   "execution_count": 46,
   "id": "d7b35164",
   "metadata": {},
   "outputs": [
    {
     "data": {
      "text/plain": [
       "[1, 3, 6, 8, 9]"
      ]
     },
     "execution_count": 46,
     "metadata": {},
     "output_type": "execute_result"
    }
   ],
   "source": [
    "sorted_numbers"
   ]
  },
  {
   "cell_type": "code",
   "execution_count": null,
   "id": "5b9943fe",
   "metadata": {},
   "outputs": [],
   "source": []
  },
  {
   "cell_type": "markdown",
   "id": "88bf94b3",
   "metadata": {},
   "source": [
    "##### 6. Finding the Length of a List\n",
    "Question:\n",
    "Create a list of five Indian states: [\"Maharashtra\", \"Tamil Nadu\", \"Kerala\", \"Rajasthan\", \"Punjab\"]. Print the length of the list."
   ]
  },
  {
   "cell_type": "code",
   "execution_count": null,
   "id": "f787ab85",
   "metadata": {},
   "outputs": [],
   "source": []
  },
  {
   "cell_type": "code",
   "execution_count": null,
   "id": "6c531e0b",
   "metadata": {},
   "outputs": [],
   "source": []
  },
  {
   "cell_type": "markdown",
   "id": "ee318173",
   "metadata": {},
   "source": [
    "##### 8. Nested Lists (2D List)\n",
    "Question:\n",
    "Create a nested list of students and their marks:\n",
    "[[\"Amit\", 85], [\"Pooja\", 90], [\"Ravi\", 75]].\n",
    "Print the marks of the second student (Pooja)."
   ]
  },
  {
   "cell_type": "code",
   "execution_count": 47,
   "id": "c2c3ecbe",
   "metadata": {},
   "outputs": [],
   "source": [
    "students = [ [\"Amit\", 85], [\"Pooja\", 90], [\"Ravi\", 75]]"
   ]
  },
  {
   "cell_type": "code",
   "execution_count": 50,
   "id": "14c34e7d",
   "metadata": {},
   "outputs": [
    {
     "name": "stdout",
     "output_type": "stream",
     "text": [
      "90\n"
     ]
    }
   ],
   "source": [
    "print(students[1][1])"
   ]
  },
  {
   "cell_type": "code",
   "execution_count": null,
   "id": "ed31a2bd",
   "metadata": {},
   "outputs": [],
   "source": []
  },
  {
   "cell_type": "markdown",
   "id": "5c3506b8",
   "metadata": {},
   "source": [
    "##### 9. Using in and not in Operators\n",
    "Question:\n",
    "Given the list [\"Delhi\", \"Mumbai\", \"Chennai\", \"Kolkata\"], check if \"Hyderabad\" is present in the list. If not, print \"Hyderabad is not in the list\"."
   ]
  },
  {
   "cell_type": "code",
   "execution_count": 53,
   "id": "b1d8cbd7",
   "metadata": {},
   "outputs": [
    {
     "name": "stdout",
     "output_type": "stream",
     "text": [
      "Hyderabad is not in the list\n"
     ]
    }
   ],
   "source": [
    "cities = [\"Delhi\", \"Mumbai\", \"Chennai\", \"Kolkata\"]\n",
    "\n",
    "if \"Hyderabad\" not in cities:\n",
    "    print(\"Hyderabad is not in the list\")"
   ]
  },
  {
   "cell_type": "code",
   "execution_count": 57,
   "id": "b836b765",
   "metadata": {},
   "outputs": [
    {
     "name": "stdout",
     "output_type": "stream",
     "text": [
      "hello hyderabad\n"
     ]
    }
   ],
   "source": [
    "if \"Hyderabad\"  in cities:\n",
    "    print(\"hello hyderabad\")\n",
    "else:\n",
    "    print(\"Hyderabad is not in the list\")"
   ]
  },
  {
   "cell_type": "code",
   "execution_count": 56,
   "id": "20dfbd53",
   "metadata": {},
   "outputs": [],
   "source": [
    "cities.append(\"Hyderabad\")"
   ]
  },
  {
   "cell_type": "code",
   "execution_count": 58,
   "id": "637fc114",
   "metadata": {},
   "outputs": [
    {
     "data": {
      "text/plain": [
       "'/Users/ram/Documents/codeverra/PythonMastery'"
      ]
     },
     "execution_count": 58,
     "metadata": {},
     "output_type": "execute_result"
    }
   ],
   "source": []
  },
  {
   "cell_type": "code",
   "execution_count": null,
   "id": "86492528",
   "metadata": {},
   "outputs": [],
   "source": []
  },
  {
   "cell_type": "code",
   "execution_count": null,
   "id": "e0215b1d",
   "metadata": {},
   "outputs": [],
   "source": []
  }
 ],
 "metadata": {
  "kernelspec": {
   "display_name": "Python 3 (ipykernel)",
   "language": "python",
   "name": "python3"
  },
  "language_info": {
   "codemirror_mode": {
    "name": "ipython",
    "version": 3
   },
   "file_extension": ".py",
   "mimetype": "text/x-python",
   "name": "python",
   "nbconvert_exporter": "python",
   "pygments_lexer": "ipython3",
   "version": "3.10.8"
  }
 },
 "nbformat": 4,
 "nbformat_minor": 5
}
