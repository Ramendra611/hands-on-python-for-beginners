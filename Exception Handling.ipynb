{
 "cells": [
  {
   "cell_type": "markdown",
   "id": "8e84390b",
   "metadata": {},
   "source": [
    "# Errors and Exceptions in Python\n",
    "\n",
    "\n",
    "Errors and exceptions both disrupt the normal flow of a program, but they differ in how they occur and how they can be handled. \n",
    "\n",
    "**Error** - Errors are flaws in the code that prevent it from executing successfully. They are typically detected during the compilation or interpretation phase of the program.\n",
    "    \n",
    "**Exception** - Exceptions are events that occur during the execution of a program that disrupt the normal flow. They are raised when something unexpected or erroneous happens, such as an invalid input, a file not found, or a network error.\n",
    "\n",
    "---\n",
    "\n",
    "## What is an  Error and what is an  Exception?\n",
    "\n",
    "| **Aspect**           | **Errors**                                    | **Exceptions**                                |\n",
    "|----------------------|-----------------------------------------------|----------------------------------------------|\n",
    "| **Definition**       | Errors are issues in the code that cause the program to fail at runtime or during compilation. | Exceptions are runtime anomalies that can be caught and handled without stopping the entire program. |\n",
    "| **Occurrence**       | Occur due to mistakes in the syntax or logic of the code (e.g., missing parenthesis). | Occur when a specific event disrupts normal execution (e.g., dividing by zero). |\n",
    "| **Type**             | Mostly **Syntax Errors** or logical errors.   | **Runtime Exceptions** like `ZeroDivisionError`, `FileNotFoundError`. |\n",
    "| **Handling**         | Cannot be handled using `try-except` blocks.  | Can be handled using `try-except` blocks. |\n",
    "| **Examples**         | SyntaxError, IndentationError, NameError      | ValueError, ZeroDivisionError, FileNotFoundError |\n",
    "| **Impact**           | Terminates the program immediately.           | Can be handled to prevent program termination. |\n",
    "\n",
    "---\n",
    "\n",
    "Below are the most common types of exceptions you may encounter:\n",
    "\n",
    "| **Error Type**         | **Description** |\n",
    "|------------------------|-----------------|\n",
    "| `SyntaxError`          | Occurs when there is a syntax mistake in the code (e.g., missing parentheses). |\n",
    "| `IndentationError`     | Raised when the code indentation is not consistent or incorrect. |\n",
    "| `NameError`            | Raised when a variable or function name is not defined. |\n",
    "| `TypeError`            | Occurs when an operation or function is applied to an object of inappropriate type. |\n",
    "| `ValueError`           | Raised when a function receives an argument of correct type but inappropriate value. |\n",
    "| `IndexError`           | Raised when an attempt is made to access an element outside a list’s valid index range. |\n",
    "| `KeyError`             | Raised when a dictionary key is not found. |\n",
    "| `ZeroDivisionError`    | Raised when a number is divided by zero. |\n",
    "| `IOError` / `OSError` | Raised when an input/output operation fails. |\n",
    "\n",
    "\n",
    "---\n",
    "\n",
    "\n",
    "\n",
    "## Examples of Errors and Exceptions\n",
    "\n",
    "#### **Example of a Syntax Error (Uncaught Error)**\n",
    "\n",
    "```python\n",
    "print(\"Hello World\"   # Missing closing parenthesis\n",
    " \n",
    "SyntaxError: unexpected EOF while parsing\n",
    "```\n",
    "---\n",
    "#### **Example of a Exception**\n",
    "```python\n",
    "x = 10 / 0  # Division by zero\n",
    "\n",
    "ZeroDivisionError: division by zero\n",
    "```\n"
   ]
  },
  {
   "cell_type": "code",
   "execution_count": null,
   "id": "975319da",
   "metadata": {},
   "outputs": [],
   "source": [
    "name = \"Ramesh\""
   ]
  },
  {
   "cell_type": "code",
   "execution_count": 10,
   "id": "3ff73d4f",
   "metadata": {},
   "outputs": [
    {
     "ename": "NameError",
     "evalue": "name 'name' is not defined",
     "output_type": "error",
     "traceback": [
      "\u001b[0;31m---------------------------------------------------------------------------\u001b[0m",
      "\u001b[0;31mNameError\u001b[0m                                 Traceback (most recent call last)",
      "Cell \u001b[0;32mIn[10], line 1\u001b[0m\n\u001b[0;32m----> 1\u001b[0m \u001b[38;5;28mprint\u001b[39m(\u001b[43mname\u001b[49m)\n",
      "\u001b[0;31mNameError\u001b[0m: name 'name' is not defined"
     ]
    }
   ],
   "source": [
    "print(name)"
   ]
  },
  {
   "cell_type": "code",
   "execution_count": 44,
   "id": "a84c6088",
   "metadata": {},
   "outputs": [
    {
     "ename": "IndexError",
     "evalue": "list index out of range",
     "output_type": "error",
     "traceback": [
      "\u001b[0;31m---------------------------------------------------------------------------\u001b[0m",
      "\u001b[0;31mIndexError\u001b[0m                                Traceback (most recent call last)",
      "Cell \u001b[0;32mIn[44], line 2\u001b[0m\n\u001b[1;32m      1\u001b[0m list1 \u001b[38;5;241m=\u001b[39m [\u001b[38;5;241m1\u001b[39m, \u001b[38;5;241m2\u001b[39m, \u001b[38;5;241m4\u001b[39m]\n\u001b[0;32m----> 2\u001b[0m \u001b[43mlist1\u001b[49m\u001b[43m[\u001b[49m\u001b[38;5;241;43m4\u001b[39;49m\u001b[43m]\u001b[49m\n",
      "\u001b[0;31mIndexError\u001b[0m: list index out of range"
     ]
    }
   ],
   "source": [
    "list1 = [1, 2, 4]\n",
    "list1[4]"
   ]
  },
  {
   "cell_type": "code",
   "execution_count": null,
   "id": "5fbcf3c2",
   "metadata": {},
   "outputs": [],
   "source": []
  },
  {
   "cell_type": "code",
   "execution_count": 11,
   "id": "483bfa95",
   "metadata": {},
   "outputs": [
    {
     "ename": "SyntaxError",
     "evalue": "incomplete input (3634255947.py, line 1)",
     "output_type": "error",
     "traceback": [
      "\u001b[0;36m  Cell \u001b[0;32mIn[11], line 1\u001b[0;36m\u001b[0m\n\u001b[0;31m    print(name\u001b[0m\n\u001b[0m              ^\u001b[0m\n\u001b[0;31mSyntaxError\u001b[0m\u001b[0;31m:\u001b[0m incomplete input\n"
     ]
    }
   ],
   "source": [
    "print(name"
   ]
  },
  {
   "cell_type": "code",
   "execution_count": 13,
   "id": "c49192f3",
   "metadata": {},
   "outputs": [
    {
     "ename": "IndentationError",
     "evalue": "expected an indented block after 'if' statement on line 1 (984671681.py, line 2)",
     "output_type": "error",
     "traceback": [
      "\u001b[0;36m  Cell \u001b[0;32mIn[13], line 2\u001b[0;36m\u001b[0m\n\u001b[0;31m    print(\"something\")\u001b[0m\n\u001b[0m    ^\u001b[0m\n\u001b[0;31mIndentationError\u001b[0m\u001b[0;31m:\u001b[0m expected an indented block after 'if' statement on line 1\n"
     ]
    }
   ],
   "source": [
    "if 5 > 6:\n",
    "print(\"something\")"
   ]
  },
  {
   "cell_type": "code",
   "execution_count": 43,
   "id": "465c2501",
   "metadata": {},
   "outputs": [
    {
     "ename": "ValueError",
     "evalue": "invalid literal for int() with base 10: '6.7'",
     "output_type": "error",
     "traceback": [
      "\u001b[0;31m---------------------------------------------------------------------------\u001b[0m",
      "\u001b[0;31mValueError\u001b[0m                                Traceback (most recent call last)",
      "Cell \u001b[0;32mIn[43], line 1\u001b[0m\n\u001b[0;32m----> 1\u001b[0m \u001b[38;5;28;43mint\u001b[39;49m\u001b[43m(\u001b[49m\u001b[38;5;124;43m\"\u001b[39;49m\u001b[38;5;124;43m6.7\u001b[39;49m\u001b[38;5;124;43m\"\u001b[39;49m\u001b[43m)\u001b[49m\n",
      "\u001b[0;31mValueError\u001b[0m: invalid literal for int() with base 10: '6.7'"
     ]
    }
   ],
   "source": [
    "int(\"6.7\")"
   ]
  },
  {
   "cell_type": "code",
   "execution_count": 14,
   "id": "e3435f2b",
   "metadata": {},
   "outputs": [
    {
     "ename": "FileNotFoundError",
     "evalue": "[Errno 2] No such file or directory: 'hello.txt'",
     "output_type": "error",
     "traceback": [
      "\u001b[0;31m---------------------------------------------------------------------------\u001b[0m",
      "\u001b[0;31mFileNotFoundError\u001b[0m                         Traceback (most recent call last)",
      "Cell \u001b[0;32mIn[14], line 1\u001b[0m\n\u001b[0;32m----> 1\u001b[0m \u001b[38;5;28;01mwith\u001b[39;00m \u001b[38;5;28;43mopen\u001b[39;49m\u001b[43m(\u001b[49m\u001b[38;5;124;43m\"\u001b[39;49m\u001b[38;5;124;43mhello.txt\u001b[39;49m\u001b[38;5;124;43m\"\u001b[39;49m\u001b[43m,\u001b[49m\u001b[43m \u001b[49m\u001b[38;5;124;43m\"\u001b[39;49m\u001b[38;5;124;43mr\u001b[39;49m\u001b[38;5;124;43m\"\u001b[39;49m\u001b[43m)\u001b[49m \u001b[38;5;28;01mas\u001b[39;00m file:\n\u001b[1;32m      2\u001b[0m     file\u001b[38;5;241m.\u001b[39mread()\n",
      "File \u001b[0;32m~/miniconda3/lib/python3.10/site-packages/IPython/core/interactiveshell.py:284\u001b[0m, in \u001b[0;36m_modified_open\u001b[0;34m(file, *args, **kwargs)\u001b[0m\n\u001b[1;32m    277\u001b[0m \u001b[38;5;28;01mif\u001b[39;00m file \u001b[38;5;129;01min\u001b[39;00m {\u001b[38;5;241m0\u001b[39m, \u001b[38;5;241m1\u001b[39m, \u001b[38;5;241m2\u001b[39m}:\n\u001b[1;32m    278\u001b[0m     \u001b[38;5;28;01mraise\u001b[39;00m \u001b[38;5;167;01mValueError\u001b[39;00m(\n\u001b[1;32m    279\u001b[0m         \u001b[38;5;124mf\u001b[39m\u001b[38;5;124m\"\u001b[39m\u001b[38;5;124mIPython won\u001b[39m\u001b[38;5;124m'\u001b[39m\u001b[38;5;124mt let you open fd=\u001b[39m\u001b[38;5;132;01m{\u001b[39;00mfile\u001b[38;5;132;01m}\u001b[39;00m\u001b[38;5;124m by default \u001b[39m\u001b[38;5;124m\"\u001b[39m\n\u001b[1;32m    280\u001b[0m         \u001b[38;5;124m\"\u001b[39m\u001b[38;5;124mas it is likely to crash IPython. If you know what you are doing, \u001b[39m\u001b[38;5;124m\"\u001b[39m\n\u001b[1;32m    281\u001b[0m         \u001b[38;5;124m\"\u001b[39m\u001b[38;5;124myou can use builtins\u001b[39m\u001b[38;5;124m'\u001b[39m\u001b[38;5;124m open.\u001b[39m\u001b[38;5;124m\"\u001b[39m\n\u001b[1;32m    282\u001b[0m     )\n\u001b[0;32m--> 284\u001b[0m \u001b[38;5;28;01mreturn\u001b[39;00m \u001b[43mio_open\u001b[49m\u001b[43m(\u001b[49m\u001b[43mfile\u001b[49m\u001b[43m,\u001b[49m\u001b[43m \u001b[49m\u001b[38;5;241;43m*\u001b[39;49m\u001b[43margs\u001b[49m\u001b[43m,\u001b[49m\u001b[43m \u001b[49m\u001b[38;5;241;43m*\u001b[39;49m\u001b[38;5;241;43m*\u001b[39;49m\u001b[43mkwargs\u001b[49m\u001b[43m)\u001b[49m\n",
      "\u001b[0;31mFileNotFoundError\u001b[0m: [Errno 2] No such file or directory: 'hello.txt'"
     ]
    }
   ],
   "source": [
    "with open(\"hello.txt\", \"r\") as file:\n",
    "    file.read()"
   ]
  },
  {
   "cell_type": "code",
   "execution_count": null,
   "id": "f82f8a11",
   "metadata": {},
   "outputs": [],
   "source": []
  },
  {
   "cell_type": "markdown",
   "id": "a0e7401a",
   "metadata": {},
   "source": [
    "## try and except to handle exceptions"
   ]
  },
  {
   "cell_type": "code",
   "execution_count": 18,
   "id": "f9bb0b72",
   "metadata": {},
   "outputs": [
    {
     "name": "stdout",
     "output_type": "stream",
     "text": [
      "Enter the first number4\n",
      "Enter the second number0\n"
     ]
    },
    {
     "ename": "ZeroDivisionError",
     "evalue": "division by zero",
     "output_type": "error",
     "traceback": [
      "\u001b[0;31m---------------------------------------------------------------------------\u001b[0m",
      "\u001b[0;31mZeroDivisionError\u001b[0m                         Traceback (most recent call last)",
      "Cell \u001b[0;32mIn[18], line 4\u001b[0m\n\u001b[1;32m      1\u001b[0m num1 \u001b[38;5;241m=\u001b[39m \u001b[38;5;28mint\u001b[39m(\u001b[38;5;28minput\u001b[39m(\u001b[38;5;124m\"\u001b[39m\u001b[38;5;124mEnter the first number\u001b[39m\u001b[38;5;124m\"\u001b[39m))\n\u001b[1;32m      2\u001b[0m num2 \u001b[38;5;241m=\u001b[39m \u001b[38;5;28mint\u001b[39m(\u001b[38;5;28minput\u001b[39m(\u001b[38;5;124m\"\u001b[39m\u001b[38;5;124mEnter the second number\u001b[39m\u001b[38;5;124m\"\u001b[39m))\n\u001b[0;32m----> 4\u001b[0m \u001b[38;5;28mprint\u001b[39m(\u001b[43mnum1\u001b[49m\u001b[43m \u001b[49m\u001b[38;5;241;43m/\u001b[39;49m\u001b[43m \u001b[49m\u001b[43mnum2\u001b[49m)\n",
      "\u001b[0;31mZeroDivisionError\u001b[0m: division by zero"
     ]
    }
   ],
   "source": [
    "num1 = int(input(\"Enter the first number\"))\n",
    "num2 = int(input(\"Enter the second number\"))\n",
    "\n",
    "print(num1 / num2)"
   ]
  },
  {
   "cell_type": "code",
   "execution_count": null,
   "id": "920ea0b3",
   "metadata": {},
   "outputs": [],
   "source": []
  },
  {
   "cell_type": "code",
   "execution_count": null,
   "id": "3e4aedfa",
   "metadata": {},
   "outputs": [],
   "source": []
  },
  {
   "cell_type": "code",
   "execution_count": null,
   "id": "0acf3495",
   "metadata": {},
   "outputs": [],
   "source": []
  },
  {
   "cell_type": "code",
   "execution_count": null,
   "id": "f8478030",
   "metadata": {},
   "outputs": [],
   "source": []
  },
  {
   "cell_type": "code",
   "execution_count": 21,
   "id": "7cf2a1bd",
   "metadata": {},
   "outputs": [
    {
     "name": "stdout",
     "output_type": "stream",
     "text": [
      "Enter the first number7\n",
      "Enter the second number0\n",
      "Something went wrong!! Please try again\n",
      "Thank you for your time!!\n"
     ]
    }
   ],
   "source": [
    "try:\n",
    "    num1 = int(input(\"Enter the first number\"))\n",
    "    num2 = int(input(\"Enter the second number\"))\n",
    "\n",
    "    print(num1 / num2)\n",
    "\n",
    "except:\n",
    "    print(\"Something went wrong!! Please try again\")\n",
    "    \n",
    "print(\"Thank you for your time!!\")"
   ]
  },
  {
   "cell_type": "code",
   "execution_count": 19,
   "id": "354cfc56",
   "metadata": {},
   "outputs": [
    {
     "name": "stdout",
     "output_type": "stream",
     "text": [
      "Enter the first number5\n",
      "Enter the second number0\n",
      "Something went wrong!! Please try again\n"
     ]
    }
   ],
   "source": [
    "try:\n",
    "    num1 = int(input(\"Enter the first number\"))\n",
    "    num2 = int(input(\"Enter the second number\"))\n",
    "\n",
    "    print(num1 / num2)\n",
    "    \n",
    "except:\n",
    "    print(\"Something went wrong!! Please try again\")\n",
    "    \n",
    "print(\"Thank you for your time!!\")"
   ]
  },
  {
   "cell_type": "code",
   "execution_count": null,
   "id": "5f2a90b1",
   "metadata": {},
   "outputs": [],
   "source": []
  },
  {
   "cell_type": "code",
   "execution_count": 24,
   "id": "07fcfad4",
   "metadata": {},
   "outputs": [
    {
     "name": "stdout",
     "output_type": "stream",
     "text": [
      "Enter the first number20\n",
      "Enter the second number10\n",
      "The fist number is  20\n",
      "The second number is 10\n",
      "Something went wrong!! Please try again\n",
      "Exception was:   unsupported operand type(s) for /: 'str' and 'str'\n",
      "Thank you for your time!!\n"
     ]
    }
   ],
   "source": [
    "try:\n",
    "    num1 = (input(\"Enter the first number\"))\n",
    "    num2 = (input(\"Enter the second number\"))\n",
    "    \n",
    "    print(\"The fist number is \", num1)\n",
    "    print(\"The second number is\", num2)\n",
    "    divide_result = (num1 / num2)\n",
    "    print(divide_result)\n",
    "    \n",
    "except Exception as e:\n",
    "    print(\"Something went wrong!! Please try again\")\n",
    "    print(\"Exception was:  \", e)\n",
    "    \n",
    "print(\"Thank you for your time!!\")"
   ]
  },
  {
   "cell_type": "code",
   "execution_count": 40,
   "id": "ca67490e",
   "metadata": {},
   "outputs": [
    {
     "name": "stdout",
     "output_type": "stream",
     "text": [
      "Enter your name10\n",
      "10\n",
      "Enter the first number190\n",
      "Enter the second number10\n",
      "The fist number is  190\n",
      "The second number is 10\n",
      "Something went wrong!! Please try again\n",
      "Exception was:   unsupported operand type(s) for /: 'str' and 'str'\n",
      "Type of error:  TypeError\n",
      "Thank you for your time!!\n"
     ]
    }
   ],
   "source": [
    "try:\n",
    "    name = input(\"Enter your name\")\n",
    "    \n",
    "    print(name)\n",
    "    \n",
    "    num1 = (input(\"Enter the first number\"))\n",
    "    num2 = (input(\"Enter the second number\"))\n",
    "    \n",
    "    print(\"The fist number is \", num1)\n",
    "    print(\"The second number is\", num2)\n",
    "    divide_result = (num1 / num2)\n",
    "    print(divide_result)\n",
    "\n",
    "except TypeError:\n",
    "    print(\"*\"*100)\n",
    "    print(\"There was problem in the execution. Sorry!!\")\n",
    "    print(\"*\"*100)\n",
    "\n",
    "except ZeroDivisionError:  # catching specific of exception\n",
    "    print(\"*\"*100)\n",
    "    print(\"You are trying to divide by zero. Please check your input!!\")\n",
    "    print(\"*\"*100)\n",
    "    \n",
    "except ValueError:  # catching specific of exception\n",
    "    print(\"*\"*100)\n",
    "    print(\"There was some issue in converting your input to a number. Please enter a integer!\")\n",
    "    print(\"*\"*100)\n",
    "    \n",
    "    \n",
    "except Exception as e:\n",
    "    print(\"Something went wrong!! Please try again\")\n",
    "    print(\"Exception was:  \", e)\n",
    "    print(\"Type of error: \", type(e).__name__)\n",
    "print(\"Thank you for your time!!\")"
   ]
  },
  {
   "cell_type": "code",
   "execution_count": null,
   "id": "a0cf35e3",
   "metadata": {},
   "outputs": [],
   "source": []
  },
  {
   "cell_type": "markdown",
   "id": "9219662e",
   "metadata": {},
   "source": [
    "## finally and else"
   ]
  },
  {
   "cell_type": "code",
   "execution_count": 52,
   "id": "78796e1a",
   "metadata": {},
   "outputs": [],
   "source": [
    "file =\"logs.txt\""
   ]
  },
  {
   "cell_type": "code",
   "execution_count": 57,
   "id": "641e7142",
   "metadata": {},
   "outputs": [
    {
     "name": "stdout",
     "output_type": "stream",
     "text": [
      "Enter your name: Radheshyam\n",
      "Enter the first number: 10\n",
      "Enter the second number: 0.5\n",
      "Something went wrong\n",
      "file is closed!!!\n"
     ]
    }
   ],
   "source": [
    "try:\n",
    "    f = open(file,\"a\")\n",
    "    \n",
    "    name = input(\"Enter your name: \") \n",
    "    num1 = int(input(\"Enter the first number: \"))\n",
    "    num2 = int(input(\"Enter the second number: \"))\n",
    "    \n",
    "    result = num1 / num2\n",
    "    f.write(f\"\\nName: {name} | ({num1}, {num2}) | Result: {result} \")\n",
    "\n",
    "except Exception as e:\n",
    "    print(\"Something went wrong\")\n",
    "    result = \"ERROR!!\"  \n",
    "    f.write(f\"\\nName: {name} | ({num1}, {num2}) | Result: {result} \")\n",
    "    \n",
    "\n",
    "else:\n",
    "    ## executed when there was no exception raised  in the try block\n",
    "    print(\"CALCULATION SUCCESS!!\")\n",
    "    all_transactions = f.read()\n",
    "    print(all_transactions)\n",
    "    print(\"*\"*50)\n",
    "\n",
    "finally:\n",
    "    ## will be executed regardless of whether was error or no error\n",
    "    f.close()\n",
    "    print(\"file is closed!!!\")"
   ]
  },
  {
   "cell_type": "code",
   "execution_count": null,
   "id": "d5f4536b",
   "metadata": {},
   "outputs": [],
   "source": []
  },
  {
   "cell_type": "code",
   "execution_count": 59,
   "id": "9760f91b",
   "metadata": {},
   "outputs": [
    {
     "ename": "IndentationError",
     "evalue": "unexpected indent (2628145926.py, line 4)",
     "output_type": "error",
     "traceback": [
      "\u001b[0;36m  Cell \u001b[0;32mIn[59], line 4\u001b[0;36m\u001b[0m\n\u001b[0;31m    name = input(\"Enter your name: \")\u001b[0m\n\u001b[0m    ^\u001b[0m\n\u001b[0;31mIndentationError\u001b[0m\u001b[0;31m:\u001b[0m unexpected indent\n"
     ]
    }
   ],
   "source": [
    "try:\n",
    "    f = open(file,\"a\")\n",
    "    \n",
    "    name = input(\"Enter your name: \")\n",
    "    num1 = int(input(\"Enter the first number: \"))\n",
    "    num2 = int(input(\"Enter the second number: \"))\n",
    "    \n",
    "    result = num1 / num2\n",
    "    f.write(f\"\\nName: {name} | ({num1}, {num2}) | Result: {result} \")\n",
    "\n",
    "except Exception as e:\n",
    "    print(\"Something went wrong\")\n",
    "    result = \"ERROR!!\"  \n",
    "    f.write(f\"\\nName: {name} | ({num1}, {num2}) | Result: {result} \")\n",
    "    \n",
    "\n",
    "else:\n",
    "    ## executed when there was no exception raised  in the try block\n",
    "    print(\"CALCULATION SUCCESS!!\")\n",
    "    all_transactions = f.read()\n",
    "    print(all_transactions)\n",
    "    print(\"*\"*50)\n",
    "\n",
    "finally:\n",
    "    ## will be executed regardless of whether was error or no error\n",
    "    f.close()\n",
    "    print(\"file is closed!!!\")"
   ]
  },
  {
   "cell_type": "code",
   "execution_count": null,
   "id": "52277904",
   "metadata": {},
   "outputs": [],
   "source": []
  },
  {
   "cell_type": "code",
   "execution_count": null,
   "id": "d6a72b24",
   "metadata": {},
   "outputs": [],
   "source": []
  },
  {
   "cell_type": "markdown",
   "id": "77a14f9a",
   "metadata": {},
   "source": [
    "**In a UPI payment system, the user must enter a **6-digit PIN**. If the entered PIN is invalid (not a 6-digit integer), raise a `ValueError` and prompt the user to try again.**"
   ]
  },
  {
   "cell_type": "code",
   "execution_count": 63,
   "id": "8e2d2036",
   "metadata": {},
   "outputs": [],
   "source": [
    "correct_pin = '123456'"
   ]
  },
  {
   "cell_type": "code",
   "execution_count": 67,
   "id": "30e58e35",
   "metadata": {},
   "outputs": [],
   "source": [
    "import datetime\n",
    "\n",
    "\n"
   ]
  },
  {
   "cell_type": "code",
   "execution_count": 69,
   "id": "226e8776",
   "metadata": {},
   "outputs": [
    {
     "data": {
      "text/plain": [
       "'2024-10-29 19:51:34.317617'"
      ]
     },
     "execution_count": 69,
     "metadata": {},
     "output_type": "execute_result"
    }
   ],
   "source": [
    "str(datetime.datetime.now())"
   ]
  },
  {
   "cell_type": "code",
   "execution_count": 74,
   "id": "7cb7f4da",
   "metadata": {},
   "outputs": [],
   "source": [
    "def log_error(message):\n",
    "    with open(\"pin_logs.txt\", \"a\") as f:\n",
    "        f.write(f\"\\n{str(datetime.datetime.now())}:  {message}\")"
   ]
  },
  {
   "cell_type": "code",
   "execution_count": 79,
   "id": "30223c64",
   "metadata": {},
   "outputs": [
    {
     "name": "stdout",
     "output_type": "stream",
     "text": [
      "Enter the nameRam\n",
      "Enter the pin: 123456\n",
      "Ram You entered the correct pin \n"
     ]
    }
   ],
   "source": [
    "name = input(\"Enter the name\")\n",
    "while True:\n",
    "    \n",
    "    try:\n",
    "        pin = input(\"Enter the pin: \" )\n",
    "\n",
    "        if pin == correct_pin:\n",
    "            message = \"You are logged in !!\"\n",
    "            message = f\"{name} You entered the correct pin \"\n",
    "            log_error(message)\n",
    "            break\n",
    "\n",
    "        elif len(pin) != 6:\n",
    "            message = f\"{name} You have entered invalid pin. Pin should have 6 digits.\"\n",
    "            log_error(message)\n",
    "            raise ValueError(message)\n",
    "        else:\n",
    "            message = f\"{name} You entered an incorrect pin. Please try again!!!\"\n",
    "            log_error(message)\n",
    "#             print(\"You entered an incorrect pin. Please try again!!!\")\n",
    "    \n",
    "    except Exception as e:\n",
    "        message = f\"{name} You entered an invalid pin\"\n",
    "        log_error(message)\n",
    "#         print(message)\n",
    "        \n",
    "    finally:\n",
    "        print(message)\n",
    "        pass\n",
    "        \n",
    "        \n",
    "        "
   ]
  },
  {
   "cell_type": "code",
   "execution_count": null,
   "id": "a968c0fd",
   "metadata": {},
   "outputs": [],
   "source": []
  },
  {
   "cell_type": "code",
   "execution_count": null,
   "id": "2375fa53",
   "metadata": {},
   "outputs": [],
   "source": []
  },
  {
   "cell_type": "markdown",
   "id": "971d639a",
   "metadata": {},
   "source": [
    "**In an online shopping cart, the user enters the quantity of an item. If the input is not a number, a `ValueError` should be raised. If the quantity exceeds available stock, the program should raise an exception with a message \"Out of stock.\"**"
   ]
  },
  {
   "cell_type": "code",
   "execution_count": 85,
   "id": "8432b896",
   "metadata": {},
   "outputs": [
    {
     "name": "stdout",
     "output_type": "stream",
     "text": [
      "Enter the quantityapple\n",
      "You entered an invalid entry!!\n"
     ]
    }
   ],
   "source": [
    "stock = 10\n",
    "\n",
    "try:\n",
    "    qty = int(input(\"Enter the quantity\"))\n",
    "    if qty > stock:\n",
    "        raise Exception(\"OUT OF STOCK!!\")\n",
    "    \n",
    "except ValueError as e:\n",
    "     print(\"You entered an invalid entry!!\")\n",
    "\n",
    "except Exception as e:\n",
    "    print(\"Something went wrong!! \", e)\n",
    "\n",
    "else:\n",
    "    print(f\"ADDED TO CART: QTY = {qty}\")\n",
    "\n",
    "\n",
    "    "
   ]
  },
  {
   "cell_type": "code",
   "execution_count": 91,
   "id": "65b6a67c",
   "metadata": {},
   "outputs": [
    {
     "name": "stdout",
     "output_type": "stream",
     "text": [
      "Enter the quantity9.8\n",
      "You entered an invalid entry!!\n"
     ]
    }
   ],
   "source": [
    "def add_to_cart(stock):\n",
    "\n",
    "    try:\n",
    "        qty = int(input(\"Enter the quantity\"))\n",
    "        if qty > stock:\n",
    "            raise Exception(\"OUT OF STOCK!!\")\n",
    "\n",
    "    except ValueError as e:\n",
    "         print(\"You entered an invalid entry!!\")\n",
    "\n",
    "    except Exception as e:\n",
    "        print(\"Something went wrong!! \", e)\n",
    "\n",
    "    else:\n",
    "        print(f\"ADDED TO CART: QTY = {qty}\")\n",
    "\n",
    "\n",
    "add_to_cart(10)\n"
   ]
  },
  {
   "cell_type": "code",
   "execution_count": null,
   "id": "98313dde",
   "metadata": {},
   "outputs": [],
   "source": []
  },
  {
   "cell_type": "markdown",
   "id": "ad508909",
   "metadata": {},
   "source": [
    "**Build a UPI payment system where the user provides an amount to transfer and the recipient UPI ID. If the input amount is not numeric, it should raise a `ValueError`. If the UPI ID is not found in the system's database, it should raise a `KeyError`.**\n",
    "\n",
    "```python\n",
    "upi_database = {\"rohan@upi\": 15000, \"mohan@upi\": 30000}\n",
    "```"
   ]
  },
  {
   "cell_type": "code",
   "execution_count": 92,
   "id": "8b5fde4b",
   "metadata": {},
   "outputs": [],
   "source": [
    "upi_database = {\"rohan@upi\": 15000, \"mohan@upi\": 30000}"
   ]
  },
  {
   "cell_type": "code",
   "execution_count": 95,
   "id": "1301c293",
   "metadata": {},
   "outputs": [
    {
     "name": "stdout",
     "output_type": "stream",
     "text": [
      "Enter the UPI idrohan@upi\n",
      "Enter the amountapple\n",
      "Invalid Entry: Please enter a valid number\n"
     ]
    }
   ],
   "source": [
    "def process_payment(upi_database):\n",
    "    try:\n",
    "        upi_id = input(\"Enter the UPI id\")\n",
    "\n",
    "        amount = int(input(\"Enter the amount\"))\n",
    "        \n",
    "        if upi_id not in upi_database:\n",
    "            raise KeyError(f\"USER {upi_id}  NOT FOUND IN THE DATABASE\")\n",
    "        \n",
    "        \n",
    "    \n",
    "    except ValueError as e:\n",
    "        print(\"Invalid Entry: Please enter a valid number\"   )\n",
    "        \n",
    "    except KeyError as e:\n",
    "        print(e )\n",
    "       \n",
    "    except Exception as e:\n",
    "        print(e)\n",
    "        \n",
    "        \n",
    "    else:\n",
    "        print(\"Transaction was successful!!\")\n",
    "    \n",
    "    \n",
    "process_payment(upi_database)    "
   ]
  },
  {
   "cell_type": "code",
   "execution_count": null,
   "id": "ce3620f4",
   "metadata": {},
   "outputs": [],
   "source": []
  },
  {
   "cell_type": "code",
   "execution_count": null,
   "id": "2042d94f",
   "metadata": {},
   "outputs": [],
   "source": []
  },
  {
   "cell_type": "code",
   "execution_count": null,
   "id": "92472044",
   "metadata": {},
   "outputs": [],
   "source": []
  },
  {
   "cell_type": "code",
   "execution_count": null,
   "id": "5b775139",
   "metadata": {},
   "outputs": [],
   "source": []
  },
  {
   "cell_type": "markdown",
   "id": "66ae71b5",
   "metadata": {},
   "source": [
    "**Write a program for a mobile recharge system. It asks for the user's mobile number and recharge amount. Handle the following exceptions:**\n",
    "- `ValueError` if the input is not numeric.\n",
    "- Raise `ValueError` if the mobile number is not 10 digits long."
   ]
  },
  {
   "cell_type": "code",
   "execution_count": null,
   "id": "e0d4b98a",
   "metadata": {},
   "outputs": [],
   "source": []
  },
  {
   "cell_type": "code",
   "execution_count": null,
   "id": "900e8e6a",
   "metadata": {},
   "outputs": [],
   "source": []
  },
  {
   "cell_type": "code",
   "execution_count": null,
   "id": "4061fd2b",
   "metadata": {},
   "outputs": [],
   "source": []
  },
  {
   "cell_type": "code",
   "execution_count": null,
   "id": "584eec21",
   "metadata": {},
   "outputs": [],
   "source": []
  },
  {
   "cell_type": "code",
   "execution_count": null,
   "id": "bd916d78",
   "metadata": {},
   "outputs": [],
   "source": []
  },
  {
   "cell_type": "code",
   "execution_count": null,
   "id": "e8f4a843",
   "metadata": {},
   "outputs": [],
   "source": []
  },
  {
   "cell_type": "code",
   "execution_count": null,
   "id": "7bd6d174",
   "metadata": {},
   "outputs": [],
   "source": []
  },
  {
   "cell_type": "code",
   "execution_count": null,
   "id": "d3aff1bb",
   "metadata": {},
   "outputs": [],
   "source": []
  },
  {
   "cell_type": "code",
   "execution_count": null,
   "id": "2d46b53e",
   "metadata": {},
   "outputs": [],
   "source": []
  },
  {
   "cell_type": "code",
   "execution_count": null,
   "id": "b709089c",
   "metadata": {},
   "outputs": [],
   "source": []
  },
  {
   "cell_type": "code",
   "execution_count": null,
   "id": "232888bb",
   "metadata": {},
   "outputs": [],
   "source": []
  },
  {
   "cell_type": "code",
   "execution_count": null,
   "id": "24184685",
   "metadata": {},
   "outputs": [],
   "source": []
  },
  {
   "cell_type": "code",
   "execution_count": null,
   "id": "4edcb4db",
   "metadata": {},
   "outputs": [],
   "source": []
  },
  {
   "cell_type": "code",
   "execution_count": null,
   "id": "b657ee44",
   "metadata": {},
   "outputs": [],
   "source": []
  },
  {
   "cell_type": "code",
   "execution_count": null,
   "id": "f3d6d473",
   "metadata": {},
   "outputs": [],
   "source": []
  },
  {
   "cell_type": "code",
   "execution_count": null,
   "id": "d0112b75",
   "metadata": {},
   "outputs": [],
   "source": []
  },
  {
   "cell_type": "code",
   "execution_count": null,
   "id": "5a12e4e4",
   "metadata": {},
   "outputs": [],
   "source": []
  },
  {
   "cell_type": "code",
   "execution_count": null,
   "id": "f643e631",
   "metadata": {},
   "outputs": [],
   "source": []
  },
  {
   "cell_type": "code",
   "execution_count": null,
   "id": "89f452ba",
   "metadata": {},
   "outputs": [],
   "source": []
  }
 ],
 "metadata": {
  "kernelspec": {
   "display_name": "Python 3 (ipykernel)",
   "language": "python",
   "name": "python3"
  },
  "language_info": {
   "codemirror_mode": {
    "name": "ipython",
    "version": 3
   },
   "file_extension": ".py",
   "mimetype": "text/x-python",
   "name": "python",
   "nbconvert_exporter": "python",
   "pygments_lexer": "ipython3",
   "version": "3.10.8"
  }
 },
 "nbformat": 4,
 "nbformat_minor": 5
}
