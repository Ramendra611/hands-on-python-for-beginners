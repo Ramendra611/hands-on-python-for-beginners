{
 "cells": [
  {
   "cell_type": "markdown",
   "id": "28aa12ee",
   "metadata": {},
   "source": [
    "**Given a list of number find the sum of the all the numbers in the list**"
   ]
  },
  {
   "cell_type": "code",
   "execution_count": 1,
   "id": "a7060f58",
   "metadata": {},
   "outputs": [
    {
     "data": {
      "text/plain": [
       "15"
      ]
     },
     "execution_count": 1,
     "metadata": {},
     "output_type": "execute_result"
    }
   ],
   "source": [
    "nums = [1, 2, 3, 4, 5]\n",
    "\n",
    "sum_of_numbers = 0\n",
    "for num in nums:\n",
    "    sum_of_numbers += num\n",
    "    \n",
    "sum_of_numbers"
   ]
  },
  {
   "cell_type": "code",
   "execution_count": 3,
   "id": "32f46e00",
   "metadata": {},
   "outputs": [],
   "source": [
    "nums2 = [11, 21, 33, 14, 51]"
   ]
  },
  {
   "cell_type": "code",
   "execution_count": 2,
   "id": "b2628759",
   "metadata": {},
   "outputs": [
    {
     "data": {
      "text/plain": [
       "15"
      ]
     },
     "execution_count": 2,
     "metadata": {},
     "output_type": "execute_result"
    }
   ],
   "source": [
    "sum(nums)"
   ]
  },
  {
   "cell_type": "code",
   "execution_count": 4,
   "id": "7d225a6f",
   "metadata": {},
   "outputs": [
    {
     "data": {
      "text/plain": [
       "130"
      ]
     },
     "execution_count": 4,
     "metadata": {},
     "output_type": "execute_result"
    }
   ],
   "source": [
    "sum(nums2)"
   ]
  },
  {
   "cell_type": "markdown",
   "id": "4df989be",
   "metadata": {},
   "source": [
    "A **function** is a block of organized, reusable code that performs a specific task. \n",
    "Functions help to:\n",
    "- reduce code redundancy\n",
    "- enhance readability\n",
    "- maintain modularity."
   ]
  },
  {
   "cell_type": "markdown",
   "id": "6369bd54",
   "metadata": {},
   "source": [
    "    - In built functions\n",
    "        - sum\n",
    "        - zip\n",
    "        - enumerate\n",
    "        - print\n",
    "        - sqrt\n",
    "        \n",
    "    -  User Defined Functions\n",
    "        "
   ]
  },
  {
   "cell_type": "markdown",
   "id": "a36c5319",
   "metadata": {},
   "source": [
    "## Built in function in Python"
   ]
  },
  {
   "cell_type": "code",
   "execution_count": 5,
   "id": "ffc8ad56",
   "metadata": {},
   "outputs": [
    {
     "data": {
      "text/plain": [
       "[1, 2, 3, 4, 5]"
      ]
     },
     "execution_count": 5,
     "metadata": {},
     "output_type": "execute_result"
    }
   ],
   "source": [
    "nums"
   ]
  },
  {
   "cell_type": "code",
   "execution_count": 10,
   "id": "f14352e3",
   "metadata": {},
   "outputs": [
    {
     "data": {
      "text/plain": [
       "5"
      ]
     },
     "execution_count": 10,
     "metadata": {},
     "output_type": "execute_result"
    }
   ],
   "source": [
    "length_of_nums = len(nums)\n",
    "length_of_nums"
   ]
  },
  {
   "cell_type": "code",
   "execution_count": 7,
   "id": "b5e98a9d",
   "metadata": {},
   "outputs": [
    {
     "name": "stdout",
     "output_type": "stream",
     "text": [
      "[1, 2, 3, 4, 5]\n"
     ]
    }
   ],
   "source": [
    "print(nums)"
   ]
  },
  {
   "cell_type": "code",
   "execution_count": 8,
   "id": "f66efbc1",
   "metadata": {},
   "outputs": [
    {
     "name": "stdout",
     "output_type": "stream",
     "text": [
      "hello\n"
     ]
    }
   ],
   "source": [
    "print(\"hello\")"
   ]
  },
  {
   "cell_type": "code",
   "execution_count": 9,
   "id": "c27c6adf",
   "metadata": {},
   "outputs": [
    {
     "name": "stdout",
     "output_type": "stream",
     "text": [
      "Enter your nameRam\n",
      "Ram\n"
     ]
    }
   ],
   "source": [
    "name = input(\"Enter your name\")\n",
    "print(name)"
   ]
  },
  {
   "cell_type": "code",
   "execution_count": 11,
   "id": "bca205ab",
   "metadata": {},
   "outputs": [
    {
     "data": {
      "text/plain": [
       "6"
      ]
     },
     "execution_count": 11,
     "metadata": {},
     "output_type": "execute_result"
    }
   ],
   "source": [
    "sum([1, 2, 3])"
   ]
  },
  {
   "cell_type": "code",
   "execution_count": 13,
   "id": "f447de5f",
   "metadata": {},
   "outputs": [
    {
     "data": {
      "text/plain": [
       "63"
      ]
     },
     "execution_count": 13,
     "metadata": {},
     "output_type": "execute_result"
    }
   ],
   "source": [
    "sum((10, 21, 32))"
   ]
  },
  {
   "cell_type": "code",
   "execution_count": 14,
   "id": "5deeaf94",
   "metadata": {},
   "outputs": [
    {
     "data": {
      "text/plain": [
       "[1, 2, 3, 4, 5]"
      ]
     },
     "execution_count": 14,
     "metadata": {},
     "output_type": "execute_result"
    }
   ],
   "source": [
    "nums"
   ]
  },
  {
   "cell_type": "code",
   "execution_count": 15,
   "id": "9c2f8b67",
   "metadata": {},
   "outputs": [
    {
     "data": {
      "text/plain": [
       "5"
      ]
     },
     "execution_count": 15,
     "metadata": {},
     "output_type": "execute_result"
    }
   ],
   "source": [
    "max(nums)"
   ]
  },
  {
   "cell_type": "code",
   "execution_count": 16,
   "id": "d9d0f70c",
   "metadata": {},
   "outputs": [
    {
     "data": {
      "text/plain": [
       "1"
      ]
     },
     "execution_count": 16,
     "metadata": {},
     "output_type": "execute_result"
    }
   ],
   "source": [
    "min(nums)"
   ]
  },
  {
   "cell_type": "code",
   "execution_count": 17,
   "id": "f215f41a",
   "metadata": {},
   "outputs": [
    {
     "data": {
      "text/plain": [
       "[1, 2, 3, 4, 5]"
      ]
     },
     "execution_count": 17,
     "metadata": {},
     "output_type": "execute_result"
    }
   ],
   "source": [
    "sorted(nums) ## nums here is a argument "
   ]
  },
  {
   "cell_type": "code",
   "execution_count": 18,
   "id": "bf7ef35a",
   "metadata": {},
   "outputs": [
    {
     "data": {
      "text/plain": [
       "list"
      ]
     },
     "execution_count": 18,
     "metadata": {},
     "output_type": "execute_result"
    }
   ],
   "source": [
    "type(nums)"
   ]
  },
  {
   "cell_type": "code",
   "execution_count": 21,
   "id": "c34f1d3b",
   "metadata": {},
   "outputs": [
    {
     "name": "stdout",
     "output_type": "stream",
     "text": [
      "[1, 2, 3, 4, 5, 6, 7, 8, 9]\n"
     ]
    }
   ],
   "source": [
    "print(list(range(1, 10)))"
   ]
  },
  {
   "cell_type": "code",
   "execution_count": null,
   "id": "d63628ba",
   "metadata": {},
   "outputs": [],
   "source": [
    "range()"
   ]
  },
  {
   "cell_type": "code",
   "execution_count": null,
   "id": "6ac670d1",
   "metadata": {},
   "outputs": [],
   "source": []
  },
  {
   "cell_type": "markdown",
   "id": "86a8e3df",
   "metadata": {},
   "source": [
    "## User Defined Functions\n",
    "    - Defining the function\n",
    "    - Calling the function ( use the function )"
   ]
  },
  {
   "cell_type": "code",
   "execution_count": null,
   "id": "25535a3c",
   "metadata": {},
   "outputs": [],
   "source": []
  },
  {
   "cell_type": "code",
   "execution_count": null,
   "id": "f58c13c0",
   "metadata": {},
   "outputs": [],
   "source": [
    "nums = [1, 2, 3, 4, 5]\n",
    "\n",
    "sum_of_numbers = 0\n",
    "for num in nums:\n",
    "    sum_of_numbers += num\n",
    "    \n",
    "sum_of_numbers"
   ]
  },
  {
   "cell_type": "code",
   "execution_count": 22,
   "id": "f502a26d",
   "metadata": {},
   "outputs": [
    {
     "name": "stdout",
     "output_type": "stream",
     "text": [
      "15\n"
     ]
    }
   ],
   "source": [
    "num1 = 5\n",
    "num2 = 10\n",
    "\n",
    "sum_of_nums = num1 + num2 \n",
    "print(sum_of_nums)"
   ]
  },
  {
   "cell_type": "code",
   "execution_count": 31,
   "id": "eb2c8d82",
   "metadata": {},
   "outputs": [],
   "source": [
    "# defining the function\n",
    "def add(x, y): # x and y are called parameters of the function\n",
    "    z = x + y\n",
    "    print(z)\n",
    "    \n",
    "def greet(name):\n",
    "    print(f\"Hello {name}. How are you??\")\n",
    "    \n",
    "    "
   ]
  },
  {
   "cell_type": "code",
   "execution_count": 30,
   "id": "35301a11",
   "metadata": {},
   "outputs": [
    {
     "name": "stdout",
     "output_type": "stream",
     "text": [
      "85\n"
     ]
    }
   ],
   "source": [
    "# calling the function\n",
    "add(15, 70) # 5 and 10 are called arguments to the function"
   ]
  },
  {
   "cell_type": "code",
   "execution_count": 32,
   "id": "2154a3c5",
   "metadata": {},
   "outputs": [
    {
     "name": "stdout",
     "output_type": "stream",
     "text": [
      "Hello Mr. Sharma. How are you??\n"
     ]
    }
   ],
   "source": [
    "greet(\"Mr. Sharma\")"
   ]
  },
  {
   "cell_type": "code",
   "execution_count": null,
   "id": "7cd2d1cf",
   "metadata": {},
   "outputs": [],
   "source": []
  },
  {
   "cell_type": "code",
   "execution_count": null,
   "id": "fa67b887",
   "metadata": {},
   "outputs": [],
   "source": [
    "nums = [1, 2, 3, 4, 5]\n",
    "\n",
    "sum_of_numbers = 0\n",
    "for num in nums:\n",
    "    sum_of_numbers += num\n",
    "    \n",
    "sum_of_numbers"
   ]
  },
  {
   "cell_type": "code",
   "execution_count": 48,
   "id": "e7324500",
   "metadata": {},
   "outputs": [],
   "source": [
    "def get_sum_of_list(list_of_numbers):\n",
    "    sum_of_numbers = 0\n",
    "    for num in list_of_numbers:\n",
    "        sum_of_numbers += num\n",
    "#     print(f\"The sum is:  {sum_of_numbers}\")\n",
    "    \n",
    "    return sum_of_numbers\n",
    "    "
   ]
  },
  {
   "cell_type": "code",
   "execution_count": 35,
   "id": "a783536c",
   "metadata": {},
   "outputs": [
    {
     "name": "stdout",
     "output_type": "stream",
     "text": [
      "The sum is:  19\n"
     ]
    }
   ],
   "source": [
    "get_sum_of_list([4, 5, 10])"
   ]
  },
  {
   "cell_type": "code",
   "execution_count": 38,
   "id": "516b705c",
   "metadata": {},
   "outputs": [
    {
     "data": {
      "text/plain": [
       "19"
      ]
     },
     "execution_count": 38,
     "metadata": {},
     "output_type": "execute_result"
    }
   ],
   "source": [
    "x = sum([4, 5, 10])\n",
    "x"
   ]
  },
  {
   "cell_type": "code",
   "execution_count": 43,
   "id": "4054a26f",
   "metadata": {},
   "outputs": [
    {
     "name": "stdout",
     "output_type": "stream",
     "text": [
      "The sum is:  19\n"
     ]
    }
   ],
   "source": [
    "y = get_sum_of_list([4, 5, 10])"
   ]
  },
  {
   "cell_type": "code",
   "execution_count": 41,
   "id": "9b61a445",
   "metadata": {},
   "outputs": [
    {
     "data": {
      "text/plain": [
       "19"
      ]
     },
     "execution_count": 41,
     "metadata": {},
     "output_type": "execute_result"
    }
   ],
   "source": [
    "x"
   ]
  },
  {
   "cell_type": "code",
   "execution_count": 45,
   "id": "19774cf2",
   "metadata": {},
   "outputs": [
    {
     "data": {
      "text/plain": [
       "True"
      ]
     },
     "execution_count": 45,
     "metadata": {},
     "output_type": "execute_result"
    }
   ],
   "source": [
    "y == 19"
   ]
  },
  {
   "cell_type": "code",
   "execution_count": 51,
   "id": "108921dd",
   "metadata": {},
   "outputs": [],
   "source": [
    "a = get_sum_of_list((11, 2, 3))"
   ]
  },
  {
   "cell_type": "code",
   "execution_count": 52,
   "id": "feba6d53",
   "metadata": {},
   "outputs": [
    {
     "data": {
      "text/plain": [
       "16"
      ]
     },
     "execution_count": 52,
     "metadata": {},
     "output_type": "execute_result"
    }
   ],
   "source": [
    "a"
   ]
  },
  {
   "cell_type": "markdown",
   "id": "da08b7c6",
   "metadata": {},
   "source": [
    "**Write a function to print the multiplication table of any given number**"
   ]
  },
  {
   "cell_type": "code",
   "execution_count": 55,
   "id": "661173d2",
   "metadata": {},
   "outputs": [
    {
     "name": "stdout",
     "output_type": "stream",
     "text": [
      "5 X 0  = 0\n",
      "5 X 1  = 5\n",
      "5 X 2  = 10\n",
      "5 X 3  = 15\n",
      "5 X 4  = 20\n",
      "5 X 5  = 25\n",
      "5 X 6  = 30\n",
      "5 X 7  = 35\n",
      "5 X 8  = 40\n",
      "5 X 9  = 45\n",
      "5 X 10  = 50\n"
     ]
    }
   ],
   "source": [
    "num = 5\n",
    "\n",
    "for i in range(11):\n",
    "    print(f\"5 X {i}  = {5*i}\")"
   ]
  },
  {
   "cell_type": "code",
   "execution_count": 56,
   "id": "2cced043",
   "metadata": {},
   "outputs": [],
   "source": [
    "def get_multiplication_table(number):\n",
    "    \n",
    "    for i in range(11):\n",
    "        print(f\"{number} X {i}  = {number*i}\")"
   ]
  },
  {
   "cell_type": "code",
   "execution_count": 57,
   "id": "068b044a",
   "metadata": {},
   "outputs": [
    {
     "name": "stdout",
     "output_type": "stream",
     "text": [
      "9 X 0  = 0\n",
      "9 X 1  = 9\n",
      "9 X 2  = 18\n",
      "9 X 3  = 27\n",
      "9 X 4  = 36\n",
      "9 X 5  = 45\n",
      "9 X 6  = 54\n",
      "9 X 7  = 63\n",
      "9 X 8  = 72\n",
      "9 X 9  = 81\n",
      "9 X 10  = 90\n"
     ]
    }
   ],
   "source": [
    "get_multiplication_table(9)"
   ]
  },
  {
   "cell_type": "code",
   "execution_count": 58,
   "id": "1a770040",
   "metadata": {},
   "outputs": [
    {
     "name": "stdout",
     "output_type": "stream",
     "text": [
      "17 X 0  = 0\n",
      "17 X 1  = 17\n",
      "17 X 2  = 34\n",
      "17 X 3  = 51\n",
      "17 X 4  = 68\n",
      "17 X 5  = 85\n",
      "17 X 6  = 102\n",
      "17 X 7  = 119\n",
      "17 X 8  = 136\n",
      "17 X 9  = 153\n",
      "17 X 10  = 170\n"
     ]
    }
   ],
   "source": [
    "get_multiplication_table(17)"
   ]
  },
  {
   "cell_type": "code",
   "execution_count": 62,
   "id": "230e646a",
   "metadata": {},
   "outputs": [],
   "source": [
    "def get_multiplication_table(number, count = 11):\n",
    "    \n",
    "    for i in range(count):\n",
    "        print(f\"{number} X {i}  = {number*i}\")"
   ]
  },
  {
   "cell_type": "code",
   "execution_count": 67,
   "id": "3cc5c252",
   "metadata": {},
   "outputs": [
    {
     "name": "stdout",
     "output_type": "stream",
     "text": [
      "12 X 0  = 0\n",
      "12 X 1  = 12\n",
      "12 X 2  = 24\n",
      "12 X 3  = 36\n",
      "12 X 4  = 48\n",
      "12 X 5  = 60\n",
      "12 X 6  = 72\n",
      "12 X 7  = 84\n",
      "12 X 8  = 96\n",
      "12 X 9  = 108\n",
      "12 X 10  = 120\n",
      "12 X 11  = 132\n",
      "12 X 12  = 144\n",
      "12 X 13  = 156\n",
      "12 X 14  = 168\n",
      "12 X 15  = 180\n",
      "12 X 16  = 192\n",
      "12 X 17  = 204\n",
      "12 X 18  = 216\n",
      "12 X 19  = 228\n"
     ]
    }
   ],
   "source": [
    "get_multiplication_table(12,  20)"
   ]
  },
  {
   "cell_type": "code",
   "execution_count": null,
   "id": "37b4ad64",
   "metadata": {},
   "outputs": [],
   "source": []
  },
  {
   "cell_type": "markdown",
   "id": "c23dddb7",
   "metadata": {},
   "source": [
    "# Functions Practice"
   ]
  },
  {
   "cell_type": "markdown",
   "id": "1b554f29",
   "metadata": {},
   "source": [
    "**Write a program that takes a list and an element as input and returns how many times the element appears in the list.**"
   ]
  },
  {
   "cell_type": "code",
   "execution_count": 74,
   "id": "63cc70af",
   "metadata": {},
   "outputs": [],
   "source": [
    "numbers = [5, 6, 7, 3, 4, 6, 7, 8, 1, 2, 5, 5]\n",
    "element = 5"
   ]
  },
  {
   "cell_type": "code",
   "execution_count": 75,
   "id": "5b0450c4",
   "metadata": {},
   "outputs": [
    {
     "name": "stdout",
     "output_type": "stream",
     "text": [
      "3\n"
     ]
    }
   ],
   "source": [
    "counter= 0\n",
    "for num in numbers:\n",
    "    if num == element:\n",
    "        counter += 1\n",
    "print(counter)"
   ]
  },
  {
   "cell_type": "code",
   "execution_count": 78,
   "id": "3a6adc58",
   "metadata": {},
   "outputs": [],
   "source": [
    "def count_occurences(list_of_numbers, element):\n",
    "    '''\n",
    "    This function takes a list of numbers and an element and return the number of occurences of the \n",
    "    element in the list. \n",
    "    \n",
    "    Params:\n",
    "        list_of_numbers -\n",
    "        element -\n",
    "    \n",
    "    Returns:\n",
    "        counter - \n",
    "    '''\n",
    "    counter= 0\n",
    "    for num in list_of_numbers:\n",
    "        if num == element:\n",
    "            counter += 1\n",
    "    return counter"
   ]
  },
  {
   "cell_type": "code",
   "execution_count": 80,
   "id": "9a016166",
   "metadata": {},
   "outputs": [
    {
     "data": {
      "text/plain": [
       "1"
      ]
     },
     "execution_count": 80,
     "metadata": {},
     "output_type": "execute_result"
    }
   ],
   "source": [
    "count_occurences(list_of_numbers=[1, 2, 3, 1, 1, 1], element=3)"
   ]
  },
  {
   "cell_type": "code",
   "execution_count": null,
   "id": "f609bbc0",
   "metadata": {},
   "outputs": [],
   "source": []
  },
  {
   "cell_type": "markdown",
   "id": "d09cd171",
   "metadata": {},
   "source": [
    "**Write a function that takes two lists and returns a new list with elements that are common to both.**"
   ]
  },
  {
   "cell_type": "code",
   "execution_count": 83,
   "id": "a39e955a",
   "metadata": {},
   "outputs": [],
   "source": [
    "list1 = [1, 2,3 , 4, 5]\n",
    "list2 = [ 4, 5, 6, 7, 8]\n",
    "\n",
    "# [4, 5]"
   ]
  },
  {
   "cell_type": "code",
   "execution_count": 86,
   "id": "ad798613",
   "metadata": {},
   "outputs": [],
   "source": [
    "def list_intersection(list1, list2):\n",
    "    intersection_list = []\n",
    "    for number in list1:\n",
    "        if number in list2:\n",
    "            intersection_list.append(number)\n",
    "            \n",
    "    return intersection_list"
   ]
  },
  {
   "cell_type": "code",
   "execution_count": 88,
   "id": "f871854d",
   "metadata": {},
   "outputs": [
    {
     "data": {
      "text/plain": [
       "[4, 5, 6, 7, 8]"
      ]
     },
     "execution_count": 88,
     "metadata": {},
     "output_type": "execute_result"
    }
   ],
   "source": [
    "list1 = [1, 2,3 , 4, 5, 6, 7, 8]\n",
    "list2 = [ 4, 5, 6, 7, 8, 6]\n",
    "\n",
    "list_intersection(list1=list1, list2= list2)"
   ]
  },
  {
   "cell_type": "code",
   "execution_count": 91,
   "id": "dcaa08f0",
   "metadata": {},
   "outputs": [],
   "source": [
    "def list_intersection(list1, list2):\n",
    "    intersection_list = set(list1).intersection(list2)\n",
    "            \n",
    "    return list(intersection_list)"
   ]
  },
  {
   "cell_type": "code",
   "execution_count": 92,
   "id": "6c031517",
   "metadata": {},
   "outputs": [
    {
     "data": {
      "text/plain": [
       "[4, 5, 6, 7, 8]"
      ]
     },
     "execution_count": 92,
     "metadata": {},
     "output_type": "execute_result"
    }
   ],
   "source": [
    "list_intersection(list1=list1, list2= list2)"
   ]
  },
  {
   "cell_type": "code",
   "execution_count": 95,
   "id": "dad88b74",
   "metadata": {},
   "outputs": [],
   "source": [
    "def list_intersection(list1, list2):\n",
    "    return list(set(list1).intersection(list2))"
   ]
  },
  {
   "cell_type": "code",
   "execution_count": 94,
   "id": "83f8fdca",
   "metadata": {},
   "outputs": [
    {
     "data": {
      "text/plain": [
       "{4, 5, 6, 7, 8}"
      ]
     },
     "execution_count": 94,
     "metadata": {},
     "output_type": "execute_result"
    }
   ],
   "source": [
    "list_intersection(list1=list1, list2= list2)"
   ]
  },
  {
   "cell_type": "code",
   "execution_count": 97,
   "id": "fad21f9a",
   "metadata": {},
   "outputs": [
    {
     "data": {
      "text/plain": [
       "[4, 5, 6, 7, 8]"
      ]
     },
     "execution_count": 97,
     "metadata": {},
     "output_type": "execute_result"
    }
   ],
   "source": [
    "def list_intersection(list1, list2):\n",
    "    return [number for number in list1 if number in list2]\n",
    "\n",
    "list_intersection(list1=list1, list2= list2)"
   ]
  },
  {
   "cell_type": "code",
   "execution_count": null,
   "id": "9a1f524a",
   "metadata": {},
   "outputs": [],
   "source": []
  },
  {
   "cell_type": "markdown",
   "id": "d5e7aced",
   "metadata": {},
   "source": [
    "**Write a function to reverse a given list without using the built-in `reverse()` method or slicing**"
   ]
  },
  {
   "cell_type": "code",
   "execution_count": 103,
   "id": "f2262e0b",
   "metadata": {},
   "outputs": [],
   "source": [
    "list1 = [5, 3, 8, 7]"
   ]
  },
  {
   "cell_type": "code",
   "execution_count": 100,
   "id": "8bb3ae2e",
   "metadata": {},
   "outputs": [],
   "source": [
    "list1.reverse()"
   ]
  },
  {
   "cell_type": "code",
   "execution_count": 101,
   "id": "11d33688",
   "metadata": {},
   "outputs": [
    {
     "data": {
      "text/plain": [
       "[7, 8, 3, 5]"
      ]
     },
     "execution_count": 101,
     "metadata": {},
     "output_type": "execute_result"
    }
   ],
   "source": [
    "list1"
   ]
  },
  {
   "cell_type": "code",
   "execution_count": 104,
   "id": "4f27625b",
   "metadata": {},
   "outputs": [
    {
     "data": {
      "text/plain": [
       "[7, 8, 3, 5]"
      ]
     },
     "execution_count": 104,
     "metadata": {},
     "output_type": "execute_result"
    }
   ],
   "source": [
    "list1[::-1]"
   ]
  },
  {
   "cell_type": "code",
   "execution_count": 114,
   "id": "2820fcae",
   "metadata": {},
   "outputs": [
    {
     "data": {
      "text/plain": [
       "[5, 3, 8, 7]"
      ]
     },
     "execution_count": 114,
     "metadata": {},
     "output_type": "execute_result"
    }
   ],
   "source": [
    "list1"
   ]
  },
  {
   "cell_type": "code",
   "execution_count": 120,
   "id": "fbdbc70f",
   "metadata": {},
   "outputs": [
    {
     "data": {
      "text/plain": [
       "[3, 2, 1, 0]"
      ]
     },
     "execution_count": 120,
     "metadata": {},
     "output_type": "execute_result"
    }
   ],
   "source": [
    "list(range(len(list1)-1, -1, -1))"
   ]
  },
  {
   "cell_type": "code",
   "execution_count": 124,
   "id": "bf404007",
   "metadata": {},
   "outputs": [
    {
     "data": {
      "text/plain": [
       "[7, 8, 3, 5]"
      ]
     },
     "execution_count": 124,
     "metadata": {},
     "output_type": "execute_result"
    }
   ],
   "source": [
    "reversed_list = []\n",
    "for ind in range(len(list1)-1, -1, -1):\n",
    "    reversed_list.append(list1[ind])\n",
    "reversed_list"
   ]
  },
  {
   "cell_type": "code",
   "execution_count": 130,
   "id": "21cd9be1",
   "metadata": {},
   "outputs": [
    {
     "data": {
      "text/plain": [
       "['Mango', 'banana', 'Apple']"
      ]
     },
     "execution_count": 130,
     "metadata": {},
     "output_type": "execute_result"
    }
   ],
   "source": [
    "def reverse_list(list_):\n",
    "    reversed_ = []\n",
    "    for ind in range(len(list_)-1, -1, -1):\n",
    "        reversed_.append(list_[ind])\n",
    "    return reversed_\n",
    "\n",
    "\n",
    "reverse_list([\"Apple\", \"banana\", \"Mango\"])"
   ]
  },
  {
   "cell_type": "code",
   "execution_count": null,
   "id": "f5c8e089",
   "metadata": {},
   "outputs": [],
   "source": []
  },
  {
   "cell_type": "code",
   "execution_count": null,
   "id": "70c7fbea",
   "metadata": {},
   "outputs": [],
   "source": []
  },
  {
   "cell_type": "markdown",
   "id": "7b637cbc",
   "metadata": {},
   "source": [
    "**Write a Function to Calculate the GST for a Product.**"
   ]
  },
  {
   "cell_type": "code",
   "execution_count": 135,
   "id": "0aeb8e37",
   "metadata": {},
   "outputs": [],
   "source": [
    "price = 1000\n",
    "gst = 1000*0.18"
   ]
  },
  {
   "cell_type": "code",
   "execution_count": null,
   "id": "716438df",
   "metadata": {},
   "outputs": [],
   "source": []
  },
  {
   "cell_type": "code",
   "execution_count": 138,
   "id": "77b8e984",
   "metadata": {},
   "outputs": [
    {
     "data": {
      "text/plain": [
       "9.0"
      ]
     },
     "execution_count": 138,
     "metadata": {},
     "output_type": "execute_result"
    }
   ],
   "source": [
    "def calculate_gst(price):\n",
    "    return price * 0.18\n",
    "\n",
    "calculate_gst(50)"
   ]
  },
  {
   "cell_type": "code",
   "execution_count": 140,
   "id": "bdea9514",
   "metadata": {},
   "outputs": [
    {
     "name": "stdout",
     "output_type": "stream",
     "text": [
      "Enter the price: 90\n",
      "Final Price = 106.2\n"
     ]
    }
   ],
   "source": [
    "price = int(input(\"Enter the price: \"))\n",
    "print(f\"Final Price = {price + calculate_gst(price)}\")"
   ]
  },
  {
   "cell_type": "code",
   "execution_count": null,
   "id": "f176e011",
   "metadata": {},
   "outputs": [],
   "source": []
  },
  {
   "cell_type": "code",
   "execution_count": null,
   "id": "f3cb1c7f",
   "metadata": {},
   "outputs": [],
   "source": []
  },
  {
   "cell_type": "code",
   "execution_count": null,
   "id": "317da4bc",
   "metadata": {},
   "outputs": [],
   "source": []
  },
  {
   "cell_type": "markdown",
   "id": "8b2513c4",
   "metadata": {},
   "source": [
    "**Given the marks of a student show the grade**\n",
    "```python\n",
    "grade_mapping = {\n",
    "    (90, 100): 'A',\n",
    "    (80, 89): 'B',\n",
    "    (70, 79): 'C',\n",
    "    (60, 69): 'D',\n",
    "    (0, 59): 'F'\n",
    "}\n",
    "```\n"
   ]
  },
  {
   "cell_type": "code",
   "execution_count": 155,
   "id": "f97f7584",
   "metadata": {},
   "outputs": [],
   "source": [
    "grade_mapping = {\n",
    "    (90, 100): 'A',\n",
    "    (80, 89): 'B',\n",
    "    (70, 79): 'C',\n",
    "    (60, 69): 'D',\n",
    "    (0, 59): 'F'\n",
    "}"
   ]
  },
  {
   "cell_type": "code",
   "execution_count": 161,
   "id": "6294cd61",
   "metadata": {},
   "outputs": [
    {
     "data": {
      "text/plain": [
       "'C'"
      ]
     },
     "execution_count": 161,
     "metadata": {},
     "output_type": "execute_result"
    }
   ],
   "source": [
    "def map_marks_to_grade(marks, grade_mapping):\n",
    "    if (marks > 100) or (marks < 0):\n",
    "        return \"Invalid Input\"\n",
    "\n",
    "    for marks_range, grade in grade_mapping.items():\n",
    "        if (marks >= marks_range[0]) and (marks <= (marks_range[1])):\n",
    "            return grade\n",
    "        \n",
    "        \n",
    "map_marks_to_grade(74, grade_mapping= grade_mapping)"
   ]
  },
  {
   "cell_type": "code",
   "execution_count": 163,
   "id": "4e84bb7b",
   "metadata": {},
   "outputs": [
    {
     "name": "stdout",
     "output_type": "stream",
     "text": [
      "Enter your marks:  0\n",
      "Your grade is: F\n"
     ]
    }
   ],
   "source": [
    "marks = int(input(\"Enter your marks:  \"))\n",
    "print(f\"Your grade is: {map_marks_to_grade(marks, grade_mapping)}\")"
   ]
  },
  {
   "cell_type": "code",
   "execution_count": null,
   "id": "37ae8144",
   "metadata": {},
   "outputs": [],
   "source": []
  },
  {
   "cell_type": "code",
   "execution_count": null,
   "id": "62a0e9d9",
   "metadata": {},
   "outputs": [],
   "source": []
  },
  {
   "cell_type": "code",
   "execution_count": null,
   "id": "495e5b72",
   "metadata": {},
   "outputs": [],
   "source": []
  },
  {
   "cell_type": "code",
   "execution_count": null,
   "id": "eaacda72",
   "metadata": {},
   "outputs": [],
   "source": []
  },
  {
   "cell_type": "markdown",
   "id": "a1edd086",
   "metadata": {},
   "source": [
    "## Args and Kwargs"
   ]
  },
  {
   "cell_type": "code",
   "execution_count": 4,
   "id": "282a709d",
   "metadata": {},
   "outputs": [],
   "source": [
    "def add(x, y):\n",
    "    return x+y"
   ]
  },
  {
   "cell_type": "code",
   "execution_count": 6,
   "id": "165caf38",
   "metadata": {},
   "outputs": [
    {
     "ename": "TypeError",
     "evalue": "add() takes 2 positional arguments but 3 were given",
     "output_type": "error",
     "traceback": [
      "\u001b[0;31m---------------------------------------------------------------------------\u001b[0m",
      "\u001b[0;31mTypeError\u001b[0m                                 Traceback (most recent call last)",
      "Cell \u001b[0;32mIn[6], line 1\u001b[0m\n\u001b[0;32m----> 1\u001b[0m \u001b[43madd\u001b[49m\u001b[43m(\u001b[49m\u001b[38;5;241;43m6\u001b[39;49m\u001b[43m,\u001b[49m\u001b[43m \u001b[49m\u001b[38;5;241;43m7\u001b[39;49m\u001b[43m,\u001b[49m\u001b[43m \u001b[49m\u001b[38;5;241;43m8\u001b[39;49m\u001b[43m)\u001b[49m\n",
      "\u001b[0;31mTypeError\u001b[0m: add() takes 2 positional arguments but 3 were given"
     ]
    }
   ],
   "source": [
    "add(6, 7, 8)"
   ]
  },
  {
   "cell_type": "code",
   "execution_count": 10,
   "id": "9fc2e297",
   "metadata": {},
   "outputs": [],
   "source": [
    "def add(*args):\n",
    "    print(sum(args))\n",
    "#     return x+y"
   ]
  },
  {
   "cell_type": "code",
   "execution_count": 14,
   "id": "a69a73c5",
   "metadata": {},
   "outputs": [
    {
     "name": "stdout",
     "output_type": "stream",
     "text": [
      "28\n"
     ]
    }
   ],
   "source": [
    "add(5, 6, 7, 10)"
   ]
  },
  {
   "cell_type": "code",
   "execution_count": 15,
   "id": "f4e52192",
   "metadata": {},
   "outputs": [],
   "source": [
    "def add(*apple):\n",
    "    print(sum(apple))\n",
    "#     return x+y"
   ]
  },
  {
   "cell_type": "code",
   "execution_count": 16,
   "id": "38fe9a11",
   "metadata": {},
   "outputs": [
    {
     "name": "stdout",
     "output_type": "stream",
     "text": [
      "21\n"
     ]
    }
   ],
   "source": [
    "add(6, 7, 8)"
   ]
  },
  {
   "cell_type": "markdown",
   "id": "afbe62e8",
   "metadata": {},
   "source": [
    "### kwargs ---> keyword arguments"
   ]
  },
  {
   "cell_type": "code",
   "execution_count": 17,
   "id": "a70682ca",
   "metadata": {},
   "outputs": [],
   "source": [
    "def get_multiplication_table(number, count = 11):\n",
    "    \n",
    "    for i in range(count):\n",
    "        print(f\"{number} X {i}  = {number*i}\")"
   ]
  },
  {
   "cell_type": "code",
   "execution_count": 21,
   "id": "0a427dd9",
   "metadata": {},
   "outputs": [
    {
     "name": "stdout",
     "output_type": "stream",
     "text": [
      "10 X 0  = 0\n",
      "10 X 1  = 10\n",
      "10 X 2  = 20\n",
      "10 X 3  = 30\n",
      "10 X 4  = 40\n",
      "10 X 5  = 50\n",
      "10 X 6  = 60\n",
      "10 X 7  = 70\n",
      "10 X 8  = 80\n",
      "10 X 9  = 90\n",
      "10 X 10  = 100\n"
     ]
    }
   ],
   "source": [
    "get_multiplication_table(10,   11 )"
   ]
  },
  {
   "cell_type": "code",
   "execution_count": 26,
   "id": "6c1fd23e",
   "metadata": {},
   "outputs": [],
   "source": [
    "def print_details(name, city):\n",
    "    print(f\"Name: {name} \\nCity: {city}\")"
   ]
  },
  {
   "cell_type": "code",
   "execution_count": 27,
   "id": "7b2c873e",
   "metadata": {},
   "outputs": [
    {
     "name": "stdout",
     "output_type": "stream",
     "text": [
      "Name: Rajesh \n",
      "City: Delhi\n"
     ]
    }
   ],
   "source": [
    "print_details(name = \"Rajesh\", city = \"Delhi\")"
   ]
  },
  {
   "cell_type": "code",
   "execution_count": 28,
   "id": "46176423",
   "metadata": {},
   "outputs": [
    {
     "ename": "TypeError",
     "evalue": "print_details() got an unexpected keyword argument 'salary'",
     "output_type": "error",
     "traceback": [
      "\u001b[0;31m---------------------------------------------------------------------------\u001b[0m",
      "\u001b[0;31mTypeError\u001b[0m                                 Traceback (most recent call last)",
      "Cell \u001b[0;32mIn[28], line 1\u001b[0m\n\u001b[0;32m----> 1\u001b[0m \u001b[43mprint_details\u001b[49m\u001b[43m(\u001b[49m\u001b[43mname\u001b[49m\u001b[43m \u001b[49m\u001b[38;5;241;43m=\u001b[39;49m\u001b[43m \u001b[49m\u001b[38;5;124;43m\"\u001b[39;49m\u001b[38;5;124;43mRajesh\u001b[39;49m\u001b[38;5;124;43m\"\u001b[39;49m\u001b[43m,\u001b[49m\u001b[43m \u001b[49m\u001b[43mcity\u001b[49m\u001b[43m \u001b[49m\u001b[38;5;241;43m=\u001b[39;49m\u001b[43m \u001b[49m\u001b[38;5;124;43m\"\u001b[39;49m\u001b[38;5;124;43mDelhi\u001b[39;49m\u001b[38;5;124;43m\"\u001b[39;49m\u001b[43m,\u001b[49m\u001b[43m \u001b[49m\u001b[43msalary\u001b[49m\u001b[43m \u001b[49m\u001b[38;5;241;43m=\u001b[39;49m\u001b[43m \u001b[49m\u001b[38;5;241;43m10000\u001b[39;49m\u001b[43m)\u001b[49m\n",
      "\u001b[0;31mTypeError\u001b[0m: print_details() got an unexpected keyword argument 'salary'"
     ]
    }
   ],
   "source": [
    "print_details(name = \"Rajesh\", city = \"Delhi\", salary = 10000)"
   ]
  },
  {
   "cell_type": "code",
   "execution_count": 35,
   "id": "58499f7d",
   "metadata": {},
   "outputs": [],
   "source": [
    "def print_details(**kwargs):\n",
    "#     print(kwargs)\n",
    "    for key , value in kwargs.items():\n",
    "        print(f\"{key} : {value}\")\n",
    "        "
   ]
  },
  {
   "cell_type": "code",
   "execution_count": 38,
   "id": "96c4814e",
   "metadata": {},
   "outputs": [
    {
     "name": "stdout",
     "output_type": "stream",
     "text": [
      "name : Rajesh\n",
      "city : Delhi\n",
      "education : Graduate\n"
     ]
    }
   ],
   "source": [
    "print_details(name = \"Rajesh\", city = \"Delhi\", education = \"Graduate\")"
   ]
  },
  {
   "cell_type": "code",
   "execution_count": 44,
   "id": "34400147",
   "metadata": {},
   "outputs": [],
   "source": [
    "def test_function(*args, **kwargs):\n",
    "    print(\"Positional Arguments:  \",args)\n",
    "    print(\"Keyword Arguments: \", kwargs)"
   ]
  },
  {
   "cell_type": "code",
   "execution_count": 45,
   "id": "1cd5ef34",
   "metadata": {},
   "outputs": [
    {
     "name": "stdout",
     "output_type": "stream",
     "text": [
      "Positional Arguments:   (3, 4, 5, 'apple')\n",
      "Keyword Arguments:  {'name': 'Ramesh', 'city': 'Delhi'}\n"
     ]
    }
   ],
   "source": [
    "test_function(3, 4, 5, \"apple\", name = \"Ramesh\", city = \"Delhi\")"
   ]
  },
  {
   "cell_type": "code",
   "execution_count": null,
   "id": "02aad473",
   "metadata": {},
   "outputs": [],
   "source": []
  },
  {
   "cell_type": "code",
   "execution_count": null,
   "id": "28790bb1",
   "metadata": {},
   "outputs": [],
   "source": []
  },
  {
   "cell_type": "code",
   "execution_count": null,
   "id": "717a7bd2",
   "metadata": {},
   "outputs": [],
   "source": []
  },
  {
   "cell_type": "code",
   "execution_count": null,
   "id": "2ef221ac",
   "metadata": {},
   "outputs": [],
   "source": []
  },
  {
   "cell_type": "markdown",
   "id": "15fb5e87",
   "metadata": {},
   "source": [
    "**Create a function called `grocery_bill` that calculates the total cost of items.  If a discount is provided, apply it to the total bill.**"
   ]
  },
  {
   "cell_type": "code",
   "execution_count": 46,
   "id": "1b26a4ed",
   "metadata": {},
   "outputs": [
    {
     "data": {
      "text/plain": [
       "'\\napple= 100\\nbanana = 200\\nmilk = 30\\ndiscount = 0.1\\n\\n'"
      ]
     },
     "execution_count": 46,
     "metadata": {},
     "output_type": "execute_result"
    }
   ],
   "source": [
    "'''\n",
    "apple= 100\n",
    "banana = 200\n",
    "milk = 30\n",
    "discount = 0.1\n",
    "\n",
    "'''"
   ]
  },
  {
   "cell_type": "code",
   "execution_count": 66,
   "id": "efcbbca2",
   "metadata": {},
   "outputs": [],
   "source": [
    "def grocery_bill(**kwargs):\n",
    "#     print(kwargs)\n",
    "    if \"discount\" in kwargs:\n",
    "        discount = kwargs.pop(\"discount\")\n",
    "    else: \n",
    "        discount = 0\n",
    "#     print(\"discount: \", discount)\n",
    "    total = sum(kwargs.values())\n",
    "    \n",
    "    final_total = total - total * discount\n",
    "    \n",
    "    return final_total"
   ]
  },
  {
   "cell_type": "code",
   "execution_count": 69,
   "id": "1b88a479",
   "metadata": {},
   "outputs": [
    {
     "data": {
      "text/plain": [
       "200.0"
      ]
     },
     "execution_count": 69,
     "metadata": {},
     "output_type": "execute_result"
    }
   ],
   "source": [
    "grocery_bill(apple = 100, banana = 20 ,milk = 130, discount = 0.2)"
   ]
  },
  {
   "cell_type": "code",
   "execution_count": null,
   "id": "0b1ad644",
   "metadata": {},
   "outputs": [],
   "source": []
  },
  {
   "cell_type": "markdown",
   "id": "521de3cb",
   "metadata": {},
   "source": [
    "**Create a function `filter_even_odd` that takes any number of integers using `*args` and returns two lists: one with even numbers and one with odd numbers.**"
   ]
  },
  {
   "cell_type": "code",
   "execution_count": 71,
   "id": "e1f769a2",
   "metadata": {},
   "outputs": [],
   "source": [
    "# numbers = [4, 5, 6,1, 3, 5]\n",
    "\n",
    "# even_list = [4, 6]\n",
    "# odd_list = [5, 1, 3, 5]"
   ]
  },
  {
   "cell_type": "code",
   "execution_count": 83,
   "id": "c5802d74",
   "metadata": {},
   "outputs": [],
   "source": [
    "def check_even(number):\n",
    "    if number % 2 ==0:\n",
    "        return True\n",
    "    return False\n",
    "\n",
    "\n",
    "def check_even(number):\n",
    "    return number %2 ==0 "
   ]
  },
  {
   "cell_type": "code",
   "execution_count": 85,
   "id": "abe91f73",
   "metadata": {},
   "outputs": [
    {
     "data": {
      "text/plain": [
       "False"
      ]
     },
     "execution_count": 85,
     "metadata": {},
     "output_type": "execute_result"
    }
   ],
   "source": [
    "check_even(61)"
   ]
  },
  {
   "cell_type": "code",
   "execution_count": null,
   "id": "4dc2c0ce",
   "metadata": {},
   "outputs": [],
   "source": []
  },
  {
   "cell_type": "code",
   "execution_count": 81,
   "id": "b39d7563",
   "metadata": {},
   "outputs": [],
   "source": [
    "def filter_even_odd(*args):\n",
    "    even_list = [number for number in args if check_even(number)]\n",
    "    odd_list = [number for number in args if not check_even(number)]\n",
    "    return even_list, odd_list\n"
   ]
  },
  {
   "cell_type": "code",
   "execution_count": 82,
   "id": "625ac8b1",
   "metadata": {},
   "outputs": [
    {
     "data": {
      "text/plain": [
       "([2, 4], [1, 3])"
      ]
     },
     "execution_count": 82,
     "metadata": {},
     "output_type": "execute_result"
    }
   ],
   "source": [
    "even_list, odd_list =  filter_even_odd(1,2, 3, 4)\n",
    "even_list, odd_list"
   ]
  },
  {
   "cell_type": "code",
   "execution_count": null,
   "id": "0c59756c",
   "metadata": {},
   "outputs": [],
   "source": []
  },
  {
   "cell_type": "code",
   "execution_count": null,
   "id": "0ba53228",
   "metadata": {},
   "outputs": [],
   "source": []
  },
  {
   "cell_type": "code",
   "execution_count": null,
   "id": "9844137c",
   "metadata": {},
   "outputs": [],
   "source": []
  },
  {
   "cell_type": "code",
   "execution_count": null,
   "id": "28c6eca4",
   "metadata": {},
   "outputs": [],
   "source": []
  },
  {
   "cell_type": "code",
   "execution_count": null,
   "id": "5230b4d2",
   "metadata": {},
   "outputs": [],
   "source": []
  }
 ],
 "metadata": {
  "kernelspec": {
   "display_name": "Python 3 (ipykernel)",
   "language": "python",
   "name": "python3"
  },
  "language_info": {
   "codemirror_mode": {
    "name": "ipython",
    "version": 3
   },
   "file_extension": ".py",
   "mimetype": "text/x-python",
   "name": "python",
   "nbconvert_exporter": "python",
   "pygments_lexer": "ipython3",
   "version": "3.10.8"
  }
 },
 "nbformat": 4,
 "nbformat_minor": 5
}
