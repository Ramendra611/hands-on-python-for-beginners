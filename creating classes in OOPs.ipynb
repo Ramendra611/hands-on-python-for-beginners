{
 "cells": [
  {
   "cell_type": "markdown",
   "id": "f19c98a0-ebad-401e-8188-b89a76254058",
   "metadata": {},
   "source": [
    "# Hands On Object Oriented Programming in Python\n",
    "\n",
    "\n",
    "1. **Creating a Simple Class**  \n",
    "   - Syntax and structure of a class in Python  \n",
    "---\n",
    "2. **Understanding `__init__` and Attributes**  \n",
    "   - Purpose of the constructor  \n",
    "   - Initializing data when creating an object  \n",
    "---\n",
    "3. **Understanding the Meaning of `self`**  \n",
    "   - Role of `self` in accessing instance data  \n",
    "   - Why it must be the first parameter in methods  \n",
    "---\n",
    "\n",
    "4. **Creating Instances (Objects)**  \n",
    "   - How to instantiate a class  \n",
    "   - Real-world examples of objects\n",
    "\n",
    "---\n",
    "\n",
    "5. **Accesing the methods using instance v/s class**\n",
    "---\n",
    "\n",
    "6. **Namespace of instances and classes**\n",
    "---\n",
    "\n",
    "7. **Method resolution order ( MRO )**\n",
    "---\n",
    "8. **Adding Variables and Methods to a Class**  \n",
    "   - Instance variables (object-specific data)  \n",
    "   - Defining methods (object behaviors)  \n",
    "---\n",
    "9. **Class Variables vs Instance Variables**  \n",
    " \n",
    "---\n",
    "10. **Class Methods vs Instance Methods vs Static Methods**  \n",
    "   - Use cases for `@classmethod` and `@staticmethod`  \n",
    "   - How they differ from instance methods  \n",
    "---\n",
    "11. **Magic Methods**  \n",
    "   - Special methods like `__str__`, `__len__`, `__add__`  \n",
    "   - How they allow operator overloading  \n",
    "---\n",
    "12. **Inheritance**  \n",
    "    - Creating subclasses  \n",
    "    - Reusing and extending functionality  \n",
    "---\n",
    "13. **Polymorphism**  \n",
    "    - Same method name, different behaviors  \n",
    "---\n",
    "14. **Method Overriding**  \n",
    "    - Changing behavior of inherited methods  \n",
    " \n"
   ]
  },
  {
   "cell_type": "code",
   "execution_count": null,
   "id": "f85ca8b5-1495-4dd9-aaa3-3fb5f9598d25",
   "metadata": {},
   "outputs": [],
   "source": []
  },
  {
   "cell_type": "code",
   "execution_count": 17,
   "id": "00abf7c8-db96-495f-b6cb-339b0970e626",
   "metadata": {},
   "outputs": [],
   "source": [
    "## blueprint\n",
    "class Car:\n",
    "    pass\n",
    "    "
   ]
  },
  {
   "cell_type": "code",
   "execution_count": 18,
   "id": "ffe5e5f9-fa88-44dc-ae02-23f1375349fe",
   "metadata": {},
   "outputs": [],
   "source": [
    "my_car = Car() # creating instance of the class car\n",
    "your_car = Car()"
   ]
  },
  {
   "cell_type": "code",
   "execution_count": 20,
   "id": "f52d58b1-081b-45f8-a375-6dc39b0e244a",
   "metadata": {},
   "outputs": [
    {
     "name": "stdout",
     "output_type": "stream",
     "text": [
      "<class '__main__.Car'>\n"
     ]
    }
   ],
   "source": [
    "print(type(my_car))"
   ]
  },
  {
   "cell_type": "code",
   "execution_count": 30,
   "id": "1051faff-bccc-461e-aff0-931c30305872",
   "metadata": {},
   "outputs": [],
   "source": [
    "my_car.name  = \"Creta\"\n",
    "my_car.brand = \"Hyundai\"\n",
    "my_car.category = \"SUV\""
   ]
  },
  {
   "cell_type": "code",
   "execution_count": 31,
   "id": "b060791c-2f40-46ae-99b9-601846ac4149",
   "metadata": {},
   "outputs": [
    {
     "data": {
      "text/plain": [
       "'SUV'"
      ]
     },
     "execution_count": 31,
     "metadata": {},
     "output_type": "execute_result"
    }
   ],
   "source": [
    "my_car.category"
   ]
  },
  {
   "cell_type": "code",
   "execution_count": 32,
   "id": "e28f6a8e-d35f-466c-891a-bc68e39c0353",
   "metadata": {},
   "outputs": [],
   "source": [
    "your_car.name  = \"City\"\n",
    "your_car.brand = \"Honda\"\n",
    "your_car.category = \"Sedan\""
   ]
  },
  {
   "cell_type": "code",
   "execution_count": 34,
   "id": "f3f81bc4-fb7a-40c1-ab91-d15b939e5686",
   "metadata": {},
   "outputs": [
    {
     "data": {
      "text/plain": [
       "'Honda'"
      ]
     },
     "execution_count": 34,
     "metadata": {},
     "output_type": "execute_result"
    }
   ],
   "source": [
    "your_car.brand"
   ]
  },
  {
   "cell_type": "code",
   "execution_count": null,
   "id": "7c036601-2b66-4504-9c32-b6304b2edfa5",
   "metadata": {},
   "outputs": [],
   "source": []
  },
  {
   "cell_type": "markdown",
   "id": "e4ef0892-0139-4ac3-8111-9af778d19a92",
   "metadata": {},
   "source": [
    "# constructor method or __init__method"
   ]
  },
  {
   "cell_type": "code",
   "execution_count": 62,
   "id": "b293afe1-f696-4a1f-b9aa-112c3925c853",
   "metadata": {},
   "outputs": [],
   "source": [
    "class Car:\n",
    "\n",
    "    def __init__(self, name, brand, category):\n",
    "        \n",
    "        self.name  = name\n",
    "        self.brand = brand\n",
    "        self.category = category\n"
   ]
  },
  {
   "cell_type": "code",
   "execution_count": 63,
   "id": "2df1274d-f505-4cac-a9fa-6c090268c1c6",
   "metadata": {},
   "outputs": [],
   "source": [
    "my_car = Car(name = \"creta\", brand = \"Hyundai\", category = \"SUV\")"
   ]
  },
  {
   "cell_type": "code",
   "execution_count": 64,
   "id": "32cb3a8e-557e-4f14-bc70-612237f57c7c",
   "metadata": {},
   "outputs": [],
   "source": [
    "your_car = Car(name = \"City\", brand = \"Honda\", category = \"Sedan\" )"
   ]
  },
  {
   "cell_type": "code",
   "execution_count": 59,
   "id": "1ad316e7-0cbf-4298-82c3-03dfc8c1e2ed",
   "metadata": {},
   "outputs": [],
   "source": [
    "your_car.mileage = 20"
   ]
  },
  {
   "cell_type": "code",
   "execution_count": 60,
   "id": "e38456e0-9896-47e9-bc30-7f97095214d5",
   "metadata": {},
   "outputs": [
    {
     "data": {
      "text/plain": [
       "{'name': 'City',\n",
       " 'brand': 'Honda',\n",
       " 'category': 'Sedan',\n",
       " 'engine_type': None,\n",
       " 'mileage': 20}"
      ]
     },
     "execution_count": 60,
     "metadata": {},
     "output_type": "execute_result"
    }
   ],
   "source": [
    "your_car.__dict__"
   ]
  },
  {
   "cell_type": "code",
   "execution_count": null,
   "id": "abc55a92-bfb4-41e0-834c-97a29aac892d",
   "metadata": {},
   "outputs": [],
   "source": []
  },
  {
   "cell_type": "code",
   "execution_count": null,
   "id": "de7d5dd8-33c6-4373-9cfb-3c6a14425966",
   "metadata": {},
   "outputs": [],
   "source": [
    "my_car.name  = \"Creta\"\n",
    "my_car.brand = \"Hyundai\"\n",
    "my_car.category = \"SUV\""
   ]
  },
  {
   "cell_type": "code",
   "execution_count": 40,
   "id": "f39bec55-1170-4a8c-997f-0105cf4ee025",
   "metadata": {},
   "outputs": [
    {
     "data": {
      "text/plain": [
       "('creta', 'Hyundai', 'SUV')"
      ]
     },
     "execution_count": 40,
     "metadata": {},
     "output_type": "execute_result"
    }
   ],
   "source": [
    "my_car.name, my_car.brand, my_car.category"
   ]
  },
  {
   "cell_type": "code",
   "execution_count": 44,
   "id": "31df6a27-bf86-4a12-b3ee-f3d26705427d",
   "metadata": {},
   "outputs": [
    {
     "data": {
      "text/plain": [
       "('City', 'Honda', 'Sedan')"
      ]
     },
     "execution_count": 44,
     "metadata": {},
     "output_type": "execute_result"
    }
   ],
   "source": [
    "your_car.name, your_car.brand, your_car.category"
   ]
  },
  {
   "cell_type": "code",
   "execution_count": null,
   "id": "7d11bad2-387f-49ff-a1a8-7542b2a91f89",
   "metadata": {},
   "outputs": [],
   "source": []
  },
  {
   "cell_type": "markdown",
   "id": "367136b1-e4df-4457-9ac1-76d97a1a3fd2",
   "metadata": {},
   "source": [
    "## adding methods to the class\n",
    "    - instance methods\n",
    "    - class methods\n",
    "    - static methods"
   ]
  },
  {
   "cell_type": "code",
   "execution_count": null,
   "id": "da202657-2321-4c8b-b710-ad8c80e4f846",
   "metadata": {},
   "outputs": [],
   "source": []
  },
  {
   "cell_type": "code",
   "execution_count": 95,
   "id": "67e6e3c3-2b49-42eb-bda8-73758f020bd9",
   "metadata": {},
   "outputs": [],
   "source": [
    "class Car:\n",
    "\n",
    "    def __init__(self, name, brand, category):\n",
    "        \n",
    "        self.name  = name\n",
    "        self.brand = brand\n",
    "        self.category = category\n",
    "\n",
    "    # instance methods\n",
    "    def drive(self):\n",
    "        print(f\"{self.name} is now driving\")\n",
    "\n",
    "    def brake(self):\n",
    "        print(f\"{self.name}  is appying brakes!!\")\n",
    "        \n",
    "    def park(self):\n",
    "        print(f\"{self.name} is now parked!\")"
   ]
  },
  {
   "cell_type": "code",
   "execution_count": 97,
   "id": "72c8f123-75fd-459b-a724-1e2bd515d562",
   "metadata": {},
   "outputs": [],
   "source": [
    "my_car = Car(name = \"creta\", brand = \"Hyundai\", category = \"SUV\")"
   ]
  },
  {
   "cell_type": "code",
   "execution_count": 98,
   "id": "57f6d67f-e9b2-4827-8e8b-91bf81f196fc",
   "metadata": {},
   "outputs": [],
   "source": [
    "your_car = Car(name = \"City\", brand = \"Honda\", category = \"Sedan\" )"
   ]
  },
  {
   "cell_type": "code",
   "execution_count": 84,
   "id": "dd1df8c8-13dc-44a2-b11c-4fe70239a523",
   "metadata": {},
   "outputs": [
    {
     "name": "stdout",
     "output_type": "stream",
     "text": [
      "City is now parked!\n"
     ]
    }
   ],
   "source": [
    "your_car.park()"
   ]
  },
  {
   "cell_type": "code",
   "execution_count": 85,
   "id": "c0732efc-3d04-4c0c-867a-72dca3cb0852",
   "metadata": {},
   "outputs": [
    {
     "name": "stdout",
     "output_type": "stream",
     "text": [
      "creta is now driving\n"
     ]
    }
   ],
   "source": [
    "my_car.drive()"
   ]
  },
  {
   "cell_type": "code",
   "execution_count": null,
   "id": "5b335929-2aa4-47b7-96ec-c41ecc37fea2",
   "metadata": {},
   "outputs": [],
   "source": []
  },
  {
   "cell_type": "code",
   "execution_count": null,
   "id": "6f30ea57-94ab-4f88-9fa0-663112056dcc",
   "metadata": {},
   "outputs": [],
   "source": []
  },
  {
   "cell_type": "markdown",
   "id": "eca9f9ef-84fd-4da5-800a-e7bfa4423af4",
   "metadata": {},
   "source": [
    "## alternate syntax to call the methods"
   ]
  },
  {
   "cell_type": "code",
   "execution_count": 99,
   "id": "c3b56ef3-8e92-4405-8193-bf4b59998d65",
   "metadata": {},
   "outputs": [
    {
     "name": "stdout",
     "output_type": "stream",
     "text": [
      "City is now parked!\n"
     ]
    }
   ],
   "source": [
    "your_car.park() # accesing the method using the instance"
   ]
  },
  {
   "cell_type": "code",
   "execution_count": 100,
   "id": "1281b557-c89e-43a6-a372-ba0c5b78ec08",
   "metadata": {},
   "outputs": [
    {
     "name": "stdout",
     "output_type": "stream",
     "text": [
      "City is now parked!\n"
     ]
    }
   ],
   "source": [
    "Car.park(your_car) # accesing the method using the class"
   ]
  },
  {
   "cell_type": "code",
   "execution_count": null,
   "id": "dc70f3f6-5115-4c69-812b-66498dce3460",
   "metadata": {},
   "outputs": [],
   "source": []
  },
  {
   "cell_type": "markdown",
   "id": "6dd80d84-a245-4b75-b478-b81bd1e2bf05",
   "metadata": {},
   "source": [
    "### name space of any instance and  class"
   ]
  },
  {
   "cell_type": "code",
   "execution_count": 101,
   "id": "ac6589a1-925f-40e5-a713-2cca4c618680",
   "metadata": {},
   "outputs": [
    {
     "data": {
      "text/plain": [
       "{'name': 'creta', 'brand': 'Hyundai', 'category': 'SUV'}"
      ]
     },
     "execution_count": 101,
     "metadata": {},
     "output_type": "execute_result"
    }
   ],
   "source": [
    "my_car.__dict__"
   ]
  },
  {
   "cell_type": "code",
   "execution_count": 102,
   "id": "325a23e5-902b-4ced-8298-a641283742e7",
   "metadata": {},
   "outputs": [
    {
     "data": {
      "text/plain": [
       "{'name': 'City', 'brand': 'Honda', 'category': 'Sedan'}"
      ]
     },
     "execution_count": 102,
     "metadata": {},
     "output_type": "execute_result"
    }
   ],
   "source": [
    "your_car.__dict__"
   ]
  },
  {
   "cell_type": "code",
   "execution_count": 104,
   "id": "498c907a-71af-49fb-b576-ef643fc2f566",
   "metadata": {},
   "outputs": [],
   "source": [
    "my_car.mileage = 19"
   ]
  },
  {
   "cell_type": "code",
   "execution_count": 105,
   "id": "97bd20e0-7e56-41b0-8913-4a1b39f884e4",
   "metadata": {},
   "outputs": [
    {
     "data": {
      "text/plain": [
       "{'name': 'creta', 'brand': 'Hyundai', 'category': 'SUV', 'mileage': 19}"
      ]
     },
     "execution_count": 105,
     "metadata": {},
     "output_type": "execute_result"
    }
   ],
   "source": [
    "my_car.__dict__"
   ]
  },
  {
   "cell_type": "code",
   "execution_count": 107,
   "id": "019e71bb-6b6b-4c9e-a805-ba8e2f04bc5f",
   "metadata": {},
   "outputs": [],
   "source": [
    "your_car.engine_type = \"petrol\""
   ]
  },
  {
   "cell_type": "code",
   "execution_count": null,
   "id": "b7b60ab2-1c2b-4aed-bf4f-cc556a43a43c",
   "metadata": {},
   "outputs": [],
   "source": []
  },
  {
   "cell_type": "code",
   "execution_count": 108,
   "id": "525f2173-921c-41b7-a41f-d5308ccc7f82",
   "metadata": {},
   "outputs": [
    {
     "data": {
      "text/plain": [
       "{'name': 'City',\n",
       " 'brand': 'Honda',\n",
       " 'category': 'Sedan',\n",
       " 'engine_type': 'petrol'}"
      ]
     },
     "execution_count": 108,
     "metadata": {},
     "output_type": "execute_result"
    }
   ],
   "source": [
    "your_car.__dict__"
   ]
  },
  {
   "cell_type": "code",
   "execution_count": null,
   "id": "a22ab26b-6ba4-40d7-ad0e-8e965f1c3d06",
   "metadata": {},
   "outputs": [],
   "source": []
  },
  {
   "cell_type": "code",
   "execution_count": null,
   "id": "13712041-b400-4dfe-a095-ca0d571cdb68",
   "metadata": {},
   "outputs": [],
   "source": []
  },
  {
   "cell_type": "code",
   "execution_count": null,
   "id": "dd628144-4362-4e66-9b7e-346ee0700816",
   "metadata": {},
   "outputs": [],
   "source": []
  },
  {
   "cell_type": "code",
   "execution_count": null,
   "id": "aa546a07-0d3d-411e-b114-30a2b12e7e0e",
   "metadata": {},
   "outputs": [],
   "source": []
  },
  {
   "cell_type": "code",
   "execution_count": null,
   "id": "8c97a91d-da79-44e0-8a1c-e7ad1ea8589b",
   "metadata": {},
   "outputs": [],
   "source": []
  },
  {
   "cell_type": "code",
   "execution_count": null,
   "id": "08dddf4e-ec36-4793-93d1-80d9feefc756",
   "metadata": {},
   "outputs": [],
   "source": []
  },
  {
   "cell_type": "code",
   "execution_count": null,
   "id": "ce402628-b8ad-4c15-86c9-4a2db985c340",
   "metadata": {},
   "outputs": [],
   "source": []
  },
  {
   "cell_type": "code",
   "execution_count": null,
   "id": "44906e3d-3a6d-49ed-a951-a66bf6def1b2",
   "metadata": {},
   "outputs": [],
   "source": []
  },
  {
   "cell_type": "markdown",
   "id": "0ec0f86d-e705-4a1d-8bf2-b337f06c8dad",
   "metadata": {},
   "source": [
    "## Plan\n",
    "    - create class Employee\n",
    "    \n",
    "    - attributes:\n",
    "        - name\n",
    "        - deptt\n",
    "        - salary\n",
    "        - manager\n",
    "        - designation\n",
    "\n",
    "    - methods\n",
    "        - promotion\n",
    "        - resign\n",
    "        - punch in \n",
    "        - punch out"
   ]
  },
  {
   "cell_type": "code",
   "execution_count": 133,
   "id": "9618648e-1ecc-4f66-95fb-c31b1ac0b2ab",
   "metadata": {},
   "outputs": [],
   "source": [
    "class Employee():\n",
    "\n",
    "    organization_name = \"codeverra\"\n",
    "    \n",
    "    def __init__( self, emp_name, emp_deptt, emp_dob):\n",
    "        self.name = emp_name\n",
    "        self.deptt = emp_deptt\n",
    "        self.dob = emp_dob\n",
    "        self.email = self.get_email()\n",
    "\n",
    "    def get_email(self): # instance method\n",
    "        email = self.name.lower() + \"@\" + \"gmail.com\"\n",
    "        return email\n",
    "\n",
    "    def give_promotion"
   ]
  },
  {
   "cell_type": "code",
   "execution_count": 134,
   "id": "ed82cf18-4274-458e-ba83-dad3f1379be0",
   "metadata": {},
   "outputs": [],
   "source": [
    "rohan = Employee( \"Rohan\",\"Finance\", \"1995-09-08\" )\n",
    "kiran = Employee( \"Kiran\",\"HR\", \"1990-10-18\" )"
   ]
  },
  {
   "cell_type": "code",
   "execution_count": 135,
   "id": "21da0aad-e43c-43e5-91d3-8af8369c3a5b",
   "metadata": {},
   "outputs": [
    {
     "data": {
      "text/plain": [
       "'codeverra'"
      ]
     },
     "execution_count": 135,
     "metadata": {},
     "output_type": "execute_result"
    }
   ],
   "source": [
    "rohan.organization_name"
   ]
  },
  {
   "cell_type": "code",
   "execution_count": 139,
   "id": "f46ab5c0-7ec9-4a3a-93ea-4e233b8820b8",
   "metadata": {},
   "outputs": [
    {
     "data": {
      "text/plain": [
       "'codeverra'"
      ]
     },
     "execution_count": 139,
     "metadata": {},
     "output_type": "execute_result"
    }
   ],
   "source": [
    "kiran.organization_name"
   ]
  },
  {
   "cell_type": "code",
   "execution_count": 136,
   "id": "eeb143cd-e5de-41a4-a3ac-25dbc2504b1b",
   "metadata": {},
   "outputs": [
    {
     "data": {
      "text/plain": [
       "{'name': 'Rohan',\n",
       " 'deptt': 'Finance',\n",
       " 'dob': '1995-09-08',\n",
       " 'email': 'rohan@gmail.com'}"
      ]
     },
     "execution_count": 136,
     "metadata": {},
     "output_type": "execute_result"
    }
   ],
   "source": [
    "rohan.__dict__"
   ]
  },
  {
   "cell_type": "code",
   "execution_count": 140,
   "id": "18dd9eb6-a494-48ec-af28-2d21b4069c1b",
   "metadata": {},
   "outputs": [],
   "source": [
    "rohan.organization_name = \"techverra\" "
   ]
  },
  {
   "cell_type": "code",
   "execution_count": 142,
   "id": "c247310a-2484-4357-90e9-0f34e8ac4bdb",
   "metadata": {},
   "outputs": [
    {
     "data": {
      "text/plain": [
       "{'name': 'Rohan',\n",
       " 'deptt': 'Finance',\n",
       " 'dob': '1995-09-08',\n",
       " 'email': 'rohan@gmail.com',\n",
       " 'organization_name': 'techverra'}"
      ]
     },
     "execution_count": 142,
     "metadata": {},
     "output_type": "execute_result"
    }
   ],
   "source": [
    "rohan.__dict__"
   ]
  },
  {
   "cell_type": "code",
   "execution_count": 143,
   "id": "2f5238e7-24e5-47be-9f3e-ea259fea533c",
   "metadata": {},
   "outputs": [
    {
     "data": {
      "text/plain": [
       "'techverra'"
      ]
     },
     "execution_count": 143,
     "metadata": {},
     "output_type": "execute_result"
    }
   ],
   "source": [
    "rohan.organization_name"
   ]
  },
  {
   "cell_type": "code",
   "execution_count": 144,
   "id": "fa307165-5947-424a-8175-73592d304110",
   "metadata": {},
   "outputs": [
    {
     "data": {
      "text/plain": [
       "'codeverra'"
      ]
     },
     "execution_count": 144,
     "metadata": {},
     "output_type": "execute_result"
    }
   ],
   "source": [
    "kiran.organization_name"
   ]
  },
  {
   "cell_type": "code",
   "execution_count": 145,
   "id": "61187a43-8819-440a-bf74-a5a1de4977a4",
   "metadata": {},
   "outputs": [],
   "source": [
    "Employee.organization_name = \"Dataverra\""
   ]
  },
  {
   "cell_type": "code",
   "execution_count": 146,
   "id": "19045d3d-b868-4d2a-831b-93f220874687",
   "metadata": {},
   "outputs": [
    {
     "data": {
      "text/plain": [
       "'Dataverra'"
      ]
     },
     "execution_count": 146,
     "metadata": {},
     "output_type": "execute_result"
    }
   ],
   "source": [
    "kiran.organization_name"
   ]
  },
  {
   "cell_type": "code",
   "execution_count": 147,
   "id": "351b6053-3124-4a64-9ee3-b19ee7963255",
   "metadata": {},
   "outputs": [
    {
     "data": {
      "text/plain": [
       "'techverra'"
      ]
     },
     "execution_count": 147,
     "metadata": {},
     "output_type": "execute_result"
    }
   ],
   "source": [
    "rohan.organization_name"
   ]
  },
  {
   "cell_type": "code",
   "execution_count": 148,
   "id": "685e6899-84c0-487e-96af-534c2578ddf3",
   "metadata": {},
   "outputs": [
    {
     "data": {
      "text/plain": [
       "mappingproxy({'__module__': '__main__',\n",
       "              '__firstlineno__': 1,\n",
       "              'organization_name': 'Dataverra',\n",
       "              '__init__': <function __main__.Employee.__init__(self, emp_name, emp_deptt, emp_dob)>,\n",
       "              'get_email': <function __main__.Employee.get_email(self)>,\n",
       "              '__static_attributes__': ('deptt', 'dob', 'email', 'name'),\n",
       "              '__dict__': <attribute '__dict__' of 'Employee' objects>,\n",
       "              '__weakref__': <attribute '__weakref__' of 'Employee' objects>,\n",
       "              '__doc__': None})"
      ]
     },
     "execution_count": 148,
     "metadata": {},
     "output_type": "execute_result"
    }
   ],
   "source": [
    "Employee.__dict__"
   ]
  },
  {
   "cell_type": "code",
   "execution_count": null,
   "id": "59876694-8cc5-4a96-b434-1de53c164a17",
   "metadata": {},
   "outputs": [],
   "source": []
  },
  {
   "cell_type": "code",
   "execution_count": null,
   "id": "3ac74465-56f6-4053-af00-a2027d4d0649",
   "metadata": {},
   "outputs": [],
   "source": []
  },
  {
   "cell_type": "code",
   "execution_count": 137,
   "id": "20baa29c-cd5d-4c62-ae09-2885f18e2c10",
   "metadata": {},
   "outputs": [
    {
     "data": {
      "text/plain": [
       "mappingproxy({'__module__': '__main__',\n",
       "              '__firstlineno__': 1,\n",
       "              'organization_name': 'codeverra',\n",
       "              '__init__': <function __main__.Employee.__init__(self, emp_name, emp_deptt, emp_dob)>,\n",
       "              'get_email': <function __main__.Employee.get_email(self)>,\n",
       "              '__static_attributes__': ('deptt', 'dob', 'email', 'name'),\n",
       "              '__dict__': <attribute '__dict__' of 'Employee' objects>,\n",
       "              '__weakref__': <attribute '__weakref__' of 'Employee' objects>,\n",
       "              '__doc__': None})"
      ]
     },
     "execution_count": 137,
     "metadata": {},
     "output_type": "execute_result"
    }
   ],
   "source": [
    "Employee.__dict__"
   ]
  },
  {
   "cell_type": "code",
   "execution_count": null,
   "id": "cb8ba0a6-009b-48b8-9613-285695d88832",
   "metadata": {},
   "outputs": [],
   "source": []
  },
  {
   "cell_type": "code",
   "execution_count": null,
   "id": "344d9511-1d9d-4a1d-9338-8ad9597164c0",
   "metadata": {},
   "outputs": [],
   "source": []
  },
  {
   "cell_type": "code",
   "execution_count": 116,
   "id": "be952afa-fb42-45d7-9c38-46e951b2774f",
   "metadata": {},
   "outputs": [
    {
     "name": "stdout",
     "output_type": "stream",
     "text": [
      "<class '__main__.Employee'>\n"
     ]
    }
   ],
   "source": [
    "print(type(rohan))"
   ]
  },
  {
   "cell_type": "code",
   "execution_count": 131,
   "id": "013aaf1e-f089-4215-ab1c-2c48b08dc0e0",
   "metadata": {},
   "outputs": [
    {
     "data": {
      "text/plain": [
       "'rohan@gmail.com'"
      ]
     },
     "execution_count": 131,
     "metadata": {},
     "output_type": "execute_result"
    }
   ],
   "source": [
    "rohan.get_email()"
   ]
  },
  {
   "cell_type": "code",
   "execution_count": 132,
   "id": "aacc3f99-86b8-40f5-93e4-0f14b4928827",
   "metadata": {},
   "outputs": [
    {
     "data": {
      "text/plain": [
       "'rohan@gmail.com'"
      ]
     },
     "execution_count": 132,
     "metadata": {},
     "output_type": "execute_result"
    }
   ],
   "source": [
    "rohan.email"
   ]
  },
  {
   "cell_type": "code",
   "execution_count": null,
   "id": "b16ca703-9eb6-4d5b-9a05-751b9da77279",
   "metadata": {},
   "outputs": [],
   "source": []
  },
  {
   "cell_type": "code",
   "execution_count": null,
   "id": "0dec0e1e-3d6a-4201-9fd2-a6f366ac18d0",
   "metadata": {},
   "outputs": [],
   "source": []
  },
  {
   "cell_type": "code",
   "execution_count": null,
   "id": "52e29b92-674a-43c6-853f-69c9501cecb7",
   "metadata": {},
   "outputs": [],
   "source": []
  },
  {
   "cell_type": "code",
   "execution_count": null,
   "id": "3b0f199d-e82b-44a6-a6da-18264be83595",
   "metadata": {},
   "outputs": [],
   "source": []
  },
  {
   "cell_type": "code",
   "execution_count": null,
   "id": "a0254dcb-b15c-4f8f-b5c3-3503fc37674e",
   "metadata": {},
   "outputs": [],
   "source": []
  },
  {
   "cell_type": "code",
   "execution_count": null,
   "id": "0c88535d-c14e-453a-8ebf-97b373c57783",
   "metadata": {},
   "outputs": [],
   "source": []
  },
  {
   "cell_type": "code",
   "execution_count": 151,
   "id": "6135c13f-8c9a-4693-8943-3b987749e5b5",
   "metadata": {},
   "outputs": [],
   "source": [
    "class Employee():\n",
    "\n",
    "    organization_name = \"codeverra\"\n",
    "    \n",
    "    def __init__( self, emp_name, emp_deptt, emp_dob, emp_salary = None):\n",
    "        self.name = emp_name\n",
    "        self.deptt = emp_deptt\n",
    "        self.dob = emp_dob\n",
    "        self.email = self.get_email()\n",
    "        self.salary = emp_salary\n",
    "\n",
    "    def get_email(self): # instance method\n",
    "        email = self.name.lower() + \"@\" + \"gmail.com\"\n",
    "        return email\n",
    "\n",
    "    def give_appraisal(self, appraisal_percent):\n",
    "        self.salary = self.salary * (1 + appraisal_percent)\n",
    "        print(f\"Promotion given to {self.name}! The new salary is {self.salary} !! \")\n",
    "\n",
    "\n",
    "\n",
    "        "
   ]
  },
  {
   "cell_type": "code",
   "execution_count": 152,
   "id": "3ca4c021-23c8-40d1-ac5c-9acca8782d67",
   "metadata": {},
   "outputs": [],
   "source": [
    "ramesh = Employee( \"Ramesh\",\"Finance\", \"1995-09-08\", 50000 )\n",
    "ghanshyam = Employee( \"Ghanshyam\",\"Tech\", \"1990-10-18\", 40000 )"
   ]
  },
  {
   "cell_type": "code",
   "execution_count": 153,
   "id": "4d79758e-c744-4829-9c1f-16789c6429ce",
   "metadata": {},
   "outputs": [
    {
     "data": {
      "text/plain": [
       "'ramesh@gmail.com'"
      ]
     },
     "execution_count": 153,
     "metadata": {},
     "output_type": "execute_result"
    }
   ],
   "source": [
    "ramesh.email"
   ]
  },
  {
   "cell_type": "code",
   "execution_count": 154,
   "id": "8577486c-2789-4f1f-9750-148edbfed32a",
   "metadata": {},
   "outputs": [
    {
     "data": {
      "text/plain": [
       "'ghanshyam@gmail.com'"
      ]
     },
     "execution_count": 154,
     "metadata": {},
     "output_type": "execute_result"
    }
   ],
   "source": [
    "ghanshyam.email"
   ]
  },
  {
   "cell_type": "code",
   "execution_count": 156,
   "id": "638d0a48-a0d9-4f91-9cab-0c042d425e97",
   "metadata": {},
   "outputs": [
    {
     "data": {
      "text/plain": [
       "(50000, 40000)"
      ]
     },
     "execution_count": 156,
     "metadata": {},
     "output_type": "execute_result"
    }
   ],
   "source": [
    "ramesh.salary, ghanshyam.salary"
   ]
  },
  {
   "cell_type": "code",
   "execution_count": 157,
   "id": "93272c46-37d3-481c-8318-dd202b092aea",
   "metadata": {},
   "outputs": [
    {
     "name": "stdout",
     "output_type": "stream",
     "text": [
      "Promotion given to Ramesh! The new salary is 60000.0 !! \n"
     ]
    }
   ],
   "source": [
    "ramesh.give_appraisal(0.2)"
   ]
  },
  {
   "cell_type": "code",
   "execution_count": 158,
   "id": "92fead46-10ca-4093-b540-4a5396d3ad6c",
   "metadata": {},
   "outputs": [
    {
     "data": {
      "text/plain": [
       "60000.0"
      ]
     },
     "execution_count": 158,
     "metadata": {},
     "output_type": "execute_result"
    }
   ],
   "source": [
    "ramesh.salary"
   ]
  },
  {
   "cell_type": "code",
   "execution_count": null,
   "id": "dc7a724e-124e-4447-b50a-e651dcc458f4",
   "metadata": {},
   "outputs": [],
   "source": []
  },
  {
   "cell_type": "code",
   "execution_count": null,
   "id": "936f87e0-ea2f-4ef5-b1e9-9e86ac47944d",
   "metadata": {},
   "outputs": [],
   "source": []
  },
  {
   "cell_type": "code",
   "execution_count": null,
   "id": "47cb22bd-4e6a-495e-a09d-874eea85fe80",
   "metadata": {},
   "outputs": [],
   "source": []
  },
  {
   "cell_type": "code",
   "execution_count": 169,
   "id": "9f6a7ee5-24cd-436b-9aa2-1f697070414a",
   "metadata": {},
   "outputs": [],
   "source": [
    "class Employee():\n",
    "\n",
    "    organization_name = \"codeverra\"\n",
    "    appraisal_percent = 0.1\n",
    "    \n",
    "    def __init__( self, emp_name, emp_deptt, emp_dob, emp_salary = None):\n",
    "        self.name = emp_name\n",
    "        self.deptt = emp_deptt\n",
    "        self.dob = emp_dob\n",
    "        self.email = self.get_email()\n",
    "        self.salary = emp_salary\n",
    "\n",
    "    def get_email(self): # instance method\n",
    "        email = self.name.lower() + \"@\" + \"gmail.com\"\n",
    "        return email\n",
    "\n",
    "    def give_appraisal(self):\n",
    "        self.salary = self.salary * (1 + self.appraisal_percent)\n",
    "        print(f\"Promotion of {self.appraisal_percent *100} % given to {self.name}! The new salary is {self.salary} !! \")\n",
    "\n",
    "\n",
    "\n",
    "        "
   ]
  },
  {
   "cell_type": "code",
   "execution_count": 170,
   "id": "12b1fcf4-9859-4c0e-8471-8ba25481fdbd",
   "metadata": {},
   "outputs": [],
   "source": [
    "ramesh = Employee( \"Ramesh\",\"Finance\", \"1995-09-08\", 50000 )\n",
    "ghanshyam = Employee( \"Ghanshyam\",\"Tech\", \"1990-10-18\", 40000 )"
   ]
  },
  {
   "cell_type": "code",
   "execution_count": 174,
   "id": "46147a39-ef44-473e-8cac-d4836b56388d",
   "metadata": {},
   "outputs": [],
   "source": [
    "mohan = Employee( \"Mohan\",\"Sales\", \"1990-10-18\",80000 )"
   ]
  },
  {
   "cell_type": "code",
   "execution_count": 171,
   "id": "13b7ac0a-d527-4cd7-89d6-21b427db13d4",
   "metadata": {},
   "outputs": [
    {
     "data": {
      "text/plain": [
       "50000"
      ]
     },
     "execution_count": 171,
     "metadata": {},
     "output_type": "execute_result"
    }
   ],
   "source": [
    "ramesh.salary"
   ]
  },
  {
   "cell_type": "code",
   "execution_count": 172,
   "id": "546e077e-528e-4317-bb96-20e5ce2efde0",
   "metadata": {},
   "outputs": [
    {
     "name": "stdout",
     "output_type": "stream",
     "text": [
      "Promotion of 10.0 % given to Ramesh! The new salary is 55000.00000000001 !! \n"
     ]
    }
   ],
   "source": [
    "ramesh.give_appraisal()"
   ]
  },
  {
   "cell_type": "code",
   "execution_count": 173,
   "id": "34a6c05f-9902-4361-8545-c5ac95a16c8a",
   "metadata": {},
   "outputs": [
    {
     "name": "stdout",
     "output_type": "stream",
     "text": [
      "Promotion of 10.0 % given to Ghanshyam! The new salary is 44000.0 !! \n"
     ]
    }
   ],
   "source": [
    "ghanshyam.give_appraisal()"
   ]
  },
  {
   "cell_type": "code",
   "execution_count": 175,
   "id": "2f38cbca-b604-4947-ab0d-01df12928799",
   "metadata": {},
   "outputs": [
    {
     "name": "stdout",
     "output_type": "stream",
     "text": [
      "Promotion of 10.0 % given to Mohan! The new salary is 88000.0 !! \n"
     ]
    }
   ],
   "source": [
    "mohan.give_appraisal()"
   ]
  },
  {
   "cell_type": "code",
   "execution_count": 176,
   "id": "a23722db-bc95-4bf7-bc20-98705d3c3f91",
   "metadata": {},
   "outputs": [],
   "source": [
    "mohan.appraisal_percent = 0.5"
   ]
  },
  {
   "cell_type": "code",
   "execution_count": 177,
   "id": "ef298234-666d-4584-bc6a-961593a4efb9",
   "metadata": {},
   "outputs": [
    {
     "name": "stdout",
     "output_type": "stream",
     "text": [
      "Promotion of 50.0 % given to Mohan! The new salary is 132000.0 !! \n"
     ]
    }
   ],
   "source": [
    "mohan.give_appraisal()"
   ]
  },
  {
   "cell_type": "code",
   "execution_count": 178,
   "id": "3c6a94fa-2ae5-4311-a823-8ab70def7d2f",
   "metadata": {},
   "outputs": [
    {
     "data": {
      "text/plain": [
       "{'name': 'Mohan',\n",
       " 'deptt': 'Sales',\n",
       " 'dob': '1990-10-18',\n",
       " 'email': 'mohan@gmail.com',\n",
       " 'salary': 132000.0,\n",
       " 'appraisal_percent': 0.5}"
      ]
     },
     "execution_count": 178,
     "metadata": {},
     "output_type": "execute_result"
    }
   ],
   "source": [
    "mohan.__dict__"
   ]
  },
  {
   "cell_type": "code",
   "execution_count": null,
   "id": "5c5e891a-27f8-4f13-8fd9-2df84d0e9b97",
   "metadata": {},
   "outputs": [],
   "source": []
  },
  {
   "cell_type": "code",
   "execution_count": null,
   "id": "8ef8d692-32b3-4ebf-8f6f-20079acf72d1",
   "metadata": {},
   "outputs": [],
   "source": []
  },
  {
   "cell_type": "markdown",
   "id": "77300883-b777-4775-b709-850ad8659440",
   "metadata": {},
   "source": []
  },
  {
   "cell_type": "code",
   "execution_count": null,
   "id": "2cec0aaf-80d8-4f8f-843e-42dd9bdf49df",
   "metadata": {},
   "outputs": [],
   "source": []
  },
  {
   "cell_type": "code",
   "execution_count": null,
   "id": "27b244ad-5b2a-4ffa-b37b-85bcb60146d9",
   "metadata": {},
   "outputs": [],
   "source": []
  },
  {
   "cell_type": "code",
   "execution_count": null,
   "id": "9bf1eb62-8b24-4ee7-a33f-5cc067b7bd56",
   "metadata": {},
   "outputs": [],
   "source": []
  },
  {
   "cell_type": "code",
   "execution_count": null,
   "id": "35a92ac1-8faa-4909-b21b-a5f96532d1da",
   "metadata": {},
   "outputs": [],
   "source": []
  },
  {
   "cell_type": "code",
   "execution_count": null,
   "id": "dd274e5f-2e30-4bcf-9748-a47a637360e1",
   "metadata": {},
   "outputs": [],
   "source": []
  },
  {
   "cell_type": "code",
   "execution_count": null,
   "id": "e3e8e1f3-0af6-4475-9631-fcd8d621296f",
   "metadata": {},
   "outputs": [],
   "source": []
  },
  {
   "cell_type": "code",
   "execution_count": null,
   "id": "3c99574d-cc42-4118-b74c-2cfb7d4e370b",
   "metadata": {},
   "outputs": [],
   "source": []
  },
  {
   "cell_type": "code",
   "execution_count": null,
   "id": "c84fda81-85ad-4c30-888e-53a4e0e62adb",
   "metadata": {},
   "outputs": [],
   "source": []
  },
  {
   "cell_type": "code",
   "execution_count": null,
   "id": "4cdd19e4-03a6-4e08-a0d3-a55482f9907d",
   "metadata": {},
   "outputs": [],
   "source": []
  },
  {
   "cell_type": "code",
   "execution_count": null,
   "id": "b9bce603-565d-4384-acd8-3271b9363734",
   "metadata": {},
   "outputs": [],
   "source": []
  },
  {
   "cell_type": "code",
   "execution_count": null,
   "id": "4e3518e4-65ef-4856-a245-ca21339ea4af",
   "metadata": {},
   "outputs": [],
   "source": []
  },
  {
   "cell_type": "code",
   "execution_count": null,
   "id": "131b6be6-a96b-4c61-99b7-e76e5d2cefad",
   "metadata": {},
   "outputs": [],
   "source": []
  },
  {
   "cell_type": "code",
   "execution_count": null,
   "id": "edaa11a6-751a-4cac-b1cd-7da90514aacd",
   "metadata": {},
   "outputs": [],
   "source": []
  }
 ],
 "metadata": {
  "kernelspec": {
   "display_name": "Python 3 (ipykernel)",
   "language": "python",
   "name": "python3"
  },
  "language_info": {
   "codemirror_mode": {
    "name": "ipython",
    "version": 3
   },
   "file_extension": ".py",
   "mimetype": "text/x-python",
   "name": "python",
   "nbconvert_exporter": "python",
   "pygments_lexer": "ipython3",
   "version": "3.13.5"
  }
 },
 "nbformat": 4,
 "nbformat_minor": 5
}
