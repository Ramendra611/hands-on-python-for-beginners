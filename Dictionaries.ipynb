{
 "cells": [
  {
   "cell_type": "code",
   "execution_count": 1,
   "id": "e5c9adac",
   "metadata": {},
   "outputs": [],
   "source": [
    "my_dictionary = {}"
   ]
  },
  {
   "cell_type": "code",
   "execution_count": 2,
   "id": "141aa0a8",
   "metadata": {},
   "outputs": [
    {
     "data": {
      "text/plain": [
       "dict"
      ]
     },
     "execution_count": 2,
     "metadata": {},
     "output_type": "execute_result"
    }
   ],
   "source": [
    "type(my_dictionary)"
   ]
  },
  {
   "cell_type": "code",
   "execution_count": 3,
   "id": "62ef8141",
   "metadata": {},
   "outputs": [
    {
     "name": "stdout",
     "output_type": "stream",
     "text": [
      "<class 'dict'>\n"
     ]
    }
   ],
   "source": [
    "print(type(my_dictionary))"
   ]
  },
  {
   "cell_type": "code",
   "execution_count": null,
   "id": "3634413e",
   "metadata": {},
   "outputs": [],
   "source": []
  },
  {
   "cell_type": "code",
   "execution_count": 9,
   "id": "a174dd84",
   "metadata": {},
   "outputs": [],
   "source": [
    "capitals = {\n",
    "    \n",
    "    \"India\" : \"New Delhi\",\n",
    "    \"France\" : \"Paris\",\n",
    "    \"UK\" : \"London\"\n",
    "    \n",
    "}"
   ]
  },
  {
   "cell_type": "code",
   "execution_count": 10,
   "id": "fb329834",
   "metadata": {},
   "outputs": [],
   "source": [
    " ### Keys, values"
   ]
  },
  {
   "cell_type": "code",
   "execution_count": 11,
   "id": "fce03620",
   "metadata": {},
   "outputs": [
    {
     "data": {
      "text/plain": [
       "3"
      ]
     },
     "execution_count": 11,
     "metadata": {},
     "output_type": "execute_result"
    }
   ],
   "source": [
    "len(capitals)"
   ]
  },
  {
   "cell_type": "code",
   "execution_count": 12,
   "id": "ad9aa2bf",
   "metadata": {},
   "outputs": [
    {
     "data": {
      "text/plain": [
       "dict_keys(['India', 'France', 'UK'])"
      ]
     },
     "execution_count": 12,
     "metadata": {},
     "output_type": "execute_result"
    }
   ],
   "source": [
    "capitals.keys()"
   ]
  },
  {
   "cell_type": "code",
   "execution_count": 13,
   "id": "7bfeab24",
   "metadata": {},
   "outputs": [
    {
     "data": {
      "text/plain": [
       "dict_values(['New Delhi', 'Paris', 'London'])"
      ]
     },
     "execution_count": 13,
     "metadata": {},
     "output_type": "execute_result"
    }
   ],
   "source": [
    "capitals.values()"
   ]
  },
  {
   "cell_type": "code",
   "execution_count": null,
   "id": "021e16ff",
   "metadata": {},
   "outputs": [],
   "source": []
  },
  {
   "cell_type": "code",
   "execution_count": 15,
   "id": "ee7d2b63",
   "metadata": {},
   "outputs": [
    {
     "data": {
      "text/plain": [
       "'New Delhi'"
      ]
     },
     "execution_count": 15,
     "metadata": {},
     "output_type": "execute_result"
    }
   ],
   "source": [
    "capitals[\"India\"]"
   ]
  },
  {
   "cell_type": "code",
   "execution_count": 16,
   "id": "5cce4787",
   "metadata": {},
   "outputs": [
    {
     "data": {
      "text/plain": [
       "'Paris'"
      ]
     },
     "execution_count": 16,
     "metadata": {},
     "output_type": "execute_result"
    }
   ],
   "source": [
    "capitals[\"France\"]"
   ]
  },
  {
   "cell_type": "code",
   "execution_count": 17,
   "id": "08fb97df",
   "metadata": {},
   "outputs": [
    {
     "ename": "KeyError",
     "evalue": "'Pakistan'",
     "output_type": "error",
     "traceback": [
      "\u001b[0;31m---------------------------------------------------------------------------\u001b[0m",
      "\u001b[0;31mKeyError\u001b[0m                                  Traceback (most recent call last)",
      "Cell \u001b[0;32mIn[17], line 1\u001b[0m\n\u001b[0;32m----> 1\u001b[0m \u001b[43mcapitals\u001b[49m\u001b[43m[\u001b[49m\u001b[38;5;124;43m\"\u001b[39;49m\u001b[38;5;124;43mPakistan\u001b[39;49m\u001b[38;5;124;43m\"\u001b[39;49m\u001b[43m]\u001b[49m\n",
      "\u001b[0;31mKeyError\u001b[0m: 'Pakistan'"
     ]
    }
   ],
   "source": [
    "capitals[\"Pakistan\"]"
   ]
  },
  {
   "cell_type": "code",
   "execution_count": 18,
   "id": "58398192",
   "metadata": {},
   "outputs": [],
   "source": [
    "capitals[\"Germany\"] = \"Berlin\""
   ]
  },
  {
   "cell_type": "code",
   "execution_count": 19,
   "id": "e5a17bcf",
   "metadata": {},
   "outputs": [
    {
     "data": {
      "text/plain": [
       "{'India': 'New Delhi', 'France': 'Paris', 'UK': 'London', 'Germany': 'Berlin'}"
      ]
     },
     "execution_count": 19,
     "metadata": {},
     "output_type": "execute_result"
    }
   ],
   "source": [
    "capitals"
   ]
  },
  {
   "cell_type": "code",
   "execution_count": 21,
   "id": "00863ea8",
   "metadata": {},
   "outputs": [],
   "source": [
    "marks = {\n",
    "    \n",
    "    10 : [60, 50, 40], \n",
    "    20 : [60, 30, 10],\n",
    "    30 : [90, 30, 20]\n",
    "    \n",
    "}"
   ]
  },
  {
   "cell_type": "code",
   "execution_count": 23,
   "id": "fe7159a6",
   "metadata": {},
   "outputs": [
    {
     "data": {
      "text/plain": [
       "[60, 30, 10]"
      ]
     },
     "execution_count": 23,
     "metadata": {},
     "output_type": "execute_result"
    }
   ],
   "source": [
    "marks[20]"
   ]
  },
  {
   "cell_type": "code",
   "execution_count": 25,
   "id": "75610c7a",
   "metadata": {},
   "outputs": [
    {
     "data": {
      "text/plain": [
       "(dict_keys([10, 20, 30]),\n",
       " dict_values([[60, 50, 40], [60, 30, 10], [90, 30, 20]]))"
      ]
     },
     "execution_count": 25,
     "metadata": {},
     "output_type": "execute_result"
    }
   ],
   "source": [
    "marks.keys(), marks.values()"
   ]
  },
  {
   "cell_type": "code",
   "execution_count": 26,
   "id": "2f12b8b2",
   "metadata": {},
   "outputs": [
    {
     "data": {
      "text/plain": [
       "dict_items([(10, [60, 50, 40]), (20, [60, 30, 10]), (30, [90, 30, 20])])"
      ]
     },
     "execution_count": 26,
     "metadata": {},
     "output_type": "execute_result"
    }
   ],
   "source": [
    "marks.items()"
   ]
  },
  {
   "cell_type": "code",
   "execution_count": 31,
   "id": "e509d1bb",
   "metadata": {},
   "outputs": [
    {
     "data": {
      "text/plain": [
       "(20, [60, 30, 10])"
      ]
     },
     "execution_count": 31,
     "metadata": {},
     "output_type": "execute_result"
    }
   ],
   "source": [
    "list(marks.items())[1]"
   ]
  },
  {
   "cell_type": "code",
   "execution_count": null,
   "id": "0d84305c",
   "metadata": {},
   "outputs": [],
   "source": []
  },
  {
   "cell_type": "markdown",
   "id": "3af33ec9",
   "metadata": {},
   "source": [
    "## creating a dictionary"
   ]
  },
  {
   "cell_type": "code",
   "execution_count": 32,
   "id": "6c2407bb",
   "metadata": {},
   "outputs": [],
   "source": [
    "capitals = {\n",
    "    \n",
    "    \"India\" : \"New Delhi\",\n",
    "    \"France\" : \"Paris\",\n",
    "    \"UK\" : \"London\"\n",
    "    \n",
    "}"
   ]
  },
  {
   "cell_type": "code",
   "execution_count": 33,
   "id": "94fd93ad",
   "metadata": {},
   "outputs": [
    {
     "data": {
      "text/plain": [
       "{'India': 'New Delhi', 'France': 'Paris'}"
      ]
     },
     "execution_count": 33,
     "metadata": {},
     "output_type": "execute_result"
    }
   ],
   "source": [
    "dict(India = \"New Delhi\", France = \"Paris\")"
   ]
  },
  {
   "cell_type": "code",
   "execution_count": 35,
   "id": "f7493d28",
   "metadata": {},
   "outputs": [],
   "source": [
    "x = {}"
   ]
  },
  {
   "cell_type": "code",
   "execution_count": null,
   "id": "64c6ac46",
   "metadata": {},
   "outputs": [],
   "source": []
  },
  {
   "cell_type": "markdown",
   "id": "09ef171a",
   "metadata": {},
   "source": [
    "### Modifying elements of a dictionary"
   ]
  },
  {
   "cell_type": "code",
   "execution_count": 36,
   "id": "371ce6bd",
   "metadata": {},
   "outputs": [],
   "source": [
    "marks = {\n",
    "    \n",
    "    10 : [60, 50, 40], \n",
    "    20 : [60, 30, 10],\n",
    "    30 : [90, 30, 20]\n",
    "    \n",
    "}"
   ]
  },
  {
   "cell_type": "code",
   "execution_count": 37,
   "id": "7a52f29e",
   "metadata": {},
   "outputs": [],
   "source": [
    "marks[40] = [70, 40]"
   ]
  },
  {
   "cell_type": "code",
   "execution_count": 38,
   "id": "e90bad10",
   "metadata": {},
   "outputs": [
    {
     "data": {
      "text/plain": [
       "{10: [60, 50, 40], 20: [60, 30, 10], 30: [90, 30, 20], 40: [70, 40]}"
      ]
     },
     "execution_count": 38,
     "metadata": {},
     "output_type": "execute_result"
    }
   ],
   "source": [
    "marks"
   ]
  },
  {
   "cell_type": "code",
   "execution_count": 40,
   "id": "fb792cb4",
   "metadata": {},
   "outputs": [],
   "source": [
    "marks[40]  = [70, 40, 80]"
   ]
  },
  {
   "cell_type": "code",
   "execution_count": 41,
   "id": "b162b33d",
   "metadata": {},
   "outputs": [
    {
     "data": {
      "text/plain": [
       "{10: [60, 50, 40], 20: [60, 30, 10], 30: [90, 30, 20], 40: [70, 40, 80]}"
      ]
     },
     "execution_count": 41,
     "metadata": {},
     "output_type": "execute_result"
    }
   ],
   "source": [
    "marks"
   ]
  },
  {
   "cell_type": "code",
   "execution_count": 42,
   "id": "e59fc16f",
   "metadata": {},
   "outputs": [
    {
     "data": {
      "text/plain": [
       "{'India': 'New Delhi', 'France': 'Paris', 'UK': 'London'}"
      ]
     },
     "execution_count": 42,
     "metadata": {},
     "output_type": "execute_result"
    }
   ],
   "source": [
    "capitals"
   ]
  },
  {
   "cell_type": "code",
   "execution_count": 43,
   "id": "4bc56980",
   "metadata": {},
   "outputs": [],
   "source": [
    "capitals[\"India\"] = \"Delhi\""
   ]
  },
  {
   "cell_type": "code",
   "execution_count": 44,
   "id": "5be47fed",
   "metadata": {},
   "outputs": [
    {
     "data": {
      "text/plain": [
       "{'India': 'Delhi', 'France': 'Paris', 'UK': 'London'}"
      ]
     },
     "execution_count": 44,
     "metadata": {},
     "output_type": "execute_result"
    }
   ],
   "source": [
    "capitals"
   ]
  },
  {
   "cell_type": "code",
   "execution_count": null,
   "id": "86e86f5f",
   "metadata": {},
   "outputs": [],
   "source": []
  },
  {
   "cell_type": "code",
   "execution_count": 45,
   "id": "67254e4e",
   "metadata": {},
   "outputs": [
    {
     "name": "stdout",
     "output_type": "stream",
     "text": [
      "['__class__', '__class_getitem__', '__contains__', '__delattr__', '__delitem__', '__dir__', '__doc__', '__eq__', '__format__', '__ge__', '__getattribute__', '__getitem__', '__gt__', '__hash__', '__init__', '__init_subclass__', '__ior__', '__iter__', '__le__', '__len__', '__lt__', '__ne__', '__new__', '__or__', '__reduce__', '__reduce_ex__', '__repr__', '__reversed__', '__ror__', '__setattr__', '__setitem__', '__sizeof__', '__str__', '__subclasshook__', 'clear', 'copy', 'fromkeys', 'get', 'items', 'keys', 'pop', 'popitem', 'setdefault', 'update', 'values']\n"
     ]
    }
   ],
   "source": [
    "print(dir(capitals))"
   ]
  },
  {
   "cell_type": "markdown",
   "id": "8d88074a",
   "metadata": {},
   "source": [
    "## get"
   ]
  },
  {
   "cell_type": "code",
   "execution_count": 48,
   "id": "ddfe39d4",
   "metadata": {},
   "outputs": [
    {
     "data": {
      "text/plain": [
       "[60, 30, 10]"
      ]
     },
     "execution_count": 48,
     "metadata": {},
     "output_type": "execute_result"
    }
   ],
   "source": [
    "marks[20]"
   ]
  },
  {
   "cell_type": "code",
   "execution_count": 49,
   "id": "97d9c8a1",
   "metadata": {},
   "outputs": [
    {
     "data": {
      "text/plain": [
       "{10: [60, 50, 40], 20: [60, 30, 10], 30: [90, 30, 20], 40: [70, 40, 80]}"
      ]
     },
     "execution_count": 49,
     "metadata": {},
     "output_type": "execute_result"
    }
   ],
   "source": [
    "marks"
   ]
  },
  {
   "cell_type": "code",
   "execution_count": 51,
   "id": "1de4ed44",
   "metadata": {},
   "outputs": [
    {
     "ename": "KeyError",
     "evalue": "50",
     "output_type": "error",
     "traceback": [
      "\u001b[0;31m---------------------------------------------------------------------------\u001b[0m",
      "\u001b[0;31mKeyError\u001b[0m                                  Traceback (most recent call last)",
      "Cell \u001b[0;32mIn[51], line 1\u001b[0m\n\u001b[0;32m----> 1\u001b[0m \u001b[43mmarks\u001b[49m\u001b[43m[\u001b[49m\u001b[38;5;241;43m50\u001b[39;49m\u001b[43m]\u001b[49m\n",
      "\u001b[0;31mKeyError\u001b[0m: 50"
     ]
    }
   ],
   "source": [
    "marks[50]"
   ]
  },
  {
   "cell_type": "code",
   "execution_count": 54,
   "id": "945a00d3",
   "metadata": {},
   "outputs": [
    {
     "data": {
      "text/plain": [
       "[60, 30, 10]"
      ]
     },
     "execution_count": 54,
     "metadata": {},
     "output_type": "execute_result"
    }
   ],
   "source": [
    "marks.get(20, \"n/a\")"
   ]
  },
  {
   "cell_type": "code",
   "execution_count": null,
   "id": "054263c5",
   "metadata": {},
   "outputs": [],
   "source": []
  },
  {
   "cell_type": "code",
   "execution_count": null,
   "id": "ce6ee564",
   "metadata": {},
   "outputs": [],
   "source": []
  },
  {
   "cell_type": "markdown",
   "id": "e06cbe59",
   "metadata": {},
   "source": [
    "## update"
   ]
  },
  {
   "cell_type": "code",
   "execution_count": 55,
   "id": "87b48f34",
   "metadata": {},
   "outputs": [],
   "source": [
    "secA = {\n",
    "    1:40, 2:40, 9:50\n",
    "}\n",
    "\n",
    "secB = {\n",
    "    3:60, 12:40\n",
    "}"
   ]
  },
  {
   "cell_type": "code",
   "execution_count": 56,
   "id": "52358e29",
   "metadata": {},
   "outputs": [],
   "source": [
    "secA.update(secB)"
   ]
  },
  {
   "cell_type": "code",
   "execution_count": 57,
   "id": "b92ef5e1",
   "metadata": {},
   "outputs": [
    {
     "data": {
      "text/plain": [
       "{1: 40, 2: 40, 9: 50, 3: 60, 12: 40}"
      ]
     },
     "execution_count": 57,
     "metadata": {},
     "output_type": "execute_result"
    }
   ],
   "source": [
    "secA"
   ]
  },
  {
   "cell_type": "code",
   "execution_count": null,
   "id": "0a63655c",
   "metadata": {},
   "outputs": [],
   "source": []
  },
  {
   "cell_type": "code",
   "execution_count": 76,
   "id": "bb54267f",
   "metadata": {},
   "outputs": [
    {
     "data": {
      "text/plain": [
       "{1: 40, 2: 40, 9: 50, 3: 60, 12: 40}"
      ]
     },
     "execution_count": 76,
     "metadata": {},
     "output_type": "execute_result"
    }
   ],
   "source": [
    "section = {**secA, **secB}"
   ]
  },
  {
   "cell_type": "code",
   "execution_count": null,
   "id": "cf5430aa",
   "metadata": {},
   "outputs": [],
   "source": []
  },
  {
   "cell_type": "code",
   "execution_count": null,
   "id": "5f80bedc",
   "metadata": {},
   "outputs": [],
   "source": []
  },
  {
   "cell_type": "code",
   "execution_count": null,
   "id": "a447f04b",
   "metadata": {},
   "outputs": [],
   "source": []
  },
  {
   "cell_type": "code",
   "execution_count": null,
   "id": "2f06f354",
   "metadata": {},
   "outputs": [],
   "source": []
  },
  {
   "cell_type": "code",
   "execution_count": null,
   "id": "7bb026eb",
   "metadata": {},
   "outputs": [],
   "source": []
  },
  {
   "cell_type": "code",
   "execution_count": 65,
   "id": "57d504fa",
   "metadata": {},
   "outputs": [],
   "source": [
    "capitals = {'India': 'Delhi', 'France': 'Paris', 'UK': 'London'}"
   ]
  },
  {
   "cell_type": "code",
   "execution_count": 60,
   "id": "846e49dd",
   "metadata": {},
   "outputs": [
    {
     "data": {
      "text/plain": [
       "'London'"
      ]
     },
     "execution_count": 60,
     "metadata": {},
     "output_type": "execute_result"
    }
   ],
   "source": [
    "capitals.pop(\"UK\")"
   ]
  },
  {
   "cell_type": "code",
   "execution_count": 61,
   "id": "62f3e95f",
   "metadata": {},
   "outputs": [
    {
     "data": {
      "text/plain": [
       "{'India': 'Delhi', 'France': 'Paris'}"
      ]
     },
     "execution_count": 61,
     "metadata": {},
     "output_type": "execute_result"
    }
   ],
   "source": [
    "capitals"
   ]
  },
  {
   "cell_type": "code",
   "execution_count": null,
   "id": "a07d19c5",
   "metadata": {},
   "outputs": [],
   "source": []
  },
  {
   "cell_type": "code",
   "execution_count": 66,
   "id": "b39ccc24",
   "metadata": {},
   "outputs": [
    {
     "data": {
      "text/plain": [
       "('UK', 'London')"
      ]
     },
     "execution_count": 66,
     "metadata": {},
     "output_type": "execute_result"
    }
   ],
   "source": [
    "capitals.popitem()"
   ]
  },
  {
   "cell_type": "code",
   "execution_count": 67,
   "id": "03253471",
   "metadata": {},
   "outputs": [
    {
     "data": {
      "text/plain": [
       "{'India': 'Delhi', 'France': 'Paris'}"
      ]
     },
     "execution_count": 67,
     "metadata": {},
     "output_type": "execute_result"
    }
   ],
   "source": [
    "capitals"
   ]
  },
  {
   "cell_type": "code",
   "execution_count": null,
   "id": "0ace7b3d",
   "metadata": {},
   "outputs": [],
   "source": []
  },
  {
   "cell_type": "code",
   "execution_count": 69,
   "id": "168f70fa",
   "metadata": {},
   "outputs": [],
   "source": [
    "capitals.clear()"
   ]
  },
  {
   "cell_type": "code",
   "execution_count": 70,
   "id": "33d6e025",
   "metadata": {},
   "outputs": [
    {
     "data": {
      "text/plain": [
       "{}"
      ]
     },
     "execution_count": 70,
     "metadata": {},
     "output_type": "execute_result"
    }
   ],
   "source": [
    "capitals"
   ]
  },
  {
   "cell_type": "code",
   "execution_count": null,
   "id": "7055cd37",
   "metadata": {},
   "outputs": [],
   "source": []
  },
  {
   "cell_type": "code",
   "execution_count": 71,
   "id": "b9b6ea48",
   "metadata": {},
   "outputs": [],
   "source": [
    "capitals = {'India': 'Delhi', 'France': 'Paris', 'UK': 'London'}"
   ]
  },
  {
   "cell_type": "code",
   "execution_count": 72,
   "id": "539cae55",
   "metadata": {},
   "outputs": [
    {
     "data": {
      "text/plain": [
       "{'India': 'Delhi', 'France': 'Paris', 'UK': 'London'}"
      ]
     },
     "execution_count": 72,
     "metadata": {},
     "output_type": "execute_result"
    }
   ],
   "source": [
    "capitals"
   ]
  },
  {
   "cell_type": "code",
   "execution_count": 73,
   "id": "fab8169b",
   "metadata": {},
   "outputs": [],
   "source": [
    "del capitals[\"France\"]"
   ]
  },
  {
   "cell_type": "code",
   "execution_count": 74,
   "id": "a94cb733",
   "metadata": {},
   "outputs": [
    {
     "data": {
      "text/plain": [
       "{'India': 'Delhi', 'UK': 'London'}"
      ]
     },
     "execution_count": 74,
     "metadata": {},
     "output_type": "execute_result"
    }
   ],
   "source": [
    "capitals"
   ]
  },
  {
   "cell_type": "code",
   "execution_count": null,
   "id": "20c9a238",
   "metadata": {},
   "outputs": [],
   "source": []
  },
  {
   "cell_type": "code",
   "execution_count": null,
   "id": "968cfbfd",
   "metadata": {},
   "outputs": [],
   "source": []
  },
  {
   "cell_type": "markdown",
   "id": "26bf1fe8",
   "metadata": {},
   "source": [
    "## nested dictionaries"
   ]
  },
  {
   "cell_type": "code",
   "execution_count": 78,
   "id": "8d0bd3e5",
   "metadata": {},
   "outputs": [
    {
     "data": {
      "text/plain": [
       "{10: [60, 50, 40], 20: [60, 30, 10], 30: [90, 30, 20], 40: [70, 40, 80]}"
      ]
     },
     "execution_count": 78,
     "metadata": {},
     "output_type": "execute_result"
    }
   ],
   "source": [
    "marks"
   ]
  },
  {
   "cell_type": "code",
   "execution_count": 80,
   "id": "9723c37c",
   "metadata": {},
   "outputs": [],
   "source": [
    "marks  =  {\n",
    "    \n",
    "    10 : {\"Eng\": 60,\n",
    "         \"Math\":{\"theory\": 30, \"practical\":20},\n",
    "         \"Sci\":40},\n",
    "    \n",
    "    \n",
    "    20 : {\"Eng\": 60,\n",
    "         \"Math\":{\"theory\": 20, \"practical\":10},\n",
    "         \"Hindi\":10},\n",
    "    \n",
    "}"
   ]
  },
  {
   "cell_type": "code",
   "execution_count": 84,
   "id": "9fa2da6e",
   "metadata": {},
   "outputs": [
    {
     "data": {
      "text/plain": [
       "30"
      ]
     },
     "execution_count": 84,
     "metadata": {},
     "output_type": "execute_result"
    }
   ],
   "source": [
    "### How much did student 10 score in math theory\n",
    "\n",
    "marks[10][\"Math\"][\"theory\"]"
   ]
  },
  {
   "cell_type": "code",
   "execution_count": 85,
   "id": "3d7a00f4",
   "metadata": {},
   "outputs": [
    {
     "ename": "KeyError",
     "evalue": "'Hindi'",
     "output_type": "error",
     "traceback": [
      "\u001b[0;31m---------------------------------------------------------------------------\u001b[0m",
      "\u001b[0;31mKeyError\u001b[0m                                  Traceback (most recent call last)",
      "Cell \u001b[0;32mIn[85], line 3\u001b[0m\n\u001b[1;32m      1\u001b[0m \u001b[38;5;66;03m### How much did student 10 score in hindi theory\u001b[39;00m\n\u001b[0;32m----> 3\u001b[0m \u001b[43mmarks\u001b[49m\u001b[43m[\u001b[49m\u001b[38;5;241;43m10\u001b[39;49m\u001b[43m]\u001b[49m\u001b[43m[\u001b[49m\u001b[38;5;124;43m\"\u001b[39;49m\u001b[38;5;124;43mHindi\u001b[39;49m\u001b[38;5;124;43m\"\u001b[39;49m\u001b[43m]\u001b[49m[\u001b[38;5;124m\"\u001b[39m\u001b[38;5;124mtheory\u001b[39m\u001b[38;5;124m\"\u001b[39m]\n",
      "\u001b[0;31mKeyError\u001b[0m: 'Hindi'"
     ]
    }
   ],
   "source": [
    "### How much did student 10 score in hindi theory\n",
    "\n",
    "marks[10][\"Hindi\"][\"theory\"]"
   ]
  },
  {
   "cell_type": "code",
   "execution_count": 86,
   "id": "9c9131e1",
   "metadata": {},
   "outputs": [
    {
     "data": {
      "text/plain": [
       "'n/a'"
      ]
     },
     "execution_count": 86,
     "metadata": {},
     "output_type": "execute_result"
    }
   ],
   "source": [
    "marks[10].get(\"Hindi\",\"n/a\")"
   ]
  },
  {
   "cell_type": "code",
   "execution_count": 90,
   "id": "67280f90",
   "metadata": {},
   "outputs": [
    {
     "data": {
      "text/plain": [
       "'n/a'"
      ]
     },
     "execution_count": 90,
     "metadata": {},
     "output_type": "execute_result"
    }
   ],
   "source": [
    "marks[10].get(\"Hindi\",{}).get(\"theory\",\"n/a\")"
   ]
  },
  {
   "cell_type": "code",
   "execution_count": null,
   "id": "c74e4d3a",
   "metadata": {},
   "outputs": [],
   "source": []
  },
  {
   "cell_type": "markdown",
   "id": "6cc8c49e",
   "metadata": {},
   "source": [
    "##### setdefault"
   ]
  },
  {
   "cell_type": "code",
   "execution_count": 91,
   "id": "19fb14fb",
   "metadata": {},
   "outputs": [],
   "source": [
    "marks = {10: [60, 50, 40], 20: [60, 30, 10], 30: [90, 30, 20], 40: [70, 40, 80]}"
   ]
  },
  {
   "cell_type": "code",
   "execution_count": 92,
   "id": "65896405",
   "metadata": {},
   "outputs": [
    {
     "ename": "KeyError",
     "evalue": "50",
     "output_type": "error",
     "traceback": [
      "\u001b[0;31m---------------------------------------------------------------------------\u001b[0m",
      "\u001b[0;31mKeyError\u001b[0m                                  Traceback (most recent call last)",
      "Cell \u001b[0;32mIn[92], line 1\u001b[0m\n\u001b[0;32m----> 1\u001b[0m \u001b[43mmarks\u001b[49m\u001b[43m[\u001b[49m\u001b[38;5;241;43m50\u001b[39;49m\u001b[43m]\u001b[49m\n",
      "\u001b[0;31mKeyError\u001b[0m: 50"
     ]
    }
   ],
   "source": [
    "marks[50]"
   ]
  },
  {
   "cell_type": "code",
   "execution_count": 95,
   "id": "405494c5",
   "metadata": {},
   "outputs": [
    {
     "data": {
      "text/plain": [
       "[]"
      ]
     },
     "execution_count": 95,
     "metadata": {},
     "output_type": "execute_result"
    }
   ],
   "source": [
    "marks.get(50, [])"
   ]
  },
  {
   "cell_type": "code",
   "execution_count": 96,
   "id": "50273cc9",
   "metadata": {},
   "outputs": [
    {
     "data": {
      "text/plain": [
       "[]"
      ]
     },
     "execution_count": 96,
     "metadata": {},
     "output_type": "execute_result"
    }
   ],
   "source": [
    "marks.setdefault(50, [])"
   ]
  },
  {
   "cell_type": "code",
   "execution_count": 97,
   "id": "1dad11ca",
   "metadata": {},
   "outputs": [
    {
     "data": {
      "text/plain": [
       "{10: [60, 50, 40],\n",
       " 20: [60, 30, 10],\n",
       " 30: [90, 30, 20],\n",
       " 40: [70, 40, 80],\n",
       " 50: []}"
      ]
     },
     "execution_count": 97,
     "metadata": {},
     "output_type": "execute_result"
    }
   ],
   "source": [
    "marks"
   ]
  },
  {
   "cell_type": "code",
   "execution_count": null,
   "id": "152dce8d",
   "metadata": {},
   "outputs": [],
   "source": []
  },
  {
   "cell_type": "code",
   "execution_count": 98,
   "id": "30c44feb",
   "metadata": {},
   "outputs": [
    {
     "data": {
      "text/plain": [
       "[]"
      ]
     },
     "execution_count": 98,
     "metadata": {},
     "output_type": "execute_result"
    }
   ],
   "source": [
    "if 60 not in marks:\n",
    "    marks[60] = []\n",
    "\n",
    "marks[60]"
   ]
  },
  {
   "cell_type": "code",
   "execution_count": 99,
   "id": "cec690aa",
   "metadata": {},
   "outputs": [
    {
     "data": {
      "text/plain": [
       "{10: [60, 50, 40],\n",
       " 20: [60, 30, 10],\n",
       " 30: [90, 30, 20],\n",
       " 40: [70, 40, 80],\n",
       " 50: [],\n",
       " 60: []}"
      ]
     },
     "execution_count": 99,
     "metadata": {},
     "output_type": "execute_result"
    }
   ],
   "source": [
    "marks"
   ]
  },
  {
   "cell_type": "code",
   "execution_count": 100,
   "id": "534671b3",
   "metadata": {},
   "outputs": [
    {
     "data": {
      "text/plain": [
       "[50, 50]"
      ]
     },
     "execution_count": 100,
     "metadata": {},
     "output_type": "execute_result"
    }
   ],
   "source": [
    "marks.setdefault(70,[50, 50])"
   ]
  },
  {
   "cell_type": "code",
   "execution_count": 101,
   "id": "12342f2a",
   "metadata": {},
   "outputs": [
    {
     "data": {
      "text/plain": [
       "{10: [60, 50, 40],\n",
       " 20: [60, 30, 10],\n",
       " 30: [90, 30, 20],\n",
       " 40: [70, 40, 80],\n",
       " 50: [],\n",
       " 60: [],\n",
       " 70: [50, 50]}"
      ]
     },
     "execution_count": 101,
     "metadata": {},
     "output_type": "execute_result"
    }
   ],
   "source": [
    "marks"
   ]
  },
  {
   "cell_type": "code",
   "execution_count": null,
   "id": "b232e52b",
   "metadata": {},
   "outputs": [],
   "source": []
  }
 ],
 "metadata": {
  "kernelspec": {
   "display_name": "Python 3 (ipykernel)",
   "language": "python",
   "name": "python3"
  },
  "language_info": {
   "codemirror_mode": {
    "name": "ipython",
    "version": 3
   },
   "file_extension": ".py",
   "mimetype": "text/x-python",
   "name": "python",
   "nbconvert_exporter": "python",
   "pygments_lexer": "ipython3",
   "version": "3.10.8"
  }
 },
 "nbformat": 4,
 "nbformat_minor": 5
}
