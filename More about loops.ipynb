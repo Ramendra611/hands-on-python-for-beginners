{
 "cells": [
  {
   "cell_type": "markdown",
   "id": "1a17e734",
   "metadata": {},
   "source": [
    "## break continue pass "
   ]
  },
  {
   "cell_type": "code",
   "execution_count": 9,
   "id": "240f3e63",
   "metadata": {},
   "outputs": [
    {
     "name": "stdout",
     "output_type": "stream",
     "text": [
      "2\n",
      "5\n",
      "6\n",
      "8\n",
      "15\n",
      "EXITING\n"
     ]
    }
   ],
   "source": [
    "list_of_numbers = [2, 5, 6, 8, 15, 10]\n",
    "\n",
    "for number  in list_of_numbers:\n",
    "    print(number)\n",
    "    if number > 10:\n",
    "        print(\"EXITING\")\n",
    "        break"
   ]
  },
  {
   "cell_type": "code",
   "execution_count": null,
   "id": "bc21875d",
   "metadata": {},
   "outputs": [],
   "source": [
    "otp = int(input(\"Enter the OTP\"))\n",
    "while otp != correct_otp: # breaking condition\n",
    "    \n",
    "    print(\"WRONG OTP. TRY AGAIN :(\")\n",
    "    otp = int(input(\"Enter the OTP\"))\n",
    "    \n",
    "print(\"YOU ARE NOW LOOGED IN!!!\")\n",
    "    "
   ]
  },
  {
   "cell_type": "code",
   "execution_count": null,
   "id": "0e676781",
   "metadata": {},
   "outputs": [],
   "source": [
    "correct_otp = 1234"
   ]
  },
  {
   "cell_type": "code",
   "execution_count": 13,
   "id": "6ad9b2f2",
   "metadata": {},
   "outputs": [],
   "source": [
    "correct_otp = 1234\n",
    "otp = int(input(\"Enter the OTP\"))\n",
    "while True:\n",
    "    print(\"WRONG OTP. TRY AGAIN :(\")\n",
    "    otp = int(input(\"Enter the OTP\"))\n",
    "    if otp == correct_otp:\n",
    "        print(\"YOU ARE NOW LOGGED IN!!\")\n",
    "        break\n",
    "\n",
    "    "
   ]
  },
  {
   "cell_type": "markdown",
   "id": "fb5c0b0b",
   "metadata": {},
   "source": [
    "**Find the sum of all the even numbers**"
   ]
  },
  {
   "cell_type": "code",
   "execution_count": 16,
   "id": "98ba18a5",
   "metadata": {},
   "outputs": [
    {
     "name": "stdout",
     "output_type": "stream",
     "text": [
      "4\n",
      "5\n",
      "going to the next number\n",
      "10\n",
      "54\n",
      "43\n",
      "going to the next number\n",
      "21\n",
      "going to the next number\n",
      "34\n",
      "56\n"
     ]
    },
    {
     "data": {
      "text/plain": [
       "158"
      ]
     },
     "execution_count": 16,
     "metadata": {},
     "output_type": "execute_result"
    }
   ],
   "source": [
    "list_of_numbers = [4, 5, 10, 54, 43, 21, 34, 56]\n",
    "sum_of_even_numbers = 0\n",
    "for number in list_of_numbers:\n",
    "    print(number)\n",
    "    if number % 2 != 0: # the number is odd\n",
    "        print(\"going to the next number\")\n",
    "        continue\n",
    "    sum_of_even_numbers = sum_of_even_numbers + number\n",
    "    \n",
    "\n",
    "sum_of_even_numbers"
   ]
  },
  {
   "cell_type": "markdown",
   "id": "68e38585",
   "metadata": {},
   "source": [
    "## pass"
   ]
  },
  {
   "cell_type": "code",
   "execution_count": 22,
   "id": "90a6276e",
   "metadata": {},
   "outputs": [
    {
     "name": "stdout",
     "output_type": "stream",
     "text": [
      "Number is odd!!\n",
      "Number is odd!!\n",
      "Number is odd!!\n"
     ]
    }
   ],
   "source": [
    "list_of_numbers = [4, 5, 10, 54, 43, 21, 34, 56]\n",
    "for number in list_of_numbers:\n",
    "    if number % 2 ==0:\n",
    "#         print(number * 2)\n",
    "        pass\n",
    "    else:\n",
    "        print(\"Number is odd!!\")"
   ]
  },
  {
   "cell_type": "code",
   "execution_count": null,
   "id": "a8a3ecf8",
   "metadata": {},
   "outputs": [],
   "source": []
  },
  {
   "cell_type": "markdown",
   "id": "e90d1029",
   "metadata": {},
   "source": [
    "**Imagine you are searching for a customer's order in a long list. Once you find the relevant order, you don’t need to check further.**\n",
    "        \n",
    "```orders = [{\"order_id\": 101, \"customer\": \"Ravi\"},{\"order_id\": 102, \"customer\": \"Anita\"},{\"order_id\": 103, \"customer\": \"Ramesh\"},]```"
   ]
  },
  {
   "cell_type": "code",
   "execution_count": 25,
   "id": "29aa6525",
   "metadata": {},
   "outputs": [],
   "source": [
    "orders = [{\"order_id\": 101, \"customer\": \"Ravi\"},{\"order_id\": 102, \"customer\": \"Anita\"},{\"order_id\": 103, \"customer\": \"Ramesh\"},]"
   ]
  },
  {
   "cell_type": "code",
   "execution_count": 26,
   "id": "4e9dc037",
   "metadata": {},
   "outputs": [
    {
     "data": {
      "text/plain": [
       "[{'order_id': 101, 'customer': 'Ravi'},\n",
       " {'order_id': 102, 'customer': 'Anita'},\n",
       " {'order_id': 103, 'customer': 'Ramesh'}]"
      ]
     },
     "execution_count": 26,
     "metadata": {},
     "output_type": "execute_result"
    }
   ],
   "source": [
    "orders"
   ]
  },
  {
   "cell_type": "code",
   "execution_count": 27,
   "id": "24cb2b93",
   "metadata": {},
   "outputs": [
    {
     "name": "stdout",
     "output_type": "stream",
     "text": [
      "Name of the customer:  Anita\n"
     ]
    }
   ],
   "source": [
    "for order in orders:\n",
    "    if order[\"order_id\"] == 102:\n",
    "        print(\"Name of the customer: \", order[\"customer\"])\n",
    "        break"
   ]
  },
  {
   "cell_type": "code",
   "execution_count": null,
   "id": "044329d1",
   "metadata": {},
   "outputs": [],
   "source": []
  },
  {
   "cell_type": "markdown",
   "id": "dbead427",
   "metadata": {},
   "source": [
    "**Given the list of transactions print only the successfull transactions**\n",
    "\n",
    "```transactions = [{\"id\": 1, \"status\": \"success\", \"amount\": 1000},{\"id\": 2, \"status\": \"failed\", \"amount\": 500},{\"id\": 3, \"status\": \"success\", \"amount\": 750},]```"
   ]
  },
  {
   "cell_type": "code",
   "execution_count": 28,
   "id": "4656879d",
   "metadata": {},
   "outputs": [],
   "source": [
    "transactions = [{\"id\": 1, \"status\": \"success\", \"amount\": 1000},{\"id\": 2, \"status\": \"failed\", \"amount\": 500},{\"id\": 3, \"status\": \"success\", \"amount\": 750},]"
   ]
  },
  {
   "cell_type": "code",
   "execution_count": 29,
   "id": "14f6dd0a",
   "metadata": {},
   "outputs": [
    {
     "data": {
      "text/plain": [
       "[{'id': 1, 'status': 'success', 'amount': 1000},\n",
       " {'id': 2, 'status': 'failed', 'amount': 500},\n",
       " {'id': 3, 'status': 'success', 'amount': 750}]"
      ]
     },
     "execution_count": 29,
     "metadata": {},
     "output_type": "execute_result"
    }
   ],
   "source": [
    "transactions"
   ]
  },
  {
   "cell_type": "code",
   "execution_count": 31,
   "id": "770f8059",
   "metadata": {},
   "outputs": [
    {
     "name": "stdout",
     "output_type": "stream",
     "text": [
      "{'id': 1, 'status': 'success', 'amount': 1000}\n",
      "{'id': 3, 'status': 'success', 'amount': 750}\n"
     ]
    }
   ],
   "source": [
    "for trans in transactions:\n",
    "    if trans[\"status\"]==\"failed\":\n",
    "        continue\n",
    "    print(trans)"
   ]
  },
  {
   "cell_type": "code",
   "execution_count": null,
   "id": "d0545f2d",
   "metadata": {},
   "outputs": [],
   "source": []
  },
  {
   "cell_type": "markdown",
   "id": "499fe986",
   "metadata": {},
   "source": [
    "**Find out the first repeating character in a string**"
   ]
  },
  {
   "cell_type": "code",
   "execution_count": 38,
   "id": "7cf44a60",
   "metadata": {},
   "outputs": [
    {
     "name": "stdout",
     "output_type": "stream",
     "text": [
      "Repeating character found: e\n"
     ]
    }
   ],
   "source": [
    "string = \"New Zealand\"\n",
    "\n",
    "my_set = set()\n",
    "for character in string:\n",
    "    if character in my_set:\n",
    "        print(f\"Repeating character found: {character}\")\n",
    "        break\n",
    "    my_set.add(character)\n",
    "# my_set\n",
    "    "
   ]
  },
  {
   "cell_type": "code",
   "execution_count": null,
   "id": "59cdaff7",
   "metadata": {},
   "outputs": [],
   "source": []
  },
  {
   "cell_type": "code",
   "execution_count": null,
   "id": "6408841e",
   "metadata": {},
   "outputs": [],
   "source": []
  },
  {
   "cell_type": "markdown",
   "id": "4b3c73a4",
   "metadata": {},
   "source": [
    "**Find out the unique elements in the list of numbers given**"
   ]
  },
  {
   "cell_type": "code",
   "execution_count": 40,
   "id": "c4b3357b",
   "metadata": {},
   "outputs": [],
   "source": [
    "numbers = [1, 2, 2, 3, 4, 4, 5]"
   ]
  },
  {
   "cell_type": "code",
   "execution_count": 43,
   "id": "87ece755",
   "metadata": {},
   "outputs": [
    {
     "data": {
      "text/plain": [
       "[1, 2, 3, 4, 5]"
      ]
     },
     "execution_count": 43,
     "metadata": {},
     "output_type": "execute_result"
    }
   ],
   "source": [
    "unique_list = []\n",
    "for number in numbers:\n",
    "    if number in unique_list:\n",
    "        continue\n",
    "    unique_list.append(number)\n",
    "unique_list"
   ]
  },
  {
   "cell_type": "code",
   "execution_count": 60,
   "id": "fc638235",
   "metadata": {},
   "outputs": [
    {
     "data": {
      "text/plain": [
       "[1, 2, 3, 4, 5]"
      ]
     },
     "execution_count": 60,
     "metadata": {},
     "output_type": "execute_result"
    }
   ],
   "source": [
    "ind = 0\n",
    "while True:\n",
    "    if ind == len(numbers)-1:\n",
    "        break\n",
    "    number = numbers[ind]\n",
    "    if number in unique_list:\n",
    "        ind += 1\n",
    "        continue\n",
    "    unique_list.append(number)\n",
    "#     ind = ind + 1\n",
    "    ind += 1\n",
    "\n",
    "unique_list\n",
    "    \n",
    "    "
   ]
  },
  {
   "cell_type": "code",
   "execution_count": 63,
   "id": "dc334f8c",
   "metadata": {},
   "outputs": [
    {
     "data": {
      "text/plain": [
       "[1, 2, 2, 3, 4, 4, 5]"
      ]
     },
     "execution_count": 63,
     "metadata": {},
     "output_type": "execute_result"
    }
   ],
   "source": [
    "numbers"
   ]
  },
  {
   "cell_type": "code",
   "execution_count": 72,
   "id": "bb18bd9c",
   "metadata": {},
   "outputs": [
    {
     "data": {
      "text/plain": [
       "[1, 2, 3, 4, 5]"
      ]
     },
     "execution_count": 72,
     "metadata": {},
     "output_type": "execute_result"
    }
   ],
   "source": [
    "ind = 0\n",
    "unique_list = []\n",
    "while ind < len(numbers):\n",
    "    number = numbers[ind]\n",
    "    if number in unique_list:\n",
    "        ind += 1\n",
    "        continue\n",
    "    unique_list.append(number)\n",
    "#     ind = ind + 1\n",
    "    ind += 1\n",
    "\n",
    "unique_list"
   ]
  },
  {
   "cell_type": "code",
   "execution_count": null,
   "id": "ed0b0e96",
   "metadata": {},
   "outputs": [],
   "source": []
  },
  {
   "cell_type": "markdown",
   "id": "d352167c",
   "metadata": {},
   "source": [
    "## using the else block with loops"
   ]
  },
  {
   "cell_type": "code",
   "execution_count": null,
   "id": "9bd19dd0",
   "metadata": {},
   "outputs": [],
   "source": []
  },
  {
   "cell_type": "markdown",
   "id": "4f72dbdf",
   "metadata": {},
   "source": [
    "    for condition:\n",
    "        print (\"something\")\n",
    "\n",
    "    else:\n",
    "        print(\"the loop completed successfully\")\n"
   ]
  },
  {
   "cell_type": "markdown",
   "id": "a5e6c98e",
   "metadata": {},
   "source": [
    "**Write a code to search through a list of file and display a suitable message if the file is not found**\n",
    "\n",
    "```files = [\"income_report_2022.pdf\",\"expense_sheet.xlsx\", \"employee_data.csv\", \"presentation.pptx\", \"sales_report.pdf\"]```"
   ]
  },
  {
   "cell_type": "code",
   "execution_count": 4,
   "id": "589e8cec",
   "metadata": {},
   "outputs": [],
   "source": [
    "files = [\"income_report_2022.pdf\",\"expense_sheet.xlsx\", \"employee_data.csv\", \"presentation.pptx\", \"sales_report.pdf\"]"
   ]
  },
  {
   "cell_type": "code",
   "execution_count": 5,
   "id": "e50105e7",
   "metadata": {},
   "outputs": [
    {
     "data": {
      "text/plain": [
       "['income_report_2022.pdf',\n",
       " 'expense_sheet.xlsx',\n",
       " 'employee_data.csv',\n",
       " 'presentation.pptx',\n",
       " 'sales_report.pdf']"
      ]
     },
     "execution_count": 5,
     "metadata": {},
     "output_type": "execute_result"
    }
   ],
   "source": [
    "files"
   ]
  },
  {
   "cell_type": "code",
   "execution_count": 9,
   "id": "baa208ec",
   "metadata": {},
   "outputs": [
    {
     "name": "stdout",
     "output_type": "stream",
     "text": [
      "The file was not found! \n"
     ]
    }
   ],
   "source": [
    "file_to_look_for = \"movies.mp4\"\n",
    "\n",
    "for file in files:\n",
    "    if file == file_to_look_for:\n",
    "        print(f\"The file {file} was found!\")\n",
    "        break\n",
    "else:\n",
    "    print(\"The file was not found! \")\n",
    "\n"
   ]
  },
  {
   "cell_type": "code",
   "execution_count": null,
   "id": "918de8c3",
   "metadata": {},
   "outputs": [],
   "source": []
  },
  {
   "cell_type": "markdown",
   "id": "9c25c7f1",
   "metadata": {},
   "source": [
    "**Use a `for` loop with `else` to check if a list has any repeated elements.**\n",
    "\n",
    "```numbers = [1, 2, 3, 4, 5, 3, 1, 5, 6, 4]```"
   ]
  },
  {
   "cell_type": "code",
   "execution_count": 15,
   "id": "d7908530",
   "metadata": {},
   "outputs": [],
   "source": [
    "numbers = [1, 2, 28,  3, 4, 5, 31, 12, 51, 67, 43]"
   ]
  },
  {
   "cell_type": "code",
   "execution_count": 16,
   "id": "d2616d55",
   "metadata": {},
   "outputs": [
    {
     "name": "stdout",
     "output_type": "stream",
     "text": [
      "No repeat numbers were found!!! \n"
     ]
    }
   ],
   "source": [
    "my_list = []\n",
    "for number in numbers:\n",
    "    if number not in my_list:\n",
    "        my_list.append(number)\n",
    "    else:\n",
    "        print(f\"Repeat number found! {number}\")\n",
    "        break\n",
    "else:\n",
    "    print(\"No repeat numbers were found!!! \")"
   ]
  },
  {
   "cell_type": "code",
   "execution_count": 26,
   "id": "3e4b78de",
   "metadata": {},
   "outputs": [],
   "source": [
    "numbers = [1, 2, 28,   3, 4, 5, 31, 12, 51, 67, 43]"
   ]
  },
  {
   "cell_type": "code",
   "execution_count": 24,
   "id": "9d7616a8",
   "metadata": {},
   "outputs": [
    {
     "name": "stdout",
     "output_type": "stream",
     "text": [
      "Repeat number found! 28\n"
     ]
    }
   ],
   "source": [
    "ind = 0\n",
    "my_list = []\n",
    "\n",
    "while ind < len(numbers):\n",
    "    number= numbers[ind]\n",
    "    if number not in my_list:\n",
    "        my_list.append(number)\n",
    "        ind = ind + 1\n",
    "    else:\n",
    "        print(f\"Repeat number found! {number}\")\n",
    "        break\n",
    "else:\n",
    "    print(\"No repeat numbers were found!!! \")\n"
   ]
  },
  {
   "cell_type": "code",
   "execution_count": 27,
   "id": "139eb17f",
   "metadata": {},
   "outputs": [],
   "source": [
    "ind = 0\n",
    "my_list = []\n",
    "\n",
    "while True:\n",
    "    if ind < len(numbers):\n",
    "        break\n",
    "    \n",
    "    number= numbers[ind]\n",
    "    if number not in my_list:\n",
    "        my_list.append(number)\n",
    "        ind = ind + 1\n",
    "    else:\n",
    "        print(f\"Repeat number found! {number}\")\n",
    "        break\n",
    "else:\n",
    "    print(\"No repeat numbers were found!!! \")"
   ]
  },
  {
   "cell_type": "code",
   "execution_count": null,
   "id": "2710be79",
   "metadata": {},
   "outputs": [],
   "source": []
  },
  {
   "cell_type": "code",
   "execution_count": null,
   "id": "8cf62bd0",
   "metadata": {},
   "outputs": [],
   "source": []
  },
  {
   "cell_type": "markdown",
   "id": "9fa010c3",
   "metadata": {},
   "source": [
    "**Check if all students passed an exam. Use `else` to print a message if everyone passed.**\n",
    "\n",
    "```students_scores = [85, 92, 78, 60, 49]```"
   ]
  },
  {
   "cell_type": "code",
   "execution_count": 32,
   "id": "cd0352ec",
   "metadata": {},
   "outputs": [],
   "source": [
    "students_scores = [85, 92, 78,35 , 60, 49]\n",
    "passing_score = 40"
   ]
  },
  {
   "cell_type": "code",
   "execution_count": 33,
   "id": "c215d1d1",
   "metadata": {},
   "outputs": [
    {
     "name": "stdout",
     "output_type": "stream",
     "text": [
      "Student with marks 35 has failed!\n"
     ]
    }
   ],
   "source": [
    "for score in students_scores:\n",
    "    if score < passing_score:\n",
    "        print(f\"Student with marks {score} has failed!\")\n",
    "        break\n",
    "else:\n",
    "    print(\"All the students have passed!!!\")\n",
    "        "
   ]
  },
  {
   "cell_type": "code",
   "execution_count": null,
   "id": "49a2b151",
   "metadata": {},
   "outputs": [],
   "source": []
  },
  {
   "cell_type": "code",
   "execution_count": null,
   "id": "00d3855e",
   "metadata": {},
   "outputs": [],
   "source": []
  },
  {
   "cell_type": "code",
   "execution_count": null,
   "id": "7eb25d39",
   "metadata": {},
   "outputs": [],
   "source": []
  },
  {
   "cell_type": "markdown",
   "id": "17b886c9",
   "metadata": {},
   "source": [
    "## enumerate function in loops"
   ]
  },
  {
   "cell_type": "code",
   "execution_count": 35,
   "id": "ef19467c",
   "metadata": {},
   "outputs": [],
   "source": [
    "fruits = [ ['Apple', 10], ['Banana', 5], ['Orange', 8] ]\n",
    "\n",
    "\n",
    "# '''\n",
    "\n",
    "# 1. Apple 10pcs\n",
    "# 2. Banana 5 pcs\n",
    "# 3. Orange 8pcs\n",
    "\n",
    "# '''"
   ]
  },
  {
   "cell_type": "code",
   "execution_count": null,
   "id": "c79c3585",
   "metadata": {},
   "outputs": [],
   "source": []
  },
  {
   "cell_type": "code",
   "execution_count": 39,
   "id": "43dc2fb9",
   "metadata": {},
   "outputs": [
    {
     "name": "stdout",
     "output_type": "stream",
     "text": [
      "  Apple  10pcs\n",
      "  Banana  5pcs\n",
      "  Orange  8pcs\n"
     ]
    }
   ],
   "source": [
    "\n",
    "for fruit in  fruits:\n",
    "    print(f\"  {fruit[0]}  {fruit[1]}pcs\", )\n",
    "    "
   ]
  },
  {
   "cell_type": "code",
   "execution_count": 38,
   "id": "09aee2dd",
   "metadata": {},
   "outputs": [
    {
     "name": "stdout",
     "output_type": "stream",
     "text": [
      " 1. Apple  10pcs\n",
      " 2. Banana  5pcs\n",
      " 3. Orange  8pcs\n"
     ]
    }
   ],
   "source": [
    "count = 1\n",
    "for fruit in  fruits:\n",
    "    print(f\" {count}. {fruit[0]}  {fruit[1]}pcs\", )\n",
    "    count = count + 1"
   ]
  },
  {
   "cell_type": "code",
   "execution_count": 43,
   "id": "00a5cbb5",
   "metadata": {},
   "outputs": [
    {
     "name": "stdout",
     "output_type": "stream",
     "text": [
      "1.  Apple  10pcs\n",
      "2.  Banana  5pcs\n",
      "3.  Orange  8pcs\n"
     ]
    }
   ],
   "source": [
    "\n",
    "for ind in  range(len(fruits)):\n",
    "    fruit = fruits[ind]\n",
    "    print(f\"{ind + 1}.  {fruit[0]}  {fruit[1]}pcs\", )\n"
   ]
  },
  {
   "cell_type": "code",
   "execution_count": 45,
   "id": "a1314f6e",
   "metadata": {},
   "outputs": [
    {
     "data": {
      "text/plain": [
       "[(0, ['Apple', 10]), (1, ['Banana', 5]), (2, ['Orange', 8])]"
      ]
     },
     "execution_count": 45,
     "metadata": {},
     "output_type": "execute_result"
    }
   ],
   "source": [
    "list(enumerate(fruits))"
   ]
  },
  {
   "cell_type": "code",
   "execution_count": 49,
   "id": "29121e62",
   "metadata": {},
   "outputs": [
    {
     "data": {
      "text/plain": [
       "[(1, ['Apple', 10]), (2, ['Banana', 5]), (3, ['Orange', 8])]"
      ]
     },
     "execution_count": 49,
     "metadata": {},
     "output_type": "execute_result"
    }
   ],
   "source": [
    "list(enumerate(fruits, start = 1))"
   ]
  },
  {
   "cell_type": "code",
   "execution_count": 50,
   "id": "b27a5475",
   "metadata": {},
   "outputs": [
    {
     "name": "stdout",
     "output_type": "stream",
     "text": [
      "1.  Apple  10pcs\n",
      "2.  Banana  5pcs\n",
      "3.  Orange  8pcs\n"
     ]
    }
   ],
   "source": [
    "for ind, fruit in enumerate(fruits, start = 1):\n",
    "    print(f\"{ind}.  {fruit[0]}  {fruit[1]}pcs\", )"
   ]
  },
  {
   "cell_type": "code",
   "execution_count": null,
   "id": "36b95133",
   "metadata": {},
   "outputs": [],
   "source": []
  },
  {
   "cell_type": "markdown",
   "id": "2d9fb807",
   "metadata": {},
   "source": [
    "**Use `enumerate()` to convert a list of city names into a dictionary where the key is the index and the value is the city name.**\n",
    "\n",
    "```cities = [\"Mumbai\", \"Delhi\", \"Chennai\", \"Kolkata\"]```"
   ]
  },
  {
   "cell_type": "code",
   "execution_count": 51,
   "id": "0e2638b0",
   "metadata": {},
   "outputs": [
    {
     "data": {
      "text/plain": [
       "{0: 'Mumbai', 1: 'Delhi'}"
      ]
     },
     "execution_count": 51,
     "metadata": {},
     "output_type": "execute_result"
    }
   ],
   "source": [
    "{\n",
    "    0 : \"Mumbai\",\n",
    "    1 : \"Delhi\"\n",
    "}"
   ]
  },
  {
   "cell_type": "code",
   "execution_count": 53,
   "id": "3529220f",
   "metadata": {},
   "outputs": [],
   "source": [
    "cities = [\"Mumbai\", \"Delhi\", \"Chennai\", \"Kolkata\"]"
   ]
  },
  {
   "cell_type": "code",
   "execution_count": 54,
   "id": "8ab65c2a",
   "metadata": {},
   "outputs": [
    {
     "data": {
      "text/plain": [
       "{0: 'Mumbai', 1: 'Delhi', 2: 'Chennai', 3: 'Kolkata'}"
      ]
     },
     "execution_count": 54,
     "metadata": {},
     "output_type": "execute_result"
    }
   ],
   "source": [
    "city_dictionary = {}\n",
    "for ind, city in enumerate(cities):\n",
    "    city_dictionary[ind] = city\n",
    "    \n",
    "city_dictionary"
   ]
  },
  {
   "cell_type": "code",
   "execution_count": 56,
   "id": "38468d03",
   "metadata": {},
   "outputs": [
    {
     "data": {
      "text/plain": [
       "{0: 'Mumbai', 1: 'Delhi', 2: 'Chennai', 3: 'Kolkata'}"
      ]
     },
     "execution_count": 56,
     "metadata": {},
     "output_type": "execute_result"
    }
   ],
   "source": [
    "city_dictionary = {ind : city for ind, city in enumerate(cities)}\n",
    "city_dictionary"
   ]
  },
  {
   "cell_type": "code",
   "execution_count": null,
   "id": "4e716e54",
   "metadata": {},
   "outputs": [],
   "source": []
  },
  {
   "cell_type": "code",
   "execution_count": 59,
   "id": "f573714d",
   "metadata": {},
   "outputs": [
    {
     "data": {
      "text/plain": [
       "{0: 'Mumbai', 1: 'Delhi', 2: 'Chennai', 3: 'Kolkata'}"
      ]
     },
     "execution_count": 59,
     "metadata": {},
     "output_type": "execute_result"
    }
   ],
   "source": [
    "city_dictionary = {}\n",
    "for ind in range(len(cities)):\n",
    "    city = cities[ind]\n",
    "    city_dictionary[ind] = city\n",
    "    \n",
    "city_dictionary"
   ]
  },
  {
   "cell_type": "code",
   "execution_count": null,
   "id": "aaa4361a",
   "metadata": {},
   "outputs": [],
   "source": []
  },
  {
   "cell_type": "code",
   "execution_count": null,
   "id": "a601b64e",
   "metadata": {},
   "outputs": [],
   "source": []
  },
  {
   "cell_type": "code",
   "execution_count": null,
   "id": "c3539ccf",
   "metadata": {},
   "outputs": [],
   "source": []
  },
  {
   "cell_type": "markdown",
   "id": "1b93c094",
   "metadata": {},
   "source": [
    "**Use `enumerate()` to increase all even-indexed elements in a list by 10.**\n",
    "\n",
    "```numbers = [5, 7, 2, 8, 10, 3]```"
   ]
  },
  {
   "cell_type": "code",
   "execution_count": 62,
   "id": "a787d6df",
   "metadata": {},
   "outputs": [],
   "source": [
    "numbers = [5, 7, 2, 8, 10, 3]"
   ]
  },
  {
   "cell_type": "code",
   "execution_count": 63,
   "id": "77e91466",
   "metadata": {},
   "outputs": [
    {
     "data": {
      "text/plain": [
       "[15, 7, 12, 8, 20, 3]"
      ]
     },
     "execution_count": 63,
     "metadata": {},
     "output_type": "execute_result"
    }
   ],
   "source": [
    "for ind, number in enumerate(numbers):\n",
    "    if ind % 2 ==0 :\n",
    "#         numbers[ind] =  numbers[ind] + 10\n",
    "        numbers[ind] += 10\n",
    "numbers"
   ]
  },
  {
   "cell_type": "code",
   "execution_count": null,
   "id": "962c1715",
   "metadata": {},
   "outputs": [],
   "source": []
  },
  {
   "cell_type": "markdown",
   "id": "9db8f24b",
   "metadata": {},
   "source": [
    "**Use `enumerate()` to loop over two lists and print the index with elements from both lists.**\n",
    "\n",
    "```\n",
    "names = [\"Aman\", \"Ravi\", \"Simran\"]\n",
    "scores = [85, 90, 78]\n",
    "```"
   ]
  },
  {
   "cell_type": "code",
   "execution_count": 65,
   "id": "038bc331",
   "metadata": {},
   "outputs": [],
   "source": [
    "# '''\n",
    "# 1. Aman 85\n",
    "# 2. Ravi 90\n",
    "# 3. Simran 78'''"
   ]
  },
  {
   "cell_type": "code",
   "execution_count": 73,
   "id": "58453ef6",
   "metadata": {},
   "outputs": [],
   "source": [
    "names = [\"Aman\", \"Ravi\", \"Simran\"]\n",
    "scores = [85, 90, 78]"
   ]
  },
  {
   "cell_type": "code",
   "execution_count": 68,
   "id": "b0c9acec",
   "metadata": {},
   "outputs": [
    {
     "data": {
      "text/plain": [
       "[('Aman', 85), ('Ravi', 90), ('Simran', 78)]"
      ]
     },
     "execution_count": 68,
     "metadata": {},
     "output_type": "execute_result"
    }
   ],
   "source": [
    "list(zip(names, scores))"
   ]
  },
  {
   "cell_type": "code",
   "execution_count": 74,
   "id": "068587fe",
   "metadata": {},
   "outputs": [
    {
     "data": {
      "text/plain": [
       "[('Aman', 85), ('Ravi', 90), ('Simran', 78)]"
      ]
     },
     "execution_count": 74,
     "metadata": {},
     "output_type": "execute_result"
    }
   ],
   "source": [
    "list(zip(names, scores))"
   ]
  },
  {
   "cell_type": "code",
   "execution_count": 76,
   "id": "bfa0e50a",
   "metadata": {},
   "outputs": [
    {
     "data": {
      "text/plain": [
       "[(0, ('Aman', 85)), (1, ('Ravi', 90)), (2, ('Simran', 78))]"
      ]
     },
     "execution_count": 76,
     "metadata": {},
     "output_type": "execute_result"
    }
   ],
   "source": [
    "list(enumerate(list(zip(names, scores))))"
   ]
  },
  {
   "cell_type": "code",
   "execution_count": 94,
   "id": "7d37d301",
   "metadata": {},
   "outputs": [
    {
     "name": "stdout",
     "output_type": "stream",
     "text": [
      "1. Aman 85\n",
      "2. Ravi 90\n",
      "3. Simran 78\n"
     ]
    }
   ],
   "source": [
    "for ind, (name, score) in enumerate(list(zip(names, scores)), start = 1):\n",
    "    print(f\"{ind}. {name} {score}\")"
   ]
  },
  {
   "cell_type": "code",
   "execution_count": null,
   "id": "a05e1688",
   "metadata": {},
   "outputs": [],
   "source": []
  },
  {
   "cell_type": "code",
   "execution_count": 99,
   "id": "f1c3fd46",
   "metadata": {},
   "outputs": [
    {
     "name": "stdout",
     "output_type": "stream",
     "text": [
      "1.       Aman                   85\n",
      "2.       Ravi                   90\n",
      "3.     Simran                   78\n"
     ]
    }
   ],
   "source": [
    "for ind, (name, score) in enumerate(list(zip(names, scores)), start = 1):\n",
    "    print(f\"{ind}. {name:>10} {score:>20}\")"
   ]
  },
  {
   "cell_type": "code",
   "execution_count": 104,
   "id": "064b1091",
   "metadata": {},
   "outputs": [
    {
     "name": "stdout",
     "output_type": "stream",
     "text": [
      "1.       Aman --------85\n",
      "2.       Ravi --------90\n",
      "3.     Simran --------78\n"
     ]
    }
   ],
   "source": [
    "for ind, (name, score) in enumerate(list(zip(names, scores)), start = 1):\n",
    "    print(f\"{ind}. {name:>10} {score:->10}\")"
   ]
  },
  {
   "cell_type": "code",
   "execution_count": null,
   "id": "26169815",
   "metadata": {},
   "outputs": [],
   "source": []
  },
  {
   "cell_type": "code",
   "execution_count": null,
   "id": "c4c979ea",
   "metadata": {},
   "outputs": [],
   "source": []
  },
  {
   "cell_type": "code",
   "execution_count": null,
   "id": "4b418f8b",
   "metadata": {},
   "outputs": [],
   "source": []
  },
  {
   "cell_type": "code",
   "execution_count": null,
   "id": "a10b9c9f",
   "metadata": {},
   "outputs": [],
   "source": []
  },
  {
   "cell_type": "code",
   "execution_count": null,
   "id": "a406fde6",
   "metadata": {},
   "outputs": [],
   "source": []
  },
  {
   "cell_type": "code",
   "execution_count": null,
   "id": "50d55ee6",
   "metadata": {},
   "outputs": [],
   "source": []
  },
  {
   "cell_type": "code",
   "execution_count": null,
   "id": "1e06becb",
   "metadata": {},
   "outputs": [],
   "source": []
  },
  {
   "cell_type": "code",
   "execution_count": null,
   "id": "9d56b303",
   "metadata": {},
   "outputs": [],
   "source": []
  }
 ],
 "metadata": {
  "kernelspec": {
   "display_name": "Python 3 (ipykernel)",
   "language": "python",
   "name": "python3"
  },
  "language_info": {
   "codemirror_mode": {
    "name": "ipython",
    "version": 3
   },
   "file_extension": ".py",
   "mimetype": "text/x-python",
   "name": "python",
   "nbconvert_exporter": "python",
   "pygments_lexer": "ipython3",
   "version": "3.10.8"
  }
 },
 "nbformat": 4,
 "nbformat_minor": 5
}
