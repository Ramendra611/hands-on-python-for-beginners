{
 "cells": [
  {
   "cell_type": "code",
   "execution_count": null,
   "id": "10b9863d-d284-44b3-acaf-5048dd4a9e28",
   "metadata": {},
   "outputs": [],
   "source": []
  },
  {
   "cell_type": "markdown",
   "id": "c36de8db-8104-4326-b509-bf289e1587d0",
   "metadata": {},
   "source": [
    "## Abstraction\n",
    "        - Hiding the  complexity behind the interface\n",
    "        - interface and implementation\n",
    "        - the idea of promise"
   ]
  },
  {
   "cell_type": "code",
   "execution_count": 16,
   "id": "27cea4f4-dfaa-4143-824b-e252ebeade13",
   "metadata": {},
   "outputs": [],
   "source": [
    "class MusicPlayer:\n",
    "\n",
    "    '''\n",
    "    Music player has to have\n",
    "        - play\n",
    "        - pause\n",
    "        - shuffle\n",
    "    '''\n",
    "\n",
    "    # interface\n",
    "    def play(self):\n",
    "        raise Exception(\"NOT IMPLEMENTED\")\n",
    "\n",
    "    def pause(self):\n",
    "        raise Exception(\"NOT IMPLEMENTED\")\n",
    "\n",
    "    def shuffle(self):\n",
    "        raise Exception(\"NOT IMPLEMENTED\")\n",
    "\n",
    "\n",
    "\n",
    "class YoutubeMusicPlayer(MusicPlayer):\n",
    "    def play(self):\n",
    "        '''\n",
    "        it will connect to the server\n",
    "        might check the license\n",
    "        buffer the song\n",
    "        play the song\n",
    "        '''\n",
    "        print(\"I am playing the song on Youtube!!\")\n",
    "\n",
    "    def pause(self):\n",
    "        pass\n",
    "\n",
    "    def shuffle(self):\n",
    "        pass\n",
    "\n",
    "\n",
    "class SpotifyMusicPlayer(MusicPlayer):\n",
    "    def play(self ):\n",
    "        '''\n",
    "        it will connect to the server\n",
    "        might check the license\n",
    "        buffer the song\n",
    "        play the song\n",
    "        '''\n",
    "        print(\"I am playing the song on Spotify!!\")\n",
    "\n",
    "    def pause(self):\n",
    "        pass\n",
    "\n",
    "    def shuffle(self):\n",
    "        pass\n",
    "\n",
    "\n",
    "\n",
    "class MyMusicPlayer(MusicPlayer):\n",
    "\n",
    "    def pause(self):\n",
    "        pass\n",
    "\n",
    "    def shuffle(self):\n",
    "        pass "
   ]
  },
  {
   "cell_type": "code",
   "execution_count": 17,
   "id": "81807486-5924-4b22-bdfa-84b9c5807adc",
   "metadata": {},
   "outputs": [],
   "source": [
    "mp1 = YoutubeMusicPlayer()\n",
    "mp2 = SpotifyMusicPlayer()\n",
    "mp3  = MyMusicPlayer()"
   ]
  },
  {
   "cell_type": "code",
   "execution_count": 18,
   "id": "a2d8d539-2d46-4c9e-a90b-2130cd45cdf0",
   "metadata": {},
   "outputs": [
    {
     "name": "stdout",
     "output_type": "stream",
     "text": [
      "I am playing the song on Youtube!!\n",
      "I am playing the song on Spotify!!\n"
     ]
    },
    {
     "ename": "Exception",
     "evalue": "NOT IMPLEMENTED",
     "output_type": "error",
     "traceback": [
      "\u001b[31m---------------------------------------------------------------------------\u001b[39m",
      "\u001b[31mException\u001b[39m                                 Traceback (most recent call last)",
      "\u001b[36mCell\u001b[39m\u001b[36m \u001b[39m\u001b[32mIn[18]\u001b[39m\u001b[32m, line 2\u001b[39m\n\u001b[32m      1\u001b[39m \u001b[38;5;28;01mfor\u001b[39;00m player \u001b[38;5;129;01min\u001b[39;00m [mp1, mp2, mp3]:\n\u001b[32m----> \u001b[39m\u001b[32m2\u001b[39m     player.play()\n",
      "\u001b[36mCell\u001b[39m\u001b[36m \u001b[39m\u001b[32mIn[16]\u001b[39m\u001b[32m, line 12\u001b[39m, in \u001b[36mMusicPlayer.play\u001b[39m\u001b[34m(self)\u001b[39m\n\u001b[32m     11\u001b[39m \u001b[38;5;28;01mdef\u001b[39;00m\u001b[38;5;250m \u001b[39m\u001b[34mplay\u001b[39m(\u001b[38;5;28mself\u001b[39m):\n\u001b[32m---> \u001b[39m\u001b[32m12\u001b[39m     \u001b[38;5;28;01mraise\u001b[39;00m \u001b[38;5;167;01mException\u001b[39;00m(\u001b[33m\"\u001b[39m\u001b[33mNOT IMPLEMENTED\u001b[39m\u001b[33m\"\u001b[39m)\n",
      "\u001b[31mException\u001b[39m: NOT IMPLEMENTED"
     ]
    }
   ],
   "source": [
    "for player in [mp1, mp2, mp3]:\n",
    "    player.play()"
   ]
  },
  {
   "cell_type": "code",
   "execution_count": null,
   "id": "829f9c0b-c659-45c2-b051-17fadd256fc8",
   "metadata": {},
   "outputs": [],
   "source": []
  },
  {
   "cell_type": "markdown",
   "id": "567f0a5a-6e92-4baf-b8ea-760498bf807f",
   "metadata": {},
   "source": [
    "## ABC Module in Python\n",
    "    - Abstract Base Class\n",
    "    - classes inheriting from ABC cant be instantiated\n",
    "    - ABC enforces all the abstractmethod ( all abstractmethod mandatorily have to be overwirtten)"
   ]
  },
  {
   "cell_type": "markdown",
   "id": "93c61566-d91c-4e7a-bf88-1a7c9b8bff19",
   "metadata": {},
   "source": [
    "An ABC (Abstract Base Class) is a class that cannot be instantiated directly.\n",
    "        \n",
    "            It serves as a blueprint for other classes, defining the methods they must implement.\n",
    "        \n",
    "**Abstract Methods:**\n",
    "        \n",
    "            - Declared using the @abstractmethod decorator from the abc module.\n",
    "            - Any subclass of an ABC must override all abstract methods; otherwise, it also becomes abstract and cannot be instantiated.\n",
    "        \n",
    "**Purpose:**\n",
    "        \n",
    "            - Enforces a contract/interface: ensures that all subclasses follow a consistent method structure.\n",
    "            - Useful when multiple classes should expose the same behavior but with different implementations.\n",
    "        \n",
    "**Partial Implementation:**\n",
    "        \n",
    "            - ABCs can contain both abstract methods (unimplemented) and concrete methods (with default implementation).\n",
    "            - This allows hiding complexity in the base class while still forcing subclasses to implement key parts.\n",
    "        \n",
    "**Interoperability:**\n",
    "        \n",
    "            - Promotes polymorphism: different subclasses can be used interchangeably if they follow the same abstract interface.\n",
    "            - Example: a Shape ABC with area() and perimeter() makes it possible to treat Circle, Square, and Triangle uniformly."
   ]
  },
  {
   "cell_type": "markdown",
   "id": "03abcdf2-1e58-4658-a6fd-10bdd04debad",
   "metadata": {},
   "source": [
    "        Abstraction + Dependency Injection lets you freely swap engines inside cars.\n",
    "        \n",
    "        Drivers don’t care about engine type; they only interact with cars via the abstract interface.\n",
    "        \n",
    "        This shows interoperability: any driver can drive any car, and any car can have any engine."
   ]
  },
  {
   "cell_type": "code",
   "execution_count": null,
   "id": "4145fc85-84a5-4203-9d3c-83840b3607c9",
   "metadata": {},
   "outputs": [],
   "source": []
  },
  {
   "cell_type": "code",
   "execution_count": 19,
   "id": "3f68f4dc-caba-4df8-9ea4-738c98af4cc7",
   "metadata": {},
   "outputs": [],
   "source": [
    "from abc import ABC, abstractmethod"
   ]
  },
  {
   "cell_type": "code",
   "execution_count": 24,
   "id": "b9c32cc5-fb90-4995-ad2f-ba7515a35c2d",
   "metadata": {},
   "outputs": [],
   "source": [
    "class MusicPlayer(ABC):\n",
    "\n",
    "    '''\n",
    "    Music player has to have\n",
    "        - play\n",
    "        - pause\n",
    "        - shuffle\n",
    "    '''\n",
    "\n",
    "    # interface\n",
    "    @abstractmethod \n",
    "    def play(self):   # guaranteed to be fulfilled\n",
    "        pass\n",
    "        # raise Exception(\"NOT IMPLEMENTED\")\n",
    "        \n",
    "    @abstractmethod \n",
    "    def pause(self):\n",
    "        pass\n",
    "        # raise Exception(\"NOT IMPLEMENTED\")\n",
    "\n",
    "    def shuffle(self):\n",
    "        pass\n",
    "        # raise Exception(\"NOT IMPLEMENTED\")\n",
    "\n",
    "\n",
    "\n",
    "\n",
    "class MyMusicPlayer(MusicPlayer):\n",
    "\n",
    "    def play(self):\n",
    "        ## implementation of the play method\n",
    "        '''\n",
    "        it will connect to the server\n",
    "        might check the license\n",
    "        buffer the song\n",
    "        play the song\n",
    "        '''\n",
    "        print(\"i am now playing the song!!!\")\n",
    "    \n",
    "    def pause(self):\n",
    "        print(\"music has paused\")\n",
    "\n",
    "    def shuffle(self):\n",
    "        print(\"i am shuffling the music\") "
   ]
  },
  {
   "cell_type": "code",
   "execution_count": 25,
   "id": "a4bbbc15-bb78-4971-a41f-3a6422a37642",
   "metadata": {},
   "outputs": [],
   "source": [
    "mp3  = MyMusicPlayer()"
   ]
  },
  {
   "cell_type": "code",
   "execution_count": 26,
   "id": "49732649-4b67-4977-bb11-1a30503d02de",
   "metadata": {},
   "outputs": [
    {
     "name": "stdout",
     "output_type": "stream",
     "text": [
      "i am now playing the song!!!\n"
     ]
    }
   ],
   "source": [
    "mp3.play()"
   ]
  },
  {
   "cell_type": "code",
   "execution_count": null,
   "id": "d93cac25-3474-4474-b060-529c78f34aa2",
   "metadata": {},
   "outputs": [],
   "source": []
  },
  {
   "cell_type": "markdown",
   "id": "d51d9580-1482-4118-a4fa-95be5cdb39f2",
   "metadata": {},
   "source": [
    " -  Driver (drive, stop) ---> Car ( turn_on, turn_off, move, brake) ---> Engine (start, stop,  accelerate, brake)"
   ]
  },
  {
   "cell_type": "code",
   "execution_count": 32,
   "id": "332014c8-2d5c-49a2-8356-c8b1811ba239",
   "metadata": {},
   "outputs": [],
   "source": [
    "class Car(ABC):\n",
    "\n",
    "    def __init__(self, engine: Engine): # dependency injection\n",
    "        self.engine = engine\n",
    "\n",
    "    @abstractmethod\n",
    "    def turn_on(self):\n",
    "        pass\n",
    "\n",
    "    @abstractmethod\n",
    "    def turn_off(self):\n",
    "        pass\n",
    "\n",
    "    @abstractmethod\n",
    "    def move(self):\n",
    "        pass\n",
    "\n",
    "    @abstractmethod\n",
    "    def brake(self):\n",
    "        pass\n",
    "\n",
    "    def play_music(self):\n",
    "        print(\"i am playing the music\")\n",
    "\n",
    "\n",
    "class Driver(ABC):\n",
    "\n",
    "    # def __init__(self, car : Car):\n",
    "    #     self.car = car\n",
    "    \n",
    "    @abstractmethod\n",
    "    def drive(self):\n",
    "        pass\n",
    "\n",
    "    @abstractmethod\n",
    "    def stop(self):\n",
    "        pass\n",
    "\n",
    "\n",
    "class Engine(ABC):\n",
    "\n",
    "    @abstractmethod\n",
    "    def start(self):\n",
    "        pass\n",
    "\n",
    "    @abstractmethod\n",
    "    def stop(self):\n",
    "        pass\n",
    "\n",
    "\n",
    "    @abstractmethod\n",
    "    def accelerate(self):\n",
    "        pass\n",
    "\n",
    "    @abstractmethod\n",
    "    def brake(self):\n",
    "        pass"
   ]
  },
  {
   "cell_type": "code",
   "execution_count": 33,
   "id": "30fe8f26-abd7-48fc-8bfa-2de665a02db8",
   "metadata": {},
   "outputs": [],
   "source": [
    "# Concrete Engine Implementations\n",
    "class PetrolEngine(Engine):\n",
    "    def start(self):\n",
    "        print(\"Petrol engine starting with ignition...\")\n",
    "\n",
    "    def stop(self):\n",
    "        print(\"Petrol engine shutting down...\")\n",
    "\n",
    "    def accelerate(self):\n",
    "        print(\"Petrol engine revving up with fuel combustion!\")\n",
    "\n",
    "    def brake(self):\n",
    "        print(\"Petrol engine reducing fuel supply and slowing down...\")\n",
    "        \n",
    "\n",
    "class ElectricEngine(Engine):\n",
    "    def start(self):\n",
    "        print(\"Electric motor powering up silently...\")\n",
    "\n",
    "    def stop(self):\n",
    "        print(\"Electric motor shutting down...\")\n",
    "\n",
    "    def accelerate(self):\n",
    "        print(\"Electric motor accelerating smoothly with instant torque!\")\n",
    "\n",
    "    def brake(self):\n",
    "        print(\"Electric motor applying regenerative braking...\")"
   ]
  },
  {
   "cell_type": "code",
   "execution_count": 34,
   "id": "8de5d604-3568-48bb-8298-3f3d115f7b3f",
   "metadata": {},
   "outputs": [],
   "source": [
    "class Sedan(Car):\n",
    "    def turn_on(self):\n",
    "        print(\"Sedan is turning on...\")\n",
    "        self.engine.start()\n",
    "\n",
    "    def turn_off(self):\n",
    "        print(\"Sedan is turning off...\")\n",
    "        self.engine.stop()\n",
    "\n",
    "    def move(self):\n",
    "        print(\"Sedan is moving...\")\n",
    "        self.engine.accelerate()\n",
    "\n",
    "    def brake(self):\n",
    "        print(\"Sedan is braking...\")\n",
    "        self.engine.brake()\n",
    "\n",
    "\n",
    "class Truck(Car):\n",
    "    def turn_on(self):\n",
    "        print(\"Truck is roaring to life...\")\n",
    "        self.engine.start()\n",
    "\n",
    "    def turn_off(self):\n",
    "        print(\"Truck is shutting down...\")\n",
    "        self.engine.stop()\n",
    "\n",
    "    def move(self):\n",
    "        print(\"Truck is moving slowly with heavy load...\")\n",
    "        self.engine.accelerate()\n",
    "\n",
    "    def brake(self):\n",
    "        print(\"Truck is braking heavily...\")\n",
    "        self.engine.brake()\n"
   ]
  },
  {
   "cell_type": "code",
   "execution_count": 35,
   "id": "67d84ba1-fd80-4d57-afd8-772dacecdd03",
   "metadata": {},
   "outputs": [],
   "source": [
    "class RookieDriver(Driver):\n",
    "    def __init__(self, car: Car):\n",
    "        self.car = car\n",
    "\n",
    "    def drive(self):\n",
    "        print(\"Rookie driver is cautiously starting the car...\")\n",
    "        self.car.turn_on()\n",
    "        self.car.move()\n",
    "\n",
    "    def stop(self):\n",
    "        print(\"Rookie driver is stopping the car...\")\n",
    "        self.car.brake()\n",
    "        self.car.turn_off()\n",
    "\n",
    "\n",
    "class ProDriver(Driver):\n",
    "    def __init__(self, car: Car):\n",
    "        self.car = car\n",
    "\n",
    "    def drive(self):\n",
    "        print(\"Pro driver is confidently hitting the road...\")\n",
    "        self.car.turn_on()\n",
    "        self.car.move()\n",
    "        self.car.play_music()  # showing Car has shared features\n",
    "\n",
    "    def stop(self):\n",
    "        print(\"Pro driver is stopping swiftly...\")\n",
    "        self.car.brake()\n",
    "        self.car.turn_off()\n"
   ]
  },
  {
   "cell_type": "code",
   "execution_count": 43,
   "id": "13d119b5-aaa8-4e8b-8808-b99e1ad5c05a",
   "metadata": {},
   "outputs": [],
   "source": [
    "## create engines\n",
    "\n",
    "\n",
    "petrol_engine = PetrolEngine()\n",
    "electric_engine = ElectricEngine()\n",
    "## create a car\n",
    "\n",
    "city  = Sedan(engine = petrol_engine)\n",
    "verna = Sedan(engine = electric_engine)\n",
    "\n",
    "\n",
    "## create driver\n",
    "rohan = ProDriver(verna)\n"
   ]
  },
  {
   "cell_type": "code",
   "execution_count": 44,
   "id": "9ea17843-6695-42ec-bcba-cd1c9261d5cc",
   "metadata": {},
   "outputs": [
    {
     "name": "stdout",
     "output_type": "stream",
     "text": [
      "Pro driver is confidently hitting the road...\n",
      "Sedan is turning on...\n",
      "Electric motor powering up silently...\n",
      "Sedan is moving...\n",
      "Electric motor accelerating smoothly with instant torque!\n",
      "i am playing the music\n"
     ]
    }
   ],
   "source": [
    "rohan.drive()"
   ]
  },
  {
   "cell_type": "code",
   "execution_count": null,
   "id": "9ffc8c89-f785-493c-aa3f-4feb0a40f662",
   "metadata": {},
   "outputs": [],
   "source": []
  },
  {
   "cell_type": "code",
   "execution_count": null,
   "id": "1c9b5662-b61b-45af-aa39-aae7ea296f3c",
   "metadata": {},
   "outputs": [],
   "source": []
  },
  {
   "cell_type": "code",
   "execution_count": null,
   "id": "ab8898fd-a8dd-42a7-aba6-8636f7ed20eb",
   "metadata": {},
   "outputs": [],
   "source": []
  },
  {
   "cell_type": "code",
   "execution_count": null,
   "id": "2329dce8-f6c9-430c-a6dd-9176e9e9bc4d",
   "metadata": {},
   "outputs": [],
   "source": []
  },
  {
   "cell_type": "code",
   "execution_count": null,
   "id": "d8dd2e2f-0ada-4161-b8a0-0eb5ed793eb1",
   "metadata": {},
   "outputs": [],
   "source": []
  },
  {
   "cell_type": "code",
   "execution_count": null,
   "id": "7be70c1a-e24a-4a3c-b5da-1b518185e8a6",
   "metadata": {},
   "outputs": [],
   "source": []
  },
  {
   "cell_type": "code",
   "execution_count": null,
   "id": "e129b7ab-7081-4326-9e29-1348aefdaedf",
   "metadata": {},
   "outputs": [],
   "source": []
  },
  {
   "cell_type": "code",
   "execution_count": null,
   "id": "285deabf-ae8b-4e1f-ab34-2fdbd2276747",
   "metadata": {},
   "outputs": [],
   "source": []
  },
  {
   "cell_type": "code",
   "execution_count": null,
   "id": "5aea009e-164f-49ae-bd2d-99dd710f01cd",
   "metadata": {},
   "outputs": [],
   "source": [
    "        Abstraction + Dependency Injection lets you freely swap engines inside cars.\n",
    "        \n",
    "        Drivers don’t care about engine type; they only interact with cars via the abstract interface.\n",
    "        \n",
    "        This shows interoperability: any driver can drive any car, and any car can have any engine."
   ]
  },
  {
   "cell_type": "code",
   "execution_count": null,
   "id": "23905d16-8c08-4ebe-a1ce-cd7ba78351fe",
   "metadata": {},
   "outputs": [],
   "source": []
  },
  {
   "cell_type": "code",
   "execution_count": null,
   "id": "4a5e978f-37ce-44cd-92e7-1fcf6974d0c2",
   "metadata": {},
   "outputs": [],
   "source": []
  },
  {
   "cell_type": "code",
   "execution_count": null,
   "id": "9b286b3b-be5b-4948-82d2-5989779f7b09",
   "metadata": {},
   "outputs": [],
   "source": []
  },
  {
   "cell_type": "markdown",
   "id": "477ed639-8bdd-4dff-be65-d51fea00b540",
   "metadata": {},
   "source": []
  },
  {
   "cell_type": "code",
   "execution_count": null,
   "id": "eac317e7-a9ce-4fb0-a8e0-f5c9bd50ce40",
   "metadata": {},
   "outputs": [],
   "source": []
  },
  {
   "cell_type": "code",
   "execution_count": null,
   "id": "d79dcfa1-ef4c-4fea-a73d-f97cbc01fd44",
   "metadata": {},
   "outputs": [],
   "source": []
  },
  {
   "cell_type": "code",
   "execution_count": null,
   "id": "1f6d60c1-4965-4387-a6b5-fd8086b39373",
   "metadata": {},
   "outputs": [],
   "source": []
  },
  {
   "cell_type": "code",
   "execution_count": null,
   "id": "f0712bc1-fee1-45f7-8910-718e4516f571",
   "metadata": {},
   "outputs": [],
   "source": []
  }
 ],
 "metadata": {
  "kernelspec": {
   "display_name": "Python 3 (ipykernel)",
   "language": "python",
   "name": "python3"
  },
  "language_info": {
   "codemirror_mode": {
    "name": "ipython",
    "version": 3
   },
   "file_extension": ".py",
   "mimetype": "text/x-python",
   "name": "python",
   "nbconvert_exporter": "python",
   "pygments_lexer": "ipython3",
   "version": "3.13.5"
  }
 },
 "nbformat": 4,
 "nbformat_minor": 5
}
