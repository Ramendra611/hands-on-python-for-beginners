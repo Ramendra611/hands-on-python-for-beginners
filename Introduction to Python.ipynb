{
 "cells": [
  {
   "cell_type": "markdown",
   "id": "25b86bc0-1939-44a6-9350-709cadf0605c",
   "metadata": {},
   "source": [
    "        Agenda:\n",
    "            - Variables\n",
    "            - Operators\n",
    "            - Data Types\n",
    "            - Jupyter Notebooks\n"
   ]
  },
  {
   "cell_type": "code",
   "execution_count": null,
   "id": "719a0801-0d32-4c4a-9faa-9c4184b8755b",
   "metadata": {},
   "outputs": [],
   "source": []
  },
  {
   "cell_type": "code",
   "execution_count": null,
   "id": "63c271ed-3169-49a0-aa2d-3b9a0c55fabb",
   "metadata": {},
   "outputs": [],
   "source": []
  },
  {
   "cell_type": "code",
   "execution_count": null,
   "id": "a5eb8e7f-99c5-487c-a882-7a83f45b186b",
   "metadata": {},
   "outputs": [],
   "source": []
  },
  {
   "cell_type": "code",
   "execution_count": 2,
   "id": "c061bc01-5d0d-40cd-a053-5216f3bd1c86",
   "metadata": {},
   "outputs": [],
   "source": [
    "x = 5  # x is a variable"
   ]
  },
  {
   "cell_type": "code",
   "execution_count": 6,
   "id": "947ab819-0c78-4a2a-ab90-0c039e86faf5",
   "metadata": {},
   "outputs": [
    {
     "data": {
      "text/plain": [
       "5"
      ]
     },
     "execution_count": 6,
     "metadata": {},
     "output_type": "execute_result"
    }
   ],
   "source": [
    "x # x is an integer"
   ]
  },
  {
   "cell_type": "code",
   "execution_count": 7,
   "id": "9704f105-57fa-417d-bf7b-9736953130e2",
   "metadata": {},
   "outputs": [],
   "source": [
    "a = 4.5 # a is a variable and 4.5 is a decimal  ( float )"
   ]
  },
  {
   "cell_type": "code",
   "execution_count": 8,
   "id": "eede8f31-1406-4e92-9454-8537bad695a7",
   "metadata": {},
   "outputs": [
    {
     "data": {
      "text/plain": [
       "4.5"
      ]
     },
     "execution_count": 8,
     "metadata": {},
     "output_type": "execute_result"
    }
   ],
   "source": [
    "a"
   ]
  },
  {
   "cell_type": "code",
   "execution_count": 9,
   "id": "ffec0b10-0299-45d6-9ba3-ffa99191b99a",
   "metadata": {},
   "outputs": [],
   "source": [
    "b = 10"
   ]
  },
  {
   "cell_type": "code",
   "execution_count": 10,
   "id": "94893516-21d8-4057-8117-987a9f42ead7",
   "metadata": {},
   "outputs": [
    {
     "data": {
      "text/plain": [
       "14.5"
      ]
     },
     "execution_count": 10,
     "metadata": {},
     "output_type": "execute_result"
    }
   ],
   "source": [
    "a + b"
   ]
  },
  {
   "cell_type": "code",
   "execution_count": 11,
   "id": "71156fb6-1186-4a35-9559-7eca58eb3a7a",
   "metadata": {},
   "outputs": [
    {
     "data": {
      "text/plain": [
       "-5.5"
      ]
     },
     "execution_count": 11,
     "metadata": {},
     "output_type": "execute_result"
    }
   ],
   "source": [
    "a - b"
   ]
  },
  {
   "cell_type": "code",
   "execution_count": 12,
   "id": "845d584e-69e4-4bd1-b77e-0c2e2c046ca7",
   "metadata": {},
   "outputs": [
    {
     "data": {
      "text/plain": [
       "30"
      ]
     },
     "execution_count": 12,
     "metadata": {},
     "output_type": "execute_result"
    }
   ],
   "source": [
    "x = 10\n",
    "y = 20\n",
    "x + y"
   ]
  },
  {
   "cell_type": "code",
   "execution_count": 13,
   "id": "85241180-32fe-41ba-b6a1-3b1e1e274f9b",
   "metadata": {},
   "outputs": [
    {
     "data": {
      "text/plain": [
       "-10"
      ]
     },
     "execution_count": 13,
     "metadata": {},
     "output_type": "execute_result"
    }
   ],
   "source": [
    "x - y"
   ]
  },
  {
   "cell_type": "code",
   "execution_count": 14,
   "id": "28303568-b6dd-495c-baad-c7c188e1dd40",
   "metadata": {},
   "outputs": [
    {
     "data": {
      "text/plain": [
       "200"
      ]
     },
     "execution_count": 14,
     "metadata": {},
     "output_type": "execute_result"
    }
   ],
   "source": [
    "x * y"
   ]
  },
  {
   "cell_type": "code",
   "execution_count": 15,
   "id": "b907f372-3b82-410f-8aea-eb9863cba779",
   "metadata": {},
   "outputs": [
    {
     "data": {
      "text/plain": [
       "0.5"
      ]
     },
     "execution_count": 15,
     "metadata": {},
     "output_type": "execute_result"
    }
   ],
   "source": [
    "x / y"
   ]
  },
  {
   "cell_type": "code",
   "execution_count": 17,
   "id": "04058208-b7ca-4a2c-b30e-c6ad4936715e",
   "metadata": {},
   "outputs": [
    {
     "data": {
      "text/plain": [
       "30"
      ]
     },
     "execution_count": 17,
     "metadata": {},
     "output_type": "execute_result"
    }
   ],
   "source": [
    "x = 10\n",
    "y = 20\n",
    "x + y"
   ]
  },
  {
   "cell_type": "markdown",
   "id": "0e0b97d6-4ae7-46ec-9d08-3857a5637d2b",
   "metadata": {},
   "source": [
    "# Python Syntax:\n",
    "    - Indentation\n",
    "    - Case sensitive\n",
    "    - reserved words in python\n",
    "    - Variable naming"
   ]
  },
  {
   "cell_type": "code",
   "execution_count": 19,
   "id": "431c1fdb-c8ae-45d3-ba2a-bdb0966c2a72",
   "metadata": {},
   "outputs": [
    {
     "data": {
      "text/plain": [
       "30"
      ]
     },
     "execution_count": 19,
     "metadata": {},
     "output_type": "execute_result"
    }
   ],
   "source": [
    "x = 10\n",
    "y = 20\n",
    "x + y"
   ]
  },
  {
   "cell_type": "code",
   "execution_count": 21,
   "id": "9f83ea1a-6eec-42c7-b3e4-cc96f15cd1f1",
   "metadata": {},
   "outputs": [
    {
     "data": {
      "text/plain": [
       "30"
      ]
     },
     "execution_count": 21,
     "metadata": {},
     "output_type": "execute_result"
    }
   ],
   "source": [
    "x = 10\n",
    "y = 20\n",
    "x + y"
   ]
  },
  {
   "cell_type": "code",
   "execution_count": 23,
   "id": "0635515c-a815-49d2-87a2-2075dc322fd4",
   "metadata": {},
   "outputs": [],
   "source": [
    "x = 6\n",
    "y = 40"
   ]
  },
  {
   "cell_type": "code",
   "execution_count": 24,
   "id": "54eabad1-3aa0-4267-a2a5-b9dcd967185b",
   "metadata": {},
   "outputs": [
    {
     "data": {
      "text/plain": [
       "46"
      ]
     },
     "execution_count": 24,
     "metadata": {},
     "output_type": "execute_result"
    }
   ],
   "source": [
    "x + y"
   ]
  },
  {
   "cell_type": "code",
   "execution_count": 27,
   "id": "92107e38-4fd4-4e85-a55b-afb5250b497f",
   "metadata": {},
   "outputs": [
    {
     "data": {
      "text/plain": [
       "46"
      ]
     },
     "execution_count": 27,
     "metadata": {},
     "output_type": "execute_result"
    }
   ],
   "source": [
    "x + y"
   ]
  },
  {
   "cell_type": "markdown",
   "id": "78bdd9b2-8546-4168-9a85-25f22d827b31",
   "metadata": {},
   "source": [
    "## Variable Naming"
   ]
  },
  {
   "cell_type": "code",
   "execution_count": 28,
   "id": "dea8147d-a2a5-42a3-a6a9-42aca00d9031",
   "metadata": {},
   "outputs": [],
   "source": [
    "x = 6"
   ]
  },
  {
   "cell_type": "code",
   "execution_count": 29,
   "id": "a2e05cd1-d09f-4af9-adae-bf8a9dd3ba8e",
   "metadata": {},
   "outputs": [],
   "source": [
    "y = 5"
   ]
  },
  {
   "cell_type": "code",
   "execution_count": 30,
   "id": "47f6fbab-d5e4-4c08-9a0f-725a688f0069",
   "metadata": {},
   "outputs": [],
   "source": [
    "apple = 10"
   ]
  },
  {
   "cell_type": "code",
   "execution_count": 31,
   "id": "20ba38c7-28d9-44fe-b622-909251802433",
   "metadata": {},
   "outputs": [
    {
     "data": {
      "text/plain": [
       "10"
      ]
     },
     "execution_count": 31,
     "metadata": {},
     "output_type": "execute_result"
    }
   ],
   "source": [
    "apple"
   ]
  },
  {
   "cell_type": "code",
   "execution_count": 32,
   "id": "6b92cdd6-aa54-4676-98c3-459b34403da4",
   "metadata": {},
   "outputs": [],
   "source": [
    "apple1 = 10"
   ]
  },
  {
   "cell_type": "code",
   "execution_count": 34,
   "id": "752cc317-2dde-4f90-a117-c4661f241751",
   "metadata": {},
   "outputs": [
    {
     "ename": "SyntaxError",
     "evalue": "invalid decimal literal (2253950712.py, line 1)",
     "output_type": "error",
     "traceback": [
      "  \u001b[36mCell\u001b[39m\u001b[36m \u001b[39m\u001b[32mIn[34]\u001b[39m\u001b[32m, line 1\u001b[39m\n\u001b[31m    \u001b[39m\u001b[31m1apple = 10\u001b[39m\n    ^\n\u001b[31mSyntaxError\u001b[39m\u001b[31m:\u001b[39m invalid decimal literal\n"
     ]
    }
   ],
   "source": [
    "1apple = 10"
   ]
  },
  {
   "cell_type": "code",
   "execution_count": 37,
   "id": "09387d67-e731-4b82-abda-bd9378ccf024",
   "metadata": {},
   "outputs": [],
   "source": [
    "apple_banana = 10"
   ]
  },
  {
   "cell_type": "code",
   "execution_count": 38,
   "id": "9fd247b3-abeb-4ea6-9665-e0403deed7a1",
   "metadata": {},
   "outputs": [],
   "source": [
    "_x = 10"
   ]
  },
  {
   "cell_type": "code",
   "execution_count": 39,
   "id": "1f6dc75b-f709-4dd8-91ae-c1420eb20335",
   "metadata": {},
   "outputs": [],
   "source": [
    "_apple123 =30"
   ]
  },
  {
   "cell_type": "code",
   "execution_count": null,
   "id": "1b24c720-6d55-4027-b6fc-cf5aade11a3e",
   "metadata": {},
   "outputs": [],
   "source": []
  },
  {
   "cell_type": "markdown",
   "id": "5beb5bb8-8994-4bc3-ac44-e5f627be02e2",
   "metadata": {},
   "source": [
    "# Rules for naming variables:\n",
    "\n",
    "    1. Names can contain letters (A–Z, a–z), digits (0–9), and underscores (_).\n",
    "    2. A name cannot start with a digit.  \n",
    "       - Example: `age1` is valid, `1age` is invalid.\n",
    "    3. Names are case-sensitive.  \n",
    "       - Example: `name` and `Name` are different variables.\n",
    "    4. No spaces in names — use `_` instead.\n",
    "    5. Cannot use Python keywords (`if`, `for`, `class`, `True`, etc.).\n",
    "    6. Variable names can be of any length."
   ]
  },
  {
   "cell_type": "code",
   "execution_count": null,
   "id": "1aa54831-63d1-42b3-840c-16c75d1b294e",
   "metadata": {},
   "outputs": [],
   "source": []
  },
  {
   "cell_type": "markdown",
   "id": "8063e7f2-a5eb-4350-8567-584467ddc179",
   "metadata": {},
   "source": [
    "## Data Types in python\n",
    "    - integer ( int )\n",
    "    - float\n",
    "    - string\n",
    "    - boolean\n",
    "    - None\n",
    "\n",
    "\n",
    "    - Collections:\n",
    "        - List\n",
    "        - Dictionary\n",
    "        - Tuple\n",
    "        - Set\n",
    "        - String"
   ]
  },
  {
   "cell_type": "code",
   "execution_count": 42,
   "id": "c56d4e1f-3c66-4d33-a22b-2058a46ec942",
   "metadata": {},
   "outputs": [],
   "source": [
    "x = 5 # integer"
   ]
  },
  {
   "cell_type": "code",
   "execution_count": 43,
   "id": "c7082ee8-5ad9-4b05-9e38-0e55cee3a027",
   "metadata": {},
   "outputs": [],
   "source": [
    "y = 4.5 # float"
   ]
  },
  {
   "cell_type": "code",
   "execution_count": 46,
   "id": "241f7681-a4e6-4887-bd9d-384154c38984",
   "metadata": {},
   "outputs": [
    {
     "data": {
      "text/plain": [
       "int"
      ]
     },
     "execution_count": 46,
     "metadata": {},
     "output_type": "execute_result"
    }
   ],
   "source": [
    "type(x) # integer"
   ]
  },
  {
   "cell_type": "code",
   "execution_count": 47,
   "id": "6d1b6526-0588-40f1-a302-81fb28a87c6a",
   "metadata": {},
   "outputs": [
    {
     "data": {
      "text/plain": [
       "float"
      ]
     },
     "execution_count": 47,
     "metadata": {},
     "output_type": "execute_result"
    }
   ],
   "source": [
    "type(y)"
   ]
  },
  {
   "cell_type": "code",
   "execution_count": 48,
   "id": "8953c448-c327-4c59-9415-4468f9e3adc9",
   "metadata": {},
   "outputs": [],
   "source": [
    "a = \"apple\"  # string"
   ]
  },
  {
   "cell_type": "code",
   "execution_count": 49,
   "id": "af5939a6-67f1-41cf-93a6-3f31c44bc76c",
   "metadata": {},
   "outputs": [
    {
     "data": {
      "text/plain": [
       "str"
      ]
     },
     "execution_count": 49,
     "metadata": {},
     "output_type": "execute_result"
    }
   ],
   "source": [
    "type(a)"
   ]
  },
  {
   "cell_type": "code",
   "execution_count": 50,
   "id": "cf30d9d6-94ce-45d8-819c-8577c0ca283d",
   "metadata": {},
   "outputs": [
    {
     "data": {
      "text/plain": [
       "'apple'"
      ]
     },
     "execution_count": 50,
     "metadata": {},
     "output_type": "execute_result"
    }
   ],
   "source": [
    "a"
   ]
  },
  {
   "cell_type": "code",
   "execution_count": null,
   "id": "6286206c-eba1-400e-9831-cd71db89b183",
   "metadata": {},
   "outputs": [],
   "source": [
    "b = 'banana'"
   ]
  },
  {
   "cell_type": "code",
   "execution_count": 51,
   "id": "1d9471af-8d8c-4c7b-b097-63a4a0c0cbec",
   "metadata": {},
   "outputs": [],
   "source": [
    "c = '''cat'''"
   ]
  },
  {
   "cell_type": "code",
   "execution_count": 52,
   "id": "ffbdc03f-d13f-499f-80e3-64db096fd384",
   "metadata": {},
   "outputs": [
    {
     "data": {
      "text/plain": [
       "'5th street, 10th road\\nBangalore, India\\n560093\\n'"
      ]
     },
     "execution_count": 52,
     "metadata": {},
     "output_type": "execute_result"
    }
   ],
   "source": [
    "address = '''5th street, 10th road\n",
    "Bangalore, India\n",
    "560093\n",
    "'''\n",
    "\n",
    "address"
   ]
  },
  {
   "cell_type": "code",
   "execution_count": 54,
   "id": "7bdf8de4-b7de-44af-9235-51b5e4dc1b45",
   "metadata": {},
   "outputs": [
    {
     "data": {
      "text/plain": [
       "'5th street, 10th road\\nBangalore, India\\n560093\\n'"
      ]
     },
     "execution_count": 54,
     "metadata": {},
     "output_type": "execute_result"
    }
   ],
   "source": [
    "address"
   ]
  },
  {
   "cell_type": "code",
   "execution_count": 53,
   "id": "77165858-7006-478d-84de-8ff771f3d247",
   "metadata": {},
   "outputs": [
    {
     "name": "stdout",
     "output_type": "stream",
     "text": [
      "5th street, 10th road\n",
      "Bangalore, India\n",
      "560093\n",
      "\n"
     ]
    }
   ],
   "source": [
    "print(address)"
   ]
  },
  {
   "cell_type": "code",
   "execution_count": 55,
   "id": "4dd2aef3-5085-4dea-9d06-0d7d6eddf4b1",
   "metadata": {},
   "outputs": [
    {
     "data": {
      "text/plain": [
       "str"
      ]
     },
     "execution_count": 55,
     "metadata": {},
     "output_type": "execute_result"
    }
   ],
   "source": [
    "type(address)"
   ]
  },
  {
   "cell_type": "code",
   "execution_count": null,
   "id": "1d686afd-f2bf-4262-b72b-99421fbae377",
   "metadata": {},
   "outputs": [],
   "source": []
  },
  {
   "cell_type": "code",
   "execution_count": 56,
   "id": "6b1e8e5d-aa50-43c0-ba68-1411fdbd9971",
   "metadata": {},
   "outputs": [],
   "source": [
    "#### boolean\n",
    "a = True"
   ]
  },
  {
   "cell_type": "code",
   "execution_count": 57,
   "id": "6d21fdb8-7aea-495a-882d-93840de7e343",
   "metadata": {},
   "outputs": [
    {
     "data": {
      "text/plain": [
       "bool"
      ]
     },
     "execution_count": 57,
     "metadata": {},
     "output_type": "execute_result"
    }
   ],
   "source": [
    "type(a)"
   ]
  },
  {
   "cell_type": "code",
   "execution_count": 65,
   "id": "25d3190e-ac17-4ea6-b7e8-e37460d0ac89",
   "metadata": {},
   "outputs": [
    {
     "ename": "NameError",
     "evalue": "name 'true' is not defined",
     "output_type": "error",
     "traceback": [
      "\u001b[31m---------------------------------------------------------------------------\u001b[39m",
      "\u001b[31mNameError\u001b[39m                                 Traceback (most recent call last)",
      "\u001b[36mCell\u001b[39m\u001b[36m \u001b[39m\u001b[32mIn[65]\u001b[39m\u001b[32m, line 1\u001b[39m\n\u001b[32m----> \u001b[39m\u001b[32m1\u001b[39m a = true\n",
      "\u001b[31mNameError\u001b[39m: name 'true' is not defined"
     ]
    }
   ],
   "source": []
  },
  {
   "cell_type": "code",
   "execution_count": 58,
   "id": "7796568e-f02e-490f-9581-cf8b181edf2c",
   "metadata": {},
   "outputs": [
    {
     "data": {
      "text/plain": [
       "bool"
      ]
     },
     "execution_count": 58,
     "metadata": {},
     "output_type": "execute_result"
    }
   ],
   "source": [
    "b = False\n",
    "type(b)"
   ]
  },
  {
   "cell_type": "code",
   "execution_count": 59,
   "id": "4e9c49a4-7c7a-4bfb-b9b5-d20784cbff0a",
   "metadata": {},
   "outputs": [],
   "source": [
    "x = 10\n",
    "y = 5"
   ]
  },
  {
   "cell_type": "code",
   "execution_count": 61,
   "id": "9958d9ab-5910-4cd7-b716-72ea61b90d24",
   "metadata": {},
   "outputs": [],
   "source": [
    "z = x > y"
   ]
  },
  {
   "cell_type": "code",
   "execution_count": 62,
   "id": "985d1a10-dd22-425f-bec3-5993c0422986",
   "metadata": {},
   "outputs": [
    {
     "data": {
      "text/plain": [
       "True"
      ]
     },
     "execution_count": 62,
     "metadata": {},
     "output_type": "execute_result"
    }
   ],
   "source": [
    "z"
   ]
  },
  {
   "cell_type": "code",
   "execution_count": 63,
   "id": "eb1c3a46-4edc-49ab-bacb-278fb3bf8433",
   "metadata": {},
   "outputs": [
    {
     "data": {
      "text/plain": [
       "bool"
      ]
     },
     "execution_count": 63,
     "metadata": {},
     "output_type": "execute_result"
    }
   ],
   "source": [
    "type(z)"
   ]
  },
  {
   "cell_type": "code",
   "execution_count": 64,
   "id": "9f76c68c-c460-418d-a390-6fa9b62ae8f4",
   "metadata": {},
   "outputs": [
    {
     "data": {
      "text/plain": [
       "bool"
      ]
     },
     "execution_count": 64,
     "metadata": {},
     "output_type": "execute_result"
    }
   ],
   "source": [
    "type(x > y)"
   ]
  },
  {
   "cell_type": "code",
   "execution_count": null,
   "id": "3dfb052d-778b-4429-bda1-4250637b411f",
   "metadata": {},
   "outputs": [],
   "source": []
  },
  {
   "cell_type": "code",
   "execution_count": 66,
   "id": "efd4fb72-0b3f-4584-9e9b-6f60e1227231",
   "metadata": {},
   "outputs": [],
   "source": [
    "a = None"
   ]
  },
  {
   "cell_type": "code",
   "execution_count": 68,
   "id": "9a313046-5630-41c7-a7e4-0bd1d0c83226",
   "metadata": {},
   "outputs": [
    {
     "data": {
      "text/plain": [
       "NoneType"
      ]
     },
     "execution_count": 68,
     "metadata": {},
     "output_type": "execute_result"
    }
   ],
   "source": [
    "type(a)"
   ]
  },
  {
   "cell_type": "code",
   "execution_count": null,
   "id": "61238f94-c90f-42f9-b73f-efb0396cb024",
   "metadata": {},
   "outputs": [],
   "source": []
  },
  {
   "cell_type": "code",
   "execution_count": null,
   "id": "4118751d-c736-497a-bfdc-e24fce69a0fe",
   "metadata": {},
   "outputs": [],
   "source": []
  },
  {
   "cell_type": "markdown",
   "id": "422e0ae5-639f-4b15-ac0b-fb3890999b9c",
   "metadata": {},
   "source": [
    "## Conversion of data types ( type casting / type conversion)"
   ]
  },
  {
   "cell_type": "code",
   "execution_count": 69,
   "id": "2f5d5aba-8f1a-469c-affb-05643c52d3a7",
   "metadata": {},
   "outputs": [],
   "source": [
    "x = 10\n",
    "y = 4.5"
   ]
  },
  {
   "cell_type": "code",
   "execution_count": 77,
   "id": "5aee8f53-651a-4221-b0ff-eb6fd7643c9b",
   "metadata": {},
   "outputs": [
    {
     "name": "stdout",
     "output_type": "stream",
     "text": [
      "10\n",
      "4.5\n",
      "14.5\n"
     ]
    }
   ],
   "source": [
    "z = x + y\n",
    "print(x)\n",
    "print(y)\n",
    "print(z)"
   ]
  },
  {
   "cell_type": "code",
   "execution_count": 72,
   "id": "cddaedc8-4ca3-4145-b8bb-fa93145ee910",
   "metadata": {},
   "outputs": [
    {
     "data": {
      "text/plain": [
       "14.5"
      ]
     },
     "execution_count": 72,
     "metadata": {},
     "output_type": "execute_result"
    }
   ],
   "source": [
    "z"
   ]
  },
  {
   "cell_type": "code",
   "execution_count": 73,
   "id": "7938475b-3f73-46c6-b6fb-88aae2fbb2d2",
   "metadata": {},
   "outputs": [
    {
     "name": "stdout",
     "output_type": "stream",
     "text": [
      "14.5\n"
     ]
    }
   ],
   "source": [
    "print(z)"
   ]
  },
  {
   "cell_type": "code",
   "execution_count": 78,
   "id": "bc5cfd1a-ef40-40c4-b2a8-b76e884d77f1",
   "metadata": {},
   "outputs": [
    {
     "data": {
      "text/plain": [
       "float"
      ]
     },
     "execution_count": 78,
     "metadata": {},
     "output_type": "execute_result"
    }
   ],
   "source": [
    "type(z)"
   ]
  },
  {
   "cell_type": "code",
   "execution_count": 79,
   "id": "443391ef-ff24-4f80-8c27-4b700d447847",
   "metadata": {},
   "outputs": [],
   "source": [
    "x = 10"
   ]
  },
  {
   "cell_type": "code",
   "execution_count": 80,
   "id": "92a13d97-f719-49bb-83f2-7fefa763a079",
   "metadata": {},
   "outputs": [
    {
     "data": {
      "text/plain": [
       "int"
      ]
     },
     "execution_count": 80,
     "metadata": {},
     "output_type": "execute_result"
    }
   ],
   "source": [
    "type(x)"
   ]
  },
  {
   "cell_type": "code",
   "execution_count": 82,
   "id": "96f2b3c2-1d55-44e4-82b4-6e10f2766150",
   "metadata": {},
   "outputs": [],
   "source": [
    "x = float(x)"
   ]
  },
  {
   "cell_type": "code",
   "execution_count": 83,
   "id": "535bb8db-23d6-49c6-9fe6-3857ddba5da5",
   "metadata": {},
   "outputs": [
    {
     "data": {
      "text/plain": [
       "float"
      ]
     },
     "execution_count": 83,
     "metadata": {},
     "output_type": "execute_result"
    }
   ],
   "source": [
    "type(x)"
   ]
  },
  {
   "cell_type": "code",
   "execution_count": 84,
   "id": "63d3844c-884f-4208-8f22-f9886b285f9d",
   "metadata": {},
   "outputs": [
    {
     "data": {
      "text/plain": [
       "10.0"
      ]
     },
     "execution_count": 84,
     "metadata": {},
     "output_type": "execute_result"
    }
   ],
   "source": [
    "x"
   ]
  },
  {
   "cell_type": "code",
   "execution_count": 87,
   "id": "91840407-143d-49e3-9b5b-b1272dccc6a0",
   "metadata": {},
   "outputs": [],
   "source": [
    "y = 4.9"
   ]
  },
  {
   "cell_type": "code",
   "execution_count": 88,
   "id": "37617d87-ad0f-4532-b718-1807c5ae2820",
   "metadata": {},
   "outputs": [
    {
     "data": {
      "text/plain": [
       "4"
      ]
     },
     "execution_count": 88,
     "metadata": {},
     "output_type": "execute_result"
    }
   ],
   "source": [
    "int(y)"
   ]
  },
  {
   "cell_type": "code",
   "execution_count": 89,
   "id": "b72e24b0-8b2f-48d4-a7e5-77deebea64bc",
   "metadata": {},
   "outputs": [
    {
     "data": {
      "text/plain": [
       "5"
      ]
     },
     "execution_count": 89,
     "metadata": {},
     "output_type": "execute_result"
    }
   ],
   "source": [
    "round(4.9)"
   ]
  },
  {
   "cell_type": "code",
   "execution_count": 90,
   "id": "d2c3fdae-ecde-4056-9b28-1ee878623e47",
   "metadata": {},
   "outputs": [],
   "source": [
    "a = \"apple\""
   ]
  },
  {
   "cell_type": "code",
   "execution_count": 91,
   "id": "4da3d43d-b28c-4476-a5e2-8363908b0545",
   "metadata": {},
   "outputs": [
    {
     "data": {
      "text/plain": [
       "str"
      ]
     },
     "execution_count": 91,
     "metadata": {},
     "output_type": "execute_result"
    }
   ],
   "source": [
    "type(a)"
   ]
  },
  {
   "cell_type": "code",
   "execution_count": 92,
   "id": "3953a657-52b2-4340-b7e7-363ebba5d833",
   "metadata": {},
   "outputs": [
    {
     "ename": "ValueError",
     "evalue": "could not convert string to float: 'apple'",
     "output_type": "error",
     "traceback": [
      "\u001b[31m---------------------------------------------------------------------------\u001b[39m",
      "\u001b[31mValueError\u001b[39m                                Traceback (most recent call last)",
      "\u001b[36mCell\u001b[39m\u001b[36m \u001b[39m\u001b[32mIn[92]\u001b[39m\u001b[32m, line 1\u001b[39m\n\u001b[32m----> \u001b[39m\u001b[32m1\u001b[39m \u001b[38;5;28mfloat\u001b[39m(a)\n",
      "\u001b[31mValueError\u001b[39m: could not convert string to float: 'apple'"
     ]
    }
   ],
   "source": [
    "float(a)"
   ]
  },
  {
   "cell_type": "code",
   "execution_count": 96,
   "id": "d7e6db50-63f2-482f-b2d5-8c5fe14cf769",
   "metadata": {},
   "outputs": [],
   "source": [
    "x = \"7a\""
   ]
  },
  {
   "cell_type": "code",
   "execution_count": 97,
   "id": "3bdff98e-d5a2-49dc-870f-a05edd2131c0",
   "metadata": {},
   "outputs": [
    {
     "data": {
      "text/plain": [
       "str"
      ]
     },
     "execution_count": 97,
     "metadata": {},
     "output_type": "execute_result"
    }
   ],
   "source": [
    "type(x)"
   ]
  },
  {
   "cell_type": "code",
   "execution_count": 98,
   "id": "bc47839d-db2b-4afa-b5bb-5f44075b9286",
   "metadata": {},
   "outputs": [
    {
     "ename": "ValueError",
     "evalue": "invalid literal for int() with base 10: '7a'",
     "output_type": "error",
     "traceback": [
      "\u001b[31m---------------------------------------------------------------------------\u001b[39m",
      "\u001b[31mValueError\u001b[39m                                Traceback (most recent call last)",
      "\u001b[36mCell\u001b[39m\u001b[36m \u001b[39m\u001b[32mIn[98]\u001b[39m\u001b[32m, line 1\u001b[39m\n\u001b[32m----> \u001b[39m\u001b[32m1\u001b[39m \u001b[38;5;28mint\u001b[39m(x)\n",
      "\u001b[31mValueError\u001b[39m: invalid literal for int() with base 10: '7a'"
     ]
    }
   ],
   "source": [
    "int(x)"
   ]
  },
  {
   "cell_type": "code",
   "execution_count": 99,
   "id": "00c976ec-7bb4-4e3c-825c-6a5b94b1b6cb",
   "metadata": {},
   "outputs": [
    {
     "data": {
      "text/plain": [
       "90.0"
      ]
     },
     "execution_count": 99,
     "metadata": {},
     "output_type": "execute_result"
    }
   ],
   "source": [
    "float(\"90\")"
   ]
  },
  {
   "cell_type": "code",
   "execution_count": 100,
   "id": "2887e200-a438-4b78-af66-697572ce9bfd",
   "metadata": {},
   "outputs": [
    {
     "ename": "ValueError",
     "evalue": "could not convert string to float: '90banana'",
     "output_type": "error",
     "traceback": [
      "\u001b[31m---------------------------------------------------------------------------\u001b[39m",
      "\u001b[31mValueError\u001b[39m                                Traceback (most recent call last)",
      "\u001b[36mCell\u001b[39m\u001b[36m \u001b[39m\u001b[32mIn[100]\u001b[39m\u001b[32m, line 1\u001b[39m\n\u001b[32m----> \u001b[39m\u001b[32m1\u001b[39m \u001b[38;5;28mfloat\u001b[39m(\u001b[33m\"\u001b[39m\u001b[33m90banana\u001b[39m\u001b[33m\"\u001b[39m)\n",
      "\u001b[31mValueError\u001b[39m: could not convert string to float: '90banana'"
     ]
    }
   ],
   "source": [
    "float(\"90banana\")"
   ]
  },
  {
   "cell_type": "code",
   "execution_count": null,
   "id": "a4b681a5-90b8-4056-9700-f3bffaeb16ee",
   "metadata": {},
   "outputs": [],
   "source": []
  },
  {
   "cell_type": "code",
   "execution_count": 101,
   "id": "d8954959-2709-44c0-90c4-456b4ba991bb",
   "metadata": {},
   "outputs": [],
   "source": [
    "x = 10"
   ]
  },
  {
   "cell_type": "code",
   "execution_count": 103,
   "id": "a8fb5026-e1d8-4d12-be38-012c5cf346b3",
   "metadata": {},
   "outputs": [],
   "source": [
    "x_string = str(x)"
   ]
  },
  {
   "cell_type": "code",
   "execution_count": 104,
   "id": "e16cd527-4a88-49d5-99de-2adf3b5e8ddb",
   "metadata": {},
   "outputs": [
    {
     "name": "stdout",
     "output_type": "stream",
     "text": [
      "10\n"
     ]
    }
   ],
   "source": [
    "print(x_string)"
   ]
  },
  {
   "cell_type": "code",
   "execution_count": 105,
   "id": "80ceea7e-ff8a-4427-8bcb-bed153a60d42",
   "metadata": {},
   "outputs": [
    {
     "data": {
      "text/plain": [
       "str"
      ]
     },
     "execution_count": 105,
     "metadata": {},
     "output_type": "execute_result"
    }
   ],
   "source": [
    "type(x_string)"
   ]
  },
  {
   "cell_type": "code",
   "execution_count": 106,
   "id": "aee88748-acd5-4726-a9e9-a3911c084d7d",
   "metadata": {},
   "outputs": [
    {
     "data": {
      "text/plain": [
       "'5.6'"
      ]
     },
     "execution_count": 106,
     "metadata": {},
     "output_type": "execute_result"
    }
   ],
   "source": [
    "x = 5.6\n",
    "str(x)"
   ]
  },
  {
   "cell_type": "code",
   "execution_count": 108,
   "id": "681dab0d-4994-40a5-9792-c0d307907489",
   "metadata": {},
   "outputs": [
    {
     "data": {
      "text/plain": [
       "5.6"
      ]
     },
     "execution_count": 108,
     "metadata": {},
     "output_type": "execute_result"
    }
   ],
   "source": [
    "float(str(x))"
   ]
  },
  {
   "cell_type": "code",
   "execution_count": 109,
   "id": "36f19c4e-397d-4ac5-84b5-53bb056186cd",
   "metadata": {},
   "outputs": [
    {
     "ename": "ValueError",
     "evalue": "invalid literal for int() with base 10: '5.6'",
     "output_type": "error",
     "traceback": [
      "\u001b[31m---------------------------------------------------------------------------\u001b[39m",
      "\u001b[31mValueError\u001b[39m                                Traceback (most recent call last)",
      "\u001b[36mCell\u001b[39m\u001b[36m \u001b[39m\u001b[32mIn[109]\u001b[39m\u001b[32m, line 2\u001b[39m\n\u001b[32m      1\u001b[39m x = \u001b[33m\"\u001b[39m\u001b[33m5.6\u001b[39m\u001b[33m\"\u001b[39m\n\u001b[32m----> \u001b[39m\u001b[32m2\u001b[39m \u001b[38;5;28mint\u001b[39m(x)\n",
      "\u001b[31mValueError\u001b[39m: invalid literal for int() with base 10: '5.6'"
     ]
    }
   ],
   "source": [
    "x = \"5.6\"\n",
    "int(x)"
   ]
  },
  {
   "cell_type": "code",
   "execution_count": null,
   "id": "a355ac59-78e0-40a9-ac61-17d51d01c1f5",
   "metadata": {},
   "outputs": [],
   "source": []
  },
  {
   "cell_type": "code",
   "execution_count": null,
   "id": "81ac80f3-3cfe-4d2e-9607-64f7b891fd19",
   "metadata": {},
   "outputs": [],
   "source": []
  },
  {
   "cell_type": "code",
   "execution_count": 112,
   "id": "beca1364-4e90-4913-acff-c138ed9bdbc0",
   "metadata": {},
   "outputs": [],
   "source": [
    "x = True  # True represents 1 and False represents 0"
   ]
  },
  {
   "cell_type": "code",
   "execution_count": 113,
   "id": "bdf39f59-83cd-4260-9a09-ec71957248e4",
   "metadata": {},
   "outputs": [
    {
     "data": {
      "text/plain": [
       "1"
      ]
     },
     "execution_count": 113,
     "metadata": {},
     "output_type": "execute_result"
    }
   ],
   "source": [
    "int(x)"
   ]
  },
  {
   "cell_type": "code",
   "execution_count": 114,
   "id": "e4a0eb91-57c8-4d28-a581-4a86a22f2fc2",
   "metadata": {},
   "outputs": [
    {
     "data": {
      "text/plain": [
       "2"
      ]
     },
     "execution_count": 114,
     "metadata": {},
     "output_type": "execute_result"
    }
   ],
   "source": [
    "True + True"
   ]
  },
  {
   "cell_type": "code",
   "execution_count": 115,
   "id": "aecb1009-4a89-4f98-b5e1-8a85f6948fe6",
   "metadata": {},
   "outputs": [
    {
     "data": {
      "text/plain": [
       "True"
      ]
     },
     "execution_count": 115,
     "metadata": {},
     "output_type": "execute_result"
    }
   ],
   "source": [
    "bool(\"True\")"
   ]
  },
  {
   "cell_type": "code",
   "execution_count": 1,
   "id": "d6a5bcf0-1d01-495e-a5bf-f1ec038dad51",
   "metadata": {},
   "outputs": [],
   "source": [
    "x = \"apple\""
   ]
  },
  {
   "cell_type": "code",
   "execution_count": 2,
   "id": "3d1cb08e-35b3-49a6-a143-558947d15906",
   "metadata": {},
   "outputs": [
    {
     "name": "stdin",
     "output_type": "stream",
     "text": [
      " 50\n"
     ]
    }
   ],
   "source": [
    "x = input()"
   ]
  },
  {
   "cell_type": "code",
   "execution_count": 4,
   "id": "8397de5b-807c-45ae-b136-d88e41db1f69",
   "metadata": {},
   "outputs": [
    {
     "data": {
      "text/plain": [
       "('50', str)"
      ]
     },
     "execution_count": 4,
     "metadata": {},
     "output_type": "execute_result"
    }
   ],
   "source": [
    "x, type(x)"
   ]
  },
  {
   "cell_type": "code",
   "execution_count": 6,
   "id": "933c301b-834c-4095-96c4-0188dde4f591",
   "metadata": {},
   "outputs": [
    {
     "name": "stdout",
     "output_type": "stream",
     "text": [
      "apple banana\n"
     ]
    }
   ],
   "source": [
    "print(\"apple\", \"banana\")"
   ]
  },
  {
   "cell_type": "code",
   "execution_count": 5,
   "id": "34572d14-3b19-4a5c-8599-2cbb79a5db43",
   "metadata": {},
   "outputs": [
    {
     "name": "stdin",
     "output_type": "stream",
     "text": [
      "Enter your name Codeverra\n"
     ]
    },
    {
     "name": "stdout",
     "output_type": "stream",
     "text": [
      "Codeverra\n"
     ]
    }
   ],
   "source": [
    "name = input(\"Enter your name\")\n",
    "print( \"The name is: \" ,name)"
   ]
  },
  {
   "cell_type": "code",
   "execution_count": 11,
   "id": "816a253d-9628-45c3-a6ed-a364998cdd1a",
   "metadata": {},
   "outputs": [
    {
     "data": {
      "text/plain": [
       "int"
      ]
     },
     "execution_count": 11,
     "metadata": {},
     "output_type": "execute_result"
    }
   ],
   "source": [
    "age = int(\"10\")\n",
    "type(age)"
   ]
  },
  {
   "cell_type": "code",
   "execution_count": 13,
   "id": "ad0a5b41-8128-4019-8b2e-bd16d79418d8",
   "metadata": {},
   "outputs": [
    {
     "name": "stdin",
     "output_type": "stream",
     "text": [
      "Please enter  your name ram\n",
      "Please enter your age 10\n"
     ]
    },
    {
     "name": "stdout",
     "output_type": "stream",
     "text": [
      "The name is:  ram \n",
      "The age is  10\n"
     ]
    }
   ],
   "source": [
    "name = input(\"Please enter  your name\" )\n",
    "age = int(input(\"Please enter your age\"))\n",
    "\n",
    "print(\"The name is: \", name, \"\\nThe age is \", age)"
   ]
  },
  {
   "cell_type": "code",
   "execution_count": 9,
   "id": "0a71be70-16e8-47b0-aed0-d12e1fb0894d",
   "metadata": {},
   "outputs": [
    {
     "data": {
      "text/plain": [
       "str"
      ]
     },
     "execution_count": 9,
     "metadata": {},
     "output_type": "execute_result"
    }
   ],
   "source": [
    "type(age)"
   ]
  },
  {
   "cell_type": "code",
   "execution_count": null,
   "id": "ffae743c-88a4-4f3d-aa82-c6fae4742b38",
   "metadata": {},
   "outputs": [],
   "source": []
  },
  {
   "cell_type": "code",
   "execution_count": null,
   "id": "4a664669-a8e1-4385-a09e-3905a6d3693f",
   "metadata": {},
   "outputs": [],
   "source": []
  },
  {
   "cell_type": "markdown",
   "id": "6f8d86c7-050c-46d1-a879-aa00928759db",
   "metadata": {},
   "source": [
    "## Operators in python\n",
    "    1. Arithmetic operators\n",
    "    2. Assignment operators\n",
    "    3. Logical Operators\n",
    "    4. Comparison Operators\n",
    "    5. Bitwise Operators\n",
    "    6. Membership Operators"
   ]
  },
  {
   "cell_type": "markdown",
   "id": "62ebdadc-dc56-48f4-adf1-ea018e0a1160",
   "metadata": {},
   "source": [
    "#### Arithmetic operators\n",
    "    - Addition ( + )\n",
    "    - Subtraction ( - )\n",
    "    - Multiplication ( * )\n",
    "    - Division ( / )\n",
    "    - Floor Division ( // )\n",
    "    - Modulus ( remainder ) ( % )\n",
    "    - Exponentiation ( ** )\n",
    "    "
   ]
  },
  {
   "cell_type": "code",
   "execution_count": 116,
   "id": "81803273-09e2-4fe6-aa21-a1562a14d707",
   "metadata": {},
   "outputs": [],
   "source": [
    "x = 5\n",
    "y = 10\n"
   ]
  },
  {
   "cell_type": "code",
   "execution_count": 118,
   "id": "e760c15a-0203-4e8e-95cd-77b874c2c4eb",
   "metadata": {},
   "outputs": [
    {
     "data": {
      "text/plain": [
       "15"
      ]
     },
     "execution_count": 118,
     "metadata": {},
     "output_type": "execute_result"
    }
   ],
   "source": [
    "x + y"
   ]
  },
  {
   "cell_type": "code",
   "execution_count": 119,
   "id": "1fd85cb7-8e66-4ed7-9f77-6982bf142ac4",
   "metadata": {},
   "outputs": [
    {
     "data": {
      "text/plain": [
       "-5"
      ]
     },
     "execution_count": 119,
     "metadata": {},
     "output_type": "execute_result"
    }
   ],
   "source": [
    "x - y"
   ]
  },
  {
   "cell_type": "code",
   "execution_count": 120,
   "id": "73896943-cc47-45f6-8442-409feede5600",
   "metadata": {},
   "outputs": [
    {
     "data": {
      "text/plain": [
       "50"
      ]
     },
     "execution_count": 120,
     "metadata": {},
     "output_type": "execute_result"
    }
   ],
   "source": [
    "x * y"
   ]
  },
  {
   "cell_type": "code",
   "execution_count": 121,
   "id": "77a88b75-ab82-4eba-a4be-59449aa3e9cb",
   "metadata": {},
   "outputs": [
    {
     "data": {
      "text/plain": [
       "0.5"
      ]
     },
     "execution_count": 121,
     "metadata": {},
     "output_type": "execute_result"
    }
   ],
   "source": [
    "x / y # normal division"
   ]
  },
  {
   "cell_type": "code",
   "execution_count": 122,
   "id": "90bf8116-d447-4897-9265-c86a0713c6b4",
   "metadata": {},
   "outputs": [
    {
     "data": {
      "text/plain": [
       "0"
      ]
     },
     "execution_count": 122,
     "metadata": {},
     "output_type": "execute_result"
    }
   ],
   "source": [
    "x // y"
   ]
  },
  {
   "cell_type": "code",
   "execution_count": 130,
   "id": "54725679-e176-4a68-80d0-9444925d0da8",
   "metadata": {},
   "outputs": [
    {
     "data": {
      "text/plain": [
       "2"
      ]
     },
     "execution_count": 130,
     "metadata": {},
     "output_type": "execute_result"
    }
   ],
   "source": [
    "10 // 4 # quotient"
   ]
  },
  {
   "cell_type": "code",
   "execution_count": 127,
   "id": "124264bb-423b-4926-a7c3-5a9a7af5147b",
   "metadata": {},
   "outputs": [
    {
     "data": {
      "text/plain": [
       "2"
      ]
     },
     "execution_count": 127,
     "metadata": {},
     "output_type": "execute_result"
    }
   ],
   "source": [
    "10 % 4  # remainder"
   ]
  },
  {
   "cell_type": "code",
   "execution_count": 128,
   "id": "86ef4ced-3620-4fa7-ab90-4799783895be",
   "metadata": {},
   "outputs": [
    {
     "data": {
      "text/plain": [
       "1"
      ]
     },
     "execution_count": 128,
     "metadata": {},
     "output_type": "execute_result"
    }
   ],
   "source": [
    "5 % 2 "
   ]
  },
  {
   "cell_type": "code",
   "execution_count": 129,
   "id": "8e14b7ac-39f1-40f6-aa09-bcdf1690c88c",
   "metadata": {},
   "outputs": [
    {
     "data": {
      "text/plain": [
       "0"
      ]
     },
     "execution_count": 129,
     "metadata": {},
     "output_type": "execute_result"
    }
   ],
   "source": [
    "6 % 2 "
   ]
  },
  {
   "cell_type": "code",
   "execution_count": 131,
   "id": "a3016a83-3de3-4ac3-9f94-c8c19548e785",
   "metadata": {},
   "outputs": [
    {
     "data": {
      "text/plain": [
       "100"
      ]
     },
     "execution_count": 131,
     "metadata": {},
     "output_type": "execute_result"
    }
   ],
   "source": [
    "10 ** 2"
   ]
  },
  {
   "cell_type": "code",
   "execution_count": 134,
   "id": "d75f8c40-49f0-432c-bba4-199081368129",
   "metadata": {},
   "outputs": [
    {
     "data": {
      "text/plain": [
       "1"
      ]
     },
     "execution_count": 134,
     "metadata": {},
     "output_type": "execute_result"
    }
   ],
   "source": [
    "( 5+ 6 ) % 10"
   ]
  },
  {
   "cell_type": "code",
   "execution_count": null,
   "id": "fcc29dc7-a398-4592-bc3c-6d1d65840027",
   "metadata": {},
   "outputs": [],
   "source": []
  },
  {
   "cell_type": "markdown",
   "id": "77a2a3e8-7444-443a-9cba-e389553f51eb",
   "metadata": {},
   "source": [
    "## Assignment operators\n",
    "    - Assign  ( == )\n",
    "    - Arithmetic + Assignment ( +=, -=, *=, /= )\n"
   ]
  },
  {
   "cell_type": "code",
   "execution_count": 136,
   "id": "22395b38-9c6c-4a48-9f4a-fc1cb81d9595",
   "metadata": {},
   "outputs": [],
   "source": [
    "x  =  5"
   ]
  },
  {
   "cell_type": "code",
   "execution_count": 190,
   "id": "dd6728fa-984e-41d0-829a-571faf809a90",
   "metadata": {},
   "outputs": [
    {
     "name": "stdout",
     "output_type": "stream",
     "text": [
      "The history saving thread hit an unexpected error (OperationalError('unable to open database file')).History will not be written to the database.\n"
     ]
    },
    {
     "data": {
      "text/plain": [
       "'a'"
      ]
     },
     "execution_count": 190,
     "metadata": {},
     "output_type": "execute_result"
    }
   ],
   "source": [
    "a"
   ]
  },
  {
   "cell_type": "code",
   "execution_count": null,
   "id": "1a09088f-db0d-4f2d-b12c-8908f81bcfa2",
   "metadata": {},
   "outputs": [],
   "source": []
  },
  {
   "cell_type": "code",
   "execution_count": null,
   "id": "f004b9c6-f952-413e-bfb9-64b7d60decea",
   "metadata": {},
   "outputs": [],
   "source": []
  },
  {
   "cell_type": "code",
   "execution_count": null,
   "id": "f978d174-c5d3-4caa-a7a6-7be61ffb276a",
   "metadata": {},
   "outputs": [],
   "source": []
  },
  {
   "cell_type": "code",
   "execution_count": null,
   "id": "8c48ca42-d0b1-4995-b8cc-e09ece119b10",
   "metadata": {},
   "outputs": [],
   "source": []
  },
  {
   "cell_type": "code",
   "execution_count": null,
   "id": "b9b29a2f-d6d0-4c66-abc5-f4862a293d7a",
   "metadata": {},
   "outputs": [],
   "source": []
  },
  {
   "cell_type": "code",
   "execution_count": null,
   "id": "ce15a08a-4664-4a6c-88a9-5d24de55f992",
   "metadata": {},
   "outputs": [],
   "source": []
  },
  {
   "cell_type": "code",
   "execution_count": null,
   "id": "56086e89-09f5-41c8-b87b-3912f61884f5",
   "metadata": {},
   "outputs": [],
   "source": []
  },
  {
   "cell_type": "code",
   "execution_count": 137,
   "id": "61faa115-7d42-44e2-b4b6-c260b98b4d17",
   "metadata": {},
   "outputs": [],
   "source": [
    "### add and assign\n",
    "\n",
    "\n",
    "x = 5\n",
    "x = x + 5 # add and assign"
   ]
  },
  {
   "cell_type": "code",
   "execution_count": 139,
   "id": "79b07f8e-c852-425b-9f4e-0053e209d21a",
   "metadata": {},
   "outputs": [
    {
     "name": "stdout",
     "output_type": "stream",
     "text": [
      "105\n"
     ]
    }
   ],
   "source": [
    "x = 100\n",
    "x = x+ 5\n",
    "\n",
    "print(x)"
   ]
  },
  {
   "cell_type": "code",
   "execution_count": 138,
   "id": "793ac006-7596-4b44-91c0-75e4bdaa7e3d",
   "metadata": {},
   "outputs": [
    {
     "name": "stdout",
     "output_type": "stream",
     "text": [
      "105\n"
     ]
    }
   ],
   "source": [
    "x = 100\n",
    "x += 5\n",
    "\n",
    "print(x)\n"
   ]
  },
  {
   "cell_type": "code",
   "execution_count": 140,
   "id": "716f9eae-fff6-4882-b50d-b680e7dcbc41",
   "metadata": {},
   "outputs": [
    {
     "name": "stdout",
     "output_type": "stream",
     "text": [
      "95\n"
     ]
    }
   ],
   "source": [
    "x = 100\n",
    "x -= 5  # x = x - 5\n",
    "\n",
    "print(x)"
   ]
  },
  {
   "cell_type": "code",
   "execution_count": 141,
   "id": "5c197ef2-2432-4747-856d-2a6e7bd55142",
   "metadata": {},
   "outputs": [
    {
     "name": "stdout",
     "output_type": "stream",
     "text": [
      "500\n"
     ]
    }
   ],
   "source": [
    "x = 100\n",
    "x *= 5  # x = x * 5\n",
    "\n",
    "print(x)"
   ]
  },
  {
   "cell_type": "code",
   "execution_count": null,
   "id": "a4d8843f-27a8-47c5-b4ee-16c33fe28d31",
   "metadata": {},
   "outputs": [],
   "source": []
  },
  {
   "cell_type": "markdown",
   "id": "57db6e33-1b93-4f9e-b21a-f7d312560d16",
   "metadata": {},
   "source": [
    "### Comparison Operators\n",
    "\n",
    "| Operator | Description              | Example  | Result  |\n",
    "| -------- | ------------------------ | -------- | ------- |\n",
    "| `==`     | Equal to                 | `5 == 5` | `True`  |\n",
    "| `!=`     | Not equal to             | `5 != 3` | `True`  |\n",
    "| `>`      | Greater than             | `5 > 3`  | `True`  |\n",
    "| `<`      | Less than                | `5 < 3`  | `False` |\n",
    "| `>=`     | Greater than or equal to | `5 >= 5` | `True`  |\n",
    "| `<=`     | Less than or equal to    | `5 <= 3` | `False` |\n",
    "\n"
   ]
  },
  {
   "cell_type": "code",
   "execution_count": 143,
   "id": "c743bdf1-6795-4e5f-a00b-a998747d2bd2",
   "metadata": {},
   "outputs": [
    {
     "data": {
      "text/plain": [
       "False"
      ]
     },
     "execution_count": 143,
     "metadata": {},
     "output_type": "execute_result"
    }
   ],
   "source": [
    "x = 10\n",
    "y = 11\n",
    "x == y ## if x and y are equal"
   ]
  },
  {
   "cell_type": "code",
   "execution_count": 147,
   "id": "2f6fdee7-171d-4fe0-ac6c-1bd0707fc4b0",
   "metadata": {},
   "outputs": [],
   "source": [
    "x = 100.0\n",
    "y = 100\n",
    "z = x == y ## if x and y are equal"
   ]
  },
  {
   "cell_type": "code",
   "execution_count": 148,
   "id": "c9fd74d5-e6fe-44fc-be82-fde775e75b85",
   "metadata": {},
   "outputs": [
    {
     "name": "stdout",
     "output_type": "stream",
     "text": [
      "True\n"
     ]
    }
   ],
   "source": [
    "print(z)"
   ]
  },
  {
   "cell_type": "code",
   "execution_count": 149,
   "id": "968a863c-ab57-42e5-a990-7423436a573d",
   "metadata": {},
   "outputs": [
    {
     "data": {
      "text/plain": [
       "False"
      ]
     },
     "execution_count": 149,
     "metadata": {},
     "output_type": "execute_result"
    }
   ],
   "source": [
    "x > y"
   ]
  },
  {
   "cell_type": "code",
   "execution_count": 150,
   "id": "eab9fb62-5416-4fb3-824d-72ef400d0964",
   "metadata": {},
   "outputs": [
    {
     "data": {
      "text/plain": [
       "False"
      ]
     },
     "execution_count": 150,
     "metadata": {},
     "output_type": "execute_result"
    }
   ],
   "source": [
    "x < y"
   ]
  },
  {
   "cell_type": "code",
   "execution_count": 151,
   "id": "60fef8b4-1605-4427-b302-a327b14a1196",
   "metadata": {},
   "outputs": [
    {
     "data": {
      "text/plain": [
       "False"
      ]
     },
     "execution_count": 151,
     "metadata": {},
     "output_type": "execute_result"
    }
   ],
   "source": [
    "x = 100\n",
    "y = 101\n",
    "\n",
    "x >= y"
   ]
  },
  {
   "cell_type": "code",
   "execution_count": 152,
   "id": "620f28a2-bff5-4db9-88dc-2fb8331515e8",
   "metadata": {},
   "outputs": [
    {
     "data": {
      "text/plain": [
       "True"
      ]
     },
     "execution_count": 152,
     "metadata": {},
     "output_type": "execute_result"
    }
   ],
   "source": [
    "y >= x # greater than or equal to"
   ]
  },
  {
   "cell_type": "code",
   "execution_count": 154,
   "id": "cad0dff4-e70c-4800-bb13-fac221b61123",
   "metadata": {},
   "outputs": [
    {
     "data": {
      "text/plain": [
       "False"
      ]
     },
     "execution_count": 154,
     "metadata": {},
     "output_type": "execute_result"
    }
   ],
   "source": [
    "\"apple\" > \"banana\""
   ]
  },
  {
   "cell_type": "code",
   "execution_count": 157,
   "id": "1cfee096-9944-4233-a109-fb7ed685fe93",
   "metadata": {},
   "outputs": [
    {
     "ename": "TypeError",
     "evalue": "'>' not supported between instances of 'str' and 'int'",
     "output_type": "error",
     "traceback": [
      "\u001b[31m---------------------------------------------------------------------------\u001b[39m",
      "\u001b[31mTypeError\u001b[39m                                 Traceback (most recent call last)",
      "\u001b[36mCell\u001b[39m\u001b[36m \u001b[39m\u001b[32mIn[157]\u001b[39m\u001b[32m, line 1\u001b[39m\n\u001b[32m----> \u001b[39m\u001b[32m1\u001b[39m \u001b[33m\"\u001b[39m\u001b[33mA\u001b[39m\u001b[33m\"\u001b[39m > \u001b[32m10\u001b[39m\n",
      "\u001b[31mTypeError\u001b[39m: '>' not supported between instances of 'str' and 'int'"
     ]
    }
   ],
   "source": [
    "\"A\" > 10"
   ]
  },
  {
   "cell_type": "code",
   "execution_count": null,
   "id": "4d392517-0e7d-4010-b6b5-316812305c68",
   "metadata": {},
   "outputs": [],
   "source": []
  },
  {
   "cell_type": "code",
   "execution_count": 142,
   "id": "973fc0cc-3639-402e-808c-6bbc3438b9f5",
   "metadata": {},
   "outputs": [
    {
     "data": {
      "text/plain": [
       "True"
      ]
     },
     "execution_count": 142,
     "metadata": {},
     "output_type": "execute_result"
    }
   ],
   "source": [
    "10 > 5"
   ]
  },
  {
   "cell_type": "markdown",
   "id": "ebdda324-96ed-4956-b852-4c561796cb64",
   "metadata": {},
   "source": [
    "#### Logical Operators\n",
    "| Operator | Description                  | Example               | Result  |\n",
    "| -------- | ---------------------------- | --------------------- | ------- |\n",
    "| `and`    | True if both are true        | `(5 > 3) and (3 > 1)` | `True`  |\n",
    "| `or`     | True if at least one is true | `(5 > 3) or (3 < 1)`  | `True`  |\n",
    "| `not`    | Negates the result           | `not (5 > 3)`         | `False` |\n"
   ]
  },
  {
   "cell_type": "code",
   "execution_count": 158,
   "id": "9e5eda6e-2cae-48bd-b0f1-e9d16206957d",
   "metadata": {},
   "outputs": [],
   "source": [
    "x = 6 \n",
    "y = 10"
   ]
  },
  {
   "cell_type": "code",
   "execution_count": 160,
   "id": "05c64c35-007d-4f9c-8f34-4d9563154f5a",
   "metadata": {},
   "outputs": [
    {
     "data": {
      "text/plain": [
       "True"
      ]
     },
     "execution_count": 160,
     "metadata": {},
     "output_type": "execute_result"
    }
   ],
   "source": [
    "not (x > y)"
   ]
  },
  {
   "cell_type": "code",
   "execution_count": 161,
   "id": "8f02923c-78c1-481b-be2b-e4420eef18eb",
   "metadata": {},
   "outputs": [
    {
     "data": {
      "text/plain": [
       "True"
      ]
     },
     "execution_count": 161,
     "metadata": {},
     "output_type": "execute_result"
    }
   ],
   "source": [
    "True and True"
   ]
  },
  {
   "cell_type": "code",
   "execution_count": 163,
   "id": "50760dab-54b6-4c8a-b537-d841368d4962",
   "metadata": {},
   "outputs": [
    {
     "data": {
      "text/plain": [
       "False"
      ]
     },
     "execution_count": 163,
     "metadata": {},
     "output_type": "execute_result"
    }
   ],
   "source": [
    "(10> 7) and (5 > 14)"
   ]
  },
  {
   "cell_type": "code",
   "execution_count": 164,
   "id": "5bb92752-a4ff-4732-a4ed-8efdd4d9fa82",
   "metadata": {},
   "outputs": [
    {
     "data": {
      "text/plain": [
       "True"
      ]
     },
     "execution_count": 164,
     "metadata": {},
     "output_type": "execute_result"
    }
   ],
   "source": [
    "True or True"
   ]
  },
  {
   "cell_type": "code",
   "execution_count": 165,
   "id": "b77ff4a4-a2b8-41a0-99c7-4eec67e169e8",
   "metadata": {},
   "outputs": [
    {
     "data": {
      "text/plain": [
       "True"
      ]
     },
     "execution_count": 165,
     "metadata": {},
     "output_type": "execute_result"
    }
   ],
   "source": [
    "True or False"
   ]
  },
  {
   "cell_type": "code",
   "execution_count": 167,
   "id": "20e79c18-7e55-48b8-8f6e-6a9a46e9df19",
   "metadata": {},
   "outputs": [
    {
     "data": {
      "text/plain": [
       "True"
      ]
     },
     "execution_count": 167,
     "metadata": {},
     "output_type": "execute_result"
    }
   ],
   "source": [
    "(10> 7) or (5 > 14)"
   ]
  },
  {
   "cell_type": "code",
   "execution_count": null,
   "id": "9edd907b-cd2c-4e50-a316-7473ceb99cd2",
   "metadata": {},
   "outputs": [],
   "source": []
  },
  {
   "cell_type": "code",
   "execution_count": 171,
   "id": "e623a580-6c44-498f-a2c3-8983cfa38efa",
   "metadata": {},
   "outputs": [],
   "source": [
    "x = 5\n",
    "y = 11"
   ]
  },
  {
   "cell_type": "code",
   "execution_count": 172,
   "id": "b16471b5-5610-41ea-831c-bc5e6f30eb49",
   "metadata": {},
   "outputs": [
    {
     "data": {
      "text/plain": [
       "False"
      ]
     },
     "execution_count": 172,
     "metadata": {},
     "output_type": "execute_result"
    }
   ],
   "source": [
    "x == 5 and y == 10"
   ]
  },
  {
   "cell_type": "code",
   "execution_count": 173,
   "id": "60d475f0-7cab-46bb-8398-441f91cc70c5",
   "metadata": {},
   "outputs": [
    {
     "data": {
      "text/plain": [
       "True"
      ]
     },
     "execution_count": 173,
     "metadata": {},
     "output_type": "execute_result"
    }
   ],
   "source": [
    "x == 5 or y == 10"
   ]
  },
  {
   "cell_type": "code",
   "execution_count": 174,
   "id": "c8c03f59-357b-47d6-a6ff-a7bd3cb4250f",
   "metadata": {},
   "outputs": [
    {
     "data": {
      "text/plain": [
       "False"
      ]
     },
     "execution_count": 174,
     "metadata": {},
     "output_type": "execute_result"
    }
   ],
   "source": [
    "not (x == 5 or y == 10)"
   ]
  },
  {
   "cell_type": "code",
   "execution_count": null,
   "id": "ab7ac091-d1a3-49fc-ac6e-6dcb2b7819bc",
   "metadata": {},
   "outputs": [],
   "source": []
  },
  {
   "cell_type": "markdown",
   "id": "8195e78d-ae77-4837-9044-722660ffc84e",
   "metadata": {},
   "source": [
    "## Membership operator\n",
    "\n",
    "| Operator | Description                  | Example            | Result |\n",
    "| -------- | ---------------------------- | ------------------ | ------ |\n",
    "| `in`     | True if value exists         | `\"a\" in \"cat\"`     | `True` |\n",
    "| `not in` | True if value does not exist | `\"x\" not in \"cat\"` | `True` |\n"
   ]
  },
  {
   "cell_type": "code",
   "execution_count": 175,
   "id": "a6fa3923-5b2b-4b17-8dd9-b99aad21a490",
   "metadata": {},
   "outputs": [],
   "source": [
    "a = \"a\"\n",
    "b = \"p\"\n",
    "c = \"l\"\n",
    "\n",
    "x = \"apple\"\n"
   ]
  },
  {
   "cell_type": "code",
   "execution_count": 181,
   "id": "7c9afa9d-55a4-4513-ae16-006534462b43",
   "metadata": {},
   "outputs": [],
   "source": [
    "x = \"apple\"\n",
    "y = \"Apple\""
   ]
  },
  {
   "cell_type": "code",
   "execution_count": 182,
   "id": "b4bd13bc-d79c-41df-839f-43a2748cc90c",
   "metadata": {},
   "outputs": [
    {
     "data": {
      "text/plain": [
       "False"
      ]
     },
     "execution_count": 182,
     "metadata": {},
     "output_type": "execute_result"
    }
   ],
   "source": [
    "x == y"
   ]
  },
  {
   "cell_type": "code",
   "execution_count": null,
   "id": "9afb9a80-ce6e-44f1-9a45-d33f6ab5c634",
   "metadata": {},
   "outputs": [],
   "source": []
  },
  {
   "cell_type": "code",
   "execution_count": 179,
   "id": "3f3d28b7-ffde-467b-9cb1-6dd995033a3b",
   "metadata": {},
   "outputs": [
    {
     "data": {
      "text/plain": [
       "False"
      ]
     },
     "execution_count": 179,
     "metadata": {},
     "output_type": "execute_result"
    }
   ],
   "source": [
    "\"A\" in x"
   ]
  },
  {
   "cell_type": "code",
   "execution_count": 176,
   "id": "8fa69f0e-5150-431b-a7e6-640c80e4ce9d",
   "metadata": {},
   "outputs": [
    {
     "data": {
      "text/plain": [
       "True"
      ]
     },
     "execution_count": 176,
     "metadata": {},
     "output_type": "execute_result"
    }
   ],
   "source": [
    "\"a\" in x"
   ]
  },
  {
   "cell_type": "code",
   "execution_count": 177,
   "id": "d4b6453b-a428-45bc-ab60-e8e18c73b5fc",
   "metadata": {},
   "outputs": [
    {
     "data": {
      "text/plain": [
       "True"
      ]
     },
     "execution_count": 177,
     "metadata": {},
     "output_type": "execute_result"
    }
   ],
   "source": [
    "\"p\" in x"
   ]
  },
  {
   "cell_type": "code",
   "execution_count": 178,
   "id": "ef118f13-c50c-44e5-84a5-d9c4126aa114",
   "metadata": {},
   "outputs": [
    {
     "data": {
      "text/plain": [
       "False"
      ]
     },
     "execution_count": 178,
     "metadata": {},
     "output_type": "execute_result"
    }
   ],
   "source": [
    "\"k\" in x"
   ]
  },
  {
   "cell_type": "code",
   "execution_count": null,
   "id": "2579ecff-bbc1-4b01-ab13-431e12c62f80",
   "metadata": {},
   "outputs": [],
   "source": []
  },
  {
   "cell_type": "code",
   "execution_count": 185,
   "id": "d6430be3-34f8-4600-a5a9-f7721dd08474",
   "metadata": {},
   "outputs": [
    {
     "data": {
      "text/plain": [
       "True"
      ]
     },
     "execution_count": 185,
     "metadata": {},
     "output_type": "execute_result"
    }
   ],
   "source": [
    "x = \"apple\"\n",
    "\n",
    "\"K\" not in \"apple\""
   ]
  },
  {
   "cell_type": "code",
   "execution_count": 187,
   "id": "fe9f16b9-f3ab-4dbc-b6cc-8dba9e9ee039",
   "metadata": {},
   "outputs": [
    {
     "data": {
      "text/plain": [
       "True"
      ]
     },
     "execution_count": 187,
     "metadata": {},
     "output_type": "execute_result"
    }
   ],
   "source": [
    "\"K\" not in \"apple\""
   ]
  },
  {
   "cell_type": "code",
   "execution_count": null,
   "id": "136ffe3e-0bb9-4259-9599-3d69c6c2ac5d",
   "metadata": {},
   "outputs": [],
   "source": []
  },
  {
   "cell_type": "markdown",
   "id": "53e6d30a-5a1e-4679-a9b7-a5e203f68b12",
   "metadata": {},
   "source": [
    "## Reserved words in python ( keywords )\n",
    "\n",
    "    ['False', 'None', 'True', 'and', 'as', 'assert', 'async', 'await', 'break', 'class', 'continue', 'def', 'del', 'elif', 'else', 'except', 'finally', 'for', 'from', 'global', 'if', 'import', 'in', 'is', 'lambda', 'nonlocal', 'not', 'or', 'pass', 'raise', 'return', 'try', 'while', 'with', 'yield']\n",
    "\n",
    "\n",
    "    False      await      else       import     pass\n",
    "    None       break      except     in         raise\n",
    "    True       class      finally    is         return\n",
    "    and        continue   for        lambda     try\n",
    "    as         def        from       nonlocal   while\n",
    "    assert     del        global     not        with\n",
    "    async      elif       if         or         yield\n"
   ]
  },
  {
   "cell_type": "code",
   "execution_count": 188,
   "id": "8df50174-e4b9-4a85-950a-09d2ff65c63a",
   "metadata": {},
   "outputs": [],
   "source": [
    "import keyword"
   ]
  },
  {
   "cell_type": "code",
   "execution_count": 189,
   "id": "7cda3d16-9794-42fb-98d0-b5140806302b",
   "metadata": {},
   "outputs": [
    {
     "name": "stdout",
     "output_type": "stream",
     "text": [
      "['False', 'None', 'True', 'and', 'as', 'assert', 'async', 'await', 'break', 'class', 'continue', 'def', 'del', 'elif', 'else', 'except', 'finally', 'for', 'from', 'global', 'if', 'import', 'in', 'is', 'lambda', 'nonlocal', 'not', 'or', 'pass', 'raise', 'return', 'try', 'while', 'with', 'yield']\n"
     ]
    }
   ],
   "source": [
    "print(keyword.kwlist)"
   ]
  },
  {
   "cell_type": "markdown",
   "id": "aca15963-9232-4c17-a41c-83720d128761",
   "metadata": {},
   "source": [
    "    "
   ]
  },
  {
   "cell_type": "code",
   "execution_count": null,
   "id": "3ff2301a-27a4-4d03-8d06-556ddede38d0",
   "metadata": {},
   "outputs": [],
   "source": []
  }
 ],
 "metadata": {
  "kernelspec": {
   "display_name": "Python 3 (ipykernel)",
   "language": "python",
   "name": "python3"
  },
  "language_info": {
   "codemirror_mode": {
    "name": "ipython",
    "version": 3
   },
   "file_extension": ".py",
   "mimetype": "text/x-python",
   "name": "python",
   "nbconvert_exporter": "python",
   "pygments_lexer": "ipython3",
   "version": "3.13.5"
  }
 },
 "nbformat": 4,
 "nbformat_minor": 5
}
