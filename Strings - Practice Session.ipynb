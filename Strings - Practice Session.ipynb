{
 "cells": [
  {
   "cell_type": "markdown",
   "id": "fc6a8a23",
   "metadata": {},
   "source": [
    "\n",
    "**Question**: Given the string `\"Kerala\"`, print the first and last characters using positive and negative indexing."
   ]
  },
  {
   "cell_type": "code",
   "execution_count": 1,
   "id": "2d724ca8",
   "metadata": {},
   "outputs": [],
   "source": [
    "state = \"Kerala\""
   ]
  },
  {
   "cell_type": "code",
   "execution_count": 3,
   "id": "7fcd4059",
   "metadata": {},
   "outputs": [
    {
     "data": {
      "text/plain": [
       "('K', 'a')"
      ]
     },
     "execution_count": 3,
     "metadata": {},
     "output_type": "execute_result"
    }
   ],
   "source": [
    "state[0], state[-1]"
   ]
  },
  {
   "cell_type": "code",
   "execution_count": 5,
   "id": "d1341763",
   "metadata": {},
   "outputs": [
    {
     "data": {
      "text/plain": [
       "tuple"
      ]
     },
     "execution_count": 5,
     "metadata": {},
     "output_type": "execute_result"
    }
   ],
   "source": [
    "type((state[0], state[-1]))"
   ]
  },
  {
   "cell_type": "markdown",
   "id": "741ad94b",
   "metadata": {},
   "source": [
    "**Question**: Extract the word `\"Biryani\"` from the string `\"Hyderabadi Biryani\"`."
   ]
  },
  {
   "cell_type": "code",
   "execution_count": 7,
   "id": "72577755",
   "metadata": {},
   "outputs": [
    {
     "data": {
      "text/plain": [
       "'Biryani'"
      ]
     },
     "execution_count": 7,
     "metadata": {},
     "output_type": "execute_result"
    }
   ],
   "source": [
    "food = \"Hyderabadi Biryani\"\n",
    "food.split()[-1]"
   ]
  },
  {
   "cell_type": "code",
   "execution_count": 8,
   "id": "a31d3192",
   "metadata": {},
   "outputs": [
    {
     "data": {
      "text/plain": [
       "11"
      ]
     },
     "execution_count": 8,
     "metadata": {},
     "output_type": "execute_result"
    }
   ],
   "source": [
    "food = \"Hyderabadi Biryani\"\n",
    "food.find(\"Biryani\")"
   ]
  },
  {
   "cell_type": "code",
   "execution_count": 10,
   "id": "749f847c",
   "metadata": {},
   "outputs": [
    {
     "data": {
      "text/plain": [
       "'Biryani'"
      ]
     },
     "execution_count": 10,
     "metadata": {},
     "output_type": "execute_result"
    }
   ],
   "source": [
    "word_to_find = \"Biryani\"\n",
    "\n",
    "start_index = food.find(word_to_find)\n",
    "food[start_index : start_index+ len(word_to_find) ]"
   ]
  },
  {
   "cell_type": "markdown",
   "id": "6e805030",
   "metadata": {},
   "source": [
    "**Question**: Concatenate `\"Good\"` and `\"Morning\"` with a space in between, and print it."
   ]
  },
  {
   "cell_type": "code",
   "execution_count": 15,
   "id": "332db4c9",
   "metadata": {},
   "outputs": [
    {
     "data": {
      "text/plain": [
       "'Good Morning'"
      ]
     },
     "execution_count": 15,
     "metadata": {},
     "output_type": "execute_result"
    }
   ],
   "source": [
    "\"Good\" + \" \"  +\"Morning\""
   ]
  },
  {
   "cell_type": "code",
   "execution_count": 16,
   "id": "013baf3b",
   "metadata": {},
   "outputs": [
    {
     "data": {
      "text/plain": [
       "'Good Morning'"
      ]
     },
     "execution_count": 16,
     "metadata": {},
     "output_type": "execute_result"
    }
   ],
   "source": [
    "f\"Good Morning\""
   ]
  },
  {
   "cell_type": "code",
   "execution_count": 18,
   "id": "f416c175",
   "metadata": {},
   "outputs": [
    {
     "data": {
      "text/plain": [
       "'Good Morning'"
      ]
     },
     "execution_count": 18,
     "metadata": {},
     "output_type": "execute_result"
    }
   ],
   "source": [
    "\" \".join([\"Good\" , \"Morning\"])"
   ]
  },
  {
   "cell_type": "markdown",
   "id": "2733f4f2",
   "metadata": {},
   "source": [
    "**Question**: Print `\"Namaste \"` five times using string repetition."
   ]
  },
  {
   "cell_type": "code",
   "execution_count": 19,
   "id": "63d098c3",
   "metadata": {},
   "outputs": [
    {
     "data": {
      "text/plain": [
       "'Namaste Namaste Namaste Namaste Namaste '"
      ]
     },
     "execution_count": 19,
     "metadata": {},
     "output_type": "execute_result"
    }
   ],
   "source": [
    "x = \"Namaste \"\n",
    "x*5"
   ]
  },
  {
   "cell_type": "markdown",
   "id": "0d464b75",
   "metadata": {},
   "source": [
    "**Question**: Find the length of the string `\"Chennai Super Kings\"`.\n"
   ]
  },
  {
   "cell_type": "code",
   "execution_count": 20,
   "id": "4f9a9472",
   "metadata": {},
   "outputs": [
    {
     "data": {
      "text/plain": [
       "19"
      ]
     },
     "execution_count": 20,
     "metadata": {},
     "output_type": "execute_result"
    }
   ],
   "source": [
    "len(\"Chennai Super Kings\")"
   ]
  },
  {
   "cell_type": "markdown",
   "id": "e9cb9247",
   "metadata": {},
   "source": [
    "**Question**: Convert `\"Incredible India\"` to uppercase and `\"MAHATMA\"` to lowercase."
   ]
  },
  {
   "cell_type": "code",
   "execution_count": 21,
   "id": "c43c64fc",
   "metadata": {},
   "outputs": [
    {
     "data": {
      "text/plain": [
       "'INCREDIBLE INDIA'"
      ]
     },
     "execution_count": 21,
     "metadata": {},
     "output_type": "execute_result"
    }
   ],
   "source": [
    "\"Incredible India\".upper()"
   ]
  },
  {
   "cell_type": "code",
   "execution_count": 22,
   "id": "f57408bb",
   "metadata": {},
   "outputs": [
    {
     "data": {
      "text/plain": [
       "'mahatma'"
      ]
     },
     "execution_count": 22,
     "metadata": {},
     "output_type": "execute_result"
    }
   ],
   "source": [
    "\"MAHATMA\".lower()"
   ]
  },
  {
   "cell_type": "code",
   "execution_count": 23,
   "id": "a1eba52a",
   "metadata": {},
   "outputs": [
    {
     "data": {
      "text/plain": [
       "'mahatma'"
      ]
     },
     "execution_count": 23,
     "metadata": {},
     "output_type": "execute_result"
    }
   ],
   "source": [
    "x = \"MAHATMA\"\n",
    "x.lower()"
   ]
  },
  {
   "cell_type": "markdown",
   "id": "a24f5d30",
   "metadata": {},
   "source": [
    "**Question**: Remove leading and trailing whitespaces from the string `\"  Bengaluru  \"`."
   ]
  },
  {
   "cell_type": "code",
   "execution_count": 24,
   "id": "3e20621d",
   "metadata": {},
   "outputs": [
    {
     "data": {
      "text/plain": [
       "'Bengaluru'"
      ]
     },
     "execution_count": 24,
     "metadata": {},
     "output_type": "execute_result"
    }
   ],
   "source": [
    "x = \"  Bengaluru  \"\n",
    "x.strip()"
   ]
  },
  {
   "cell_type": "code",
   "execution_count": 26,
   "id": "dbc81f4c",
   "metadata": {},
   "outputs": [
    {
     "data": {
      "text/plain": [
       "'Bengaluru'"
      ]
     },
     "execution_count": 26,
     "metadata": {},
     "output_type": "execute_result"
    }
   ],
   "source": [
    "x = \"  Bengaluru  \"\n",
    "x.replace(\" \", \"\")"
   ]
  },
  {
   "cell_type": "markdown",
   "id": "a6891245",
   "metadata": {},
   "source": [
    "**Question**: Split `\"Rajma,Chole,Paneer\"` into a list of food items."
   ]
  },
  {
   "cell_type": "code",
   "execution_count": 28,
   "id": "e7990f41",
   "metadata": {},
   "outputs": [
    {
     "data": {
      "text/plain": [
       "['Rajma', 'Chole', 'Paneer']"
      ]
     },
     "execution_count": 28,
     "metadata": {},
     "output_type": "execute_result"
    }
   ],
   "source": [
    "\"Rajma,Chole,Paneer\".split(\",\")"
   ]
  },
  {
   "cell_type": "markdown",
   "id": "d072e162",
   "metadata": {},
   "source": [
    "**Question**: Join a list of Indian festivals into a single string separated by commas."
   ]
  },
  {
   "cell_type": "code",
   "execution_count": 31,
   "id": "04bd4a66",
   "metadata": {},
   "outputs": [
    {
     "data": {
      "text/plain": [
       "'Diwali,Holi,Eid,Navratri'"
      ]
     },
     "execution_count": 31,
     "metadata": {},
     "output_type": "execute_result"
    }
   ],
   "source": [
    "festivals = [\"Diwali\", \"Holi\", \"Eid\", \"Navratri\"]\n",
    "\",\".join(festivals)"
   ]
  },
  {
   "cell_type": "markdown",
   "id": "42390c78",
   "metadata": {},
   "source": [
    "**Question**: Replace `\"Mumbai\"` with `\"Bombay\"` in the string `\"I live in Mumbai\"`."
   ]
  },
  {
   "cell_type": "code",
   "execution_count": 35,
   "id": "56e5a863",
   "metadata": {},
   "outputs": [
    {
     "data": {
      "text/plain": [
       "'I live in Bombay'"
      ]
     },
     "execution_count": 35,
     "metadata": {},
     "output_type": "execute_result"
    }
   ],
   "source": [
    "new_sentence = \"I live in Mumbai\".replace(\"Mumbai\",\"Bombay\" )\n",
    "new_sentence"
   ]
  },
  {
   "cell_type": "markdown",
   "id": "49407772",
   "metadata": {},
   "source": [
    "**Question**: Format a string to display the score of `\"Virat\"` in a cricket match."
   ]
  },
  {
   "cell_type": "code",
   "execution_count": 37,
   "id": "18a929fa",
   "metadata": {},
   "outputs": [
    {
     "name": "stdout",
     "output_type": "stream",
     "text": [
      "Player : Virat | Score : 85\n"
     ]
    }
   ],
   "source": [
    "player = \"Virat\"\n",
    "score = 85\n",
    "\n",
    "print(f\"Player : {player} | Score : {score}\")"
   ]
  },
  {
   "cell_type": "code",
   "execution_count": 42,
   "id": "e2b361db",
   "metadata": {},
   "outputs": [
    {
     "name": "stdout",
     "output_type": "stream",
     "text": [
      "Enter Score:65\n",
      "Player : Virat | Score : 65\n"
     ]
    }
   ],
   "source": [
    "player = \"Virat\"\n",
    "score = input(\"Enter Score:\" )\n",
    "\n",
    "print(f\"Player : {player} | Score : {score}\")"
   ]
  },
  {
   "cell_type": "markdown",
   "id": "6eaa171a",
   "metadata": {},
   "source": [
    "**Question**: Check if `\"Rajasthan\"` is in the string `\"Welcome to Rajasthan tourism\"`."
   ]
  },
  {
   "cell_type": "code",
   "execution_count": 44,
   "id": "a87ebcb5",
   "metadata": {},
   "outputs": [
    {
     "data": {
      "text/plain": [
       "True"
      ]
     },
     "execution_count": 44,
     "metadata": {},
     "output_type": "execute_result"
    }
   ],
   "source": [
    "\"a\" in \"apple\""
   ]
  },
  {
   "cell_type": "code",
   "execution_count": 45,
   "id": "eafc1cb1",
   "metadata": {},
   "outputs": [
    {
     "data": {
      "text/plain": [
       "True"
      ]
     },
     "execution_count": 45,
     "metadata": {},
     "output_type": "execute_result"
    }
   ],
   "source": [
    "\"Rajasthan\" in  \"Welcome to Rajasthan tourism\""
   ]
  },
  {
   "cell_type": "markdown",
   "id": "144255cb",
   "metadata": {},
   "source": [
    "**Question**: Print `\"It's Raining\"` with the help of an escape character."
   ]
  },
  {
   "cell_type": "code",
   "execution_count": 48,
   "id": "8ea79d5c",
   "metadata": {},
   "outputs": [
    {
     "data": {
      "text/plain": [
       "\"It's Raining\""
      ]
     },
     "execution_count": 48,
     "metadata": {},
     "output_type": "execute_result"
    }
   ],
   "source": [
    "'It\\'s Raining'"
   ]
  },
  {
   "cell_type": "code",
   "execution_count": 53,
   "id": "e4fe2341",
   "metadata": {},
   "outputs": [
    {
     "name": "stdout",
     "output_type": "stream",
     "text": [
      "C:\\Users\\Admin\n"
     ]
    }
   ],
   "source": [
    "path = r\"C:\\Users\\Admin\"\n",
    "print(path)"
   ]
  },
  {
   "cell_type": "code",
   "execution_count": 55,
   "id": "f4479f7c",
   "metadata": {},
   "outputs": [
    {
     "name": "stdout",
     "output_type": "stream",
     "text": [
      "\\nHello\n"
     ]
    }
   ],
   "source": [
    "print(r\"\\nHello\")"
   ]
  },
  {
   "cell_type": "markdown",
   "id": "9d1f1909",
   "metadata": {},
   "source": [
    "**Question**: Write a function to check if a given string is a palindrome. Test it with `\"madam\"` and `\"chennai\"`."
   ]
  },
  {
   "cell_type": "code",
   "execution_count": 65,
   "id": "db2f97e2",
   "metadata": {},
   "outputs": [],
   "source": [
    "text = \"delhi\"\n"
   ]
  },
  {
   "cell_type": "code",
   "execution_count": 66,
   "id": "4a805c7f",
   "metadata": {},
   "outputs": [
    {
     "name": "stdout",
     "output_type": "stream",
     "text": [
      "ihled\n"
     ]
    }
   ],
   "source": [
    "reverse = text[::-1]\n",
    "print(reverse)"
   ]
  },
  {
   "cell_type": "code",
   "execution_count": 90,
   "id": "3cd3eb0e",
   "metadata": {},
   "outputs": [],
   "source": [
    "text = \"delhi\"\n",
    "text_list = list(text)"
   ]
  },
  {
   "cell_type": "code",
   "execution_count": 92,
   "id": "2dea13da",
   "metadata": {},
   "outputs": [],
   "source": [
    "text_list.reverse()"
   ]
  },
  {
   "cell_type": "code",
   "execution_count": 95,
   "id": "12e7f81a",
   "metadata": {},
   "outputs": [],
   "source": [
    "reverse_text = \"\".join(text_list)"
   ]
  },
  {
   "cell_type": "code",
   "execution_count": null,
   "id": "668e939c",
   "metadata": {},
   "outputs": [],
   "source": []
  },
  {
   "cell_type": "code",
   "execution_count": 69,
   "id": "d5d1bc4b",
   "metadata": {},
   "outputs": [
    {
     "name": "stdout",
     "output_type": "stream",
     "text": [
      "delhi is not a palindrome\n"
     ]
    }
   ],
   "source": [
    "if text == reverse:\n",
    "    print(f\"{text} is a palindrome\")\n",
    "else:\n",
    "    print(f\"{text} is not a palindrome\")"
   ]
  },
  {
   "cell_type": "code",
   "execution_count": null,
   "id": "b6b67b29",
   "metadata": {},
   "outputs": [],
   "source": []
  },
  {
   "cell_type": "code",
   "execution_count": null,
   "id": "681c624d",
   "metadata": {},
   "outputs": [],
   "source": []
  },
  {
   "cell_type": "code",
   "execution_count": null,
   "id": "83a1dda6",
   "metadata": {},
   "outputs": [],
   "source": []
  },
  {
   "cell_type": "code",
   "execution_count": null,
   "id": "e17a2aec",
   "metadata": {},
   "outputs": [],
   "source": []
  },
  {
   "cell_type": "code",
   "execution_count": null,
   "id": "4dcc41fa",
   "metadata": {},
   "outputs": [],
   "source": []
  }
 ],
 "metadata": {
  "kernelspec": {
   "display_name": "Python 3 (ipykernel)",
   "language": "python",
   "name": "python3"
  },
  "language_info": {
   "codemirror_mode": {
    "name": "ipython",
    "version": 3
   },
   "file_extension": ".py",
   "mimetype": "text/x-python",
   "name": "python",
   "nbconvert_exporter": "python",
   "pygments_lexer": "ipython3",
   "version": "3.10.8"
  }
 },
 "nbformat": 4,
 "nbformat_minor": 5
}
